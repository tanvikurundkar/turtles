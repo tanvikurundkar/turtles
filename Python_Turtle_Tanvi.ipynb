{
  "nbformat": 4,
  "nbformat_minor": 0,
  "metadata": {
    "colab": {
      "provenance": [],
      "include_colab_link": true
    },
    "kernelspec": {
      "name": "python3",
      "display_name": "Python 3"
    },
    "language_info": {
      "name": "python"
    }
  },
  "cells": [
    {
      "cell_type": "markdown",
      "metadata": {
        "id": "view-in-github",
        "colab_type": "text"
      },
      "source": [
        "<a href=\"https://colab.research.google.com/github/tanvikurundkar/turtles/blob/main/Python_Turtle_Tanvi.ipynb\" target=\"_parent\"><img src=\"https://colab.research.google.com/assets/colab-badge.svg\" alt=\"Open In Colab\"/></a>"
      ]
    },
    {
      "cell_type": "markdown",
      "metadata": {
        "id": "c9eLQFUiGBj0"
      },
      "source": [
        "<font color=SlateGray><h1><b>\n",
        "REMINDER: Make a copy of this notebook if you want to save your work.\n",
        "</b></h1></font>\n",
        "\n",
        "<font color=DarkGray><h3><b>\n",
        "To do this, you can go to *File > Save a Copy in Drive* and it should open a new tab with your copy.\n",
        "</b></h3></font>"
      ]
    },
    {
      "cell_type": "markdown",
      "source": [],
      "metadata": {
        "id": "FBOLgSTXRvGI"
      }
    },
    {
      "cell_type": "code",
      "metadata": {
        "id": "h6B6XNvvYeqD",
        "cellView": "form",
        "colab": {
          "base_uri": "https://localhost:8080/"
        },
        "outputId": "c41f32bd-56b6-4566-bccc-3d677a291994"
      },
      "source": [
        "#@title Run this cell to set up the turtle!\n",
        "from IPython.display import display, HTML\n",
        "import time\n",
        "import math\n",
        "import re\n",
        "import random\n",
        "\n",
        "# Created at: 23rd October 2018\n",
        "#         by: Tolga Atam\n",
        "# v2.1.0 Updated at: 15th March 2021\n",
        "#         by: Tolga Atam\n",
        "\n",
        "# Module for drawing classic Turtle figures on Google Colab notebooks.\n",
        "# It uses html capabilites of IPython library to draw svg shapes inline.\n",
        "# Looks of the figures are inspired from Blockly Games / Turtle (blockly-games.appspot.com/turtle)\n",
        "\n",
        "DEFAULT_WINDOW_SIZE = (800, 500)\n",
        "DEFAULT_SPEED = 4\n",
        "DEFAULT_TURTLE_VISIBILITY = True\n",
        "DEFAULT_PEN_COLOR = 'white'\n",
        "DEFAULT_TURTLE_DEGREE = 0\n",
        "DEFAULT_BACKGROUND_COLOR = 'LightBlue'\n",
        "DEFAULT_IS_PEN_DOWN = False\n",
        "DEFAULT_SVG_LINES_STRING = \"\"\n",
        "DEFAULT_SVG_SHELLS_STRING = \"\"\n",
        "DEFAULT_PEN_WIDTH = 4\n",
        "# all 140 color names that modern browsers support. taken from https://www.w3schools.com/colors/colors_names.asp\n",
        "VALID_COLORS = ('black', 'navy', 'darkblue', 'mediumblue', 'blue', 'darkgreen', 'green', 'teal', 'darkcyan', 'deepskyblue', 'darkturquoise', 'mediumspringgreen', 'lime', 'springgreen', 'aqua', 'cyan', 'midnightblue', 'dodgerblue', 'lightseagreen', 'forestgreen', 'seagreen', 'darkslategray', 'darkslategrey', 'limegreen', 'mediumseagreen', 'turquoise', 'royalblue', 'steelblue', 'darkslateblue', 'mediumturquoise', 'indigo', 'darkolivegreen', 'cadetblue', 'cornflowerblue', 'rebeccapurple', 'mediumaquamarine', 'dimgray', 'dimgrey', 'slateblue', 'olivedrab', 'slategray', 'slategrey', 'lightslategray', 'lightslategrey', 'mediumslateblue', 'lawngreen', 'chartreuse', 'aquamarine', 'maroon', 'purple', 'olive', 'gray', 'grey', 'skyblue', 'lightskyblue', 'blueviolet', 'darkred', 'darkmagenta', 'saddlebrown', 'darkseagreen', 'lightgreen', 'mediumpurple', 'darkviolet', 'palegreen', 'darkorchid', 'yellowgreen', 'sienna', 'brown', 'darkgray', 'darkgrey', 'lightblue', 'greenyellow', 'paleturquoise', 'lightsteelblue', 'powderblue', 'firebrick', 'darkgoldenrod', 'mediumorchid', 'rosybrown', 'darkkhaki', 'silver', 'mediumvioletred', 'indianred', 'peru', 'chocolate', 'tan', 'lightgray', 'lightgrey', 'thistle', 'orchid', 'goldenrod', 'palevioletred', 'crimson', 'gainsboro', 'plum', 'burlywood', 'lightcyan', 'lavender', 'darksalmon', 'violet', 'palegoldenrod', 'lightcoral', 'khaki', 'aliceblue', 'honeydew', 'azure', 'sandybrown', 'wheat', 'beige', 'whitesmoke', 'mintcream', 'ghostwhite', 'salmon', 'antiquewhite', 'linen', 'lightgoldenrodyellow', 'oldlace', 'red', 'fuchsia', 'magenta', 'deeppink', 'orangered', 'tomato', 'hotpink', 'coral', 'darkorange', 'lightsalmon', 'orange', 'lightpink', 'pink', 'gold', 'peachpuff', 'navajowhite', 'moccasin', 'bisque', 'mistyrose', 'blanchedalmond', 'papayawhip', 'lavenderblush', 'seashell', 'cornsilk', 'lemonchiffon', 'floralwhite', 'snow', 'yellow', 'lightyellow', 'ivory', 'white')\n",
        "VALID_COLORS_SET = set(VALID_COLORS)\n",
        "DEFAULT_TURTLE_SHAPE = 'turtle'\n",
        "VALID_TURTLE_SHAPES = ('turtle', 'circle')\n",
        "SVG_TEMPLATE = \"\"\"\n",
        "      <svg width=\"{window_width}\" height=\"{window_height}\">\n",
        "        <rect width=\"100%\" height=\"100%\" fill=\"{background_color}\"/>\n",
        "        {lines}\n",
        "        {shells}\n",
        "        {turtle}\n",
        "      </svg>\n",
        "    \"\"\"\n",
        "# TURTLE_TURTLE_SVG_TEMPLATE = \"\"\"<g visibility={visibility} transform=\"rotate({degrees},{rotation_x},{rotation_y}) translate({turtle_x}, {turtle_y})\">\n",
        "# <path style=\" stroke:none;fill-rule:evenodd;fill:{turtle_color};fill-opacity:1;\" d=\"M 18.214844 0.632812 C 16.109375 1.800781 15.011719 4.074219 15.074219 7.132812 L 15.085938 7.652344 L 14.785156 7.496094 C 13.476562 6.824219 11.957031 6.671875 10.40625 7.066406 C 8.46875 7.550781 6.515625 9.15625 4.394531 11.992188 C 3.0625 13.777344 2.679688 14.636719 3.042969 15.027344 L 3.15625 15.152344 L 3.519531 15.152344 C 4.238281 15.152344 4.828125 14.886719 8.1875 13.039062 C 9.386719 12.378906 10.371094 11.839844 10.378906 11.839844 C 10.386719 11.839844 10.355469 11.929688 10.304688 12.035156 C 9.832031 13.09375 9.257812 14.820312 8.96875 16.078125 C 7.914062 20.652344 8.617188 24.53125 11.070312 27.660156 C 11.351562 28.015625 11.363281 27.914062 10.972656 28.382812 C 8.925781 30.84375 7.945312 33.28125 8.238281 35.1875 C 8.289062 35.527344 8.28125 35.523438 8.917969 35.523438 C 10.941406 35.523438 13.074219 34.207031 15.136719 31.6875 C 15.359375 31.417969 15.328125 31.425781 15.5625 31.574219 C 16.292969 32.042969 18.023438 32.964844 18.175781 32.964844 C 18.335938 32.964844 19.941406 32.210938 20.828125 31.71875 C 20.996094 31.625 21.136719 31.554688 21.136719 31.558594 C 21.203125 31.664062 21.898438 32.414062 22.222656 32.730469 C 23.835938 34.300781 25.5625 35.132812 27.582031 35.300781 C 27.90625 35.328125 27.9375 35.308594 28.007812 34.984375 C 28.382812 33.242188 27.625 30.925781 25.863281 28.425781 L 25.542969 27.96875 L 25.699219 27.785156 C 28.945312 23.960938 29.132812 18.699219 26.257812 11.96875 L 26.207031 11.84375 L 27.945312 12.703125 C 31.53125 14.476562 32.316406 14.800781 33.03125 14.800781 C 33.976562 14.800781 33.78125 13.9375 32.472656 12.292969 C 28.519531 7.355469 25.394531 5.925781 21.921875 7.472656 L 21.558594 7.636719 L 21.578125 7.542969 C 21.699219 6.992188 21.761719 5.742188 21.699219 5.164062 C 21.496094 3.296875 20.664062 1.964844 19.003906 0.855469 C 18.480469 0.503906 18.457031 0.5 18.214844 0.632812\"/>\n",
        "# </g>\"\"\"\n",
        "\n",
        "TURTLE_TURTLE_SVG_TEMPLATE = \"\"\"<g visibility={visibility} transform=\"rotate({degrees},{rotation_x},{rotation_y}) translate({turtle_x}, {turtle_y})\">\n",
        "<path style=\" stroke:none;fill-rule:evenodd;fill:{turtle_color};fill-opacity:1;\" d=\"M 30.965234799999998 1.0757804 C 27.3859375 3.0613276999999997 25.519922299999998 6.9261723 25.626172299999997 12.1257804 L 25.6460946 13.0089848 L 25.1347652 12.7433598 C 22.910155399999997 11.6011723 20.3269527 11.3421875 17.690625 12.0128902 C 14.396875 12.8363277 11.0765625 15.565624999999999 7.4707026999999995 20.3867196 C 5.20625 23.421484799999998 4.5554696 24.882422299999998 5.1730472999999995 25.546484799999998 L 5.365625 25.758984799999997 L 5.9832027000000005 25.758984799999997 C 7.2050776999999995 25.758984799999997 8.2078125 25.3074223 13.91875 22.1664054 C 15.9574223 21.0441402 17.6308598 20.1277348 17.6441402 20.1277348 C 17.657422299999997 20.1277348 17.6042973 20.2804696 17.5179696 20.4597652 C 16.7144527 22.259375 15.738280399999999 25.194530399999998 15.246875 27.3328125 C 13.4539054 35.108984799999995 14.6492196 41.703125 18.819530399999998 47.0222652 C 19.2976554 47.6265625 19.3175777 47.453905400000004 18.6535152 48.250780400000004 C 15.1738277 52.434374999999996 13.5070304 56.578125 14.005077700000001 59.81875 C 14.0914054 60.396484799999996 14.078125 60.389844599999996 15.1605473 60.389844599999996 C 18.6003902 60.389844599999996 22.226172299999998 58.1519527 25.7324223 53.86875 C 26.1109375 53.4105473 26.0578125 53.4238277 26.45625 53.6761723 C 27.6980473 54.4730473 30.639844599999996 56.0402348 30.898827700000002 56.0402348 C 31.171094599999996 56.0402348 33.9003902 54.758594599999995 35.4078125 53.921875 C 35.693359799999996 53.762499999999996 35.9324223 53.642969599999994 35.9324223 53.6496098 C 36.0453125 53.828905400000004 37.227344599999995 55.1039054 37.7785152 55.6417973 C 40.5210946 58.3113277 43.45625 59.7257804 46.8894527 60.0113277 C 47.440625 60.0578125 47.49375 60.0246098 47.6132804 59.473437499999996 C 48.250780400000004 56.5117196 46.9625 52.5738277 43.9675777 48.3238277 L 43.4230473 47.546875 L 43.6886723 47.2347652 C 49.2070304 40.733594599999996 49.5257804 31.788672299999998 44.6382804 20.346875 L 44.5519527 20.134375 L 47.5070304 21.5953125 C 53.603125 24.6101554 54.9378902 25.1613277 56.153124999999996 25.1613277 C 57.7601554 25.1613277 57.428125 23.693749999999998 55.2035152 20.898047299999998 C 48.4832027 12.5042973 43.1707027 10.073827699999999 37.2671875 12.7035152 L 36.6496098 12.9824223 L 36.6828125 12.8230473 C 36.888672299999996 11.8867196 36.9949223 9.7617196 36.888672299999996 8.778905400000001 C 36.5433598 5.6046875 35.1289054 3.3402348 32.3066402 1.4542973000000001 C 31.4167973 0.8566402 31.3769527 0.85 30.965234799999998 1.0757804\"/>\n",
        "</g>\"\"\"\n",
        "TURTLE_CIRCLE_SVG_TEMPLATE = \"\"\"\n",
        "      <g visibility={visibility} transform=\"rotate({degrees},{rotation_x},{rotation_y}) translate({turtle_x}, {turtle_y})\">\n",
        "        <circle stroke=\"{turtle_color}\" stroke-width=\"3\" fill=\"transparent\" r=\"12\" cx=\"0\" cy=\"0\"/>\n",
        "        <polygon points=\"0,19 3,16 -3,16\" style=\"fill:{turtle_color};stroke:{turtle_color};stroke-width:2\"/>\n",
        "      </g>\n",
        "    \"\"\"\n",
        "\n",
        "\n",
        "SPEED_TO_SEC_MAP = {1: 1.5, 2: 0.9, 3: 0.7, 4: 0.5, 5: 0.3, 6: 0.18, 7: 0.12, 8: 0.06, 9: 0.04, 10: 0.02, 11: 0.01, 12: 0.001, 13: 0.0001}\n",
        "\n",
        "\n",
        "# helper function that maps [1,13] speed values to ms delays\n",
        "def _speedToSec(speed):\n",
        "    return SPEED_TO_SEC_MAP[speed]\n",
        "\n",
        "\n",
        "turtle_speed = DEFAULT_SPEED\n",
        "\n",
        "is_turtle_visible = DEFAULT_TURTLE_VISIBILITY\n",
        "pen_color = DEFAULT_PEN_COLOR\n",
        "window_size = DEFAULT_WINDOW_SIZE\n",
        "turtle_pos = (50, 50)\n",
        "turtle_degree = DEFAULT_TURTLE_DEGREE\n",
        "background_color = DEFAULT_BACKGROUND_COLOR\n",
        "is_pen_down = DEFAULT_IS_PEN_DOWN\n",
        "svg_lines_string = DEFAULT_SVG_LINES_STRING\n",
        "svg_shells_string = DEFAULT_SVG_SHELLS_STRING\n",
        "pen_width = DEFAULT_PEN_WIDTH\n",
        "turtle_shape = DEFAULT_TURTLE_SHAPE\n",
        "num_pearls_in_bag = 0\n",
        "\n",
        "GAME_BOARD = []\n",
        "\n",
        "drawing_window = None\n",
        "\n",
        "\n",
        "# construct the display for turtle\n",
        "def initializeTurtle(initial_speed=DEFAULT_SPEED, initial_window_size=DEFAULT_WINDOW_SIZE, map=\"default\"):\n",
        "    global window_size\n",
        "    global drawing_window\n",
        "    global turtle_speed\n",
        "    global is_turtle_visible\n",
        "    global pen_color\n",
        "    global turtle_pos\n",
        "    global turtle_degree\n",
        "    global background_color\n",
        "    global is_pen_down\n",
        "    global svg_lines_string\n",
        "    global svg_shells_string\n",
        "    global pen_width\n",
        "    global turtle_shape\n",
        "    global GAME_BOARD\n",
        "    global num_pearls_in_bag\n",
        "\n",
        "\n",
        "    if isinstance(initial_speed,int) == False or initial_speed not in range(1, 14):\n",
        "        raise ValueError('initial_speed must be an integer in interval [1,13]')\n",
        "    turtle_speed = initial_speed\n",
        "\n",
        "    if not (isinstance(initial_window_size, tuple) and len(initial_window_size) == 2 and isinstance(\n",
        "            initial_window_size[0], int) and isinstance(initial_window_size[1], int)):\n",
        "        raise ValueError('window_size must be a tuple of 2 integers')\n",
        "\n",
        "    if \"small\" in map:\n",
        "      window_size = (400,400)\n",
        "    elif map == \"tiny\":\n",
        "      window_size = (200,200)\n",
        "    elif \"stair\" in map:\n",
        "      window_size = (500,500)\n",
        "    elif \"strip\" in map:\n",
        "      window_size = (500,100)\n",
        "    elif map == \"maze\":\n",
        "      window_size = (700, 500)\n",
        "    else:\n",
        "      window_size = initial_window_size\n",
        "    turtle_pos = (50, window_size[1]-50)\n",
        "    if map == \"maze\" or map == \"box\" or map == \"default\":\n",
        "      turtle_pos = (50,50)\n",
        "\n",
        "    is_turtle_visible = DEFAULT_TURTLE_VISIBILITY\n",
        "    pen_color = DEFAULT_PEN_COLOR\n",
        "    turtle_degree = DEFAULT_TURTLE_DEGREE\n",
        "    background_color = DEFAULT_BACKGROUND_COLOR\n",
        "    is_pen_down = DEFAULT_IS_PEN_DOWN\n",
        "    svg_lines_string = DEFAULT_SVG_LINES_STRING\n",
        "    svg_shells_string = DEFAULT_SVG_SHELLS_STRING\n",
        "    pen_width = DEFAULT_PEN_WIDTH\n",
        "    turtle_shape = DEFAULT_TURTLE_SHAPE\n",
        "    GAME_BOARD = []\n",
        "    num_pearls_in_bag = 0\n",
        "\n",
        "    # draws the border\n",
        "    svg_lines_string = \"\"\"<line x1=\"{x1}\" y1=\"{y1}\" x2=\"{x2}\" y2=\"{y2}\" stroke-linecap=\"round\" style=\"stroke:{pen_color};stroke-width:{pen_width}\"/>\"\"\".format(\n",
        "          x1=3, y1=3, x2=3, y2=window_size[1]-3, pen_color='blue', pen_width=5)\n",
        "    svg_lines_string += \"\"\"<line x1=\"{x1}\" y1=\"{y1}\" x2=\"{x2}\" y2=\"{y2}\" stroke-linecap=\"round\" style=\"stroke:{pen_color};stroke-width:{pen_width}\"/>\"\"\".format(\n",
        "          x1=3, y1=window_size[1]-3, x2=window_size[0]-3, y2=window_size[1]-3, pen_color='blue', pen_width=5)\n",
        "    svg_lines_string += \"\"\"<line x1=\"{x1}\" y1=\"{y1}\" x2=\"{x2}\" y2=\"{y2}\" stroke-linecap=\"round\" style=\"stroke:{pen_color};stroke-width:{pen_width}\"/>\"\"\".format(\n",
        "          x1=window_size[0]-3, y1=window_size[1]-3, x2=window_size[0]-3, y2=3, pen_color='blue', pen_width=5)\n",
        "    svg_lines_string += \"\"\"<line x1=\"{x1}\" y1=\"{y1}\" x2=\"{x2}\" y2=\"{y2}\" stroke-linecap=\"round\" style=\"stroke:{pen_color};stroke-width:{pen_width}\"/>\"\"\".format(\n",
        "          x1=window_size[0]-3, y1=3, x2=3, y2=3, pen_color='blue', pen_width=5)\n",
        "    \n",
        "    if map == \"castle\":\n",
        "      svg_lines_string += \"\"\"<line x1=\"{x1}\" y1=\"{y1}\" x2=\"{x2}\" y2=\"{y2}\" stroke-linecap=\"round\" style=\"stroke:{pen_color};stroke-width:{pen_width}\"/>\"\"\".format(\n",
        "          x1=100, y1=window_size[1], x2=100, y2=window_size[1]-100, pen_color='blue', pen_width=5)\n",
        "      svg_lines_string += \"\"\"<line x1=\"{x1}\" y1=\"{y1}\" x2=\"{x2}\" y2=\"{y2}\" stroke-linecap=\"round\" style=\"stroke:{pen_color};stroke-width:{pen_width}\"/>\"\"\".format(\n",
        "          x1=100, y1=window_size[1]-100, x2=200, y2=window_size[1]-100, pen_color='blue', pen_width=5)\n",
        "      svg_lines_string += \"\"\"<line x1=\"{x1}\" y1=\"{y1}\" x2=\"{x2}\" y2=\"{y2}\" stroke-linecap=\"round\" style=\"stroke:{pen_color};stroke-width:{pen_width}\"/>\"\"\".format(\n",
        "          x1=200, y1=window_size[1]-100, x2=200, y2=window_size[1]-200, pen_color='blue', pen_width=5)\n",
        "      svg_lines_string += \"\"\"<line x1=\"{x1}\" y1=\"{y1}\" x2=\"{x2}\" y2=\"{y2}\" stroke-linecap=\"round\" style=\"stroke:{pen_color};stroke-width:{pen_width}\"/>\"\"\".format(\n",
        "          x1=200, y1=window_size[1]-200, x2=300, y2=window_size[1]-200, pen_color='blue', pen_width=5)\n",
        "      svg_lines_string += \"\"\"<line x1=\"{x1}\" y1=\"{y1}\" x2=\"{x2}\" y2=\"{y2}\" stroke-linecap=\"round\" style=\"stroke:{pen_color};stroke-width:{pen_width}\"/>\"\"\".format(\n",
        "          x1=300, y1=window_size[1]-200, x2=300, y2=window_size[1]-300, pen_color='blue', pen_width=5)\n",
        "      svg_lines_string += \"\"\"<line x1=\"{x1}\" y1=\"{y1}\" x2=\"{x2}\" y2=\"{y2}\" stroke-linecap=\"round\" style=\"stroke:{pen_color};stroke-width:{pen_width}\"/>\"\"\".format(\n",
        "          x1=300, y1=window_size[1]-300, x2=500, y2=window_size[1]-300, pen_color='blue', pen_width=5)\n",
        "      svg_lines_string += \"\"\"<line x1=\"{x1}\" y1=\"{y1}\" x2=\"{x2}\" y2=\"{y2}\" stroke-linecap=\"round\" style=\"stroke:{pen_color};stroke-width:{pen_width}\"/>\"\"\".format(\n",
        "          x1=500, y1=window_size[1]-300, x2=500, y2=window_size[1]-200, pen_color='blue', pen_width=5)\n",
        "      svg_lines_string += \"\"\"<line x1=\"{x1}\" y1=\"{y1}\" x2=\"{x2}\" y2=\"{y2}\" stroke-linecap=\"round\" style=\"stroke:{pen_color};stroke-width:{pen_width}\"/>\"\"\".format(\n",
        "          x1=500, y1=window_size[1]-200, x2=600, y2=window_size[1]-200, pen_color='blue', pen_width=5)\n",
        "      svg_lines_string += \"\"\"<line x1=\"{x1}\" y1=\"{y1}\" x2=\"{x2}\" y2=\"{y2}\" stroke-linecap=\"round\" style=\"stroke:{pen_color};stroke-width:{pen_width}\"/>\"\"\".format(\n",
        "          x1=600, y1=window_size[1]-200, x2=600, y2=window_size[1]-100, pen_color='blue', pen_width=5)\n",
        "      svg_lines_string += \"\"\"<line x1=\"{x1}\" y1=\"{y1}\" x2=\"{x2}\" y2=\"{y2}\" stroke-linecap=\"round\" style=\"stroke:{pen_color};stroke-width:{pen_width}\"/>\"\"\".format(\n",
        "          x1=600, y1=window_size[1]-100, x2=700, y2=window_size[1]-100, pen_color='blue', pen_width=5)\n",
        "      svg_lines_string += \"\"\"<line x1=\"{x1}\" y1=\"{y1}\" x2=\"{x2}\" y2=\"{y2}\" stroke-linecap=\"round\" style=\"stroke:{pen_color};stroke-width:{pen_width}\"/>\"\"\".format(\n",
        "          x1=700, y1=window_size[1]-100, x2=700, y2=window_size[1], pen_color='blue', pen_width=5)\n",
        "    if map == \"maze\":\n",
        "      svg_lines_string += \"\"\"<line x1=\"{x1}\" y1=\"{y1}\" x2=\"{x2}\" y2=\"{y2}\" stroke-linecap=\"round\" style=\"stroke:{pen_color};stroke-width:{pen_width}\"/>\"\"\".format(\n",
        "          x1=100, y1=0, x2=100, y2=window_size[1]-100, pen_color='blue', pen_width=5)\n",
        "      svg_lines_string += \"\"\"<line x1=\"{x1}\" y1=\"{y1}\" x2=\"{x2}\" y2=\"{y2}\" stroke-linecap=\"round\" style=\"stroke:{pen_color};stroke-width:{pen_width}\"/>\"\"\".format(\n",
        "          x1=200, y1=100, x2=200, y2=window_size[1], pen_color='blue', pen_width=5)\n",
        "      svg_lines_string += \"\"\"<line x1=\"{x1}\" y1=\"{y1}\" x2=\"{x2}\" y2=\"{y2}\" stroke-linecap=\"round\" style=\"stroke:{pen_color};stroke-width:{pen_width}\"/>\"\"\".format(\n",
        "          x1=300, y1=0, x2=300, y2=window_size[1]-100, pen_color='blue', pen_width=5)\n",
        "      svg_lines_string += \"\"\"<line x1=\"{x1}\" y1=\"{y1}\" x2=\"{x2}\" y2=\"{y2}\" stroke-linecap=\"round\" style=\"stroke:{pen_color};stroke-width:{pen_width}\"/>\"\"\".format(\n",
        "          x1=400, y1=100, x2=400, y2=window_size[1], pen_color='blue', pen_width=5)\n",
        "      svg_lines_string += \"\"\"<line x1=\"{x1}\" y1=\"{y1}\" x2=\"{x2}\" y2=\"{y2}\" stroke-linecap=\"round\" style=\"stroke:{pen_color};stroke-width:{pen_width}\"/>\"\"\".format(\n",
        "          x1=500, y1=0, x2=500, y2=window_size[1]-100, pen_color='blue', pen_width=5)\n",
        "      svg_lines_string += \"\"\"<line x1=\"{x1}\" y1=\"{y1}\" x2=\"{x2}\" y2=\"{y2}\" stroke-linecap=\"round\" style=\"stroke:{pen_color};stroke-width:{pen_width}\"/>\"\"\".format(\n",
        "          x1=600, y1=100, x2=600, y2=window_size[1], pen_color='blue', pen_width=5)\n",
        "    if map == \"box\":\n",
        "      svg_lines_string += \"\"\"<line x1=\"{x1}\" y1=\"{y1}\" x2=\"{x2}\" y2=\"{y2}\" stroke-linecap=\"round\" style=\"stroke:{pen_color};stroke-width:{pen_width}\"/>\"\"\".format(\n",
        "          x1=300, y1=0, x2=300, y2=window_size[1]-100, pen_color='blue', pen_width=5)\n",
        "      svg_lines_string += \"\"\"<line x1=\"{x1}\" y1=\"{y1}\" x2=\"{x2}\" y2=\"{y2}\" stroke-linecap=\"round\" style=\"stroke:{pen_color};stroke-width:{pen_width}\"/>\"\"\".format(\n",
        "          x1=300, y1=window_size[1]-100, x2=window_size[0], y2=window_size[1]-100, pen_color='blue', pen_width=5)\n",
        "    if \"stair\" in map:\n",
        "      svg_lines_string += \"\"\"<line x1=\"{x1}\" y1=\"{y1}\" x2=\"{x2}\" y2=\"{y2}\" stroke-linecap=\"round\" style=\"stroke:{pen_color};stroke-width:{pen_width}\"/>\"\"\".format(\n",
        "          x1=100, y1=window_size[1], x2=100, y2=window_size[1]-100, pen_color='blue', pen_width=5)\n",
        "      svg_lines_string += \"\"\"<line x1=\"{x1}\" y1=\"{y1}\" x2=\"{x2}\" y2=\"{y2}\" stroke-linecap=\"round\" style=\"stroke:{pen_color};stroke-width:{pen_width}\"/>\"\"\".format(\n",
        "          x1=100, y1=window_size[1]-100, x2=200, y2=window_size[1]-100, pen_color='blue', pen_width=5)\n",
        "      svg_lines_string += \"\"\"<line x1=\"{x1}\" y1=\"{y1}\" x2=\"{x2}\" y2=\"{y2}\" stroke-linecap=\"round\" style=\"stroke:{pen_color};stroke-width:{pen_width}\"/>\"\"\".format(\n",
        "          x1=200, y1=window_size[1]-100, x2=200, y2=window_size[1]-200, pen_color='blue', pen_width=5)\n",
        "      svg_lines_string += \"\"\"<line x1=\"{x1}\" y1=\"{y1}\" x2=\"{x2}\" y2=\"{y2}\" stroke-linecap=\"round\" style=\"stroke:{pen_color};stroke-width:{pen_width}\"/>\"\"\".format(\n",
        "          x1=200, y1=window_size[1]-200, x2=300, y2=window_size[1]-200, pen_color='blue', pen_width=5)\n",
        "      svg_lines_string += \"\"\"<line x1=\"{x1}\" y1=\"{y1}\" x2=\"{x2}\" y2=\"{y2}\" stroke-linecap=\"round\" style=\"stroke:{pen_color};stroke-width:{pen_width}\"/>\"\"\".format(\n",
        "          x1=300, y1=window_size[1]-200, x2=300, y2=window_size[1]-300, pen_color='blue', pen_width=5)\n",
        "      svg_lines_string += \"\"\"<line x1=\"{x1}\" y1=\"{y1}\" x2=\"{x2}\" y2=\"{y2}\" stroke-linecap=\"round\" style=\"stroke:{pen_color};stroke-width:{pen_width}\"/>\"\"\".format(\n",
        "          x1=300, y1=window_size[1]-300, x2=400, y2=window_size[1]-300, pen_color='blue', pen_width=5)\n",
        "      svg_lines_string += \"\"\"<line x1=\"{x1}\" y1=\"{y1}\" x2=\"{x2}\" y2=\"{y2}\" stroke-linecap=\"round\" style=\"stroke:{pen_color};stroke-width:{pen_width}\"/>\"\"\".format(\n",
        "          x1=400, y1=window_size[1]-300, x2=400, y2=window_size[1]-400, pen_color='blue', pen_width=5)\n",
        "      svg_lines_string += \"\"\"<line x1=\"{x1}\" y1=\"{y1}\" x2=\"{x2}\" y2=\"{y2}\" stroke-linecap=\"round\" style=\"stroke:{pen_color};stroke-width:{pen_width}\"/>\"\"\".format(\n",
        "          x1=400, y1=window_size[1]-400, x2=500, y2=window_size[1]-400, pen_color='blue', pen_width=5)\n",
        "    if map == \"small pothole\":\n",
        "      turtle_pos = (50,250)\n",
        "      svg_lines_string += \"\"\"<line x1=\"{x1}\" y1=\"{y1}\" x2=\"{x2}\" y2=\"{y2}\" stroke-linecap=\"round\" style=\"stroke:{pen_color};stroke-width:{pen_width}\"/>\"\"\".format(\n",
        "          x1=0, y1=window_size[1]-100, x2=200, y2=window_size[1]-100, pen_color='blue', pen_width=5)\n",
        "      svg_lines_string += \"\"\"<line x1=\"{x1}\" y1=\"{y1}\" x2=\"{x2}\" y2=\"{y2}\" stroke-linecap=\"round\" style=\"stroke:{pen_color};stroke-width:{pen_width}\"/>\"\"\".format(\n",
        "          x1=200, y1=window_size[1]-100, x2=200, y2=window_size[1], pen_color='blue', pen_width=5)\n",
        "      svg_lines_string += \"\"\"<line x1=\"{x1}\" y1=\"{y1}\" x2=\"{x2}\" y2=\"{y2}\" stroke-linecap=\"round\" style=\"stroke:{pen_color};stroke-width:{pen_width}\"/>\"\"\".format(\n",
        "          x1=300, y1=window_size[1]-100, x2=300, y2=window_size[1], pen_color='blue', pen_width=5)\n",
        "      svg_lines_string += \"\"\"<line x1=\"{x1}\" y1=\"{y1}\" x2=\"{x2}\" y2=\"{y2}\" stroke-linecap=\"round\" style=\"stroke:{pen_color};stroke-width:{pen_width}\"/>\"\"\".format(\n",
        "          x1=300, y1=window_size[1]-100, x2=400, y2=window_size[1]-100, pen_color='blue', pen_width=5)\n",
        "\n",
        "    # draws the x's\n",
        "    for i in range(50, window_size[0], 100):\n",
        "      for j in range(50, window_size[1], 100):\n",
        "        svg_lines_string = draw_x((i, j), svg_lines_string, 2, 6)\n",
        "      \n",
        "    for i in range(0, window_size[0]+1, 50):\n",
        "      row = []\n",
        "      for j in range(0, window_size[1]+1, 50):\n",
        "        if i==0 or j==0 or i==window_size[0] or j==window_size[1]:\n",
        "          row.append(-1)\n",
        "        else:\n",
        "          row.append(0)\n",
        "      GAME_BOARD.append(row)\n",
        "    \n",
        "    if map == \"one pearl stairs\":\n",
        "      GAME_BOARD[3][7]=1\n",
        "      GAME_BOARD[5][5]=1\n",
        "      GAME_BOARD[7][3]=1\n",
        "    elif map == \"many pearl stairs\":\n",
        "      GAME_BOARD[3][7]=3\n",
        "      GAME_BOARD[5][5]=3\n",
        "      GAME_BOARD[7][3]=3\n",
        "    elif map == \"random pearl stairs\":\n",
        "      GAME_BOARD[3][7]=random.randint(0,1)\n",
        "      GAME_BOARD[5][5]=random.randint(0,1)\n",
        "      GAME_BOARD[7][3]=random.randint(0,1)\n",
        "    elif map == \"many random pearl stairs\":\n",
        "      GAME_BOARD[3][7]=random.randint(0,5)\n",
        "      GAME_BOARD[5][5]=random.randint(0,5)\n",
        "      GAME_BOARD[7][3]=random.randint(0,5)\n",
        "    elif map == \"strip\":\n",
        "      GAME_BOARD[5][1]=1\n",
        "    elif map == \"strip random\":\n",
        "      GAME_BOARD[5][1]=random.randint(0,3)\n",
        "    elif map == \"invert\":\n",
        "      for i in range(1, 17, 2):\n",
        "        GAME_BOARD[i][9]=random.randint(0,1)\n",
        "    elif map == \"rand pearls\":\n",
        "      GAME_BOARD = [[-1, -1, -1, -1, -1, -1, -1, -1, -1, -1, -1],\n",
        "                    [-1, 0, 0, 1, 0, 1, 0, 1, 0, 1, -1],\n",
        "                    [-1, 0, 0, 0, 0, 0, 0, 0, 0, 0, -1],\n",
        "                    [-1, 0, 0, 0, 0, 1, 0, 1, 0, 1, -1],\n",
        "                    [-1, 0, 0, 0, 0, 0, 0, 0, 0, 0, -1],\n",
        "                    [-1, 0, 0, 1, 0, 1, 0, 1, 0, 1, -1],\n",
        "                    [-1, 0, 0, 0, 0, 0, 0, 0, 0, 0, -1],\n",
        "                    [-1, 0, 0, 0, 0, 0, 0, 1, 0, 1, -1],\n",
        "                    [-1, 0, 0, 0, 0, 0, 0, 0, 0, 0, -1],\n",
        "                    [-1, 0, 0, 0, 0, 0, 0, 0, 0, 1, -1],\n",
        "                    [-1, 0, 0, 0, 0, 0, 0, 0, 0, 0, -1],\n",
        "                    [-1, 0, 0, 0, 0, 0, 0, 0, 0, 1, -1],\n",
        "                    [-1, 0, 0, 0, 0, 0, 0, 0, 0, 0, -1],\n",
        "                    [-1, 0, 0, 0, 0, 0, 0, 1, 0, 1, -1],\n",
        "                    [-1, 0, 0, 0, 0, 0, 0, 0, 0, 0, -1],\n",
        "                    [-1, 0, 0, 0, 0, 0, 0, 0, 0, 0, -1],\n",
        "                    [-1, -1, -1, -1, -1, -1, -1, -1, -1, -1, -1]]\n",
        "\n",
        "    drawing_window = display(HTML(_generateSvgDrawing()), display_id=True)\n",
        "\n",
        "\n",
        "def draw_x(pos, svg_str, thickness, size):\n",
        "  svg_str += \"\"\"<line x1=\"{x1}\" y1=\"{y1}\" x2=\"{x2}\" y2=\"{y2}\" stroke-linecap=\"round\" style=\"stroke:{pen_color};stroke-width:{pen_width}\"/>\"\"\".format(\n",
        "    x1=pos[0]-size, y1=pos[1]-size, x2=pos[0]+size, y2=pos[1]+size, pen_color='black', pen_width=thickness)\n",
        "  svg_str += \"\"\"<line x1=\"{x1}\" y1=\"{y1}\" x2=\"{x2}\" y2=\"{y2}\" stroke-linecap=\"round\" style=\"stroke:{pen_color};stroke-width:{pen_width}\"/>\"\"\".format(\n",
        "    x1=pos[0]-size, y1=pos[1]+size, x2=pos[0]+size, y2=pos[1]-size, pen_color='black', pen_width=thickness)\n",
        "  return svg_str\n",
        "\n",
        "# helper function for generating svg string of the turtle\n",
        "def _generateTurtleSvgDrawing():\n",
        "    if is_turtle_visible:\n",
        "        vis = 'visible'\n",
        "    else:\n",
        "        vis = 'hidden'\n",
        "\n",
        "    turtle_x = turtle_pos[0]\n",
        "    turtle_y = turtle_pos[1]\n",
        "    degrees = turtle_degree\n",
        "    template = ''\n",
        "\n",
        "    if turtle_shape == 'turtle':\n",
        "        turtle_x -= 18*1.7\n",
        "        turtle_y -= 18*1.7\n",
        "        degrees += 90\n",
        "        template = TURTLE_TURTLE_SVG_TEMPLATE\n",
        "    else: #circle\n",
        "        degrees -= 90\n",
        "        template = TURTLE_CIRCLE_SVG_TEMPLATE\n",
        "\n",
        "    return template.format(turtle_color='green', turtle_x=turtle_x, turtle_y=turtle_y, \\\n",
        "                                      visibility=vis, degrees=degrees, rotation_x=turtle_pos[0], rotation_y=turtle_pos[1])\n",
        "\n",
        "def draw_pearl(x, y):\n",
        "    pearl = \"\"\"<g visibility={visibility} transform=\"rotate({degrees},{rotation_x},{rotation_y}) translate({shell_x}, {shell_y})\">\n",
        "        <circle stroke=\"{shell_color}\" stroke-width=\"3\" fill=\"white\" r=\"20\" cx=\"0\" cy=\"0\"/>\n",
        "        <text fill=\"black\" dominant-baseline=\"middle\" text-anchor=\"middle\">{num_shells}</text>\n",
        "        </g>\"\"\"\n",
        "    return pearl.format(shell_color='white', shell_x=x, shell_y=y, \\\n",
        "                                      visibility=True, degrees=0, rotation_x=x, rotation_y=y, num_shells=GAME_BOARD[int(x/50)][int(y/50)])\n",
        "\n",
        "\n",
        "def _generatePearlDrawing():\n",
        "  pearl_draw = \"\"\n",
        "  for i in range(len(GAME_BOARD)):\n",
        "    for j in range(len(GAME_BOARD[0])):\n",
        "      if GAME_BOARD[i][j]>0:\n",
        "        pearl_draw += draw_pearl(i*50, j*50)\n",
        "\n",
        "  return pearl_draw\n",
        "\n",
        "# helper function for generating the whole svg string\n",
        "def _generateSvgDrawing():\n",
        "    return SVG_TEMPLATE.format(window_width=window_size[0], window_height=window_size[1],\n",
        "                               background_color=background_color, lines=svg_lines_string,\n",
        "                               turtle=_generateTurtleSvgDrawing(), shells=_generatePearlDrawing())\n",
        "\n",
        "\n",
        "# helper functions for updating the screen using the latest positions/angles/lines etc.\n",
        "def _updateDrawing():\n",
        "    if drawing_window == None:\n",
        "        raise AttributeError(\"Display has not been initialized yet. Call initializeTurtle() before using.\")\n",
        "    time.sleep(_speedToSec(turtle_speed))\n",
        "    drawing_window.update(HTML(_generateSvgDrawing()))\n",
        "    # for i in range(len(GAME_BOARD)):\n",
        "    #   for j in range(len(GAME_BOARD[0])):\n",
        "    #     if GAME_BOARD[i][j]>1:\n",
        "          # write(str(GAME_BOARD[i][j]), align=\"center\")\n",
        "\n",
        "# helper function for managing any kind of move to a given 'new_pos' and draw lines if pen is down\n",
        "def _moveToNewPosition(new_pos):\n",
        "    global turtle_pos\n",
        "    global svg_lines_string\n",
        "\n",
        "    # rounding the new_pos to eliminate floating point errors.\n",
        "    new_pos = ( round(new_pos[0],3), round(new_pos[1],3) )\n",
        "\n",
        "    start_pos = turtle_pos\n",
        "    if is_pen_down:\n",
        "        svg_lines_string += \"\"\"<line x1=\"{x1}\" y1=\"{y1}\" x2=\"{x2}\" y2=\"{y2}\" stroke-linecap=\"round\" style=\"stroke:{pen_color};stroke-width:{pen_width}\"/>\"\"\".format(\n",
        "            x1=start_pos[0], y1=start_pos[1], x2=new_pos[0], y2=new_pos[1], pen_color=pen_color, pen_width=pen_width)\n",
        "\n",
        "    turtle_pos = new_pos\n",
        "    _updateDrawing()\n",
        "\n",
        "\n",
        "# makes the turtle move forward by 'units' units\n",
        "def forward(units):\n",
        "    if not isinstance(units, (int,float)):\n",
        "        raise ValueError('units must be a number.')\n",
        "\n",
        "    alpha = math.radians(turtle_degree)\n",
        "    ending_point = (turtle_pos[0] + units * math.cos(alpha), turtle_pos[1] + units * math.sin(alpha))\n",
        "\n",
        "    _moveToNewPosition(ending_point)\n",
        "\n",
        "fd = forward # alias\n",
        "\n",
        "# makes the turtle move right by 'degrees' degrees (NOT radians, this library does not support radians right now)\n",
        "def left(degrees):\n",
        "    global turtle_degree\n",
        "\n",
        "    if not isinstance(degrees, (int,float)):\n",
        "        raise ValueError('degrees must be a number.')\n",
        "\n",
        "    turtle_degree = (turtle_degree - degrees) % 360\n",
        "    _updateDrawing()\n",
        "\n",
        "# raises the pen such that following turtle moves will not cause any drawings\n",
        "def penup():\n",
        "    global is_pen_down\n",
        "\n",
        "    is_pen_down = False\n",
        "    # TODO: decide if we should put the timout after lifting the pen\n",
        "    # _updateDrawing()\n",
        "\n",
        "pu = penup # alias\n",
        "up = penup # alias\n",
        "\n",
        "# lowers the pen such that following turtle moves will now cause drawings\n",
        "def pendown():\n",
        "    global is_pen_down\n",
        "\n",
        "    is_pen_down = True\n",
        "    # TODO: decide if we should put the timout after releasing the pen\n",
        "    # _updateDrawing()\n",
        "\n",
        "pd = pendown # alias\n",
        "down = pendown # alias\n",
        "\n",
        "def isdown():\n",
        "    return is_pen_down\n",
        "\n",
        "# update the speed of the moves, [1,13]\n",
        "# if argument is omitted, it returns the speed.\n",
        "def speed(speed = None):\n",
        "    global turtle_speed\n",
        "\n",
        "    if speed is None:\n",
        "        return turtle_speed\n",
        "\n",
        "    if isinstance(speed,int) == False or speed not in range(1, 14):\n",
        "        raise ValueError('speed must be an integer in the interval [1,13].')\n",
        "    turtle_speed = speed\n",
        "    # TODO: decide if we should put the timout after changing the speed\n",
        "    # _updateDrawing()\n",
        "\n",
        "def home():\n",
        "    global turtle_degree\n",
        "\n",
        "    turtle_degree = DEFAULT_TURTLE_DEGREE\n",
        "    _moveToNewPosition( (window_size[0] // 2, window_size[1] // 2) ) # this will handle updating the drawing.\n",
        "\n",
        "# retrieve the turtle's currrent 'x' x-coordinate\n",
        "def getx():\n",
        "    return(turtle_pos[0])\n",
        "\n",
        "xcor = getx # alias\n",
        "\n",
        "# retrieve the turtle's currrent 'y' y-coordinate\n",
        "def gety():\n",
        "    return(turtle_pos[1])\n",
        "\n",
        "ycor = gety # alias\n",
        "\n",
        "# retrieve the turtle's current position as a (x,y) tuple vector\n",
        "def position():\n",
        "    return turtle_pos\n",
        "\n",
        "pos = position # alias\n",
        "\n",
        "# retrieve the turtle's current angle\n",
        "def getheading():\n",
        "    return turtle_degree\n",
        "\n",
        "heading = getheading # alias\n",
        "\n",
        "# switch turtle visibility to ON\n",
        "def showturtle():\n",
        "    global is_turtle_visible\n",
        "\n",
        "    is_turtle_visible = True\n",
        "    _updateDrawing()\n",
        "\n",
        "st = showturtle # alias\n",
        "\n",
        "# switch turtle visibility to OFF\n",
        "def hideturtle():\n",
        "    global is_turtle_visible\n",
        "\n",
        "    is_turtle_visible = False\n",
        "    _updateDrawing()\n",
        "\n",
        "ht = hideturtle # alias\n",
        "\n",
        "def isvisible():\n",
        "    return is_turtle_visible\n",
        "\n",
        "def _validateColorString(color):\n",
        "    if color in VALID_COLORS_SET: # 140 predefined html color names\n",
        "        return True\n",
        "    if re.search(\"^#(?:[0-9a-fA-F]{3}){1,2}$\", color): # 3 or 6 digit hex color code\n",
        "        return True\n",
        "    if re.search(\"rgb\\(\\s*(?:(?:\\d{1,2}|1\\d\\d|2(?:[0-4]\\d|5[0-5]))\\s*,?){3}\\)$\", color): # rgb color code\n",
        "        return True\n",
        "    return False\n",
        "\n",
        "def _validateColorTuple(color):\n",
        "    if len(color) != 3:\n",
        "        return False\n",
        "    if not isinstance(color[0], int) or not isinstance(color[1], int) or not isinstance(color[2], int):\n",
        "        return False\n",
        "    if not 0 <= color[0] <= 255 or not 0 <= color[1] <= 255 or not 0 <= color[2] <= 255:\n",
        "        return False\n",
        "    return True\n",
        "\n",
        "def _processColor(color):\n",
        "    if isinstance(color, str):\n",
        "        color = color.lower()\n",
        "        if not _validateColorString(color):\n",
        "            raise ValueError('color is invalid. it can be a known html color name, 3-6 digit hex string or rgb string.')\n",
        "        return color\n",
        "    elif isinstance(color, tuple):\n",
        "        if not _validateColorTuple(color):\n",
        "            raise ValueError('color tuple is invalid. it must be a tuple of three integers, which are in the interval [0,255]')\n",
        "        return 'rgb(' + str(color[0]) + ',' + str(color[1]) + ',' + str(color[2]) + ')'\n",
        "    else:\n",
        "        raise ValueError('the first parameter must be a color string or a tuple')\n",
        "\n",
        "# change the background color of the drawing area\n",
        "# if no params, return the current background color\n",
        "def bgcolor(color = None, c2 = None, c3 = None):\n",
        "    global background_color\n",
        "\n",
        "    if color is None:\n",
        "        return background_color\n",
        "    elif c2 is not None:\n",
        "        if c3 is None:\n",
        "            raise ValueError('if the second argument is set, the third arguments must be set as well to complete the rgb set.')\n",
        "        color = (color, c2, c3)\n",
        "\n",
        "    background_color = _processColor(color)\n",
        "    _updateDrawing()\n",
        "\n",
        "# change the color of the pen\n",
        "# if no params, return the current pen color\n",
        "def color(color = None, c2 = None, c3 = None):\n",
        "    global pen_color\n",
        "\n",
        "    if color is None:\n",
        "        return pen_color\n",
        "    elif c2 is not None:\n",
        "        if c3 is None:\n",
        "            raise ValueError('if the second argument is set, the third arguments must be set as well to complete the rgb set.')\n",
        "        color = (color, c2, c3)\n",
        "\n",
        "    pen_color = _processColor(color)\n",
        "    _updateDrawing()\n",
        "\n",
        "pencolor = color\n",
        "\n",
        "# change the width of the lines drawn by the turtle, in pixels\n",
        "# if the function is called without arguments, it returns the current width\n",
        "def width(width = None):\n",
        "    global pen_width\n",
        "\n",
        "    if width is None:\n",
        "        return pen_width\n",
        "    else:\n",
        "        if not isinstance(width, int):\n",
        "            raise ValueError('new width position must be an integer.')\n",
        "        if not width > 0:\n",
        "            raise ValueError('new width position must be positive.')\n",
        "\n",
        "        pen_width = width\n",
        "        # TODO: decide if we should put the timout after changing the pen_width\n",
        "        # _updateDrawing()\n",
        "\n",
        "pensize = width\n",
        "\n",
        "# calculate the distance between the turtle and a given point\n",
        "def distance(x, y=None):\n",
        "    if isinstance(x, tuple) and y is None:\n",
        "        if len(x) != 2:\n",
        "            raise ValueError('the tuple argument must be of length 2.')\n",
        "\n",
        "        y = x[1]\n",
        "        x = x[0]\n",
        "\n",
        "    if not isinstance(x, (int,float)):\n",
        "        raise ValueError('new x position must be a number.')\n",
        "    if x < 0:\n",
        "        raise ValueError('new x position must be non-negative')\n",
        "    if not isinstance(y, (int,float)):\n",
        "        raise ValueError('new y position must be a number.')\n",
        "    if not y < 0:\n",
        "        raise ValueError('new y position must be non-negative.')\n",
        "\n",
        "    if not isinstance(point, tuple) or len(point) != 2 or (not isinstance(point[0], int) and not isinstance(point[0], float)) or (not isinstance(point[1], int) and not isinstance(point[1], float)):\n",
        "        raise ValueError('the vector given for the point must be a tuple with 2 numbers.')\n",
        "\n",
        "    return round(math.sqrt( (turtle_pos[0] - x) ** 2 + (turtle_pos[1] - y) ** 2 ), 4)\n",
        "\n",
        "# clear any text or drawing on the screen\n",
        "def clear():\n",
        "    global svg_lines_string\n",
        "\n",
        "    svg_lines_string = \"\"\n",
        "    _updateDrawing()\n",
        "\n",
        "def write(obj, **kwargs):\n",
        "    global svg_lines_string\n",
        "    global turtle_pos\n",
        "    text = str(obj)\n",
        "    font_size = 12\n",
        "    font_family = 'Arial'\n",
        "    font_type = 'normal'\n",
        "    align = 'start'\n",
        "\n",
        "    if 'align' in kwargs and kwargs['align'] in ('left', 'center', 'right'):\n",
        "        if kwargs['align'] == 'left':\n",
        "            align = 'start'\n",
        "        elif kwargs['align'] == 'center':\n",
        "            align = 'middle'\n",
        "        else:\n",
        "            align = 'end'\n",
        "\n",
        "    if \"font\" in kwargs:\n",
        "        font = kwargs[\"font\"]\n",
        "        if len(font) != 3 or isinstance(font[0], int) == False or isinstance(font[1], str) == False or font[2] not in {'bold','italic','underline','normal'}:\n",
        "            raise ValueError('font parameter must be a triplet consisting of font size (int), font family (str) and font type. font type can be one of {bold, italic, underline, normal}')\n",
        "        font_size = font[0]\n",
        "        font_family = font[1]\n",
        "        font_type = font[2]\n",
        "        \n",
        "    style_string = \"\"\n",
        "    style_string += \"font-size:\" + str(font_size) + \"px;\"\n",
        "    style_string += \"font-family:'\" + font_family + \"';\"\n",
        "\n",
        "    if font_type == 'bold':\n",
        "        style_string += \"font-weight:bold;\"\n",
        "    elif font_type == 'italic':\n",
        "        style_string += \"font-style:italic;\"\n",
        "    elif font_type == 'underline':\n",
        "        style_string += \"text-decoration: underline;\"\n",
        "\n",
        "    \n",
        "    svg_lines_string += \"\"\"<text x=\"{x}\" y=\"{y}\" fill=\"{fill_color}\" text-anchor=\"{align}\" style=\"{style}\">{text}</text>\"\"\".format(x=turtle_pos[0], y=turtle_pos[1], text=text, fill_color=pen_color, align=align, style=style_string)\n",
        "    \n",
        "    _updateDrawing()\n",
        "\n",
        "def shape(shape=None):\n",
        "    global turtle_shape\n",
        "    if shape is None:\n",
        "        return turtle_shape\n",
        "    elif shape not in VALID_TURTLE_SHAPES:\n",
        "        raise ValueError('shape is invalid. valid options are: ' + str(VALID_TURTLE_SHAPES))\n",
        "    \n",
        "    turtle_shape = shape\n",
        "    _updateDrawing()\n",
        "\n",
        "# return turtle window width\n",
        "def window_width():\n",
        "    return window_size[0]\n",
        "\n",
        "# return turtle window height\n",
        "def window_height():\n",
        "    return window_size[1]\n",
        "\n",
        "\n",
        "### STARTING USABLE FUNCTIONS\n",
        "class TurtleError(Exception):\n",
        "    \"\"\"Base class for other exceptions\"\"\"\n",
        "    pass\n",
        "\n",
        "class NoPearlFoundError(TurtleError):\n",
        "    '''raise this when the turtle tries to pick up a pearl and there's no pearl in that spot'''\n",
        "    pass\n",
        "\n",
        "class YouTriedToMoveThroughAWallError(TurtleError):\n",
        "    '''raise this when the turtle tries to move through a wall'''\n",
        "    pass\n",
        "\n",
        "def go_forward():\n",
        "  if front_is_clear():\n",
        "    forward(100)\n",
        "  else:\n",
        "    raise YouTriedToMoveThroughAWallError\n",
        "\n",
        "def turn_left():\n",
        "  left(90)\n",
        "\n",
        "def front_is_clear():\n",
        "  heading_convert = {0:(1,0), 90:(0,1), 180:(-1,0), 270:(0,-1), -90:(0,-1), -180:(-1,0), -270:(0,1)}\n",
        "  board_pos = tuple([p/50 for p in position()])\n",
        "  heading_coords = heading_convert[heading()]\n",
        "  return GAME_BOARD[int(board_pos[0]+heading_coords[0])][int(board_pos[1]+heading_coords[1])]!=-1\n",
        "\n",
        "def put_pearl():\n",
        "  global num_pearls_in_bag\n",
        "  GAME_BOARD[int(getx()/50)][int(gety()/50)]+=1\n",
        "  num_pearls_in_bag-=1\n",
        "  _updateDrawing()\n",
        "\n",
        "def is_pearl():\n",
        "  return GAME_BOARD [int(getx()/50)][int(gety()/50)]!=0\n",
        "\n",
        "def pick_pearl():\n",
        "  global num_pearls_in_bag\n",
        "  if not is_pearl():\n",
        "    raise NoPearlFoundError\n",
        "  GAME_BOARD[int(getx()/50)][int(gety()/50)]=max(0, GAME_BOARD[int(getx()/50)][int(gety()/50)]-1)\n",
        "  num_pearls_in_bag+=1\n",
        "  _updateDrawing()\n",
        "\n",
        "def pearls_in_bag():\n",
        "  global num_pearls_in_bag\n",
        "  return num_pearls_in_bag>0\n",
        "\n",
        "print(\"You successfully ran this cell!\")"
      ],
      "execution_count": null,
      "outputs": [
        {
          "output_type": "stream",
          "name": "stdout",
          "text": [
            "You successfully ran this cell!\n"
          ]
        }
      ]
    },
    {
      "cell_type": "markdown",
      "metadata": {
        "id": "jll4H2Qjtn6P"
      },
      "source": [
        "<font color=DarkOrange><h3><b> Congrats! You just ran your first code cell.</b></h3></font>"
      ]
    },
    {
      "cell_type": "markdown",
      "metadata": {
        "id": "xfqvS1MHbltx"
      },
      "source": [
        "#**🍊 Section 1: Intro to Turtle**\n",
        "\n",
        "To learn and practice python (the programming language we'll be using), we're going to be working with a turtle! By giving the turtle a set of commands, you can direct it to perform certain tasks within its world. The process of specifying those commands is called *programming*. Initially, the turtle will only understand a few  commands, but you'll be teaching the turtle new commands that extend its capabilities.\n",
        "\n"
      ]
    },
    {
      "cell_type": "markdown",
      "metadata": {
        "id": "jK39PTyMvgrP"
      },
      "source": [
        "## 🔶 **The Turtle's World**\n",
        "\n",
        "The turtle's world is defined by rows running horizontally and columns running vertically. The intersection of a row and a column is called a corner. The turtle can only be positioned on corners and must be facing one of the four standard compass directions (north, south, east, west). "
      ]
    },
    {
      "cell_type": "markdown",
      "metadata": {
        "id": "p7DeVSCv5qOs"
      },
      "source": [
        "A sample turtle world is shown below. Here the turtle is located at the corner of 1st row and 1st column, facing east.\n",
        "\n",
        "<center>\n",
        "<img src=\"https://drive.google.com/uc?export=view&id=1QO3U63tvd9jqgZONhWBGNpHYG-U5PfaJ\" \n",
        "     width=\"600\" \n",
        "     height=\"auto\" /></center>\n",
        "\n",
        "The turtle's world can also have walls in it that the turtle can't pass through. The edges of the world in every turtle world are walls, but there can also be walls in other spots. Here's an example of a turtle world with more walls.\n",
        "\n",
        "<center>\n",
        "<img src=\"https://drive.google.com/uc?export=view&id=1yxlMkQ1esCRArSE-UTO0TPI26qHfMw12\" \n",
        "     width=\"600\" \n",
        "     height=\"auto\" /></center>\n"
      ]
    },
    {
      "cell_type": "markdown",
      "metadata": {
        "id": "Yq3MjGdc6mPI"
      },
      "source": [
        "Using the `initializeTurtle()` command will create the turtle's world and show it to you. There are a couple of pre-defined worlds that the turtle can be in:\n",
        "* \"default\"\n",
        "* \"castle\"\n",
        "* \"maze\"\n",
        "* \"box\"\n",
        "* \"tiny\"\n",
        "* \"small\""
      ]
    },
    {
      "cell_type": "code",
      "metadata": {
        "id": "_e91jYBpJNc6",
        "colab": {
          "base_uri": "https://localhost:8080/",
          "height": 521
        },
        "outputId": "b66062ab-2079-477b-d222-fc5a9a5f1867"
      },
      "source": [
        "initializeTurtle(map=\"maze\")"
      ],
      "execution_count": null,
      "outputs": [
        {
          "output_type": "display_data",
          "data": {
            "text/plain": [
              "<IPython.core.display.HTML object>"
            ],
            "text/html": [
              "\n",
              "      <svg width=\"700\" height=\"500\">\n",
              "        <rect width=\"100%\" height=\"100%\" fill=\"LightBlue\"/>\n",
              "        <line x1=\"3\" y1=\"3\" x2=\"3\" y2=\"497\" stroke-linecap=\"round\" style=\"stroke:blue;stroke-width:5\"/><line x1=\"3\" y1=\"497\" x2=\"697\" y2=\"497\" stroke-linecap=\"round\" style=\"stroke:blue;stroke-width:5\"/><line x1=\"697\" y1=\"497\" x2=\"697\" y2=\"3\" stroke-linecap=\"round\" style=\"stroke:blue;stroke-width:5\"/><line x1=\"697\" y1=\"3\" x2=\"3\" y2=\"3\" stroke-linecap=\"round\" style=\"stroke:blue;stroke-width:5\"/><line x1=\"100\" y1=\"0\" x2=\"100\" y2=\"400\" stroke-linecap=\"round\" style=\"stroke:blue;stroke-width:5\"/><line x1=\"200\" y1=\"100\" x2=\"200\" y2=\"500\" stroke-linecap=\"round\" style=\"stroke:blue;stroke-width:5\"/><line x1=\"300\" y1=\"0\" x2=\"300\" y2=\"400\" stroke-linecap=\"round\" style=\"stroke:blue;stroke-width:5\"/><line x1=\"400\" y1=\"100\" x2=\"400\" y2=\"500\" stroke-linecap=\"round\" style=\"stroke:blue;stroke-width:5\"/><line x1=\"500\" y1=\"0\" x2=\"500\" y2=\"400\" stroke-linecap=\"round\" style=\"stroke:blue;stroke-width:5\"/><line x1=\"600\" y1=\"100\" x2=\"600\" y2=\"500\" stroke-linecap=\"round\" style=\"stroke:blue;stroke-width:5\"/><line x1=\"44\" y1=\"44\" x2=\"56\" y2=\"56\" stroke-linecap=\"round\" style=\"stroke:black;stroke-width:2\"/><line x1=\"44\" y1=\"56\" x2=\"56\" y2=\"44\" stroke-linecap=\"round\" style=\"stroke:black;stroke-width:2\"/><line x1=\"44\" y1=\"144\" x2=\"56\" y2=\"156\" stroke-linecap=\"round\" style=\"stroke:black;stroke-width:2\"/><line x1=\"44\" y1=\"156\" x2=\"56\" y2=\"144\" stroke-linecap=\"round\" style=\"stroke:black;stroke-width:2\"/><line x1=\"44\" y1=\"244\" x2=\"56\" y2=\"256\" stroke-linecap=\"round\" style=\"stroke:black;stroke-width:2\"/><line x1=\"44\" y1=\"256\" x2=\"56\" y2=\"244\" stroke-linecap=\"round\" style=\"stroke:black;stroke-width:2\"/><line x1=\"44\" y1=\"344\" x2=\"56\" y2=\"356\" stroke-linecap=\"round\" style=\"stroke:black;stroke-width:2\"/><line x1=\"44\" y1=\"356\" x2=\"56\" y2=\"344\" stroke-linecap=\"round\" style=\"stroke:black;stroke-width:2\"/><line x1=\"44\" y1=\"444\" x2=\"56\" y2=\"456\" stroke-linecap=\"round\" style=\"stroke:black;stroke-width:2\"/><line x1=\"44\" y1=\"456\" x2=\"56\" y2=\"444\" stroke-linecap=\"round\" style=\"stroke:black;stroke-width:2\"/><line x1=\"144\" y1=\"44\" x2=\"156\" y2=\"56\" stroke-linecap=\"round\" style=\"stroke:black;stroke-width:2\"/><line x1=\"144\" y1=\"56\" x2=\"156\" y2=\"44\" stroke-linecap=\"round\" style=\"stroke:black;stroke-width:2\"/><line x1=\"144\" y1=\"144\" x2=\"156\" y2=\"156\" stroke-linecap=\"round\" style=\"stroke:black;stroke-width:2\"/><line x1=\"144\" y1=\"156\" x2=\"156\" y2=\"144\" stroke-linecap=\"round\" style=\"stroke:black;stroke-width:2\"/><line x1=\"144\" y1=\"244\" x2=\"156\" y2=\"256\" stroke-linecap=\"round\" style=\"stroke:black;stroke-width:2\"/><line x1=\"144\" y1=\"256\" x2=\"156\" y2=\"244\" stroke-linecap=\"round\" style=\"stroke:black;stroke-width:2\"/><line x1=\"144\" y1=\"344\" x2=\"156\" y2=\"356\" stroke-linecap=\"round\" style=\"stroke:black;stroke-width:2\"/><line x1=\"144\" y1=\"356\" x2=\"156\" y2=\"344\" stroke-linecap=\"round\" style=\"stroke:black;stroke-width:2\"/><line x1=\"144\" y1=\"444\" x2=\"156\" y2=\"456\" stroke-linecap=\"round\" style=\"stroke:black;stroke-width:2\"/><line x1=\"144\" y1=\"456\" x2=\"156\" y2=\"444\" stroke-linecap=\"round\" style=\"stroke:black;stroke-width:2\"/><line x1=\"244\" y1=\"44\" x2=\"256\" y2=\"56\" stroke-linecap=\"round\" style=\"stroke:black;stroke-width:2\"/><line x1=\"244\" y1=\"56\" x2=\"256\" y2=\"44\" stroke-linecap=\"round\" style=\"stroke:black;stroke-width:2\"/><line x1=\"244\" y1=\"144\" x2=\"256\" y2=\"156\" stroke-linecap=\"round\" style=\"stroke:black;stroke-width:2\"/><line x1=\"244\" y1=\"156\" x2=\"256\" y2=\"144\" stroke-linecap=\"round\" style=\"stroke:black;stroke-width:2\"/><line x1=\"244\" y1=\"244\" x2=\"256\" y2=\"256\" stroke-linecap=\"round\" style=\"stroke:black;stroke-width:2\"/><line x1=\"244\" y1=\"256\" x2=\"256\" y2=\"244\" stroke-linecap=\"round\" style=\"stroke:black;stroke-width:2\"/><line x1=\"244\" y1=\"344\" x2=\"256\" y2=\"356\" stroke-linecap=\"round\" style=\"stroke:black;stroke-width:2\"/><line x1=\"244\" y1=\"356\" x2=\"256\" y2=\"344\" stroke-linecap=\"round\" style=\"stroke:black;stroke-width:2\"/><line x1=\"244\" y1=\"444\" x2=\"256\" y2=\"456\" stroke-linecap=\"round\" style=\"stroke:black;stroke-width:2\"/><line x1=\"244\" y1=\"456\" x2=\"256\" y2=\"444\" stroke-linecap=\"round\" style=\"stroke:black;stroke-width:2\"/><line x1=\"344\" y1=\"44\" x2=\"356\" y2=\"56\" stroke-linecap=\"round\" style=\"stroke:black;stroke-width:2\"/><line x1=\"344\" y1=\"56\" x2=\"356\" y2=\"44\" stroke-linecap=\"round\" style=\"stroke:black;stroke-width:2\"/><line x1=\"344\" y1=\"144\" x2=\"356\" y2=\"156\" stroke-linecap=\"round\" style=\"stroke:black;stroke-width:2\"/><line x1=\"344\" y1=\"156\" x2=\"356\" y2=\"144\" stroke-linecap=\"round\" style=\"stroke:black;stroke-width:2\"/><line x1=\"344\" y1=\"244\" x2=\"356\" y2=\"256\" stroke-linecap=\"round\" style=\"stroke:black;stroke-width:2\"/><line x1=\"344\" y1=\"256\" x2=\"356\" y2=\"244\" stroke-linecap=\"round\" style=\"stroke:black;stroke-width:2\"/><line x1=\"344\" y1=\"344\" x2=\"356\" y2=\"356\" stroke-linecap=\"round\" style=\"stroke:black;stroke-width:2\"/><line x1=\"344\" y1=\"356\" x2=\"356\" y2=\"344\" stroke-linecap=\"round\" style=\"stroke:black;stroke-width:2\"/><line x1=\"344\" y1=\"444\" x2=\"356\" y2=\"456\" stroke-linecap=\"round\" style=\"stroke:black;stroke-width:2\"/><line x1=\"344\" y1=\"456\" x2=\"356\" y2=\"444\" stroke-linecap=\"round\" style=\"stroke:black;stroke-width:2\"/><line x1=\"444\" y1=\"44\" x2=\"456\" y2=\"56\" stroke-linecap=\"round\" style=\"stroke:black;stroke-width:2\"/><line x1=\"444\" y1=\"56\" x2=\"456\" y2=\"44\" stroke-linecap=\"round\" style=\"stroke:black;stroke-width:2\"/><line x1=\"444\" y1=\"144\" x2=\"456\" y2=\"156\" stroke-linecap=\"round\" style=\"stroke:black;stroke-width:2\"/><line x1=\"444\" y1=\"156\" x2=\"456\" y2=\"144\" stroke-linecap=\"round\" style=\"stroke:black;stroke-width:2\"/><line x1=\"444\" y1=\"244\" x2=\"456\" y2=\"256\" stroke-linecap=\"round\" style=\"stroke:black;stroke-width:2\"/><line x1=\"444\" y1=\"256\" x2=\"456\" y2=\"244\" stroke-linecap=\"round\" style=\"stroke:black;stroke-width:2\"/><line x1=\"444\" y1=\"344\" x2=\"456\" y2=\"356\" stroke-linecap=\"round\" style=\"stroke:black;stroke-width:2\"/><line x1=\"444\" y1=\"356\" x2=\"456\" y2=\"344\" stroke-linecap=\"round\" style=\"stroke:black;stroke-width:2\"/><line x1=\"444\" y1=\"444\" x2=\"456\" y2=\"456\" stroke-linecap=\"round\" style=\"stroke:black;stroke-width:2\"/><line x1=\"444\" y1=\"456\" x2=\"456\" y2=\"444\" stroke-linecap=\"round\" style=\"stroke:black;stroke-width:2\"/><line x1=\"544\" y1=\"44\" x2=\"556\" y2=\"56\" stroke-linecap=\"round\" style=\"stroke:black;stroke-width:2\"/><line x1=\"544\" y1=\"56\" x2=\"556\" y2=\"44\" stroke-linecap=\"round\" style=\"stroke:black;stroke-width:2\"/><line x1=\"544\" y1=\"144\" x2=\"556\" y2=\"156\" stroke-linecap=\"round\" style=\"stroke:black;stroke-width:2\"/><line x1=\"544\" y1=\"156\" x2=\"556\" y2=\"144\" stroke-linecap=\"round\" style=\"stroke:black;stroke-width:2\"/><line x1=\"544\" y1=\"244\" x2=\"556\" y2=\"256\" stroke-linecap=\"round\" style=\"stroke:black;stroke-width:2\"/><line x1=\"544\" y1=\"256\" x2=\"556\" y2=\"244\" stroke-linecap=\"round\" style=\"stroke:black;stroke-width:2\"/><line x1=\"544\" y1=\"344\" x2=\"556\" y2=\"356\" stroke-linecap=\"round\" style=\"stroke:black;stroke-width:2\"/><line x1=\"544\" y1=\"356\" x2=\"556\" y2=\"344\" stroke-linecap=\"round\" style=\"stroke:black;stroke-width:2\"/><line x1=\"544\" y1=\"444\" x2=\"556\" y2=\"456\" stroke-linecap=\"round\" style=\"stroke:black;stroke-width:2\"/><line x1=\"544\" y1=\"456\" x2=\"556\" y2=\"444\" stroke-linecap=\"round\" style=\"stroke:black;stroke-width:2\"/><line x1=\"644\" y1=\"44\" x2=\"656\" y2=\"56\" stroke-linecap=\"round\" style=\"stroke:black;stroke-width:2\"/><line x1=\"644\" y1=\"56\" x2=\"656\" y2=\"44\" stroke-linecap=\"round\" style=\"stroke:black;stroke-width:2\"/><line x1=\"644\" y1=\"144\" x2=\"656\" y2=\"156\" stroke-linecap=\"round\" style=\"stroke:black;stroke-width:2\"/><line x1=\"644\" y1=\"156\" x2=\"656\" y2=\"144\" stroke-linecap=\"round\" style=\"stroke:black;stroke-width:2\"/><line x1=\"644\" y1=\"244\" x2=\"656\" y2=\"256\" stroke-linecap=\"round\" style=\"stroke:black;stroke-width:2\"/><line x1=\"644\" y1=\"256\" x2=\"656\" y2=\"244\" stroke-linecap=\"round\" style=\"stroke:black;stroke-width:2\"/><line x1=\"644\" y1=\"344\" x2=\"656\" y2=\"356\" stroke-linecap=\"round\" style=\"stroke:black;stroke-width:2\"/><line x1=\"644\" y1=\"356\" x2=\"656\" y2=\"344\" stroke-linecap=\"round\" style=\"stroke:black;stroke-width:2\"/><line x1=\"644\" y1=\"444\" x2=\"656\" y2=\"456\" stroke-linecap=\"round\" style=\"stroke:black;stroke-width:2\"/><line x1=\"644\" y1=\"456\" x2=\"656\" y2=\"444\" stroke-linecap=\"round\" style=\"stroke:black;stroke-width:2\"/>\n",
              "        \n",
              "        <g visibility=visible transform=\"rotate(90,50,50) translate(19.400000000000002, 19.400000000000002)\">\n",
              "<path style=\" stroke:none;fill-rule:evenodd;fill:green;fill-opacity:1;\" d=\"M 30.965234799999998 1.0757804 C 27.3859375 3.0613276999999997 25.519922299999998 6.9261723 25.626172299999997 12.1257804 L 25.6460946 13.0089848 L 25.1347652 12.7433598 C 22.910155399999997 11.6011723 20.3269527 11.3421875 17.690625 12.0128902 C 14.396875 12.8363277 11.0765625 15.565624999999999 7.4707026999999995 20.3867196 C 5.20625 23.421484799999998 4.5554696 24.882422299999998 5.1730472999999995 25.546484799999998 L 5.365625 25.758984799999997 L 5.9832027000000005 25.758984799999997 C 7.2050776999999995 25.758984799999997 8.2078125 25.3074223 13.91875 22.1664054 C 15.9574223 21.0441402 17.6308598 20.1277348 17.6441402 20.1277348 C 17.657422299999997 20.1277348 17.6042973 20.2804696 17.5179696 20.4597652 C 16.7144527 22.259375 15.738280399999999 25.194530399999998 15.246875 27.3328125 C 13.4539054 35.108984799999995 14.6492196 41.703125 18.819530399999998 47.0222652 C 19.2976554 47.6265625 19.3175777 47.453905400000004 18.6535152 48.250780400000004 C 15.1738277 52.434374999999996 13.5070304 56.578125 14.005077700000001 59.81875 C 14.0914054 60.396484799999996 14.078125 60.389844599999996 15.1605473 60.389844599999996 C 18.6003902 60.389844599999996 22.226172299999998 58.1519527 25.7324223 53.86875 C 26.1109375 53.4105473 26.0578125 53.4238277 26.45625 53.6761723 C 27.6980473 54.4730473 30.639844599999996 56.0402348 30.898827700000002 56.0402348 C 31.171094599999996 56.0402348 33.9003902 54.758594599999995 35.4078125 53.921875 C 35.693359799999996 53.762499999999996 35.9324223 53.642969599999994 35.9324223 53.6496098 C 36.0453125 53.828905400000004 37.227344599999995 55.1039054 37.7785152 55.6417973 C 40.5210946 58.3113277 43.45625 59.7257804 46.8894527 60.0113277 C 47.440625 60.0578125 47.49375 60.0246098 47.6132804 59.473437499999996 C 48.250780400000004 56.5117196 46.9625 52.5738277 43.9675777 48.3238277 L 43.4230473 47.546875 L 43.6886723 47.2347652 C 49.2070304 40.733594599999996 49.5257804 31.788672299999998 44.6382804 20.346875 L 44.5519527 20.134375 L 47.5070304 21.5953125 C 53.603125 24.6101554 54.9378902 25.1613277 56.153124999999996 25.1613277 C 57.7601554 25.1613277 57.428125 23.693749999999998 55.2035152 20.898047299999998 C 48.4832027 12.5042973 43.1707027 10.073827699999999 37.2671875 12.7035152 L 36.6496098 12.9824223 L 36.6828125 12.8230473 C 36.888672299999996 11.8867196 36.9949223 9.7617196 36.888672299999996 8.778905400000001 C 36.5433598 5.6046875 35.1289054 3.3402348 32.3066402 1.4542973000000001 C 31.4167973 0.8566402 31.3769527 0.85 30.965234799999998 1.0757804\"/>\n",
              "</g>\n",
              "      </svg>\n",
              "    "
            ]
          },
          "metadata": {}
        }
      ]
    },
    {
      "cell_type": "markdown",
      "metadata": {
        "id": "UPEwSIYrvgJx"
      },
      "source": [
        "##🔶 **Moving the turtle**\n",
        "To start, our turtle is very limited in what it can do -- it can only . . .\n",
        "\n",
        "1. Move forward using:\n",
        "```\n",
        "go_forward()\n",
        "```\n",
        "2. Turn left using:\n",
        "```\n",
        "turn_left()\n",
        "```"
      ]
    },
    {
      "cell_type": "code",
      "metadata": {
        "id": "eLunIpMuUs3U",
        "colab": {
          "base_uri": "https://localhost:8080/",
          "height": 221
        },
        "outputId": "bfae2ad5-2ad5-468b-b5f6-31ba226492e7"
      },
      "source": [
        "initializeTurtle(map=\"tiny\")\n",
        "go_forward()\n",
        "turn_left()\n",
        "turn_left()\n",
        "go_forward()"
      ],
      "execution_count": null,
      "outputs": [
        {
          "output_type": "display_data",
          "data": {
            "text/plain": [
              "<IPython.core.display.HTML object>"
            ],
            "text/html": [
              "\n",
              "      <svg width=\"200\" height=\"200\">\n",
              "        <rect width=\"100%\" height=\"100%\" fill=\"LightBlue\"/>\n",
              "        <line x1=\"3\" y1=\"3\" x2=\"3\" y2=\"197\" stroke-linecap=\"round\" style=\"stroke:blue;stroke-width:5\"/><line x1=\"3\" y1=\"197\" x2=\"197\" y2=\"197\" stroke-linecap=\"round\" style=\"stroke:blue;stroke-width:5\"/><line x1=\"197\" y1=\"197\" x2=\"197\" y2=\"3\" stroke-linecap=\"round\" style=\"stroke:blue;stroke-width:5\"/><line x1=\"197\" y1=\"3\" x2=\"3\" y2=\"3\" stroke-linecap=\"round\" style=\"stroke:blue;stroke-width:5\"/><line x1=\"44\" y1=\"44\" x2=\"56\" y2=\"56\" stroke-linecap=\"round\" style=\"stroke:black;stroke-width:2\"/><line x1=\"44\" y1=\"56\" x2=\"56\" y2=\"44\" stroke-linecap=\"round\" style=\"stroke:black;stroke-width:2\"/><line x1=\"44\" y1=\"144\" x2=\"56\" y2=\"156\" stroke-linecap=\"round\" style=\"stroke:black;stroke-width:2\"/><line x1=\"44\" y1=\"156\" x2=\"56\" y2=\"144\" stroke-linecap=\"round\" style=\"stroke:black;stroke-width:2\"/><line x1=\"144\" y1=\"44\" x2=\"156\" y2=\"56\" stroke-linecap=\"round\" style=\"stroke:black;stroke-width:2\"/><line x1=\"144\" y1=\"56\" x2=\"156\" y2=\"44\" stroke-linecap=\"round\" style=\"stroke:black;stroke-width:2\"/><line x1=\"144\" y1=\"144\" x2=\"156\" y2=\"156\" stroke-linecap=\"round\" style=\"stroke:black;stroke-width:2\"/><line x1=\"144\" y1=\"156\" x2=\"156\" y2=\"144\" stroke-linecap=\"round\" style=\"stroke:black;stroke-width:2\"/>\n",
              "        \n",
              "        <g visibility=visible transform=\"rotate(270,50.0,150.0) translate(19.400000000000002, 119.4)\">\n",
              "<path style=\" stroke:none;fill-rule:evenodd;fill:green;fill-opacity:1;\" d=\"M 30.965234799999998 1.0757804 C 27.3859375 3.0613276999999997 25.519922299999998 6.9261723 25.626172299999997 12.1257804 L 25.6460946 13.0089848 L 25.1347652 12.7433598 C 22.910155399999997 11.6011723 20.3269527 11.3421875 17.690625 12.0128902 C 14.396875 12.8363277 11.0765625 15.565624999999999 7.4707026999999995 20.3867196 C 5.20625 23.421484799999998 4.5554696 24.882422299999998 5.1730472999999995 25.546484799999998 L 5.365625 25.758984799999997 L 5.9832027000000005 25.758984799999997 C 7.2050776999999995 25.758984799999997 8.2078125 25.3074223 13.91875 22.1664054 C 15.9574223 21.0441402 17.6308598 20.1277348 17.6441402 20.1277348 C 17.657422299999997 20.1277348 17.6042973 20.2804696 17.5179696 20.4597652 C 16.7144527 22.259375 15.738280399999999 25.194530399999998 15.246875 27.3328125 C 13.4539054 35.108984799999995 14.6492196 41.703125 18.819530399999998 47.0222652 C 19.2976554 47.6265625 19.3175777 47.453905400000004 18.6535152 48.250780400000004 C 15.1738277 52.434374999999996 13.5070304 56.578125 14.005077700000001 59.81875 C 14.0914054 60.396484799999996 14.078125 60.389844599999996 15.1605473 60.389844599999996 C 18.6003902 60.389844599999996 22.226172299999998 58.1519527 25.7324223 53.86875 C 26.1109375 53.4105473 26.0578125 53.4238277 26.45625 53.6761723 C 27.6980473 54.4730473 30.639844599999996 56.0402348 30.898827700000002 56.0402348 C 31.171094599999996 56.0402348 33.9003902 54.758594599999995 35.4078125 53.921875 C 35.693359799999996 53.762499999999996 35.9324223 53.642969599999994 35.9324223 53.6496098 C 36.0453125 53.828905400000004 37.227344599999995 55.1039054 37.7785152 55.6417973 C 40.5210946 58.3113277 43.45625 59.7257804 46.8894527 60.0113277 C 47.440625 60.0578125 47.49375 60.0246098 47.6132804 59.473437499999996 C 48.250780400000004 56.5117196 46.9625 52.5738277 43.9675777 48.3238277 L 43.4230473 47.546875 L 43.6886723 47.2347652 C 49.2070304 40.733594599999996 49.5257804 31.788672299999998 44.6382804 20.346875 L 44.5519527 20.134375 L 47.5070304 21.5953125 C 53.603125 24.6101554 54.9378902 25.1613277 56.153124999999996 25.1613277 C 57.7601554 25.1613277 57.428125 23.693749999999998 55.2035152 20.898047299999998 C 48.4832027 12.5042973 43.1707027 10.073827699999999 37.2671875 12.7035152 L 36.6496098 12.9824223 L 36.6828125 12.8230473 C 36.888672299999996 11.8867196 36.9949223 9.7617196 36.888672299999996 8.778905400000001 C 36.5433598 5.6046875 35.1289054 3.3402348 32.3066402 1.4542973000000001 C 31.4167973 0.8566402 31.3769527 0.85 30.965234799999998 1.0757804\"/>\n",
              "</g>\n",
              "      </svg>\n",
              "    "
            ]
          },
          "metadata": {}
        }
      ]
    },
    {
      "cell_type": "markdown",
      "metadata": {
        "id": "voGS5LrcE7se"
      },
      "source": [
        "###📙 **Coding Exercise:** Move the turtle to a specific position\n",
        "For your first exercise, your goal is to move the turtle to the upper right position (row 1, column 2) on the `\"tiny\"` map and have it face East (to the right). Your ending configuration should look like this:\n",
        "\n",
        "<img src=\"https://drive.google.com/uc?export=view&id=1EJXxnAVLVceVmdkMoJ_l5rxxefdvUHgA\" \n",
        "     width=\"200\" \n",
        "     height=\"auto\" />\n",
        "\n",
        "\n",
        "\n",
        "Remember, the commands you have to work with are:\n",
        "1. Move forwards using:\n",
        "```\n",
        "go_forward()\n",
        "```\n",
        "2. Turn left using:\n",
        "```\n",
        "turn_left()\n",
        "```"
      ]
    },
    {
      "cell_type": "code",
      "metadata": {
        "id": "7WLnZ5lkBHz7",
        "colab": {
          "base_uri": "https://localhost:8080/",
          "height": 221
        },
        "outputId": "a4e8ede3-7336-4d7f-87c0-12379e224d42"
      },
      "source": [
        "initializeTurtle(map=\"tiny\")\n",
        "# YOUR CODE HERE: put your code to move the turtle below\n",
        "go_forward()\n",
        "turn_left()\n",
        "go_forward()\n",
        "turn_left()\n",
        "turn_left()\n",
        "turn_left()\n",
        "\n"
      ],
      "execution_count": null,
      "outputs": [
        {
          "output_type": "display_data",
          "data": {
            "text/plain": [
              "<IPython.core.display.HTML object>"
            ],
            "text/html": [
              "\n",
              "      <svg width=\"200\" height=\"200\">\n",
              "        <rect width=\"100%\" height=\"100%\" fill=\"LightBlue\"/>\n",
              "        <line x1=\"3\" y1=\"3\" x2=\"3\" y2=\"197\" stroke-linecap=\"round\" style=\"stroke:blue;stroke-width:5\"/><line x1=\"3\" y1=\"197\" x2=\"197\" y2=\"197\" stroke-linecap=\"round\" style=\"stroke:blue;stroke-width:5\"/><line x1=\"197\" y1=\"197\" x2=\"197\" y2=\"3\" stroke-linecap=\"round\" style=\"stroke:blue;stroke-width:5\"/><line x1=\"197\" y1=\"3\" x2=\"3\" y2=\"3\" stroke-linecap=\"round\" style=\"stroke:blue;stroke-width:5\"/><line x1=\"44\" y1=\"44\" x2=\"56\" y2=\"56\" stroke-linecap=\"round\" style=\"stroke:black;stroke-width:2\"/><line x1=\"44\" y1=\"56\" x2=\"56\" y2=\"44\" stroke-linecap=\"round\" style=\"stroke:black;stroke-width:2\"/><line x1=\"44\" y1=\"144\" x2=\"56\" y2=\"156\" stroke-linecap=\"round\" style=\"stroke:black;stroke-width:2\"/><line x1=\"44\" y1=\"156\" x2=\"56\" y2=\"144\" stroke-linecap=\"round\" style=\"stroke:black;stroke-width:2\"/><line x1=\"144\" y1=\"44\" x2=\"156\" y2=\"56\" stroke-linecap=\"round\" style=\"stroke:black;stroke-width:2\"/><line x1=\"144\" y1=\"56\" x2=\"156\" y2=\"44\" stroke-linecap=\"round\" style=\"stroke:black;stroke-width:2\"/><line x1=\"144\" y1=\"144\" x2=\"156\" y2=\"156\" stroke-linecap=\"round\" style=\"stroke:black;stroke-width:2\"/><line x1=\"144\" y1=\"156\" x2=\"156\" y2=\"144\" stroke-linecap=\"round\" style=\"stroke:black;stroke-width:2\"/>\n",
              "        \n",
              "        <g visibility=visible transform=\"rotate(90,150.0,50.0) translate(119.4, 19.400000000000002)\">\n",
              "<path style=\" stroke:none;fill-rule:evenodd;fill:green;fill-opacity:1;\" d=\"M 30.965234799999998 1.0757804 C 27.3859375 3.0613276999999997 25.519922299999998 6.9261723 25.626172299999997 12.1257804 L 25.6460946 13.0089848 L 25.1347652 12.7433598 C 22.910155399999997 11.6011723 20.3269527 11.3421875 17.690625 12.0128902 C 14.396875 12.8363277 11.0765625 15.565624999999999 7.4707026999999995 20.3867196 C 5.20625 23.421484799999998 4.5554696 24.882422299999998 5.1730472999999995 25.546484799999998 L 5.365625 25.758984799999997 L 5.9832027000000005 25.758984799999997 C 7.2050776999999995 25.758984799999997 8.2078125 25.3074223 13.91875 22.1664054 C 15.9574223 21.0441402 17.6308598 20.1277348 17.6441402 20.1277348 C 17.657422299999997 20.1277348 17.6042973 20.2804696 17.5179696 20.4597652 C 16.7144527 22.259375 15.738280399999999 25.194530399999998 15.246875 27.3328125 C 13.4539054 35.108984799999995 14.6492196 41.703125 18.819530399999998 47.0222652 C 19.2976554 47.6265625 19.3175777 47.453905400000004 18.6535152 48.250780400000004 C 15.1738277 52.434374999999996 13.5070304 56.578125 14.005077700000001 59.81875 C 14.0914054 60.396484799999996 14.078125 60.389844599999996 15.1605473 60.389844599999996 C 18.6003902 60.389844599999996 22.226172299999998 58.1519527 25.7324223 53.86875 C 26.1109375 53.4105473 26.0578125 53.4238277 26.45625 53.6761723 C 27.6980473 54.4730473 30.639844599999996 56.0402348 30.898827700000002 56.0402348 C 31.171094599999996 56.0402348 33.9003902 54.758594599999995 35.4078125 53.921875 C 35.693359799999996 53.762499999999996 35.9324223 53.642969599999994 35.9324223 53.6496098 C 36.0453125 53.828905400000004 37.227344599999995 55.1039054 37.7785152 55.6417973 C 40.5210946 58.3113277 43.45625 59.7257804 46.8894527 60.0113277 C 47.440625 60.0578125 47.49375 60.0246098 47.6132804 59.473437499999996 C 48.250780400000004 56.5117196 46.9625 52.5738277 43.9675777 48.3238277 L 43.4230473 47.546875 L 43.6886723 47.2347652 C 49.2070304 40.733594599999996 49.5257804 31.788672299999998 44.6382804 20.346875 L 44.5519527 20.134375 L 47.5070304 21.5953125 C 53.603125 24.6101554 54.9378902 25.1613277 56.153124999999996 25.1613277 C 57.7601554 25.1613277 57.428125 23.693749999999998 55.2035152 20.898047299999998 C 48.4832027 12.5042973 43.1707027 10.073827699999999 37.2671875 12.7035152 L 36.6496098 12.9824223 L 36.6828125 12.8230473 C 36.888672299999996 11.8867196 36.9949223 9.7617196 36.888672299999996 8.778905400000001 C 36.5433598 5.6046875 35.1289054 3.3402348 32.3066402 1.4542973000000001 C 31.4167973 0.8566402 31.3769527 0.85 30.965234799999998 1.0757804\"/>\n",
              "</g>\n",
              "      </svg>\n",
              "    "
            ]
          },
          "metadata": {}
        }
      ]
    },
    {
      "cell_type": "markdown",
      "metadata": {
        "id": "f-pjBgIfBRFg"
      },
      "source": [
        "###📙 **Coding Exercise:** Move the turtle **counterclockwise** in a square\n",
        "For the next exercise, your goal is to move the turtle in a square on the `\"tiny\"` map. The turtle should move **counterclockwise** around the map and end at its starting position.\n",
        "\n",
        "Remember, the commands you have to work with are:\n",
        "1. Move forward using:\n",
        "```\n",
        "go_forward()\n",
        "```\n",
        "2. Turn left using:\n",
        "```\n",
        "turn_left()\n",
        "```"
      ]
    },
    {
      "cell_type": "code",
      "metadata": {
        "id": "6ha_qYjwCI6Y",
        "colab": {
          "base_uri": "https://localhost:8080/",
          "height": 221
        },
        "outputId": "16cc780d-c9c9-4e0b-deaf-53328bd94e3e"
      },
      "source": [
        "initializeTurtle(map=\"tiny\")\n",
        "# YOUR CODE HERE: put your code to move the turtle below\n",
        "go_forward()\n",
        "turn_left()\n",
        "go_forward()\n",
        "turn_left()\n",
        "go_forward()\n",
        "turn_left()\n",
        "go_forward()\n",
        "turn_left()\n",
        "\n"
      ],
      "execution_count": null,
      "outputs": [
        {
          "output_type": "display_data",
          "data": {
            "text/plain": [
              "<IPython.core.display.HTML object>"
            ],
            "text/html": [
              "\n",
              "      <svg width=\"200\" height=\"200\">\n",
              "        <rect width=\"100%\" height=\"100%\" fill=\"LightBlue\"/>\n",
              "        <line x1=\"3\" y1=\"3\" x2=\"3\" y2=\"197\" stroke-linecap=\"round\" style=\"stroke:blue;stroke-width:5\"/><line x1=\"3\" y1=\"197\" x2=\"197\" y2=\"197\" stroke-linecap=\"round\" style=\"stroke:blue;stroke-width:5\"/><line x1=\"197\" y1=\"197\" x2=\"197\" y2=\"3\" stroke-linecap=\"round\" style=\"stroke:blue;stroke-width:5\"/><line x1=\"197\" y1=\"3\" x2=\"3\" y2=\"3\" stroke-linecap=\"round\" style=\"stroke:blue;stroke-width:5\"/><line x1=\"44\" y1=\"44\" x2=\"56\" y2=\"56\" stroke-linecap=\"round\" style=\"stroke:black;stroke-width:2\"/><line x1=\"44\" y1=\"56\" x2=\"56\" y2=\"44\" stroke-linecap=\"round\" style=\"stroke:black;stroke-width:2\"/><line x1=\"44\" y1=\"144\" x2=\"56\" y2=\"156\" stroke-linecap=\"round\" style=\"stroke:black;stroke-width:2\"/><line x1=\"44\" y1=\"156\" x2=\"56\" y2=\"144\" stroke-linecap=\"round\" style=\"stroke:black;stroke-width:2\"/><line x1=\"144\" y1=\"44\" x2=\"156\" y2=\"56\" stroke-linecap=\"round\" style=\"stroke:black;stroke-width:2\"/><line x1=\"144\" y1=\"56\" x2=\"156\" y2=\"44\" stroke-linecap=\"round\" style=\"stroke:black;stroke-width:2\"/><line x1=\"144\" y1=\"144\" x2=\"156\" y2=\"156\" stroke-linecap=\"round\" style=\"stroke:black;stroke-width:2\"/><line x1=\"144\" y1=\"156\" x2=\"156\" y2=\"144\" stroke-linecap=\"round\" style=\"stroke:black;stroke-width:2\"/>\n",
              "        \n",
              "        <g visibility=visible transform=\"rotate(90,50.0,150.0) translate(19.400000000000002, 119.4)\">\n",
              "<path style=\" stroke:none;fill-rule:evenodd;fill:green;fill-opacity:1;\" d=\"M 30.965234799999998 1.0757804 C 27.3859375 3.0613276999999997 25.519922299999998 6.9261723 25.626172299999997 12.1257804 L 25.6460946 13.0089848 L 25.1347652 12.7433598 C 22.910155399999997 11.6011723 20.3269527 11.3421875 17.690625 12.0128902 C 14.396875 12.8363277 11.0765625 15.565624999999999 7.4707026999999995 20.3867196 C 5.20625 23.421484799999998 4.5554696 24.882422299999998 5.1730472999999995 25.546484799999998 L 5.365625 25.758984799999997 L 5.9832027000000005 25.758984799999997 C 7.2050776999999995 25.758984799999997 8.2078125 25.3074223 13.91875 22.1664054 C 15.9574223 21.0441402 17.6308598 20.1277348 17.6441402 20.1277348 C 17.657422299999997 20.1277348 17.6042973 20.2804696 17.5179696 20.4597652 C 16.7144527 22.259375 15.738280399999999 25.194530399999998 15.246875 27.3328125 C 13.4539054 35.108984799999995 14.6492196 41.703125 18.819530399999998 47.0222652 C 19.2976554 47.6265625 19.3175777 47.453905400000004 18.6535152 48.250780400000004 C 15.1738277 52.434374999999996 13.5070304 56.578125 14.005077700000001 59.81875 C 14.0914054 60.396484799999996 14.078125 60.389844599999996 15.1605473 60.389844599999996 C 18.6003902 60.389844599999996 22.226172299999998 58.1519527 25.7324223 53.86875 C 26.1109375 53.4105473 26.0578125 53.4238277 26.45625 53.6761723 C 27.6980473 54.4730473 30.639844599999996 56.0402348 30.898827700000002 56.0402348 C 31.171094599999996 56.0402348 33.9003902 54.758594599999995 35.4078125 53.921875 C 35.693359799999996 53.762499999999996 35.9324223 53.642969599999994 35.9324223 53.6496098 C 36.0453125 53.828905400000004 37.227344599999995 55.1039054 37.7785152 55.6417973 C 40.5210946 58.3113277 43.45625 59.7257804 46.8894527 60.0113277 C 47.440625 60.0578125 47.49375 60.0246098 47.6132804 59.473437499999996 C 48.250780400000004 56.5117196 46.9625 52.5738277 43.9675777 48.3238277 L 43.4230473 47.546875 L 43.6886723 47.2347652 C 49.2070304 40.733594599999996 49.5257804 31.788672299999998 44.6382804 20.346875 L 44.5519527 20.134375 L 47.5070304 21.5953125 C 53.603125 24.6101554 54.9378902 25.1613277 56.153124999999996 25.1613277 C 57.7601554 25.1613277 57.428125 23.693749999999998 55.2035152 20.898047299999998 C 48.4832027 12.5042973 43.1707027 10.073827699999999 37.2671875 12.7035152 L 36.6496098 12.9824223 L 36.6828125 12.8230473 C 36.888672299999996 11.8867196 36.9949223 9.7617196 36.888672299999996 8.778905400000001 C 36.5433598 5.6046875 35.1289054 3.3402348 32.3066402 1.4542973000000001 C 31.4167973 0.8566402 31.3769527 0.85 30.965234799999998 1.0757804\"/>\n",
              "</g>\n",
              "      </svg>\n",
              "    "
            ]
          },
          "metadata": {}
        }
      ]
    },
    {
      "cell_type": "markdown",
      "metadata": {
        "id": "GRx0mE7WK7VB"
      },
      "source": [
        "###📙 **Coding Exercise:** Move the turtle **clockwise** in a square\n",
        "For the next exercise, your goal is to move the turtle in a square on the `\"tiny\"` map. The turtle should move **clockwise** around the map and end at it's starting position.\n",
        "\n",
        "Remember, the commands you have to work with are:\n",
        "1. Move forward using:\n",
        "```\n",
        "go_forward()\n",
        "```\n",
        "2. Turn left using:\n",
        "```\n",
        "turn_left()\n",
        "```"
      ]
    },
    {
      "cell_type": "code",
      "metadata": {
        "id": "J_WF9TQUK7VJ",
        "colab": {
          "base_uri": "https://localhost:8080/",
          "height": 221
        },
        "outputId": "3946616c-34d7-4bbd-f1b3-fb3f639115b2"
      },
      "source": [
        "initializeTurtle(map=\"tiny\")\n",
        "# YOUR CODE HERE: put your code to move the turtle below\n",
        "turn_left()\n",
        "go_forward()\n",
        "turn_left()\n",
        "turn_left()\n",
        "turn_left()\n",
        "go_forward()\n",
        "turn_left()\n",
        "turn_left()\n",
        "turn_left()\n",
        "go_forward()\n",
        "turn_left()\n",
        "turn_left()\n",
        "turn_left()\n",
        "go_forward()\n",
        "turn_left()\n",
        "turn_left()\n",
        "\n",
        "\n",
        "\n"
      ],
      "execution_count": null,
      "outputs": [
        {
          "output_type": "display_data",
          "data": {
            "text/plain": [
              "<IPython.core.display.HTML object>"
            ],
            "text/html": [
              "\n",
              "      <svg width=\"200\" height=\"200\">\n",
              "        <rect width=\"100%\" height=\"100%\" fill=\"LightBlue\"/>\n",
              "        <line x1=\"3\" y1=\"3\" x2=\"3\" y2=\"197\" stroke-linecap=\"round\" style=\"stroke:blue;stroke-width:5\"/><line x1=\"3\" y1=\"197\" x2=\"197\" y2=\"197\" stroke-linecap=\"round\" style=\"stroke:blue;stroke-width:5\"/><line x1=\"197\" y1=\"197\" x2=\"197\" y2=\"3\" stroke-linecap=\"round\" style=\"stroke:blue;stroke-width:5\"/><line x1=\"197\" y1=\"3\" x2=\"3\" y2=\"3\" stroke-linecap=\"round\" style=\"stroke:blue;stroke-width:5\"/><line x1=\"44\" y1=\"44\" x2=\"56\" y2=\"56\" stroke-linecap=\"round\" style=\"stroke:black;stroke-width:2\"/><line x1=\"44\" y1=\"56\" x2=\"56\" y2=\"44\" stroke-linecap=\"round\" style=\"stroke:black;stroke-width:2\"/><line x1=\"44\" y1=\"144\" x2=\"56\" y2=\"156\" stroke-linecap=\"round\" style=\"stroke:black;stroke-width:2\"/><line x1=\"44\" y1=\"156\" x2=\"56\" y2=\"144\" stroke-linecap=\"round\" style=\"stroke:black;stroke-width:2\"/><line x1=\"144\" y1=\"44\" x2=\"156\" y2=\"56\" stroke-linecap=\"round\" style=\"stroke:black;stroke-width:2\"/><line x1=\"144\" y1=\"56\" x2=\"156\" y2=\"44\" stroke-linecap=\"round\" style=\"stroke:black;stroke-width:2\"/><line x1=\"144\" y1=\"144\" x2=\"156\" y2=\"156\" stroke-linecap=\"round\" style=\"stroke:black;stroke-width:2\"/><line x1=\"144\" y1=\"156\" x2=\"156\" y2=\"144\" stroke-linecap=\"round\" style=\"stroke:black;stroke-width:2\"/>\n",
              "        \n",
              "        <g visibility=visible transform=\"rotate(90,50.0,150.0) translate(19.400000000000002, 119.4)\">\n",
              "<path style=\" stroke:none;fill-rule:evenodd;fill:green;fill-opacity:1;\" d=\"M 30.965234799999998 1.0757804 C 27.3859375 3.0613276999999997 25.519922299999998 6.9261723 25.626172299999997 12.1257804 L 25.6460946 13.0089848 L 25.1347652 12.7433598 C 22.910155399999997 11.6011723 20.3269527 11.3421875 17.690625 12.0128902 C 14.396875 12.8363277 11.0765625 15.565624999999999 7.4707026999999995 20.3867196 C 5.20625 23.421484799999998 4.5554696 24.882422299999998 5.1730472999999995 25.546484799999998 L 5.365625 25.758984799999997 L 5.9832027000000005 25.758984799999997 C 7.2050776999999995 25.758984799999997 8.2078125 25.3074223 13.91875 22.1664054 C 15.9574223 21.0441402 17.6308598 20.1277348 17.6441402 20.1277348 C 17.657422299999997 20.1277348 17.6042973 20.2804696 17.5179696 20.4597652 C 16.7144527 22.259375 15.738280399999999 25.194530399999998 15.246875 27.3328125 C 13.4539054 35.108984799999995 14.6492196 41.703125 18.819530399999998 47.0222652 C 19.2976554 47.6265625 19.3175777 47.453905400000004 18.6535152 48.250780400000004 C 15.1738277 52.434374999999996 13.5070304 56.578125 14.005077700000001 59.81875 C 14.0914054 60.396484799999996 14.078125 60.389844599999996 15.1605473 60.389844599999996 C 18.6003902 60.389844599999996 22.226172299999998 58.1519527 25.7324223 53.86875 C 26.1109375 53.4105473 26.0578125 53.4238277 26.45625 53.6761723 C 27.6980473 54.4730473 30.639844599999996 56.0402348 30.898827700000002 56.0402348 C 31.171094599999996 56.0402348 33.9003902 54.758594599999995 35.4078125 53.921875 C 35.693359799999996 53.762499999999996 35.9324223 53.642969599999994 35.9324223 53.6496098 C 36.0453125 53.828905400000004 37.227344599999995 55.1039054 37.7785152 55.6417973 C 40.5210946 58.3113277 43.45625 59.7257804 46.8894527 60.0113277 C 47.440625 60.0578125 47.49375 60.0246098 47.6132804 59.473437499999996 C 48.250780400000004 56.5117196 46.9625 52.5738277 43.9675777 48.3238277 L 43.4230473 47.546875 L 43.6886723 47.2347652 C 49.2070304 40.733594599999996 49.5257804 31.788672299999998 44.6382804 20.346875 L 44.5519527 20.134375 L 47.5070304 21.5953125 C 53.603125 24.6101554 54.9378902 25.1613277 56.153124999999996 25.1613277 C 57.7601554 25.1613277 57.428125 23.693749999999998 55.2035152 20.898047299999998 C 48.4832027 12.5042973 43.1707027 10.073827699999999 37.2671875 12.7035152 L 36.6496098 12.9824223 L 36.6828125 12.8230473 C 36.888672299999996 11.8867196 36.9949223 9.7617196 36.888672299999996 8.778905400000001 C 36.5433598 5.6046875 35.1289054 3.3402348 32.3066402 1.4542973000000001 C 31.4167973 0.8566402 31.3769527 0.85 30.965234799999998 1.0757804\"/>\n",
              "</g>\n",
              "      </svg>\n",
              "    "
            ]
          },
          "metadata": {}
        }
      ]
    },
    {
      "cell_type": "markdown",
      "metadata": {
        "id": "vwj51K1FT-0-"
      },
      "source": [
        "#**🍊 Section 2: Functions**\n",
        "\n",
        "That was a lot of `turn_left()`'s! It would make our life a lot easier if we had a command that could make the turtle turn right. \n",
        "\n",
        "\n"
      ]
    },
    {
      "cell_type": "markdown",
      "metadata": {
        "id": "2sfAixE3UoFg"
      },
      "source": [
        "## 🔶 **Moving right:** Using our two movement commands, how can we make make the turtle go right?\n",
        "If you said that we can put three `turn_left()`'s together like this:\n",
        "```\n",
        "turn_left()\n",
        "turn_left()\n",
        "turn_left()\n",
        "```\n",
        "then you were right! However, this is still annoying to have to type out every single time we want to turn right. How can we use python to get around this?\n",
        "\n",
        "\n",
        "In python, we can use a ***function*** to define an set of actions once, then use that function whenever we need to carry out those actions. You've already been using functions this whole time: both `go_forward()`, `turn_left()`, and `initializeTurtle()` are functions."
      ]
    },
    {
      "cell_type": "markdown",
      "metadata": {
        "id": "R7JkcgqaZHhJ"
      },
      "source": [
        "Let's say we were trying to write some code to move our turtle, and there were multiple points where we wanted to move forwards three spaces. We could write a function for that like the one below. \n",
        "\n",
        "Note that the cell below does not actually move the turtle on its own -- we have to *call* or use the function to actually make the turtle move. The cell below *defines* what will happen *when* we use the `move_three_spaces` function."
      ]
    },
    {
      "cell_type": "code",
      "metadata": {
        "id": "grUQcgKAVdBo"
      },
      "source": [
        "def move_three_spaces():\n",
        "  go_forward()\n",
        "  go_forward()\n",
        "  go_forward()"
      ],
      "execution_count": null,
      "outputs": []
    },
    {
      "cell_type": "markdown",
      "metadata": {
        "id": "0CV_p5HbZnFF"
      },
      "source": [
        "Now when we're writing code for our turtle, we can use the `move_three_spaces` function to move forward three spots like this (*make sure you run the code cell above before you run the one below)*:"
      ]
    },
    {
      "cell_type": "code",
      "metadata": {
        "id": "3o7gyBj3ZyEj",
        "colab": {
          "base_uri": "https://localhost:8080/",
          "height": 421
        },
        "outputId": "4812a8df-7b9f-4046-a76f-a6d824c183c1"
      },
      "source": [
        "initializeTurtle(map=\"small\")\n",
        "move_three_spaces()\n",
        "turn_left()\n",
        "move_three_spaces()"
      ],
      "execution_count": null,
      "outputs": [
        {
          "output_type": "display_data",
          "data": {
            "text/plain": [
              "<IPython.core.display.HTML object>"
            ],
            "text/html": [
              "\n",
              "      <svg width=\"400\" height=\"400\">\n",
              "        <rect width=\"100%\" height=\"100%\" fill=\"LightBlue\"/>\n",
              "        <line x1=\"3\" y1=\"3\" x2=\"3\" y2=\"397\" stroke-linecap=\"round\" style=\"stroke:blue;stroke-width:5\"/><line x1=\"3\" y1=\"397\" x2=\"397\" y2=\"397\" stroke-linecap=\"round\" style=\"stroke:blue;stroke-width:5\"/><line x1=\"397\" y1=\"397\" x2=\"397\" y2=\"3\" stroke-linecap=\"round\" style=\"stroke:blue;stroke-width:5\"/><line x1=\"397\" y1=\"3\" x2=\"3\" y2=\"3\" stroke-linecap=\"round\" style=\"stroke:blue;stroke-width:5\"/><line x1=\"44\" y1=\"44\" x2=\"56\" y2=\"56\" stroke-linecap=\"round\" style=\"stroke:black;stroke-width:2\"/><line x1=\"44\" y1=\"56\" x2=\"56\" y2=\"44\" stroke-linecap=\"round\" style=\"stroke:black;stroke-width:2\"/><line x1=\"44\" y1=\"144\" x2=\"56\" y2=\"156\" stroke-linecap=\"round\" style=\"stroke:black;stroke-width:2\"/><line x1=\"44\" y1=\"156\" x2=\"56\" y2=\"144\" stroke-linecap=\"round\" style=\"stroke:black;stroke-width:2\"/><line x1=\"44\" y1=\"244\" x2=\"56\" y2=\"256\" stroke-linecap=\"round\" style=\"stroke:black;stroke-width:2\"/><line x1=\"44\" y1=\"256\" x2=\"56\" y2=\"244\" stroke-linecap=\"round\" style=\"stroke:black;stroke-width:2\"/><line x1=\"44\" y1=\"344\" x2=\"56\" y2=\"356\" stroke-linecap=\"round\" style=\"stroke:black;stroke-width:2\"/><line x1=\"44\" y1=\"356\" x2=\"56\" y2=\"344\" stroke-linecap=\"round\" style=\"stroke:black;stroke-width:2\"/><line x1=\"144\" y1=\"44\" x2=\"156\" y2=\"56\" stroke-linecap=\"round\" style=\"stroke:black;stroke-width:2\"/><line x1=\"144\" y1=\"56\" x2=\"156\" y2=\"44\" stroke-linecap=\"round\" style=\"stroke:black;stroke-width:2\"/><line x1=\"144\" y1=\"144\" x2=\"156\" y2=\"156\" stroke-linecap=\"round\" style=\"stroke:black;stroke-width:2\"/><line x1=\"144\" y1=\"156\" x2=\"156\" y2=\"144\" stroke-linecap=\"round\" style=\"stroke:black;stroke-width:2\"/><line x1=\"144\" y1=\"244\" x2=\"156\" y2=\"256\" stroke-linecap=\"round\" style=\"stroke:black;stroke-width:2\"/><line x1=\"144\" y1=\"256\" x2=\"156\" y2=\"244\" stroke-linecap=\"round\" style=\"stroke:black;stroke-width:2\"/><line x1=\"144\" y1=\"344\" x2=\"156\" y2=\"356\" stroke-linecap=\"round\" style=\"stroke:black;stroke-width:2\"/><line x1=\"144\" y1=\"356\" x2=\"156\" y2=\"344\" stroke-linecap=\"round\" style=\"stroke:black;stroke-width:2\"/><line x1=\"244\" y1=\"44\" x2=\"256\" y2=\"56\" stroke-linecap=\"round\" style=\"stroke:black;stroke-width:2\"/><line x1=\"244\" y1=\"56\" x2=\"256\" y2=\"44\" stroke-linecap=\"round\" style=\"stroke:black;stroke-width:2\"/><line x1=\"244\" y1=\"144\" x2=\"256\" y2=\"156\" stroke-linecap=\"round\" style=\"stroke:black;stroke-width:2\"/><line x1=\"244\" y1=\"156\" x2=\"256\" y2=\"144\" stroke-linecap=\"round\" style=\"stroke:black;stroke-width:2\"/><line x1=\"244\" y1=\"244\" x2=\"256\" y2=\"256\" stroke-linecap=\"round\" style=\"stroke:black;stroke-width:2\"/><line x1=\"244\" y1=\"256\" x2=\"256\" y2=\"244\" stroke-linecap=\"round\" style=\"stroke:black;stroke-width:2\"/><line x1=\"244\" y1=\"344\" x2=\"256\" y2=\"356\" stroke-linecap=\"round\" style=\"stroke:black;stroke-width:2\"/><line x1=\"244\" y1=\"356\" x2=\"256\" y2=\"344\" stroke-linecap=\"round\" style=\"stroke:black;stroke-width:2\"/><line x1=\"344\" y1=\"44\" x2=\"356\" y2=\"56\" stroke-linecap=\"round\" style=\"stroke:black;stroke-width:2\"/><line x1=\"344\" y1=\"56\" x2=\"356\" y2=\"44\" stroke-linecap=\"round\" style=\"stroke:black;stroke-width:2\"/><line x1=\"344\" y1=\"144\" x2=\"356\" y2=\"156\" stroke-linecap=\"round\" style=\"stroke:black;stroke-width:2\"/><line x1=\"344\" y1=\"156\" x2=\"356\" y2=\"144\" stroke-linecap=\"round\" style=\"stroke:black;stroke-width:2\"/><line x1=\"344\" y1=\"244\" x2=\"356\" y2=\"256\" stroke-linecap=\"round\" style=\"stroke:black;stroke-width:2\"/><line x1=\"344\" y1=\"256\" x2=\"356\" y2=\"244\" stroke-linecap=\"round\" style=\"stroke:black;stroke-width:2\"/><line x1=\"344\" y1=\"344\" x2=\"356\" y2=\"356\" stroke-linecap=\"round\" style=\"stroke:black;stroke-width:2\"/><line x1=\"344\" y1=\"356\" x2=\"356\" y2=\"344\" stroke-linecap=\"round\" style=\"stroke:black;stroke-width:2\"/>\n",
              "        \n",
              "        <g visibility=visible transform=\"rotate(360,350.0,50.0) translate(319.4, 19.400000000000002)\">\n",
              "<path style=\" stroke:none;fill-rule:evenodd;fill:green;fill-opacity:1;\" d=\"M 30.965234799999998 1.0757804 C 27.3859375 3.0613276999999997 25.519922299999998 6.9261723 25.626172299999997 12.1257804 L 25.6460946 13.0089848 L 25.1347652 12.7433598 C 22.910155399999997 11.6011723 20.3269527 11.3421875 17.690625 12.0128902 C 14.396875 12.8363277 11.0765625 15.565624999999999 7.4707026999999995 20.3867196 C 5.20625 23.421484799999998 4.5554696 24.882422299999998 5.1730472999999995 25.546484799999998 L 5.365625 25.758984799999997 L 5.9832027000000005 25.758984799999997 C 7.2050776999999995 25.758984799999997 8.2078125 25.3074223 13.91875 22.1664054 C 15.9574223 21.0441402 17.6308598 20.1277348 17.6441402 20.1277348 C 17.657422299999997 20.1277348 17.6042973 20.2804696 17.5179696 20.4597652 C 16.7144527 22.259375 15.738280399999999 25.194530399999998 15.246875 27.3328125 C 13.4539054 35.108984799999995 14.6492196 41.703125 18.819530399999998 47.0222652 C 19.2976554 47.6265625 19.3175777 47.453905400000004 18.6535152 48.250780400000004 C 15.1738277 52.434374999999996 13.5070304 56.578125 14.005077700000001 59.81875 C 14.0914054 60.396484799999996 14.078125 60.389844599999996 15.1605473 60.389844599999996 C 18.6003902 60.389844599999996 22.226172299999998 58.1519527 25.7324223 53.86875 C 26.1109375 53.4105473 26.0578125 53.4238277 26.45625 53.6761723 C 27.6980473 54.4730473 30.639844599999996 56.0402348 30.898827700000002 56.0402348 C 31.171094599999996 56.0402348 33.9003902 54.758594599999995 35.4078125 53.921875 C 35.693359799999996 53.762499999999996 35.9324223 53.642969599999994 35.9324223 53.6496098 C 36.0453125 53.828905400000004 37.227344599999995 55.1039054 37.7785152 55.6417973 C 40.5210946 58.3113277 43.45625 59.7257804 46.8894527 60.0113277 C 47.440625 60.0578125 47.49375 60.0246098 47.6132804 59.473437499999996 C 48.250780400000004 56.5117196 46.9625 52.5738277 43.9675777 48.3238277 L 43.4230473 47.546875 L 43.6886723 47.2347652 C 49.2070304 40.733594599999996 49.5257804 31.788672299999998 44.6382804 20.346875 L 44.5519527 20.134375 L 47.5070304 21.5953125 C 53.603125 24.6101554 54.9378902 25.1613277 56.153124999999996 25.1613277 C 57.7601554 25.1613277 57.428125 23.693749999999998 55.2035152 20.898047299999998 C 48.4832027 12.5042973 43.1707027 10.073827699999999 37.2671875 12.7035152 L 36.6496098 12.9824223 L 36.6828125 12.8230473 C 36.888672299999996 11.8867196 36.9949223 9.7617196 36.888672299999996 8.778905400000001 C 36.5433598 5.6046875 35.1289054 3.3402348 32.3066402 1.4542973000000001 C 31.4167973 0.8566402 31.3769527 0.85 30.965234799999998 1.0757804\"/>\n",
              "</g>\n",
              "      </svg>\n",
              "    "
            ]
          },
          "metadata": {}
        }
      ]
    },
    {
      "cell_type": "markdown",
      "metadata": {
        "id": "E_x1sXJd5V4a"
      },
      "source": [
        "#### A function has three main parts:\n",
        "* The word `def`, which is a key word that tells python you're creating a function\n",
        "* the name of the function (in this case `move_three_spaces`, but you can put anything really)\n",
        "* The parentheses, which can sometimes take values depending on how you create the function. You'll notice that the `initializeTurtle` function usually has something inside of the parentheses (the map), but this function `move_three_spaces` doesn't."
      ]
    },
    {
      "cell_type": "markdown",
      "metadata": {
        "id": "2L2Ptpidatv4"
      },
      "source": [
        "###📙 **Coding Exercise:** Make a `turn_right` function\n",
        "For this exercise, your goal is to make a `turn_right` function using the turtle commands:\n",
        "```\n",
        "turn_left()\n",
        "```\n",
        "Fill in the code cell below to do this (get rid of the line inside the function that says `pass`)!"
      ]
    },
    {
      "cell_type": "code",
      "metadata": {
        "id": "rubtDaisatv4"
      },
      "source": [
        "def turn_right():\n",
        "  turn_left()\n",
        "  turn_left()\n",
        "  turn_left()\n"
      ],
      "execution_count": null,
      "outputs": []
    },
    {
      "cell_type": "markdown",
      "metadata": {
        "id": "ynyjQCysVdVJ"
      },
      "source": [
        "###📙 **Coding Exercise:** Move the turtle **clockwise** in a square with your `turn_right` function\n",
        "For the next exercise, your goal is to move the turtle in a square on the `\"tiny\"` map. The turtle should move **clockwise** around the map and end at it's starting position. To complete this function, you should make use of the `turn_right` function you coded in the last exercise, as well as `go_forward` and `turn_left` as needed."
      ]
    },
    {
      "cell_type": "code",
      "metadata": {
        "id": "lrMAD__hVdVK",
        "colab": {
          "base_uri": "https://localhost:8080/",
          "height": 221
        },
        "outputId": "071bf986-021a-4781-8ffb-b4416ebfa023"
      },
      "source": [
        "initializeTurtle(map=\"tiny\")\n",
        "# YOUR CODE HERE: put your code to move the turtle below\n",
        "turn_left()\n",
        "for i in range(4):\n",
        "  go_forward()\n",
        "  turn_right()\n",
        "\n",
        "\n"
      ],
      "execution_count": null,
      "outputs": [
        {
          "output_type": "display_data",
          "data": {
            "text/plain": [
              "<IPython.core.display.HTML object>"
            ],
            "text/html": [
              "\n",
              "      <svg width=\"200\" height=\"200\">\n",
              "        <rect width=\"100%\" height=\"100%\" fill=\"LightBlue\"/>\n",
              "        <line x1=\"3\" y1=\"3\" x2=\"3\" y2=\"197\" stroke-linecap=\"round\" style=\"stroke:blue;stroke-width:5\"/><line x1=\"3\" y1=\"197\" x2=\"197\" y2=\"197\" stroke-linecap=\"round\" style=\"stroke:blue;stroke-width:5\"/><line x1=\"197\" y1=\"197\" x2=\"197\" y2=\"3\" stroke-linecap=\"round\" style=\"stroke:blue;stroke-width:5\"/><line x1=\"197\" y1=\"3\" x2=\"3\" y2=\"3\" stroke-linecap=\"round\" style=\"stroke:blue;stroke-width:5\"/><line x1=\"44\" y1=\"44\" x2=\"56\" y2=\"56\" stroke-linecap=\"round\" style=\"stroke:black;stroke-width:2\"/><line x1=\"44\" y1=\"56\" x2=\"56\" y2=\"44\" stroke-linecap=\"round\" style=\"stroke:black;stroke-width:2\"/><line x1=\"44\" y1=\"144\" x2=\"56\" y2=\"156\" stroke-linecap=\"round\" style=\"stroke:black;stroke-width:2\"/><line x1=\"44\" y1=\"156\" x2=\"56\" y2=\"144\" stroke-linecap=\"round\" style=\"stroke:black;stroke-width:2\"/><line x1=\"144\" y1=\"44\" x2=\"156\" y2=\"56\" stroke-linecap=\"round\" style=\"stroke:black;stroke-width:2\"/><line x1=\"144\" y1=\"56\" x2=\"156\" y2=\"44\" stroke-linecap=\"round\" style=\"stroke:black;stroke-width:2\"/><line x1=\"144\" y1=\"144\" x2=\"156\" y2=\"156\" stroke-linecap=\"round\" style=\"stroke:black;stroke-width:2\"/><line x1=\"144\" y1=\"156\" x2=\"156\" y2=\"144\" stroke-linecap=\"round\" style=\"stroke:black;stroke-width:2\"/>\n",
              "        \n",
              "        <g visibility=visible transform=\"rotate(360,50.0,150.0) translate(19.400000000000002, 119.4)\">\n",
              "<path style=\" stroke:none;fill-rule:evenodd;fill:green;fill-opacity:1;\" d=\"M 30.965234799999998 1.0757804 C 27.3859375 3.0613276999999997 25.519922299999998 6.9261723 25.626172299999997 12.1257804 L 25.6460946 13.0089848 L 25.1347652 12.7433598 C 22.910155399999997 11.6011723 20.3269527 11.3421875 17.690625 12.0128902 C 14.396875 12.8363277 11.0765625 15.565624999999999 7.4707026999999995 20.3867196 C 5.20625 23.421484799999998 4.5554696 24.882422299999998 5.1730472999999995 25.546484799999998 L 5.365625 25.758984799999997 L 5.9832027000000005 25.758984799999997 C 7.2050776999999995 25.758984799999997 8.2078125 25.3074223 13.91875 22.1664054 C 15.9574223 21.0441402 17.6308598 20.1277348 17.6441402 20.1277348 C 17.657422299999997 20.1277348 17.6042973 20.2804696 17.5179696 20.4597652 C 16.7144527 22.259375 15.738280399999999 25.194530399999998 15.246875 27.3328125 C 13.4539054 35.108984799999995 14.6492196 41.703125 18.819530399999998 47.0222652 C 19.2976554 47.6265625 19.3175777 47.453905400000004 18.6535152 48.250780400000004 C 15.1738277 52.434374999999996 13.5070304 56.578125 14.005077700000001 59.81875 C 14.0914054 60.396484799999996 14.078125 60.389844599999996 15.1605473 60.389844599999996 C 18.6003902 60.389844599999996 22.226172299999998 58.1519527 25.7324223 53.86875 C 26.1109375 53.4105473 26.0578125 53.4238277 26.45625 53.6761723 C 27.6980473 54.4730473 30.639844599999996 56.0402348 30.898827700000002 56.0402348 C 31.171094599999996 56.0402348 33.9003902 54.758594599999995 35.4078125 53.921875 C 35.693359799999996 53.762499999999996 35.9324223 53.642969599999994 35.9324223 53.6496098 C 36.0453125 53.828905400000004 37.227344599999995 55.1039054 37.7785152 55.6417973 C 40.5210946 58.3113277 43.45625 59.7257804 46.8894527 60.0113277 C 47.440625 60.0578125 47.49375 60.0246098 47.6132804 59.473437499999996 C 48.250780400000004 56.5117196 46.9625 52.5738277 43.9675777 48.3238277 L 43.4230473 47.546875 L 43.6886723 47.2347652 C 49.2070304 40.733594599999996 49.5257804 31.788672299999998 44.6382804 20.346875 L 44.5519527 20.134375 L 47.5070304 21.5953125 C 53.603125 24.6101554 54.9378902 25.1613277 56.153124999999996 25.1613277 C 57.7601554 25.1613277 57.428125 23.693749999999998 55.2035152 20.898047299999998 C 48.4832027 12.5042973 43.1707027 10.073827699999999 37.2671875 12.7035152 L 36.6496098 12.9824223 L 36.6828125 12.8230473 C 36.888672299999996 11.8867196 36.9949223 9.7617196 36.888672299999996 8.778905400000001 C 36.5433598 5.6046875 35.1289054 3.3402348 32.3066402 1.4542973000000001 C 31.4167973 0.8566402 31.3769527 0.85 30.965234799999998 1.0757804\"/>\n",
              "</g>\n",
              "      </svg>\n",
              "    "
            ]
          },
          "metadata": {}
        }
      ]
    },
    {
      "cell_type": "markdown",
      "metadata": {
        "id": "8UiPzERjqk_8"
      },
      "source": [
        "## 🔶 **Climbing Stairs**\n",
        "In this next exercise, we'll be writing another function to help us climb the stairs on the `stairs` map! You'll use what you learned above to successfully help the turtle climb the stairs."
      ]
    },
    {
      "cell_type": "code",
      "metadata": {
        "id": "g94omSXerA83",
        "colab": {
          "base_uri": "https://localhost:8080/",
          "height": 521
        },
        "outputId": "0e3bd92b-e788-4435-d5b6-fcee83d5db65"
      },
      "source": [
        "initializeTurtle(map=\"stairs\") # you can run this to see what the stairs map looks like"
      ],
      "execution_count": null,
      "outputs": [
        {
          "output_type": "display_data",
          "data": {
            "text/plain": [
              "<IPython.core.display.HTML object>"
            ],
            "text/html": [
              "\n",
              "      <svg width=\"500\" height=\"500\">\n",
              "        <rect width=\"100%\" height=\"100%\" fill=\"LightBlue\"/>\n",
              "        <line x1=\"3\" y1=\"3\" x2=\"3\" y2=\"497\" stroke-linecap=\"round\" style=\"stroke:blue;stroke-width:5\"/><line x1=\"3\" y1=\"497\" x2=\"497\" y2=\"497\" stroke-linecap=\"round\" style=\"stroke:blue;stroke-width:5\"/><line x1=\"497\" y1=\"497\" x2=\"497\" y2=\"3\" stroke-linecap=\"round\" style=\"stroke:blue;stroke-width:5\"/><line x1=\"497\" y1=\"3\" x2=\"3\" y2=\"3\" stroke-linecap=\"round\" style=\"stroke:blue;stroke-width:5\"/><line x1=\"100\" y1=\"500\" x2=\"100\" y2=\"400\" stroke-linecap=\"round\" style=\"stroke:blue;stroke-width:5\"/><line x1=\"100\" y1=\"400\" x2=\"200\" y2=\"400\" stroke-linecap=\"round\" style=\"stroke:blue;stroke-width:5\"/><line x1=\"200\" y1=\"400\" x2=\"200\" y2=\"300\" stroke-linecap=\"round\" style=\"stroke:blue;stroke-width:5\"/><line x1=\"200\" y1=\"300\" x2=\"300\" y2=\"300\" stroke-linecap=\"round\" style=\"stroke:blue;stroke-width:5\"/><line x1=\"300\" y1=\"300\" x2=\"300\" y2=\"200\" stroke-linecap=\"round\" style=\"stroke:blue;stroke-width:5\"/><line x1=\"300\" y1=\"200\" x2=\"400\" y2=\"200\" stroke-linecap=\"round\" style=\"stroke:blue;stroke-width:5\"/><line x1=\"400\" y1=\"200\" x2=\"400\" y2=\"100\" stroke-linecap=\"round\" style=\"stroke:blue;stroke-width:5\"/><line x1=\"400\" y1=\"100\" x2=\"500\" y2=\"100\" stroke-linecap=\"round\" style=\"stroke:blue;stroke-width:5\"/><line x1=\"44\" y1=\"44\" x2=\"56\" y2=\"56\" stroke-linecap=\"round\" style=\"stroke:black;stroke-width:2\"/><line x1=\"44\" y1=\"56\" x2=\"56\" y2=\"44\" stroke-linecap=\"round\" style=\"stroke:black;stroke-width:2\"/><line x1=\"44\" y1=\"144\" x2=\"56\" y2=\"156\" stroke-linecap=\"round\" style=\"stroke:black;stroke-width:2\"/><line x1=\"44\" y1=\"156\" x2=\"56\" y2=\"144\" stroke-linecap=\"round\" style=\"stroke:black;stroke-width:2\"/><line x1=\"44\" y1=\"244\" x2=\"56\" y2=\"256\" stroke-linecap=\"round\" style=\"stroke:black;stroke-width:2\"/><line x1=\"44\" y1=\"256\" x2=\"56\" y2=\"244\" stroke-linecap=\"round\" style=\"stroke:black;stroke-width:2\"/><line x1=\"44\" y1=\"344\" x2=\"56\" y2=\"356\" stroke-linecap=\"round\" style=\"stroke:black;stroke-width:2\"/><line x1=\"44\" y1=\"356\" x2=\"56\" y2=\"344\" stroke-linecap=\"round\" style=\"stroke:black;stroke-width:2\"/><line x1=\"44\" y1=\"444\" x2=\"56\" y2=\"456\" stroke-linecap=\"round\" style=\"stroke:black;stroke-width:2\"/><line x1=\"44\" y1=\"456\" x2=\"56\" y2=\"444\" stroke-linecap=\"round\" style=\"stroke:black;stroke-width:2\"/><line x1=\"144\" y1=\"44\" x2=\"156\" y2=\"56\" stroke-linecap=\"round\" style=\"stroke:black;stroke-width:2\"/><line x1=\"144\" y1=\"56\" x2=\"156\" y2=\"44\" stroke-linecap=\"round\" style=\"stroke:black;stroke-width:2\"/><line x1=\"144\" y1=\"144\" x2=\"156\" y2=\"156\" stroke-linecap=\"round\" style=\"stroke:black;stroke-width:2\"/><line x1=\"144\" y1=\"156\" x2=\"156\" y2=\"144\" stroke-linecap=\"round\" style=\"stroke:black;stroke-width:2\"/><line x1=\"144\" y1=\"244\" x2=\"156\" y2=\"256\" stroke-linecap=\"round\" style=\"stroke:black;stroke-width:2\"/><line x1=\"144\" y1=\"256\" x2=\"156\" y2=\"244\" stroke-linecap=\"round\" style=\"stroke:black;stroke-width:2\"/><line x1=\"144\" y1=\"344\" x2=\"156\" y2=\"356\" stroke-linecap=\"round\" style=\"stroke:black;stroke-width:2\"/><line x1=\"144\" y1=\"356\" x2=\"156\" y2=\"344\" stroke-linecap=\"round\" style=\"stroke:black;stroke-width:2\"/><line x1=\"144\" y1=\"444\" x2=\"156\" y2=\"456\" stroke-linecap=\"round\" style=\"stroke:black;stroke-width:2\"/><line x1=\"144\" y1=\"456\" x2=\"156\" y2=\"444\" stroke-linecap=\"round\" style=\"stroke:black;stroke-width:2\"/><line x1=\"244\" y1=\"44\" x2=\"256\" y2=\"56\" stroke-linecap=\"round\" style=\"stroke:black;stroke-width:2\"/><line x1=\"244\" y1=\"56\" x2=\"256\" y2=\"44\" stroke-linecap=\"round\" style=\"stroke:black;stroke-width:2\"/><line x1=\"244\" y1=\"144\" x2=\"256\" y2=\"156\" stroke-linecap=\"round\" style=\"stroke:black;stroke-width:2\"/><line x1=\"244\" y1=\"156\" x2=\"256\" y2=\"144\" stroke-linecap=\"round\" style=\"stroke:black;stroke-width:2\"/><line x1=\"244\" y1=\"244\" x2=\"256\" y2=\"256\" stroke-linecap=\"round\" style=\"stroke:black;stroke-width:2\"/><line x1=\"244\" y1=\"256\" x2=\"256\" y2=\"244\" stroke-linecap=\"round\" style=\"stroke:black;stroke-width:2\"/><line x1=\"244\" y1=\"344\" x2=\"256\" y2=\"356\" stroke-linecap=\"round\" style=\"stroke:black;stroke-width:2\"/><line x1=\"244\" y1=\"356\" x2=\"256\" y2=\"344\" stroke-linecap=\"round\" style=\"stroke:black;stroke-width:2\"/><line x1=\"244\" y1=\"444\" x2=\"256\" y2=\"456\" stroke-linecap=\"round\" style=\"stroke:black;stroke-width:2\"/><line x1=\"244\" y1=\"456\" x2=\"256\" y2=\"444\" stroke-linecap=\"round\" style=\"stroke:black;stroke-width:2\"/><line x1=\"344\" y1=\"44\" x2=\"356\" y2=\"56\" stroke-linecap=\"round\" style=\"stroke:black;stroke-width:2\"/><line x1=\"344\" y1=\"56\" x2=\"356\" y2=\"44\" stroke-linecap=\"round\" style=\"stroke:black;stroke-width:2\"/><line x1=\"344\" y1=\"144\" x2=\"356\" y2=\"156\" stroke-linecap=\"round\" style=\"stroke:black;stroke-width:2\"/><line x1=\"344\" y1=\"156\" x2=\"356\" y2=\"144\" stroke-linecap=\"round\" style=\"stroke:black;stroke-width:2\"/><line x1=\"344\" y1=\"244\" x2=\"356\" y2=\"256\" stroke-linecap=\"round\" style=\"stroke:black;stroke-width:2\"/><line x1=\"344\" y1=\"256\" x2=\"356\" y2=\"244\" stroke-linecap=\"round\" style=\"stroke:black;stroke-width:2\"/><line x1=\"344\" y1=\"344\" x2=\"356\" y2=\"356\" stroke-linecap=\"round\" style=\"stroke:black;stroke-width:2\"/><line x1=\"344\" y1=\"356\" x2=\"356\" y2=\"344\" stroke-linecap=\"round\" style=\"stroke:black;stroke-width:2\"/><line x1=\"344\" y1=\"444\" x2=\"356\" y2=\"456\" stroke-linecap=\"round\" style=\"stroke:black;stroke-width:2\"/><line x1=\"344\" y1=\"456\" x2=\"356\" y2=\"444\" stroke-linecap=\"round\" style=\"stroke:black;stroke-width:2\"/><line x1=\"444\" y1=\"44\" x2=\"456\" y2=\"56\" stroke-linecap=\"round\" style=\"stroke:black;stroke-width:2\"/><line x1=\"444\" y1=\"56\" x2=\"456\" y2=\"44\" stroke-linecap=\"round\" style=\"stroke:black;stroke-width:2\"/><line x1=\"444\" y1=\"144\" x2=\"456\" y2=\"156\" stroke-linecap=\"round\" style=\"stroke:black;stroke-width:2\"/><line x1=\"444\" y1=\"156\" x2=\"456\" y2=\"144\" stroke-linecap=\"round\" style=\"stroke:black;stroke-width:2\"/><line x1=\"444\" y1=\"244\" x2=\"456\" y2=\"256\" stroke-linecap=\"round\" style=\"stroke:black;stroke-width:2\"/><line x1=\"444\" y1=\"256\" x2=\"456\" y2=\"244\" stroke-linecap=\"round\" style=\"stroke:black;stroke-width:2\"/><line x1=\"444\" y1=\"344\" x2=\"456\" y2=\"356\" stroke-linecap=\"round\" style=\"stroke:black;stroke-width:2\"/><line x1=\"444\" y1=\"356\" x2=\"456\" y2=\"344\" stroke-linecap=\"round\" style=\"stroke:black;stroke-width:2\"/><line x1=\"444\" y1=\"444\" x2=\"456\" y2=\"456\" stroke-linecap=\"round\" style=\"stroke:black;stroke-width:2\"/><line x1=\"444\" y1=\"456\" x2=\"456\" y2=\"444\" stroke-linecap=\"round\" style=\"stroke:black;stroke-width:2\"/>\n",
              "        \n",
              "        <g visibility=visible transform=\"rotate(90,50,450) translate(19.400000000000002, 419.4)\">\n",
              "<path style=\" stroke:none;fill-rule:evenodd;fill:green;fill-opacity:1;\" d=\"M 30.965234799999998 1.0757804 C 27.3859375 3.0613276999999997 25.519922299999998 6.9261723 25.626172299999997 12.1257804 L 25.6460946 13.0089848 L 25.1347652 12.7433598 C 22.910155399999997 11.6011723 20.3269527 11.3421875 17.690625 12.0128902 C 14.396875 12.8363277 11.0765625 15.565624999999999 7.4707026999999995 20.3867196 C 5.20625 23.421484799999998 4.5554696 24.882422299999998 5.1730472999999995 25.546484799999998 L 5.365625 25.758984799999997 L 5.9832027000000005 25.758984799999997 C 7.2050776999999995 25.758984799999997 8.2078125 25.3074223 13.91875 22.1664054 C 15.9574223 21.0441402 17.6308598 20.1277348 17.6441402 20.1277348 C 17.657422299999997 20.1277348 17.6042973 20.2804696 17.5179696 20.4597652 C 16.7144527 22.259375 15.738280399999999 25.194530399999998 15.246875 27.3328125 C 13.4539054 35.108984799999995 14.6492196 41.703125 18.819530399999998 47.0222652 C 19.2976554 47.6265625 19.3175777 47.453905400000004 18.6535152 48.250780400000004 C 15.1738277 52.434374999999996 13.5070304 56.578125 14.005077700000001 59.81875 C 14.0914054 60.396484799999996 14.078125 60.389844599999996 15.1605473 60.389844599999996 C 18.6003902 60.389844599999996 22.226172299999998 58.1519527 25.7324223 53.86875 C 26.1109375 53.4105473 26.0578125 53.4238277 26.45625 53.6761723 C 27.6980473 54.4730473 30.639844599999996 56.0402348 30.898827700000002 56.0402348 C 31.171094599999996 56.0402348 33.9003902 54.758594599999995 35.4078125 53.921875 C 35.693359799999996 53.762499999999996 35.9324223 53.642969599999994 35.9324223 53.6496098 C 36.0453125 53.828905400000004 37.227344599999995 55.1039054 37.7785152 55.6417973 C 40.5210946 58.3113277 43.45625 59.7257804 46.8894527 60.0113277 C 47.440625 60.0578125 47.49375 60.0246098 47.6132804 59.473437499999996 C 48.250780400000004 56.5117196 46.9625 52.5738277 43.9675777 48.3238277 L 43.4230473 47.546875 L 43.6886723 47.2347652 C 49.2070304 40.733594599999996 49.5257804 31.788672299999998 44.6382804 20.346875 L 44.5519527 20.134375 L 47.5070304 21.5953125 C 53.603125 24.6101554 54.9378902 25.1613277 56.153124999999996 25.1613277 C 57.7601554 25.1613277 57.428125 23.693749999999998 55.2035152 20.898047299999998 C 48.4832027 12.5042973 43.1707027 10.073827699999999 37.2671875 12.7035152 L 36.6496098 12.9824223 L 36.6828125 12.8230473 C 36.888672299999996 11.8867196 36.9949223 9.7617196 36.888672299999996 8.778905400000001 C 36.5433598 5.6046875 35.1289054 3.3402348 32.3066402 1.4542973000000001 C 31.4167973 0.8566402 31.3769527 0.85 30.965234799999998 1.0757804\"/>\n",
              "</g>\n",
              "      </svg>\n",
              "    "
            ]
          },
          "metadata": {}
        }
      ]
    },
    {
      "cell_type": "markdown",
      "metadata": {
        "id": "ak2qmOfirEpa"
      },
      "source": [
        "###📙 **Coding Exercise:** climb one stair\n",
        "To start, we'll be writing a function (`climb_stair`) to help us climb just **one stair**. This function should be able to move you up one stair in the `stairs` map. If you'd like to see what the map looks like to help, run the cell above! Fill in the function below to implement this behavior.\n",
        "\n",
        "Remember, the commands you have to work with are:\n",
        "1. Move forward using:\n",
        "```\n",
        "go_forward()\n",
        "```\n",
        "2. Turn left using:\n",
        "```\n",
        "turn_left()\n",
        "```\n",
        "3. **(YOU MADE THIS!)** Turn right using:\n",
        "```\n",
        "turn_right()\n",
        "```"
      ]
    },
    {
      "cell_type": "code",
      "metadata": {
        "id": "Y26q7vWWr2Y-"
      },
      "source": [
        "def climb_stair():\n",
        "  turn_left()\n",
        "  go_forward()\n",
        "  turn_right()\n",
        "  go_forward()\n",
        "\n"
      ],
      "execution_count": null,
      "outputs": []
    },
    {
      "cell_type": "markdown",
      "metadata": {
        "id": "ddgG1635sUDy"
      },
      "source": [
        "### 📙 **Coding Exercise:** climb the stairs!\n",
        "Once you've made that function, use it to move the turtle up the stairs! Your ending configuration should look like this:\n",
        "\n",
        "<img src=\"https://drive.google.com/uc?export=view&id=1n6-MlcWNPPMbV1nt2jlSjVTGJehQAQPa\" \n",
        "     width=\"400\" \n",
        "     height=\"auto\" />"
      ]
    },
    {
      "cell_type": "code",
      "metadata": {
        "id": "PPf2zaSts0ZL",
        "colab": {
          "base_uri": "https://localhost:8080/",
          "height": 521
        },
        "outputId": "b1923807-7193-46a3-d77e-c7458cc7f492"
      },
      "source": [
        "initializeTurtle(map=\"stairs\")\n",
        "# YOUR CODE HERE: put your code to climb the stairs below\n",
        "for i in range(4):\n",
        "  climb_stair()\n"
      ],
      "execution_count": null,
      "outputs": [
        {
          "output_type": "display_data",
          "data": {
            "text/plain": [
              "<IPython.core.display.HTML object>"
            ],
            "text/html": [
              "\n",
              "      <svg width=\"500\" height=\"500\">\n",
              "        <rect width=\"100%\" height=\"100%\" fill=\"LightBlue\"/>\n",
              "        <line x1=\"3\" y1=\"3\" x2=\"3\" y2=\"497\" stroke-linecap=\"round\" style=\"stroke:blue;stroke-width:5\"/><line x1=\"3\" y1=\"497\" x2=\"497\" y2=\"497\" stroke-linecap=\"round\" style=\"stroke:blue;stroke-width:5\"/><line x1=\"497\" y1=\"497\" x2=\"497\" y2=\"3\" stroke-linecap=\"round\" style=\"stroke:blue;stroke-width:5\"/><line x1=\"497\" y1=\"3\" x2=\"3\" y2=\"3\" stroke-linecap=\"round\" style=\"stroke:blue;stroke-width:5\"/><line x1=\"100\" y1=\"500\" x2=\"100\" y2=\"400\" stroke-linecap=\"round\" style=\"stroke:blue;stroke-width:5\"/><line x1=\"100\" y1=\"400\" x2=\"200\" y2=\"400\" stroke-linecap=\"round\" style=\"stroke:blue;stroke-width:5\"/><line x1=\"200\" y1=\"400\" x2=\"200\" y2=\"300\" stroke-linecap=\"round\" style=\"stroke:blue;stroke-width:5\"/><line x1=\"200\" y1=\"300\" x2=\"300\" y2=\"300\" stroke-linecap=\"round\" style=\"stroke:blue;stroke-width:5\"/><line x1=\"300\" y1=\"300\" x2=\"300\" y2=\"200\" stroke-linecap=\"round\" style=\"stroke:blue;stroke-width:5\"/><line x1=\"300\" y1=\"200\" x2=\"400\" y2=\"200\" stroke-linecap=\"round\" style=\"stroke:blue;stroke-width:5\"/><line x1=\"400\" y1=\"200\" x2=\"400\" y2=\"100\" stroke-linecap=\"round\" style=\"stroke:blue;stroke-width:5\"/><line x1=\"400\" y1=\"100\" x2=\"500\" y2=\"100\" stroke-linecap=\"round\" style=\"stroke:blue;stroke-width:5\"/><line x1=\"44\" y1=\"44\" x2=\"56\" y2=\"56\" stroke-linecap=\"round\" style=\"stroke:black;stroke-width:2\"/><line x1=\"44\" y1=\"56\" x2=\"56\" y2=\"44\" stroke-linecap=\"round\" style=\"stroke:black;stroke-width:2\"/><line x1=\"44\" y1=\"144\" x2=\"56\" y2=\"156\" stroke-linecap=\"round\" style=\"stroke:black;stroke-width:2\"/><line x1=\"44\" y1=\"156\" x2=\"56\" y2=\"144\" stroke-linecap=\"round\" style=\"stroke:black;stroke-width:2\"/><line x1=\"44\" y1=\"244\" x2=\"56\" y2=\"256\" stroke-linecap=\"round\" style=\"stroke:black;stroke-width:2\"/><line x1=\"44\" y1=\"256\" x2=\"56\" y2=\"244\" stroke-linecap=\"round\" style=\"stroke:black;stroke-width:2\"/><line x1=\"44\" y1=\"344\" x2=\"56\" y2=\"356\" stroke-linecap=\"round\" style=\"stroke:black;stroke-width:2\"/><line x1=\"44\" y1=\"356\" x2=\"56\" y2=\"344\" stroke-linecap=\"round\" style=\"stroke:black;stroke-width:2\"/><line x1=\"44\" y1=\"444\" x2=\"56\" y2=\"456\" stroke-linecap=\"round\" style=\"stroke:black;stroke-width:2\"/><line x1=\"44\" y1=\"456\" x2=\"56\" y2=\"444\" stroke-linecap=\"round\" style=\"stroke:black;stroke-width:2\"/><line x1=\"144\" y1=\"44\" x2=\"156\" y2=\"56\" stroke-linecap=\"round\" style=\"stroke:black;stroke-width:2\"/><line x1=\"144\" y1=\"56\" x2=\"156\" y2=\"44\" stroke-linecap=\"round\" style=\"stroke:black;stroke-width:2\"/><line x1=\"144\" y1=\"144\" x2=\"156\" y2=\"156\" stroke-linecap=\"round\" style=\"stroke:black;stroke-width:2\"/><line x1=\"144\" y1=\"156\" x2=\"156\" y2=\"144\" stroke-linecap=\"round\" style=\"stroke:black;stroke-width:2\"/><line x1=\"144\" y1=\"244\" x2=\"156\" y2=\"256\" stroke-linecap=\"round\" style=\"stroke:black;stroke-width:2\"/><line x1=\"144\" y1=\"256\" x2=\"156\" y2=\"244\" stroke-linecap=\"round\" style=\"stroke:black;stroke-width:2\"/><line x1=\"144\" y1=\"344\" x2=\"156\" y2=\"356\" stroke-linecap=\"round\" style=\"stroke:black;stroke-width:2\"/><line x1=\"144\" y1=\"356\" x2=\"156\" y2=\"344\" stroke-linecap=\"round\" style=\"stroke:black;stroke-width:2\"/><line x1=\"144\" y1=\"444\" x2=\"156\" y2=\"456\" stroke-linecap=\"round\" style=\"stroke:black;stroke-width:2\"/><line x1=\"144\" y1=\"456\" x2=\"156\" y2=\"444\" stroke-linecap=\"round\" style=\"stroke:black;stroke-width:2\"/><line x1=\"244\" y1=\"44\" x2=\"256\" y2=\"56\" stroke-linecap=\"round\" style=\"stroke:black;stroke-width:2\"/><line x1=\"244\" y1=\"56\" x2=\"256\" y2=\"44\" stroke-linecap=\"round\" style=\"stroke:black;stroke-width:2\"/><line x1=\"244\" y1=\"144\" x2=\"256\" y2=\"156\" stroke-linecap=\"round\" style=\"stroke:black;stroke-width:2\"/><line x1=\"244\" y1=\"156\" x2=\"256\" y2=\"144\" stroke-linecap=\"round\" style=\"stroke:black;stroke-width:2\"/><line x1=\"244\" y1=\"244\" x2=\"256\" y2=\"256\" stroke-linecap=\"round\" style=\"stroke:black;stroke-width:2\"/><line x1=\"244\" y1=\"256\" x2=\"256\" y2=\"244\" stroke-linecap=\"round\" style=\"stroke:black;stroke-width:2\"/><line x1=\"244\" y1=\"344\" x2=\"256\" y2=\"356\" stroke-linecap=\"round\" style=\"stroke:black;stroke-width:2\"/><line x1=\"244\" y1=\"356\" x2=\"256\" y2=\"344\" stroke-linecap=\"round\" style=\"stroke:black;stroke-width:2\"/><line x1=\"244\" y1=\"444\" x2=\"256\" y2=\"456\" stroke-linecap=\"round\" style=\"stroke:black;stroke-width:2\"/><line x1=\"244\" y1=\"456\" x2=\"256\" y2=\"444\" stroke-linecap=\"round\" style=\"stroke:black;stroke-width:2\"/><line x1=\"344\" y1=\"44\" x2=\"356\" y2=\"56\" stroke-linecap=\"round\" style=\"stroke:black;stroke-width:2\"/><line x1=\"344\" y1=\"56\" x2=\"356\" y2=\"44\" stroke-linecap=\"round\" style=\"stroke:black;stroke-width:2\"/><line x1=\"344\" y1=\"144\" x2=\"356\" y2=\"156\" stroke-linecap=\"round\" style=\"stroke:black;stroke-width:2\"/><line x1=\"344\" y1=\"156\" x2=\"356\" y2=\"144\" stroke-linecap=\"round\" style=\"stroke:black;stroke-width:2\"/><line x1=\"344\" y1=\"244\" x2=\"356\" y2=\"256\" stroke-linecap=\"round\" style=\"stroke:black;stroke-width:2\"/><line x1=\"344\" y1=\"256\" x2=\"356\" y2=\"244\" stroke-linecap=\"round\" style=\"stroke:black;stroke-width:2\"/><line x1=\"344\" y1=\"344\" x2=\"356\" y2=\"356\" stroke-linecap=\"round\" style=\"stroke:black;stroke-width:2\"/><line x1=\"344\" y1=\"356\" x2=\"356\" y2=\"344\" stroke-linecap=\"round\" style=\"stroke:black;stroke-width:2\"/><line x1=\"344\" y1=\"444\" x2=\"356\" y2=\"456\" stroke-linecap=\"round\" style=\"stroke:black;stroke-width:2\"/><line x1=\"344\" y1=\"456\" x2=\"356\" y2=\"444\" stroke-linecap=\"round\" style=\"stroke:black;stroke-width:2\"/><line x1=\"444\" y1=\"44\" x2=\"456\" y2=\"56\" stroke-linecap=\"round\" style=\"stroke:black;stroke-width:2\"/><line x1=\"444\" y1=\"56\" x2=\"456\" y2=\"44\" stroke-linecap=\"round\" style=\"stroke:black;stroke-width:2\"/><line x1=\"444\" y1=\"144\" x2=\"456\" y2=\"156\" stroke-linecap=\"round\" style=\"stroke:black;stroke-width:2\"/><line x1=\"444\" y1=\"156\" x2=\"456\" y2=\"144\" stroke-linecap=\"round\" style=\"stroke:black;stroke-width:2\"/><line x1=\"444\" y1=\"244\" x2=\"456\" y2=\"256\" stroke-linecap=\"round\" style=\"stroke:black;stroke-width:2\"/><line x1=\"444\" y1=\"256\" x2=\"456\" y2=\"244\" stroke-linecap=\"round\" style=\"stroke:black;stroke-width:2\"/><line x1=\"444\" y1=\"344\" x2=\"456\" y2=\"356\" stroke-linecap=\"round\" style=\"stroke:black;stroke-width:2\"/><line x1=\"444\" y1=\"356\" x2=\"456\" y2=\"344\" stroke-linecap=\"round\" style=\"stroke:black;stroke-width:2\"/><line x1=\"444\" y1=\"444\" x2=\"456\" y2=\"456\" stroke-linecap=\"round\" style=\"stroke:black;stroke-width:2\"/><line x1=\"444\" y1=\"456\" x2=\"456\" y2=\"444\" stroke-linecap=\"round\" style=\"stroke:black;stroke-width:2\"/>\n",
              "        \n",
              "        <g visibility=visible transform=\"rotate(90,450.0,50.0) translate(419.4, 19.400000000000002)\">\n",
              "<path style=\" stroke:none;fill-rule:evenodd;fill:green;fill-opacity:1;\" d=\"M 30.965234799999998 1.0757804 C 27.3859375 3.0613276999999997 25.519922299999998 6.9261723 25.626172299999997 12.1257804 L 25.6460946 13.0089848 L 25.1347652 12.7433598 C 22.910155399999997 11.6011723 20.3269527 11.3421875 17.690625 12.0128902 C 14.396875 12.8363277 11.0765625 15.565624999999999 7.4707026999999995 20.3867196 C 5.20625 23.421484799999998 4.5554696 24.882422299999998 5.1730472999999995 25.546484799999998 L 5.365625 25.758984799999997 L 5.9832027000000005 25.758984799999997 C 7.2050776999999995 25.758984799999997 8.2078125 25.3074223 13.91875 22.1664054 C 15.9574223 21.0441402 17.6308598 20.1277348 17.6441402 20.1277348 C 17.657422299999997 20.1277348 17.6042973 20.2804696 17.5179696 20.4597652 C 16.7144527 22.259375 15.738280399999999 25.194530399999998 15.246875 27.3328125 C 13.4539054 35.108984799999995 14.6492196 41.703125 18.819530399999998 47.0222652 C 19.2976554 47.6265625 19.3175777 47.453905400000004 18.6535152 48.250780400000004 C 15.1738277 52.434374999999996 13.5070304 56.578125 14.005077700000001 59.81875 C 14.0914054 60.396484799999996 14.078125 60.389844599999996 15.1605473 60.389844599999996 C 18.6003902 60.389844599999996 22.226172299999998 58.1519527 25.7324223 53.86875 C 26.1109375 53.4105473 26.0578125 53.4238277 26.45625 53.6761723 C 27.6980473 54.4730473 30.639844599999996 56.0402348 30.898827700000002 56.0402348 C 31.171094599999996 56.0402348 33.9003902 54.758594599999995 35.4078125 53.921875 C 35.693359799999996 53.762499999999996 35.9324223 53.642969599999994 35.9324223 53.6496098 C 36.0453125 53.828905400000004 37.227344599999995 55.1039054 37.7785152 55.6417973 C 40.5210946 58.3113277 43.45625 59.7257804 46.8894527 60.0113277 C 47.440625 60.0578125 47.49375 60.0246098 47.6132804 59.473437499999996 C 48.250780400000004 56.5117196 46.9625 52.5738277 43.9675777 48.3238277 L 43.4230473 47.546875 L 43.6886723 47.2347652 C 49.2070304 40.733594599999996 49.5257804 31.788672299999998 44.6382804 20.346875 L 44.5519527 20.134375 L 47.5070304 21.5953125 C 53.603125 24.6101554 54.9378902 25.1613277 56.153124999999996 25.1613277 C 57.7601554 25.1613277 57.428125 23.693749999999998 55.2035152 20.898047299999998 C 48.4832027 12.5042973 43.1707027 10.073827699999999 37.2671875 12.7035152 L 36.6496098 12.9824223 L 36.6828125 12.8230473 C 36.888672299999996 11.8867196 36.9949223 9.7617196 36.888672299999996 8.778905400000001 C 36.5433598 5.6046875 35.1289054 3.3402348 32.3066402 1.4542973000000001 C 31.4167973 0.8566402 31.3769527 0.85 30.965234799999998 1.0757804\"/>\n",
              "</g>\n",
              "      </svg>\n",
              "    "
            ]
          },
          "metadata": {}
        }
      ]
    },
    {
      "cell_type": "markdown",
      "metadata": {
        "id": "nOLiOM_FtWic"
      },
      "source": [
        "#**🍊 Section 3: For Loops**\n",
        "\n",
        "Even though our code got a lot cleaner by using functions, we still had to repeat the same command a bunch of times. What if there was something we could use in python to make it so we can repeat the same steps a certain number of times?\n",
        "\n",
        "\n",
        "**Spoiler alert**, there is! It's called a *for loop*, and we'll be using them throughout the class.\n",
        "\n",
        "Let's say you had a scenario where you wanted to move the turtle forward exactly 5 times? You can do this like below:\n",
        "\n",
        "\n"
      ]
    },
    {
      "cell_type": "code",
      "metadata": {
        "id": "lX44PeVMutKz",
        "colab": {
          "base_uri": "https://localhost:8080/",
          "height": 521
        },
        "outputId": "2dcbbfc4-d46f-4b1c-f6da-eb2453f91860"
      },
      "source": [
        "initializeTurtle(map=\"default\")\n",
        "for i in range(5):\n",
        "  go_forward()"
      ],
      "execution_count": null,
      "outputs": [
        {
          "output_type": "display_data",
          "data": {
            "text/plain": [
              "<IPython.core.display.HTML object>"
            ],
            "text/html": [
              "\n",
              "      <svg width=\"800\" height=\"500\">\n",
              "        <rect width=\"100%\" height=\"100%\" fill=\"LightBlue\"/>\n",
              "        <line x1=\"3\" y1=\"3\" x2=\"3\" y2=\"497\" stroke-linecap=\"round\" style=\"stroke:blue;stroke-width:5\"/><line x1=\"3\" y1=\"497\" x2=\"797\" y2=\"497\" stroke-linecap=\"round\" style=\"stroke:blue;stroke-width:5\"/><line x1=\"797\" y1=\"497\" x2=\"797\" y2=\"3\" stroke-linecap=\"round\" style=\"stroke:blue;stroke-width:5\"/><line x1=\"797\" y1=\"3\" x2=\"3\" y2=\"3\" stroke-linecap=\"round\" style=\"stroke:blue;stroke-width:5\"/><line x1=\"44\" y1=\"44\" x2=\"56\" y2=\"56\" stroke-linecap=\"round\" style=\"stroke:black;stroke-width:2\"/><line x1=\"44\" y1=\"56\" x2=\"56\" y2=\"44\" stroke-linecap=\"round\" style=\"stroke:black;stroke-width:2\"/><line x1=\"44\" y1=\"144\" x2=\"56\" y2=\"156\" stroke-linecap=\"round\" style=\"stroke:black;stroke-width:2\"/><line x1=\"44\" y1=\"156\" x2=\"56\" y2=\"144\" stroke-linecap=\"round\" style=\"stroke:black;stroke-width:2\"/><line x1=\"44\" y1=\"244\" x2=\"56\" y2=\"256\" stroke-linecap=\"round\" style=\"stroke:black;stroke-width:2\"/><line x1=\"44\" y1=\"256\" x2=\"56\" y2=\"244\" stroke-linecap=\"round\" style=\"stroke:black;stroke-width:2\"/><line x1=\"44\" y1=\"344\" x2=\"56\" y2=\"356\" stroke-linecap=\"round\" style=\"stroke:black;stroke-width:2\"/><line x1=\"44\" y1=\"356\" x2=\"56\" y2=\"344\" stroke-linecap=\"round\" style=\"stroke:black;stroke-width:2\"/><line x1=\"44\" y1=\"444\" x2=\"56\" y2=\"456\" stroke-linecap=\"round\" style=\"stroke:black;stroke-width:2\"/><line x1=\"44\" y1=\"456\" x2=\"56\" y2=\"444\" stroke-linecap=\"round\" style=\"stroke:black;stroke-width:2\"/><line x1=\"144\" y1=\"44\" x2=\"156\" y2=\"56\" stroke-linecap=\"round\" style=\"stroke:black;stroke-width:2\"/><line x1=\"144\" y1=\"56\" x2=\"156\" y2=\"44\" stroke-linecap=\"round\" style=\"stroke:black;stroke-width:2\"/><line x1=\"144\" y1=\"144\" x2=\"156\" y2=\"156\" stroke-linecap=\"round\" style=\"stroke:black;stroke-width:2\"/><line x1=\"144\" y1=\"156\" x2=\"156\" y2=\"144\" stroke-linecap=\"round\" style=\"stroke:black;stroke-width:2\"/><line x1=\"144\" y1=\"244\" x2=\"156\" y2=\"256\" stroke-linecap=\"round\" style=\"stroke:black;stroke-width:2\"/><line x1=\"144\" y1=\"256\" x2=\"156\" y2=\"244\" stroke-linecap=\"round\" style=\"stroke:black;stroke-width:2\"/><line x1=\"144\" y1=\"344\" x2=\"156\" y2=\"356\" stroke-linecap=\"round\" style=\"stroke:black;stroke-width:2\"/><line x1=\"144\" y1=\"356\" x2=\"156\" y2=\"344\" stroke-linecap=\"round\" style=\"stroke:black;stroke-width:2\"/><line x1=\"144\" y1=\"444\" x2=\"156\" y2=\"456\" stroke-linecap=\"round\" style=\"stroke:black;stroke-width:2\"/><line x1=\"144\" y1=\"456\" x2=\"156\" y2=\"444\" stroke-linecap=\"round\" style=\"stroke:black;stroke-width:2\"/><line x1=\"244\" y1=\"44\" x2=\"256\" y2=\"56\" stroke-linecap=\"round\" style=\"stroke:black;stroke-width:2\"/><line x1=\"244\" y1=\"56\" x2=\"256\" y2=\"44\" stroke-linecap=\"round\" style=\"stroke:black;stroke-width:2\"/><line x1=\"244\" y1=\"144\" x2=\"256\" y2=\"156\" stroke-linecap=\"round\" style=\"stroke:black;stroke-width:2\"/><line x1=\"244\" y1=\"156\" x2=\"256\" y2=\"144\" stroke-linecap=\"round\" style=\"stroke:black;stroke-width:2\"/><line x1=\"244\" y1=\"244\" x2=\"256\" y2=\"256\" stroke-linecap=\"round\" style=\"stroke:black;stroke-width:2\"/><line x1=\"244\" y1=\"256\" x2=\"256\" y2=\"244\" stroke-linecap=\"round\" style=\"stroke:black;stroke-width:2\"/><line x1=\"244\" y1=\"344\" x2=\"256\" y2=\"356\" stroke-linecap=\"round\" style=\"stroke:black;stroke-width:2\"/><line x1=\"244\" y1=\"356\" x2=\"256\" y2=\"344\" stroke-linecap=\"round\" style=\"stroke:black;stroke-width:2\"/><line x1=\"244\" y1=\"444\" x2=\"256\" y2=\"456\" stroke-linecap=\"round\" style=\"stroke:black;stroke-width:2\"/><line x1=\"244\" y1=\"456\" x2=\"256\" y2=\"444\" stroke-linecap=\"round\" style=\"stroke:black;stroke-width:2\"/><line x1=\"344\" y1=\"44\" x2=\"356\" y2=\"56\" stroke-linecap=\"round\" style=\"stroke:black;stroke-width:2\"/><line x1=\"344\" y1=\"56\" x2=\"356\" y2=\"44\" stroke-linecap=\"round\" style=\"stroke:black;stroke-width:2\"/><line x1=\"344\" y1=\"144\" x2=\"356\" y2=\"156\" stroke-linecap=\"round\" style=\"stroke:black;stroke-width:2\"/><line x1=\"344\" y1=\"156\" x2=\"356\" y2=\"144\" stroke-linecap=\"round\" style=\"stroke:black;stroke-width:2\"/><line x1=\"344\" y1=\"244\" x2=\"356\" y2=\"256\" stroke-linecap=\"round\" style=\"stroke:black;stroke-width:2\"/><line x1=\"344\" y1=\"256\" x2=\"356\" y2=\"244\" stroke-linecap=\"round\" style=\"stroke:black;stroke-width:2\"/><line x1=\"344\" y1=\"344\" x2=\"356\" y2=\"356\" stroke-linecap=\"round\" style=\"stroke:black;stroke-width:2\"/><line x1=\"344\" y1=\"356\" x2=\"356\" y2=\"344\" stroke-linecap=\"round\" style=\"stroke:black;stroke-width:2\"/><line x1=\"344\" y1=\"444\" x2=\"356\" y2=\"456\" stroke-linecap=\"round\" style=\"stroke:black;stroke-width:2\"/><line x1=\"344\" y1=\"456\" x2=\"356\" y2=\"444\" stroke-linecap=\"round\" style=\"stroke:black;stroke-width:2\"/><line x1=\"444\" y1=\"44\" x2=\"456\" y2=\"56\" stroke-linecap=\"round\" style=\"stroke:black;stroke-width:2\"/><line x1=\"444\" y1=\"56\" x2=\"456\" y2=\"44\" stroke-linecap=\"round\" style=\"stroke:black;stroke-width:2\"/><line x1=\"444\" y1=\"144\" x2=\"456\" y2=\"156\" stroke-linecap=\"round\" style=\"stroke:black;stroke-width:2\"/><line x1=\"444\" y1=\"156\" x2=\"456\" y2=\"144\" stroke-linecap=\"round\" style=\"stroke:black;stroke-width:2\"/><line x1=\"444\" y1=\"244\" x2=\"456\" y2=\"256\" stroke-linecap=\"round\" style=\"stroke:black;stroke-width:2\"/><line x1=\"444\" y1=\"256\" x2=\"456\" y2=\"244\" stroke-linecap=\"round\" style=\"stroke:black;stroke-width:2\"/><line x1=\"444\" y1=\"344\" x2=\"456\" y2=\"356\" stroke-linecap=\"round\" style=\"stroke:black;stroke-width:2\"/><line x1=\"444\" y1=\"356\" x2=\"456\" y2=\"344\" stroke-linecap=\"round\" style=\"stroke:black;stroke-width:2\"/><line x1=\"444\" y1=\"444\" x2=\"456\" y2=\"456\" stroke-linecap=\"round\" style=\"stroke:black;stroke-width:2\"/><line x1=\"444\" y1=\"456\" x2=\"456\" y2=\"444\" stroke-linecap=\"round\" style=\"stroke:black;stroke-width:2\"/><line x1=\"544\" y1=\"44\" x2=\"556\" y2=\"56\" stroke-linecap=\"round\" style=\"stroke:black;stroke-width:2\"/><line x1=\"544\" y1=\"56\" x2=\"556\" y2=\"44\" stroke-linecap=\"round\" style=\"stroke:black;stroke-width:2\"/><line x1=\"544\" y1=\"144\" x2=\"556\" y2=\"156\" stroke-linecap=\"round\" style=\"stroke:black;stroke-width:2\"/><line x1=\"544\" y1=\"156\" x2=\"556\" y2=\"144\" stroke-linecap=\"round\" style=\"stroke:black;stroke-width:2\"/><line x1=\"544\" y1=\"244\" x2=\"556\" y2=\"256\" stroke-linecap=\"round\" style=\"stroke:black;stroke-width:2\"/><line x1=\"544\" y1=\"256\" x2=\"556\" y2=\"244\" stroke-linecap=\"round\" style=\"stroke:black;stroke-width:2\"/><line x1=\"544\" y1=\"344\" x2=\"556\" y2=\"356\" stroke-linecap=\"round\" style=\"stroke:black;stroke-width:2\"/><line x1=\"544\" y1=\"356\" x2=\"556\" y2=\"344\" stroke-linecap=\"round\" style=\"stroke:black;stroke-width:2\"/><line x1=\"544\" y1=\"444\" x2=\"556\" y2=\"456\" stroke-linecap=\"round\" style=\"stroke:black;stroke-width:2\"/><line x1=\"544\" y1=\"456\" x2=\"556\" y2=\"444\" stroke-linecap=\"round\" style=\"stroke:black;stroke-width:2\"/><line x1=\"644\" y1=\"44\" x2=\"656\" y2=\"56\" stroke-linecap=\"round\" style=\"stroke:black;stroke-width:2\"/><line x1=\"644\" y1=\"56\" x2=\"656\" y2=\"44\" stroke-linecap=\"round\" style=\"stroke:black;stroke-width:2\"/><line x1=\"644\" y1=\"144\" x2=\"656\" y2=\"156\" stroke-linecap=\"round\" style=\"stroke:black;stroke-width:2\"/><line x1=\"644\" y1=\"156\" x2=\"656\" y2=\"144\" stroke-linecap=\"round\" style=\"stroke:black;stroke-width:2\"/><line x1=\"644\" y1=\"244\" x2=\"656\" y2=\"256\" stroke-linecap=\"round\" style=\"stroke:black;stroke-width:2\"/><line x1=\"644\" y1=\"256\" x2=\"656\" y2=\"244\" stroke-linecap=\"round\" style=\"stroke:black;stroke-width:2\"/><line x1=\"644\" y1=\"344\" x2=\"656\" y2=\"356\" stroke-linecap=\"round\" style=\"stroke:black;stroke-width:2\"/><line x1=\"644\" y1=\"356\" x2=\"656\" y2=\"344\" stroke-linecap=\"round\" style=\"stroke:black;stroke-width:2\"/><line x1=\"644\" y1=\"444\" x2=\"656\" y2=\"456\" stroke-linecap=\"round\" style=\"stroke:black;stroke-width:2\"/><line x1=\"644\" y1=\"456\" x2=\"656\" y2=\"444\" stroke-linecap=\"round\" style=\"stroke:black;stroke-width:2\"/><line x1=\"744\" y1=\"44\" x2=\"756\" y2=\"56\" stroke-linecap=\"round\" style=\"stroke:black;stroke-width:2\"/><line x1=\"744\" y1=\"56\" x2=\"756\" y2=\"44\" stroke-linecap=\"round\" style=\"stroke:black;stroke-width:2\"/><line x1=\"744\" y1=\"144\" x2=\"756\" y2=\"156\" stroke-linecap=\"round\" style=\"stroke:black;stroke-width:2\"/><line x1=\"744\" y1=\"156\" x2=\"756\" y2=\"144\" stroke-linecap=\"round\" style=\"stroke:black;stroke-width:2\"/><line x1=\"744\" y1=\"244\" x2=\"756\" y2=\"256\" stroke-linecap=\"round\" style=\"stroke:black;stroke-width:2\"/><line x1=\"744\" y1=\"256\" x2=\"756\" y2=\"244\" stroke-linecap=\"round\" style=\"stroke:black;stroke-width:2\"/><line x1=\"744\" y1=\"344\" x2=\"756\" y2=\"356\" stroke-linecap=\"round\" style=\"stroke:black;stroke-width:2\"/><line x1=\"744\" y1=\"356\" x2=\"756\" y2=\"344\" stroke-linecap=\"round\" style=\"stroke:black;stroke-width:2\"/><line x1=\"744\" y1=\"444\" x2=\"756\" y2=\"456\" stroke-linecap=\"round\" style=\"stroke:black;stroke-width:2\"/><line x1=\"744\" y1=\"456\" x2=\"756\" y2=\"444\" stroke-linecap=\"round\" style=\"stroke:black;stroke-width:2\"/>\n",
              "        \n",
              "        <g visibility=visible transform=\"rotate(90,550.0,50.0) translate(519.4, 19.400000000000002)\">\n",
              "<path style=\" stroke:none;fill-rule:evenodd;fill:green;fill-opacity:1;\" d=\"M 30.965234799999998 1.0757804 C 27.3859375 3.0613276999999997 25.519922299999998 6.9261723 25.626172299999997 12.1257804 L 25.6460946 13.0089848 L 25.1347652 12.7433598 C 22.910155399999997 11.6011723 20.3269527 11.3421875 17.690625 12.0128902 C 14.396875 12.8363277 11.0765625 15.565624999999999 7.4707026999999995 20.3867196 C 5.20625 23.421484799999998 4.5554696 24.882422299999998 5.1730472999999995 25.546484799999998 L 5.365625 25.758984799999997 L 5.9832027000000005 25.758984799999997 C 7.2050776999999995 25.758984799999997 8.2078125 25.3074223 13.91875 22.1664054 C 15.9574223 21.0441402 17.6308598 20.1277348 17.6441402 20.1277348 C 17.657422299999997 20.1277348 17.6042973 20.2804696 17.5179696 20.4597652 C 16.7144527 22.259375 15.738280399999999 25.194530399999998 15.246875 27.3328125 C 13.4539054 35.108984799999995 14.6492196 41.703125 18.819530399999998 47.0222652 C 19.2976554 47.6265625 19.3175777 47.453905400000004 18.6535152 48.250780400000004 C 15.1738277 52.434374999999996 13.5070304 56.578125 14.005077700000001 59.81875 C 14.0914054 60.396484799999996 14.078125 60.389844599999996 15.1605473 60.389844599999996 C 18.6003902 60.389844599999996 22.226172299999998 58.1519527 25.7324223 53.86875 C 26.1109375 53.4105473 26.0578125 53.4238277 26.45625 53.6761723 C 27.6980473 54.4730473 30.639844599999996 56.0402348 30.898827700000002 56.0402348 C 31.171094599999996 56.0402348 33.9003902 54.758594599999995 35.4078125 53.921875 C 35.693359799999996 53.762499999999996 35.9324223 53.642969599999994 35.9324223 53.6496098 C 36.0453125 53.828905400000004 37.227344599999995 55.1039054 37.7785152 55.6417973 C 40.5210946 58.3113277 43.45625 59.7257804 46.8894527 60.0113277 C 47.440625 60.0578125 47.49375 60.0246098 47.6132804 59.473437499999996 C 48.250780400000004 56.5117196 46.9625 52.5738277 43.9675777 48.3238277 L 43.4230473 47.546875 L 43.6886723 47.2347652 C 49.2070304 40.733594599999996 49.5257804 31.788672299999998 44.6382804 20.346875 L 44.5519527 20.134375 L 47.5070304 21.5953125 C 53.603125 24.6101554 54.9378902 25.1613277 56.153124999999996 25.1613277 C 57.7601554 25.1613277 57.428125 23.693749999999998 55.2035152 20.898047299999998 C 48.4832027 12.5042973 43.1707027 10.073827699999999 37.2671875 12.7035152 L 36.6496098 12.9824223 L 36.6828125 12.8230473 C 36.888672299999996 11.8867196 36.9949223 9.7617196 36.888672299999996 8.778905400000001 C 36.5433598 5.6046875 35.1289054 3.3402348 32.3066402 1.4542973000000001 C 31.4167973 0.8566402 31.3769527 0.85 30.965234799999998 1.0757804\"/>\n",
              "</g>\n",
              "      </svg>\n",
              "    "
            ]
          },
          "metadata": {}
        }
      ]
    },
    {
      "cell_type": "markdown",
      "metadata": {
        "id": "7qoNtvv34e7M"
      },
      "source": [
        "#### The for loop has a couple different components:\n",
        "* The word `for`, which is a key word that tells python you're using a for loop\n",
        "* a *counter variable* (in this case called `i`, but you can put anything really), which keeps track of what step the for loop is on\n",
        "* The word `in`\n",
        "* `range(5)`, which means the for loop will loop 5 times. You can change the number of loops by changing the number inside `range`."
      ]
    },
    {
      "cell_type": "markdown",
      "metadata": {
        "id": "pxLIeztOvf5n"
      },
      "source": [
        "### 📙 **Coding Exercise:** climb the stairs, part 2!\n",
        "Now that we know how to use for loops, redo the code you wrote above to climb the stairs using a for loop instead! You should still have the same ending configuration, shown below.\n",
        "\n",
        "<img src=\"https://drive.google.com/uc?export=view&id=1n6-MlcWNPPMbV1nt2jlSjVTGJehQAQPa\" \n",
        "     width=\"400\" \n",
        "     height=\"auto\" />"
      ]
    },
    {
      "cell_type": "code",
      "metadata": {
        "id": "DLP-WQTbvf5t",
        "colab": {
          "base_uri": "https://localhost:8080/",
          "height": 521
        },
        "outputId": "799dd9b4-2800-4d01-e52e-ced00b8c64a3"
      },
      "source": [
        "initializeTurtle(map=\"stairs\")\n",
        "# YOUR CODE HERE: put your code to climb the stairs below\n",
        "for stair_no in range(4):\n",
        "  climb_stair()"
      ],
      "execution_count": null,
      "outputs": [
        {
          "output_type": "display_data",
          "data": {
            "text/plain": [
              "<IPython.core.display.HTML object>"
            ],
            "text/html": [
              "\n",
              "      <svg width=\"500\" height=\"500\">\n",
              "        <rect width=\"100%\" height=\"100%\" fill=\"LightBlue\"/>\n",
              "        <line x1=\"3\" y1=\"3\" x2=\"3\" y2=\"497\" stroke-linecap=\"round\" style=\"stroke:blue;stroke-width:5\"/><line x1=\"3\" y1=\"497\" x2=\"497\" y2=\"497\" stroke-linecap=\"round\" style=\"stroke:blue;stroke-width:5\"/><line x1=\"497\" y1=\"497\" x2=\"497\" y2=\"3\" stroke-linecap=\"round\" style=\"stroke:blue;stroke-width:5\"/><line x1=\"497\" y1=\"3\" x2=\"3\" y2=\"3\" stroke-linecap=\"round\" style=\"stroke:blue;stroke-width:5\"/><line x1=\"100\" y1=\"500\" x2=\"100\" y2=\"400\" stroke-linecap=\"round\" style=\"stroke:blue;stroke-width:5\"/><line x1=\"100\" y1=\"400\" x2=\"200\" y2=\"400\" stroke-linecap=\"round\" style=\"stroke:blue;stroke-width:5\"/><line x1=\"200\" y1=\"400\" x2=\"200\" y2=\"300\" stroke-linecap=\"round\" style=\"stroke:blue;stroke-width:5\"/><line x1=\"200\" y1=\"300\" x2=\"300\" y2=\"300\" stroke-linecap=\"round\" style=\"stroke:blue;stroke-width:5\"/><line x1=\"300\" y1=\"300\" x2=\"300\" y2=\"200\" stroke-linecap=\"round\" style=\"stroke:blue;stroke-width:5\"/><line x1=\"300\" y1=\"200\" x2=\"400\" y2=\"200\" stroke-linecap=\"round\" style=\"stroke:blue;stroke-width:5\"/><line x1=\"400\" y1=\"200\" x2=\"400\" y2=\"100\" stroke-linecap=\"round\" style=\"stroke:blue;stroke-width:5\"/><line x1=\"400\" y1=\"100\" x2=\"500\" y2=\"100\" stroke-linecap=\"round\" style=\"stroke:blue;stroke-width:5\"/><line x1=\"44\" y1=\"44\" x2=\"56\" y2=\"56\" stroke-linecap=\"round\" style=\"stroke:black;stroke-width:2\"/><line x1=\"44\" y1=\"56\" x2=\"56\" y2=\"44\" stroke-linecap=\"round\" style=\"stroke:black;stroke-width:2\"/><line x1=\"44\" y1=\"144\" x2=\"56\" y2=\"156\" stroke-linecap=\"round\" style=\"stroke:black;stroke-width:2\"/><line x1=\"44\" y1=\"156\" x2=\"56\" y2=\"144\" stroke-linecap=\"round\" style=\"stroke:black;stroke-width:2\"/><line x1=\"44\" y1=\"244\" x2=\"56\" y2=\"256\" stroke-linecap=\"round\" style=\"stroke:black;stroke-width:2\"/><line x1=\"44\" y1=\"256\" x2=\"56\" y2=\"244\" stroke-linecap=\"round\" style=\"stroke:black;stroke-width:2\"/><line x1=\"44\" y1=\"344\" x2=\"56\" y2=\"356\" stroke-linecap=\"round\" style=\"stroke:black;stroke-width:2\"/><line x1=\"44\" y1=\"356\" x2=\"56\" y2=\"344\" stroke-linecap=\"round\" style=\"stroke:black;stroke-width:2\"/><line x1=\"44\" y1=\"444\" x2=\"56\" y2=\"456\" stroke-linecap=\"round\" style=\"stroke:black;stroke-width:2\"/><line x1=\"44\" y1=\"456\" x2=\"56\" y2=\"444\" stroke-linecap=\"round\" style=\"stroke:black;stroke-width:2\"/><line x1=\"144\" y1=\"44\" x2=\"156\" y2=\"56\" stroke-linecap=\"round\" style=\"stroke:black;stroke-width:2\"/><line x1=\"144\" y1=\"56\" x2=\"156\" y2=\"44\" stroke-linecap=\"round\" style=\"stroke:black;stroke-width:2\"/><line x1=\"144\" y1=\"144\" x2=\"156\" y2=\"156\" stroke-linecap=\"round\" style=\"stroke:black;stroke-width:2\"/><line x1=\"144\" y1=\"156\" x2=\"156\" y2=\"144\" stroke-linecap=\"round\" style=\"stroke:black;stroke-width:2\"/><line x1=\"144\" y1=\"244\" x2=\"156\" y2=\"256\" stroke-linecap=\"round\" style=\"stroke:black;stroke-width:2\"/><line x1=\"144\" y1=\"256\" x2=\"156\" y2=\"244\" stroke-linecap=\"round\" style=\"stroke:black;stroke-width:2\"/><line x1=\"144\" y1=\"344\" x2=\"156\" y2=\"356\" stroke-linecap=\"round\" style=\"stroke:black;stroke-width:2\"/><line x1=\"144\" y1=\"356\" x2=\"156\" y2=\"344\" stroke-linecap=\"round\" style=\"stroke:black;stroke-width:2\"/><line x1=\"144\" y1=\"444\" x2=\"156\" y2=\"456\" stroke-linecap=\"round\" style=\"stroke:black;stroke-width:2\"/><line x1=\"144\" y1=\"456\" x2=\"156\" y2=\"444\" stroke-linecap=\"round\" style=\"stroke:black;stroke-width:2\"/><line x1=\"244\" y1=\"44\" x2=\"256\" y2=\"56\" stroke-linecap=\"round\" style=\"stroke:black;stroke-width:2\"/><line x1=\"244\" y1=\"56\" x2=\"256\" y2=\"44\" stroke-linecap=\"round\" style=\"stroke:black;stroke-width:2\"/><line x1=\"244\" y1=\"144\" x2=\"256\" y2=\"156\" stroke-linecap=\"round\" style=\"stroke:black;stroke-width:2\"/><line x1=\"244\" y1=\"156\" x2=\"256\" y2=\"144\" stroke-linecap=\"round\" style=\"stroke:black;stroke-width:2\"/><line x1=\"244\" y1=\"244\" x2=\"256\" y2=\"256\" stroke-linecap=\"round\" style=\"stroke:black;stroke-width:2\"/><line x1=\"244\" y1=\"256\" x2=\"256\" y2=\"244\" stroke-linecap=\"round\" style=\"stroke:black;stroke-width:2\"/><line x1=\"244\" y1=\"344\" x2=\"256\" y2=\"356\" stroke-linecap=\"round\" style=\"stroke:black;stroke-width:2\"/><line x1=\"244\" y1=\"356\" x2=\"256\" y2=\"344\" stroke-linecap=\"round\" style=\"stroke:black;stroke-width:2\"/><line x1=\"244\" y1=\"444\" x2=\"256\" y2=\"456\" stroke-linecap=\"round\" style=\"stroke:black;stroke-width:2\"/><line x1=\"244\" y1=\"456\" x2=\"256\" y2=\"444\" stroke-linecap=\"round\" style=\"stroke:black;stroke-width:2\"/><line x1=\"344\" y1=\"44\" x2=\"356\" y2=\"56\" stroke-linecap=\"round\" style=\"stroke:black;stroke-width:2\"/><line x1=\"344\" y1=\"56\" x2=\"356\" y2=\"44\" stroke-linecap=\"round\" style=\"stroke:black;stroke-width:2\"/><line x1=\"344\" y1=\"144\" x2=\"356\" y2=\"156\" stroke-linecap=\"round\" style=\"stroke:black;stroke-width:2\"/><line x1=\"344\" y1=\"156\" x2=\"356\" y2=\"144\" stroke-linecap=\"round\" style=\"stroke:black;stroke-width:2\"/><line x1=\"344\" y1=\"244\" x2=\"356\" y2=\"256\" stroke-linecap=\"round\" style=\"stroke:black;stroke-width:2\"/><line x1=\"344\" y1=\"256\" x2=\"356\" y2=\"244\" stroke-linecap=\"round\" style=\"stroke:black;stroke-width:2\"/><line x1=\"344\" y1=\"344\" x2=\"356\" y2=\"356\" stroke-linecap=\"round\" style=\"stroke:black;stroke-width:2\"/><line x1=\"344\" y1=\"356\" x2=\"356\" y2=\"344\" stroke-linecap=\"round\" style=\"stroke:black;stroke-width:2\"/><line x1=\"344\" y1=\"444\" x2=\"356\" y2=\"456\" stroke-linecap=\"round\" style=\"stroke:black;stroke-width:2\"/><line x1=\"344\" y1=\"456\" x2=\"356\" y2=\"444\" stroke-linecap=\"round\" style=\"stroke:black;stroke-width:2\"/><line x1=\"444\" y1=\"44\" x2=\"456\" y2=\"56\" stroke-linecap=\"round\" style=\"stroke:black;stroke-width:2\"/><line x1=\"444\" y1=\"56\" x2=\"456\" y2=\"44\" stroke-linecap=\"round\" style=\"stroke:black;stroke-width:2\"/><line x1=\"444\" y1=\"144\" x2=\"456\" y2=\"156\" stroke-linecap=\"round\" style=\"stroke:black;stroke-width:2\"/><line x1=\"444\" y1=\"156\" x2=\"456\" y2=\"144\" stroke-linecap=\"round\" style=\"stroke:black;stroke-width:2\"/><line x1=\"444\" y1=\"244\" x2=\"456\" y2=\"256\" stroke-linecap=\"round\" style=\"stroke:black;stroke-width:2\"/><line x1=\"444\" y1=\"256\" x2=\"456\" y2=\"244\" stroke-linecap=\"round\" style=\"stroke:black;stroke-width:2\"/><line x1=\"444\" y1=\"344\" x2=\"456\" y2=\"356\" stroke-linecap=\"round\" style=\"stroke:black;stroke-width:2\"/><line x1=\"444\" y1=\"356\" x2=\"456\" y2=\"344\" stroke-linecap=\"round\" style=\"stroke:black;stroke-width:2\"/><line x1=\"444\" y1=\"444\" x2=\"456\" y2=\"456\" stroke-linecap=\"round\" style=\"stroke:black;stroke-width:2\"/><line x1=\"444\" y1=\"456\" x2=\"456\" y2=\"444\" stroke-linecap=\"round\" style=\"stroke:black;stroke-width:2\"/>\n",
              "        \n",
              "        <g visibility=visible transform=\"rotate(90,450.0,50.0) translate(419.4, 19.400000000000002)\">\n",
              "<path style=\" stroke:none;fill-rule:evenodd;fill:green;fill-opacity:1;\" d=\"M 30.965234799999998 1.0757804 C 27.3859375 3.0613276999999997 25.519922299999998 6.9261723 25.626172299999997 12.1257804 L 25.6460946 13.0089848 L 25.1347652 12.7433598 C 22.910155399999997 11.6011723 20.3269527 11.3421875 17.690625 12.0128902 C 14.396875 12.8363277 11.0765625 15.565624999999999 7.4707026999999995 20.3867196 C 5.20625 23.421484799999998 4.5554696 24.882422299999998 5.1730472999999995 25.546484799999998 L 5.365625 25.758984799999997 L 5.9832027000000005 25.758984799999997 C 7.2050776999999995 25.758984799999997 8.2078125 25.3074223 13.91875 22.1664054 C 15.9574223 21.0441402 17.6308598 20.1277348 17.6441402 20.1277348 C 17.657422299999997 20.1277348 17.6042973 20.2804696 17.5179696 20.4597652 C 16.7144527 22.259375 15.738280399999999 25.194530399999998 15.246875 27.3328125 C 13.4539054 35.108984799999995 14.6492196 41.703125 18.819530399999998 47.0222652 C 19.2976554 47.6265625 19.3175777 47.453905400000004 18.6535152 48.250780400000004 C 15.1738277 52.434374999999996 13.5070304 56.578125 14.005077700000001 59.81875 C 14.0914054 60.396484799999996 14.078125 60.389844599999996 15.1605473 60.389844599999996 C 18.6003902 60.389844599999996 22.226172299999998 58.1519527 25.7324223 53.86875 C 26.1109375 53.4105473 26.0578125 53.4238277 26.45625 53.6761723 C 27.6980473 54.4730473 30.639844599999996 56.0402348 30.898827700000002 56.0402348 C 31.171094599999996 56.0402348 33.9003902 54.758594599999995 35.4078125 53.921875 C 35.693359799999996 53.762499999999996 35.9324223 53.642969599999994 35.9324223 53.6496098 C 36.0453125 53.828905400000004 37.227344599999995 55.1039054 37.7785152 55.6417973 C 40.5210946 58.3113277 43.45625 59.7257804 46.8894527 60.0113277 C 47.440625 60.0578125 47.49375 60.0246098 47.6132804 59.473437499999996 C 48.250780400000004 56.5117196 46.9625 52.5738277 43.9675777 48.3238277 L 43.4230473 47.546875 L 43.6886723 47.2347652 C 49.2070304 40.733594599999996 49.5257804 31.788672299999998 44.6382804 20.346875 L 44.5519527 20.134375 L 47.5070304 21.5953125 C 53.603125 24.6101554 54.9378902 25.1613277 56.153124999999996 25.1613277 C 57.7601554 25.1613277 57.428125 23.693749999999998 55.2035152 20.898047299999998 C 48.4832027 12.5042973 43.1707027 10.073827699999999 37.2671875 12.7035152 L 36.6496098 12.9824223 L 36.6828125 12.8230473 C 36.888672299999996 11.8867196 36.9949223 9.7617196 36.888672299999996 8.778905400000001 C 36.5433598 5.6046875 35.1289054 3.3402348 32.3066402 1.4542973000000001 C 31.4167973 0.8566402 31.3769527 0.85 30.965234799999998 1.0757804\"/>\n",
              "</g>\n",
              "      </svg>\n",
              "    "
            ]
          },
          "metadata": {}
        }
      ]
    },
    {
      "cell_type": "markdown",
      "metadata": {
        "id": "dJZAvW6zxnsu"
      },
      "source": [
        "## 🔶 **New World Object**: Pearls!\n",
        "Now that we can move through the world smoothly with our knowledge of **functions** and **for loops**, it's time to introduce something new about the world: **pearls!** Our turtle has the ability to pick up and put down pearls, and with this ability, we have two new functions available to us:\n",
        "1. Pick up a pearl using:\n",
        "```\n",
        "pick_pearl()\n",
        "```\n",
        "2. Put down a pearl using:\n",
        "```\n",
        "put_pearl()\n",
        "```\n",
        "\n",
        "Let's see how these functions work in practice. Run the cell below to see the turtle put down and pick up a pearl."
      ]
    },
    {
      "cell_type": "code",
      "metadata": {
        "id": "s2H6elvByhTN",
        "colab": {
          "base_uri": "https://localhost:8080/",
          "height": 221
        },
        "outputId": "2e59eac8-6022-4714-932c-fdf0a3fc7524"
      },
      "source": [
        "initializeTurtle(map=\"tiny\")\n",
        "go_forward()\n",
        "put_pearl() # puts down a pearl\n",
        "turn_left()\n",
        "go_forward()\n",
        "turn_left()\n",
        "turn_left()\n",
        "go_forward()\n",
        "pick_pearl() # picks up the pearl\n",
        "turn_right()\n",
        "go_forward()"
      ],
      "execution_count": null,
      "outputs": [
        {
          "output_type": "display_data",
          "data": {
            "text/plain": [
              "<IPython.core.display.HTML object>"
            ],
            "text/html": [
              "\n",
              "      <svg width=\"200\" height=\"200\">\n",
              "        <rect width=\"100%\" height=\"100%\" fill=\"LightBlue\"/>\n",
              "        <line x1=\"3\" y1=\"3\" x2=\"3\" y2=\"197\" stroke-linecap=\"round\" style=\"stroke:blue;stroke-width:5\"/><line x1=\"3\" y1=\"197\" x2=\"197\" y2=\"197\" stroke-linecap=\"round\" style=\"stroke:blue;stroke-width:5\"/><line x1=\"197\" y1=\"197\" x2=\"197\" y2=\"3\" stroke-linecap=\"round\" style=\"stroke:blue;stroke-width:5\"/><line x1=\"197\" y1=\"3\" x2=\"3\" y2=\"3\" stroke-linecap=\"round\" style=\"stroke:blue;stroke-width:5\"/><line x1=\"44\" y1=\"44\" x2=\"56\" y2=\"56\" stroke-linecap=\"round\" style=\"stroke:black;stroke-width:2\"/><line x1=\"44\" y1=\"56\" x2=\"56\" y2=\"44\" stroke-linecap=\"round\" style=\"stroke:black;stroke-width:2\"/><line x1=\"44\" y1=\"144\" x2=\"56\" y2=\"156\" stroke-linecap=\"round\" style=\"stroke:black;stroke-width:2\"/><line x1=\"44\" y1=\"156\" x2=\"56\" y2=\"144\" stroke-linecap=\"round\" style=\"stroke:black;stroke-width:2\"/><line x1=\"144\" y1=\"44\" x2=\"156\" y2=\"56\" stroke-linecap=\"round\" style=\"stroke:black;stroke-width:2\"/><line x1=\"144\" y1=\"56\" x2=\"156\" y2=\"44\" stroke-linecap=\"round\" style=\"stroke:black;stroke-width:2\"/><line x1=\"144\" y1=\"144\" x2=\"156\" y2=\"156\" stroke-linecap=\"round\" style=\"stroke:black;stroke-width:2\"/><line x1=\"144\" y1=\"156\" x2=\"156\" y2=\"144\" stroke-linecap=\"round\" style=\"stroke:black;stroke-width:2\"/>\n",
              "        \n",
              "        <g visibility=visible transform=\"rotate(270,50.0,150.0) translate(19.400000000000002, 119.4)\">\n",
              "<path style=\" stroke:none;fill-rule:evenodd;fill:green;fill-opacity:1;\" d=\"M 30.965234799999998 1.0757804 C 27.3859375 3.0613276999999997 25.519922299999998 6.9261723 25.626172299999997 12.1257804 L 25.6460946 13.0089848 L 25.1347652 12.7433598 C 22.910155399999997 11.6011723 20.3269527 11.3421875 17.690625 12.0128902 C 14.396875 12.8363277 11.0765625 15.565624999999999 7.4707026999999995 20.3867196 C 5.20625 23.421484799999998 4.5554696 24.882422299999998 5.1730472999999995 25.546484799999998 L 5.365625 25.758984799999997 L 5.9832027000000005 25.758984799999997 C 7.2050776999999995 25.758984799999997 8.2078125 25.3074223 13.91875 22.1664054 C 15.9574223 21.0441402 17.6308598 20.1277348 17.6441402 20.1277348 C 17.657422299999997 20.1277348 17.6042973 20.2804696 17.5179696 20.4597652 C 16.7144527 22.259375 15.738280399999999 25.194530399999998 15.246875 27.3328125 C 13.4539054 35.108984799999995 14.6492196 41.703125 18.819530399999998 47.0222652 C 19.2976554 47.6265625 19.3175777 47.453905400000004 18.6535152 48.250780400000004 C 15.1738277 52.434374999999996 13.5070304 56.578125 14.005077700000001 59.81875 C 14.0914054 60.396484799999996 14.078125 60.389844599999996 15.1605473 60.389844599999996 C 18.6003902 60.389844599999996 22.226172299999998 58.1519527 25.7324223 53.86875 C 26.1109375 53.4105473 26.0578125 53.4238277 26.45625 53.6761723 C 27.6980473 54.4730473 30.639844599999996 56.0402348 30.898827700000002 56.0402348 C 31.171094599999996 56.0402348 33.9003902 54.758594599999995 35.4078125 53.921875 C 35.693359799999996 53.762499999999996 35.9324223 53.642969599999994 35.9324223 53.6496098 C 36.0453125 53.828905400000004 37.227344599999995 55.1039054 37.7785152 55.6417973 C 40.5210946 58.3113277 43.45625 59.7257804 46.8894527 60.0113277 C 47.440625 60.0578125 47.49375 60.0246098 47.6132804 59.473437499999996 C 48.250780400000004 56.5117196 46.9625 52.5738277 43.9675777 48.3238277 L 43.4230473 47.546875 L 43.6886723 47.2347652 C 49.2070304 40.733594599999996 49.5257804 31.788672299999998 44.6382804 20.346875 L 44.5519527 20.134375 L 47.5070304 21.5953125 C 53.603125 24.6101554 54.9378902 25.1613277 56.153124999999996 25.1613277 C 57.7601554 25.1613277 57.428125 23.693749999999998 55.2035152 20.898047299999998 C 48.4832027 12.5042973 43.1707027 10.073827699999999 37.2671875 12.7035152 L 36.6496098 12.9824223 L 36.6828125 12.8230473 C 36.888672299999996 11.8867196 36.9949223 9.7617196 36.888672299999996 8.778905400000001 C 36.5433598 5.6046875 35.1289054 3.3402348 32.3066402 1.4542973000000001 C 31.4167973 0.8566402 31.3769527 0.85 30.965234799999998 1.0757804\"/>\n",
              "</g>\n",
              "      </svg>\n",
              "    "
            ]
          },
          "metadata": {}
        }
      ]
    },
    {
      "cell_type": "markdown",
      "metadata": {
        "id": "8Ig2hQ32y-1E"
      },
      "source": [
        "You'll notice that the pearl has a number 1 on it: if a turtle places more than one pearl in a spot, that number will increase!\n",
        "\n",
        "Let's practice using these functions with some exercises!"
      ]
    },
    {
      "cell_type": "markdown",
      "metadata": {
        "id": "s5zpT0_HFtxi"
      },
      "source": [
        "### 📙 **Coding Exercise:** fill the pothole!\n",
        "In this new map that we're loading in, we have a road with a pothole in it! It's your job to fill in the pothole with a pearl. Here are the functions you have to work with:\n",
        "\n",
        "```\n",
        "go_forward() # turtle moves forward\n",
        "turn_left() # turtle turns left\n",
        "turn_right() # YOU MADE THIS: turtle turns right\n",
        "climb_stair() # YOU MADE THIS: turtle climbs one stair\n",
        "pick_pearl() # picks up one pearl\n",
        "put_pearl() # puts down one pearl\n",
        "```\n",
        "\n",
        "Your goal is to get to this ending configuration:\n",
        "\n",
        "<img src=\"https://drive.google.com/uc?export=view&id=1McVlp6KKkwPetXEASMD-GvFf7RwszhgP\" \n",
        "     width=\"400\" \n",
        "     height=\"auto\" />\n"
      ]
    },
    {
      "cell_type": "code",
      "metadata": {
        "id": "d9fPvAJjFkW1",
        "colab": {
          "base_uri": "https://localhost:8080/",
          "height": 421
        },
        "outputId": "1c42c5e1-778d-4c29-9787-d1954cb23aca"
      },
      "source": [
        "initializeTurtle(map=\"small pothole\")\n",
        "# YOUR CODE HERE: put your code to fill in the pothole below\n",
        "for i in range(2):\n",
        "  go_forward()\n",
        "turn_right()\n",
        "go_forward()\n",
        "#for i in range(6):\n",
        "put_pearl()\n",
        "#for i in range(6):\n",
        "pick_pearl()\n",
        "turn_left()\n",
        "climb_stair()"
      ],
      "execution_count": null,
      "outputs": [
        {
          "output_type": "display_data",
          "data": {
            "text/plain": [
              "<IPython.core.display.HTML object>"
            ],
            "text/html": [
              "\n",
              "      <svg width=\"400\" height=\"400\">\n",
              "        <rect width=\"100%\" height=\"100%\" fill=\"LightBlue\"/>\n",
              "        <line x1=\"3\" y1=\"3\" x2=\"3\" y2=\"397\" stroke-linecap=\"round\" style=\"stroke:blue;stroke-width:5\"/><line x1=\"3\" y1=\"397\" x2=\"397\" y2=\"397\" stroke-linecap=\"round\" style=\"stroke:blue;stroke-width:5\"/><line x1=\"397\" y1=\"397\" x2=\"397\" y2=\"3\" stroke-linecap=\"round\" style=\"stroke:blue;stroke-width:5\"/><line x1=\"397\" y1=\"3\" x2=\"3\" y2=\"3\" stroke-linecap=\"round\" style=\"stroke:blue;stroke-width:5\"/><line x1=\"0\" y1=\"300\" x2=\"200\" y2=\"300\" stroke-linecap=\"round\" style=\"stroke:blue;stroke-width:5\"/><line x1=\"200\" y1=\"300\" x2=\"200\" y2=\"400\" stroke-linecap=\"round\" style=\"stroke:blue;stroke-width:5\"/><line x1=\"300\" y1=\"300\" x2=\"300\" y2=\"400\" stroke-linecap=\"round\" style=\"stroke:blue;stroke-width:5\"/><line x1=\"300\" y1=\"300\" x2=\"400\" y2=\"300\" stroke-linecap=\"round\" style=\"stroke:blue;stroke-width:5\"/><line x1=\"44\" y1=\"44\" x2=\"56\" y2=\"56\" stroke-linecap=\"round\" style=\"stroke:black;stroke-width:2\"/><line x1=\"44\" y1=\"56\" x2=\"56\" y2=\"44\" stroke-linecap=\"round\" style=\"stroke:black;stroke-width:2\"/><line x1=\"44\" y1=\"144\" x2=\"56\" y2=\"156\" stroke-linecap=\"round\" style=\"stroke:black;stroke-width:2\"/><line x1=\"44\" y1=\"156\" x2=\"56\" y2=\"144\" stroke-linecap=\"round\" style=\"stroke:black;stroke-width:2\"/><line x1=\"44\" y1=\"244\" x2=\"56\" y2=\"256\" stroke-linecap=\"round\" style=\"stroke:black;stroke-width:2\"/><line x1=\"44\" y1=\"256\" x2=\"56\" y2=\"244\" stroke-linecap=\"round\" style=\"stroke:black;stroke-width:2\"/><line x1=\"44\" y1=\"344\" x2=\"56\" y2=\"356\" stroke-linecap=\"round\" style=\"stroke:black;stroke-width:2\"/><line x1=\"44\" y1=\"356\" x2=\"56\" y2=\"344\" stroke-linecap=\"round\" style=\"stroke:black;stroke-width:2\"/><line x1=\"144\" y1=\"44\" x2=\"156\" y2=\"56\" stroke-linecap=\"round\" style=\"stroke:black;stroke-width:2\"/><line x1=\"144\" y1=\"56\" x2=\"156\" y2=\"44\" stroke-linecap=\"round\" style=\"stroke:black;stroke-width:2\"/><line x1=\"144\" y1=\"144\" x2=\"156\" y2=\"156\" stroke-linecap=\"round\" style=\"stroke:black;stroke-width:2\"/><line x1=\"144\" y1=\"156\" x2=\"156\" y2=\"144\" stroke-linecap=\"round\" style=\"stroke:black;stroke-width:2\"/><line x1=\"144\" y1=\"244\" x2=\"156\" y2=\"256\" stroke-linecap=\"round\" style=\"stroke:black;stroke-width:2\"/><line x1=\"144\" y1=\"256\" x2=\"156\" y2=\"244\" stroke-linecap=\"round\" style=\"stroke:black;stroke-width:2\"/><line x1=\"144\" y1=\"344\" x2=\"156\" y2=\"356\" stroke-linecap=\"round\" style=\"stroke:black;stroke-width:2\"/><line x1=\"144\" y1=\"356\" x2=\"156\" y2=\"344\" stroke-linecap=\"round\" style=\"stroke:black;stroke-width:2\"/><line x1=\"244\" y1=\"44\" x2=\"256\" y2=\"56\" stroke-linecap=\"round\" style=\"stroke:black;stroke-width:2\"/><line x1=\"244\" y1=\"56\" x2=\"256\" y2=\"44\" stroke-linecap=\"round\" style=\"stroke:black;stroke-width:2\"/><line x1=\"244\" y1=\"144\" x2=\"256\" y2=\"156\" stroke-linecap=\"round\" style=\"stroke:black;stroke-width:2\"/><line x1=\"244\" y1=\"156\" x2=\"256\" y2=\"144\" stroke-linecap=\"round\" style=\"stroke:black;stroke-width:2\"/><line x1=\"244\" y1=\"244\" x2=\"256\" y2=\"256\" stroke-linecap=\"round\" style=\"stroke:black;stroke-width:2\"/><line x1=\"244\" y1=\"256\" x2=\"256\" y2=\"244\" stroke-linecap=\"round\" style=\"stroke:black;stroke-width:2\"/><line x1=\"244\" y1=\"344\" x2=\"256\" y2=\"356\" stroke-linecap=\"round\" style=\"stroke:black;stroke-width:2\"/><line x1=\"244\" y1=\"356\" x2=\"256\" y2=\"344\" stroke-linecap=\"round\" style=\"stroke:black;stroke-width:2\"/><line x1=\"344\" y1=\"44\" x2=\"356\" y2=\"56\" stroke-linecap=\"round\" style=\"stroke:black;stroke-width:2\"/><line x1=\"344\" y1=\"56\" x2=\"356\" y2=\"44\" stroke-linecap=\"round\" style=\"stroke:black;stroke-width:2\"/><line x1=\"344\" y1=\"144\" x2=\"356\" y2=\"156\" stroke-linecap=\"round\" style=\"stroke:black;stroke-width:2\"/><line x1=\"344\" y1=\"156\" x2=\"356\" y2=\"144\" stroke-linecap=\"round\" style=\"stroke:black;stroke-width:2\"/><line x1=\"344\" y1=\"244\" x2=\"356\" y2=\"256\" stroke-linecap=\"round\" style=\"stroke:black;stroke-width:2\"/><line x1=\"344\" y1=\"256\" x2=\"356\" y2=\"244\" stroke-linecap=\"round\" style=\"stroke:black;stroke-width:2\"/><line x1=\"344\" y1=\"344\" x2=\"356\" y2=\"356\" stroke-linecap=\"round\" style=\"stroke:black;stroke-width:2\"/><line x1=\"344\" y1=\"356\" x2=\"356\" y2=\"344\" stroke-linecap=\"round\" style=\"stroke:black;stroke-width:2\"/>\n",
              "        \n",
              "        <g visibility=visible transform=\"rotate(90,350.0,250.0) translate(319.4, 219.4)\">\n",
              "<path style=\" stroke:none;fill-rule:evenodd;fill:green;fill-opacity:1;\" d=\"M 30.965234799999998 1.0757804 C 27.3859375 3.0613276999999997 25.519922299999998 6.9261723 25.626172299999997 12.1257804 L 25.6460946 13.0089848 L 25.1347652 12.7433598 C 22.910155399999997 11.6011723 20.3269527 11.3421875 17.690625 12.0128902 C 14.396875 12.8363277 11.0765625 15.565624999999999 7.4707026999999995 20.3867196 C 5.20625 23.421484799999998 4.5554696 24.882422299999998 5.1730472999999995 25.546484799999998 L 5.365625 25.758984799999997 L 5.9832027000000005 25.758984799999997 C 7.2050776999999995 25.758984799999997 8.2078125 25.3074223 13.91875 22.1664054 C 15.9574223 21.0441402 17.6308598 20.1277348 17.6441402 20.1277348 C 17.657422299999997 20.1277348 17.6042973 20.2804696 17.5179696 20.4597652 C 16.7144527 22.259375 15.738280399999999 25.194530399999998 15.246875 27.3328125 C 13.4539054 35.108984799999995 14.6492196 41.703125 18.819530399999998 47.0222652 C 19.2976554 47.6265625 19.3175777 47.453905400000004 18.6535152 48.250780400000004 C 15.1738277 52.434374999999996 13.5070304 56.578125 14.005077700000001 59.81875 C 14.0914054 60.396484799999996 14.078125 60.389844599999996 15.1605473 60.389844599999996 C 18.6003902 60.389844599999996 22.226172299999998 58.1519527 25.7324223 53.86875 C 26.1109375 53.4105473 26.0578125 53.4238277 26.45625 53.6761723 C 27.6980473 54.4730473 30.639844599999996 56.0402348 30.898827700000002 56.0402348 C 31.171094599999996 56.0402348 33.9003902 54.758594599999995 35.4078125 53.921875 C 35.693359799999996 53.762499999999996 35.9324223 53.642969599999994 35.9324223 53.6496098 C 36.0453125 53.828905400000004 37.227344599999995 55.1039054 37.7785152 55.6417973 C 40.5210946 58.3113277 43.45625 59.7257804 46.8894527 60.0113277 C 47.440625 60.0578125 47.49375 60.0246098 47.6132804 59.473437499999996 C 48.250780400000004 56.5117196 46.9625 52.5738277 43.9675777 48.3238277 L 43.4230473 47.546875 L 43.6886723 47.2347652 C 49.2070304 40.733594599999996 49.5257804 31.788672299999998 44.6382804 20.346875 L 44.5519527 20.134375 L 47.5070304 21.5953125 C 53.603125 24.6101554 54.9378902 25.1613277 56.153124999999996 25.1613277 C 57.7601554 25.1613277 57.428125 23.693749999999998 55.2035152 20.898047299999998 C 48.4832027 12.5042973 43.1707027 10.073827699999999 37.2671875 12.7035152 L 36.6496098 12.9824223 L 36.6828125 12.8230473 C 36.888672299999996 11.8867196 36.9949223 9.7617196 36.888672299999996 8.778905400000001 C 36.5433598 5.6046875 35.1289054 3.3402348 32.3066402 1.4542973000000001 C 31.4167973 0.8566402 31.3769527 0.85 30.965234799999998 1.0757804\"/>\n",
              "</g>\n",
              "      </svg>\n",
              "    "
            ]
          },
          "metadata": {}
        }
      ]
    },
    {
      "cell_type": "markdown",
      "metadata": {
        "id": "4JGd_Om4zRWv"
      },
      "source": [
        "### 📙 **Coding Exercise:** clean the stairs!\n",
        "In this new map that we're loading in, our stairs are covered in pearls! It's your job to clean up the stairs so there aren't any pearls left at the end. Here are the functions you have to work with:\n",
        "\n",
        "```\n",
        "go_forward() # turtle moves forward\n",
        "turn_left() # turtle turns left\n",
        "turn_right() # YOU MADE THIS: turtle turns right\n",
        "climb_stair() # YOU MADE THIS: turtle climbs one stair\n",
        "pick_pearl() # picks up one pearl\n",
        "put_pearl() # puts down one pearl\n",
        "```\n",
        "\n",
        "Your goal is still to get to this same ending configuration:\n",
        "\n",
        "<img src=\"https://drive.google.com/uc?export=view&id=1n6-MlcWNPPMbV1nt2jlSjVTGJehQAQPa\" \n",
        "     width=\"400\" \n",
        "     height=\"auto\" />\n"
      ]
    },
    {
      "cell_type": "code",
      "metadata": {
        "id": "LMgHS00izRW3",
        "colab": {
          "base_uri": "https://localhost:8080/",
          "height": 521
        },
        "outputId": "ae6e1ce7-d68b-4a28-d902-6397be818630"
      },
      "source": [
        "initializeTurtle(map=\"one pearl stairs\")\n",
        "# YOUR CODE HERE: put your code to clean the stairs below\n",
        "for stair_no in range(3):\n",
        "  climb_stair()\n",
        "  pick_pearl()\n",
        "climb_stair()\n"
      ],
      "execution_count": null,
      "outputs": [
        {
          "output_type": "display_data",
          "data": {
            "text/plain": [
              "<IPython.core.display.HTML object>"
            ],
            "text/html": [
              "\n",
              "      <svg width=\"500\" height=\"500\">\n",
              "        <rect width=\"100%\" height=\"100%\" fill=\"LightBlue\"/>\n",
              "        <line x1=\"3\" y1=\"3\" x2=\"3\" y2=\"497\" stroke-linecap=\"round\" style=\"stroke:blue;stroke-width:5\"/><line x1=\"3\" y1=\"497\" x2=\"497\" y2=\"497\" stroke-linecap=\"round\" style=\"stroke:blue;stroke-width:5\"/><line x1=\"497\" y1=\"497\" x2=\"497\" y2=\"3\" stroke-linecap=\"round\" style=\"stroke:blue;stroke-width:5\"/><line x1=\"497\" y1=\"3\" x2=\"3\" y2=\"3\" stroke-linecap=\"round\" style=\"stroke:blue;stroke-width:5\"/><line x1=\"100\" y1=\"500\" x2=\"100\" y2=\"400\" stroke-linecap=\"round\" style=\"stroke:blue;stroke-width:5\"/><line x1=\"100\" y1=\"400\" x2=\"200\" y2=\"400\" stroke-linecap=\"round\" style=\"stroke:blue;stroke-width:5\"/><line x1=\"200\" y1=\"400\" x2=\"200\" y2=\"300\" stroke-linecap=\"round\" style=\"stroke:blue;stroke-width:5\"/><line x1=\"200\" y1=\"300\" x2=\"300\" y2=\"300\" stroke-linecap=\"round\" style=\"stroke:blue;stroke-width:5\"/><line x1=\"300\" y1=\"300\" x2=\"300\" y2=\"200\" stroke-linecap=\"round\" style=\"stroke:blue;stroke-width:5\"/><line x1=\"300\" y1=\"200\" x2=\"400\" y2=\"200\" stroke-linecap=\"round\" style=\"stroke:blue;stroke-width:5\"/><line x1=\"400\" y1=\"200\" x2=\"400\" y2=\"100\" stroke-linecap=\"round\" style=\"stroke:blue;stroke-width:5\"/><line x1=\"400\" y1=\"100\" x2=\"500\" y2=\"100\" stroke-linecap=\"round\" style=\"stroke:blue;stroke-width:5\"/><line x1=\"44\" y1=\"44\" x2=\"56\" y2=\"56\" stroke-linecap=\"round\" style=\"stroke:black;stroke-width:2\"/><line x1=\"44\" y1=\"56\" x2=\"56\" y2=\"44\" stroke-linecap=\"round\" style=\"stroke:black;stroke-width:2\"/><line x1=\"44\" y1=\"144\" x2=\"56\" y2=\"156\" stroke-linecap=\"round\" style=\"stroke:black;stroke-width:2\"/><line x1=\"44\" y1=\"156\" x2=\"56\" y2=\"144\" stroke-linecap=\"round\" style=\"stroke:black;stroke-width:2\"/><line x1=\"44\" y1=\"244\" x2=\"56\" y2=\"256\" stroke-linecap=\"round\" style=\"stroke:black;stroke-width:2\"/><line x1=\"44\" y1=\"256\" x2=\"56\" y2=\"244\" stroke-linecap=\"round\" style=\"stroke:black;stroke-width:2\"/><line x1=\"44\" y1=\"344\" x2=\"56\" y2=\"356\" stroke-linecap=\"round\" style=\"stroke:black;stroke-width:2\"/><line x1=\"44\" y1=\"356\" x2=\"56\" y2=\"344\" stroke-linecap=\"round\" style=\"stroke:black;stroke-width:2\"/><line x1=\"44\" y1=\"444\" x2=\"56\" y2=\"456\" stroke-linecap=\"round\" style=\"stroke:black;stroke-width:2\"/><line x1=\"44\" y1=\"456\" x2=\"56\" y2=\"444\" stroke-linecap=\"round\" style=\"stroke:black;stroke-width:2\"/><line x1=\"144\" y1=\"44\" x2=\"156\" y2=\"56\" stroke-linecap=\"round\" style=\"stroke:black;stroke-width:2\"/><line x1=\"144\" y1=\"56\" x2=\"156\" y2=\"44\" stroke-linecap=\"round\" style=\"stroke:black;stroke-width:2\"/><line x1=\"144\" y1=\"144\" x2=\"156\" y2=\"156\" stroke-linecap=\"round\" style=\"stroke:black;stroke-width:2\"/><line x1=\"144\" y1=\"156\" x2=\"156\" y2=\"144\" stroke-linecap=\"round\" style=\"stroke:black;stroke-width:2\"/><line x1=\"144\" y1=\"244\" x2=\"156\" y2=\"256\" stroke-linecap=\"round\" style=\"stroke:black;stroke-width:2\"/><line x1=\"144\" y1=\"256\" x2=\"156\" y2=\"244\" stroke-linecap=\"round\" style=\"stroke:black;stroke-width:2\"/><line x1=\"144\" y1=\"344\" x2=\"156\" y2=\"356\" stroke-linecap=\"round\" style=\"stroke:black;stroke-width:2\"/><line x1=\"144\" y1=\"356\" x2=\"156\" y2=\"344\" stroke-linecap=\"round\" style=\"stroke:black;stroke-width:2\"/><line x1=\"144\" y1=\"444\" x2=\"156\" y2=\"456\" stroke-linecap=\"round\" style=\"stroke:black;stroke-width:2\"/><line x1=\"144\" y1=\"456\" x2=\"156\" y2=\"444\" stroke-linecap=\"round\" style=\"stroke:black;stroke-width:2\"/><line x1=\"244\" y1=\"44\" x2=\"256\" y2=\"56\" stroke-linecap=\"round\" style=\"stroke:black;stroke-width:2\"/><line x1=\"244\" y1=\"56\" x2=\"256\" y2=\"44\" stroke-linecap=\"round\" style=\"stroke:black;stroke-width:2\"/><line x1=\"244\" y1=\"144\" x2=\"256\" y2=\"156\" stroke-linecap=\"round\" style=\"stroke:black;stroke-width:2\"/><line x1=\"244\" y1=\"156\" x2=\"256\" y2=\"144\" stroke-linecap=\"round\" style=\"stroke:black;stroke-width:2\"/><line x1=\"244\" y1=\"244\" x2=\"256\" y2=\"256\" stroke-linecap=\"round\" style=\"stroke:black;stroke-width:2\"/><line x1=\"244\" y1=\"256\" x2=\"256\" y2=\"244\" stroke-linecap=\"round\" style=\"stroke:black;stroke-width:2\"/><line x1=\"244\" y1=\"344\" x2=\"256\" y2=\"356\" stroke-linecap=\"round\" style=\"stroke:black;stroke-width:2\"/><line x1=\"244\" y1=\"356\" x2=\"256\" y2=\"344\" stroke-linecap=\"round\" style=\"stroke:black;stroke-width:2\"/><line x1=\"244\" y1=\"444\" x2=\"256\" y2=\"456\" stroke-linecap=\"round\" style=\"stroke:black;stroke-width:2\"/><line x1=\"244\" y1=\"456\" x2=\"256\" y2=\"444\" stroke-linecap=\"round\" style=\"stroke:black;stroke-width:2\"/><line x1=\"344\" y1=\"44\" x2=\"356\" y2=\"56\" stroke-linecap=\"round\" style=\"stroke:black;stroke-width:2\"/><line x1=\"344\" y1=\"56\" x2=\"356\" y2=\"44\" stroke-linecap=\"round\" style=\"stroke:black;stroke-width:2\"/><line x1=\"344\" y1=\"144\" x2=\"356\" y2=\"156\" stroke-linecap=\"round\" style=\"stroke:black;stroke-width:2\"/><line x1=\"344\" y1=\"156\" x2=\"356\" y2=\"144\" stroke-linecap=\"round\" style=\"stroke:black;stroke-width:2\"/><line x1=\"344\" y1=\"244\" x2=\"356\" y2=\"256\" stroke-linecap=\"round\" style=\"stroke:black;stroke-width:2\"/><line x1=\"344\" y1=\"256\" x2=\"356\" y2=\"244\" stroke-linecap=\"round\" style=\"stroke:black;stroke-width:2\"/><line x1=\"344\" y1=\"344\" x2=\"356\" y2=\"356\" stroke-linecap=\"round\" style=\"stroke:black;stroke-width:2\"/><line x1=\"344\" y1=\"356\" x2=\"356\" y2=\"344\" stroke-linecap=\"round\" style=\"stroke:black;stroke-width:2\"/><line x1=\"344\" y1=\"444\" x2=\"356\" y2=\"456\" stroke-linecap=\"round\" style=\"stroke:black;stroke-width:2\"/><line x1=\"344\" y1=\"456\" x2=\"356\" y2=\"444\" stroke-linecap=\"round\" style=\"stroke:black;stroke-width:2\"/><line x1=\"444\" y1=\"44\" x2=\"456\" y2=\"56\" stroke-linecap=\"round\" style=\"stroke:black;stroke-width:2\"/><line x1=\"444\" y1=\"56\" x2=\"456\" y2=\"44\" stroke-linecap=\"round\" style=\"stroke:black;stroke-width:2\"/><line x1=\"444\" y1=\"144\" x2=\"456\" y2=\"156\" stroke-linecap=\"round\" style=\"stroke:black;stroke-width:2\"/><line x1=\"444\" y1=\"156\" x2=\"456\" y2=\"144\" stroke-linecap=\"round\" style=\"stroke:black;stroke-width:2\"/><line x1=\"444\" y1=\"244\" x2=\"456\" y2=\"256\" stroke-linecap=\"round\" style=\"stroke:black;stroke-width:2\"/><line x1=\"444\" y1=\"256\" x2=\"456\" y2=\"244\" stroke-linecap=\"round\" style=\"stroke:black;stroke-width:2\"/><line x1=\"444\" y1=\"344\" x2=\"456\" y2=\"356\" stroke-linecap=\"round\" style=\"stroke:black;stroke-width:2\"/><line x1=\"444\" y1=\"356\" x2=\"456\" y2=\"344\" stroke-linecap=\"round\" style=\"stroke:black;stroke-width:2\"/><line x1=\"444\" y1=\"444\" x2=\"456\" y2=\"456\" stroke-linecap=\"round\" style=\"stroke:black;stroke-width:2\"/><line x1=\"444\" y1=\"456\" x2=\"456\" y2=\"444\" stroke-linecap=\"round\" style=\"stroke:black;stroke-width:2\"/>\n",
              "        \n",
              "        <g visibility=visible transform=\"rotate(90,450.0,50.0) translate(419.4, 19.400000000000002)\">\n",
              "<path style=\" stroke:none;fill-rule:evenodd;fill:green;fill-opacity:1;\" d=\"M 30.965234799999998 1.0757804 C 27.3859375 3.0613276999999997 25.519922299999998 6.9261723 25.626172299999997 12.1257804 L 25.6460946 13.0089848 L 25.1347652 12.7433598 C 22.910155399999997 11.6011723 20.3269527 11.3421875 17.690625 12.0128902 C 14.396875 12.8363277 11.0765625 15.565624999999999 7.4707026999999995 20.3867196 C 5.20625 23.421484799999998 4.5554696 24.882422299999998 5.1730472999999995 25.546484799999998 L 5.365625 25.758984799999997 L 5.9832027000000005 25.758984799999997 C 7.2050776999999995 25.758984799999997 8.2078125 25.3074223 13.91875 22.1664054 C 15.9574223 21.0441402 17.6308598 20.1277348 17.6441402 20.1277348 C 17.657422299999997 20.1277348 17.6042973 20.2804696 17.5179696 20.4597652 C 16.7144527 22.259375 15.738280399999999 25.194530399999998 15.246875 27.3328125 C 13.4539054 35.108984799999995 14.6492196 41.703125 18.819530399999998 47.0222652 C 19.2976554 47.6265625 19.3175777 47.453905400000004 18.6535152 48.250780400000004 C 15.1738277 52.434374999999996 13.5070304 56.578125 14.005077700000001 59.81875 C 14.0914054 60.396484799999996 14.078125 60.389844599999996 15.1605473 60.389844599999996 C 18.6003902 60.389844599999996 22.226172299999998 58.1519527 25.7324223 53.86875 C 26.1109375 53.4105473 26.0578125 53.4238277 26.45625 53.6761723 C 27.6980473 54.4730473 30.639844599999996 56.0402348 30.898827700000002 56.0402348 C 31.171094599999996 56.0402348 33.9003902 54.758594599999995 35.4078125 53.921875 C 35.693359799999996 53.762499999999996 35.9324223 53.642969599999994 35.9324223 53.6496098 C 36.0453125 53.828905400000004 37.227344599999995 55.1039054 37.7785152 55.6417973 C 40.5210946 58.3113277 43.45625 59.7257804 46.8894527 60.0113277 C 47.440625 60.0578125 47.49375 60.0246098 47.6132804 59.473437499999996 C 48.250780400000004 56.5117196 46.9625 52.5738277 43.9675777 48.3238277 L 43.4230473 47.546875 L 43.6886723 47.2347652 C 49.2070304 40.733594599999996 49.5257804 31.788672299999998 44.6382804 20.346875 L 44.5519527 20.134375 L 47.5070304 21.5953125 C 53.603125 24.6101554 54.9378902 25.1613277 56.153124999999996 25.1613277 C 57.7601554 25.1613277 57.428125 23.693749999999998 55.2035152 20.898047299999998 C 48.4832027 12.5042973 43.1707027 10.073827699999999 37.2671875 12.7035152 L 36.6496098 12.9824223 L 36.6828125 12.8230473 C 36.888672299999996 11.8867196 36.9949223 9.7617196 36.888672299999996 8.778905400000001 C 36.5433598 5.6046875 35.1289054 3.3402348 32.3066402 1.4542973000000001 C 31.4167973 0.8566402 31.3769527 0.85 30.965234799999998 1.0757804\"/>\n",
              "</g>\n",
              "      </svg>\n",
              "    "
            ]
          },
          "metadata": {}
        }
      ]
    },
    {
      "cell_type": "markdown",
      "metadata": {
        "id": "ETb6epiI35vs"
      },
      "source": [
        "### 🔥 **(Challenge) Coding Exercise:** clean the (very messy) stairs!\n",
        "In this new map that we're loading in, our stairs are covered in pearls: however this time, each stair has **three pearls** on it! It's your job to clean up the stairs so there aren't any pearls left at the end. Here are the functions you have to work with:\n",
        "\n",
        "```\n",
        "go_forward() # turtle moves forward\n",
        "turn_left() # turtle turns left\n",
        "turn_right() # YOU MADE THIS: turtle turns right\n",
        "climb_stair() # YOU MADE THIS: turtle climbs one stair\n",
        "pick_pearl() # picks up one pearl\n",
        "put_pearl() # puts down one pearl\n",
        "```\n",
        "\n",
        "Your goal is still to get to this same ending configuration:\n",
        "\n",
        "<img src=\"https://drive.google.com/uc?export=view&id=1n6-MlcWNPPMbV1nt2jlSjVTGJehQAQPa\" \n",
        "     width=\"400\" \n",
        "     height=\"auto\" />\n"
      ]
    },
    {
      "cell_type": "code",
      "metadata": {
        "id": "q42CDTXx3VMb",
        "colab": {
          "base_uri": "https://localhost:8080/",
          "height": 521
        },
        "outputId": "6dfeee3f-59db-4185-a52a-e21ff516550d"
      },
      "source": [
        "initializeTurtle(map=\"many pearl stairs\")\n",
        "# YOUR CODE HERE: put your code to clean the stairs below\n",
        "for stair_no in range(3):\n",
        "  climb_stair()\n",
        "  pick_pearl()\n",
        "  pick_pearl()\n",
        "  pick_pearl()\n",
        "climb_stair()"
      ],
      "execution_count": null,
      "outputs": [
        {
          "output_type": "display_data",
          "data": {
            "text/plain": [
              "<IPython.core.display.HTML object>"
            ],
            "text/html": [
              "\n",
              "      <svg width=\"500\" height=\"500\">\n",
              "        <rect width=\"100%\" height=\"100%\" fill=\"LightBlue\"/>\n",
              "        <line x1=\"3\" y1=\"3\" x2=\"3\" y2=\"497\" stroke-linecap=\"round\" style=\"stroke:blue;stroke-width:5\"/><line x1=\"3\" y1=\"497\" x2=\"497\" y2=\"497\" stroke-linecap=\"round\" style=\"stroke:blue;stroke-width:5\"/><line x1=\"497\" y1=\"497\" x2=\"497\" y2=\"3\" stroke-linecap=\"round\" style=\"stroke:blue;stroke-width:5\"/><line x1=\"497\" y1=\"3\" x2=\"3\" y2=\"3\" stroke-linecap=\"round\" style=\"stroke:blue;stroke-width:5\"/><line x1=\"100\" y1=\"500\" x2=\"100\" y2=\"400\" stroke-linecap=\"round\" style=\"stroke:blue;stroke-width:5\"/><line x1=\"100\" y1=\"400\" x2=\"200\" y2=\"400\" stroke-linecap=\"round\" style=\"stroke:blue;stroke-width:5\"/><line x1=\"200\" y1=\"400\" x2=\"200\" y2=\"300\" stroke-linecap=\"round\" style=\"stroke:blue;stroke-width:5\"/><line x1=\"200\" y1=\"300\" x2=\"300\" y2=\"300\" stroke-linecap=\"round\" style=\"stroke:blue;stroke-width:5\"/><line x1=\"300\" y1=\"300\" x2=\"300\" y2=\"200\" stroke-linecap=\"round\" style=\"stroke:blue;stroke-width:5\"/><line x1=\"300\" y1=\"200\" x2=\"400\" y2=\"200\" stroke-linecap=\"round\" style=\"stroke:blue;stroke-width:5\"/><line x1=\"400\" y1=\"200\" x2=\"400\" y2=\"100\" stroke-linecap=\"round\" style=\"stroke:blue;stroke-width:5\"/><line x1=\"400\" y1=\"100\" x2=\"500\" y2=\"100\" stroke-linecap=\"round\" style=\"stroke:blue;stroke-width:5\"/><line x1=\"44\" y1=\"44\" x2=\"56\" y2=\"56\" stroke-linecap=\"round\" style=\"stroke:black;stroke-width:2\"/><line x1=\"44\" y1=\"56\" x2=\"56\" y2=\"44\" stroke-linecap=\"round\" style=\"stroke:black;stroke-width:2\"/><line x1=\"44\" y1=\"144\" x2=\"56\" y2=\"156\" stroke-linecap=\"round\" style=\"stroke:black;stroke-width:2\"/><line x1=\"44\" y1=\"156\" x2=\"56\" y2=\"144\" stroke-linecap=\"round\" style=\"stroke:black;stroke-width:2\"/><line x1=\"44\" y1=\"244\" x2=\"56\" y2=\"256\" stroke-linecap=\"round\" style=\"stroke:black;stroke-width:2\"/><line x1=\"44\" y1=\"256\" x2=\"56\" y2=\"244\" stroke-linecap=\"round\" style=\"stroke:black;stroke-width:2\"/><line x1=\"44\" y1=\"344\" x2=\"56\" y2=\"356\" stroke-linecap=\"round\" style=\"stroke:black;stroke-width:2\"/><line x1=\"44\" y1=\"356\" x2=\"56\" y2=\"344\" stroke-linecap=\"round\" style=\"stroke:black;stroke-width:2\"/><line x1=\"44\" y1=\"444\" x2=\"56\" y2=\"456\" stroke-linecap=\"round\" style=\"stroke:black;stroke-width:2\"/><line x1=\"44\" y1=\"456\" x2=\"56\" y2=\"444\" stroke-linecap=\"round\" style=\"stroke:black;stroke-width:2\"/><line x1=\"144\" y1=\"44\" x2=\"156\" y2=\"56\" stroke-linecap=\"round\" style=\"stroke:black;stroke-width:2\"/><line x1=\"144\" y1=\"56\" x2=\"156\" y2=\"44\" stroke-linecap=\"round\" style=\"stroke:black;stroke-width:2\"/><line x1=\"144\" y1=\"144\" x2=\"156\" y2=\"156\" stroke-linecap=\"round\" style=\"stroke:black;stroke-width:2\"/><line x1=\"144\" y1=\"156\" x2=\"156\" y2=\"144\" stroke-linecap=\"round\" style=\"stroke:black;stroke-width:2\"/><line x1=\"144\" y1=\"244\" x2=\"156\" y2=\"256\" stroke-linecap=\"round\" style=\"stroke:black;stroke-width:2\"/><line x1=\"144\" y1=\"256\" x2=\"156\" y2=\"244\" stroke-linecap=\"round\" style=\"stroke:black;stroke-width:2\"/><line x1=\"144\" y1=\"344\" x2=\"156\" y2=\"356\" stroke-linecap=\"round\" style=\"stroke:black;stroke-width:2\"/><line x1=\"144\" y1=\"356\" x2=\"156\" y2=\"344\" stroke-linecap=\"round\" style=\"stroke:black;stroke-width:2\"/><line x1=\"144\" y1=\"444\" x2=\"156\" y2=\"456\" stroke-linecap=\"round\" style=\"stroke:black;stroke-width:2\"/><line x1=\"144\" y1=\"456\" x2=\"156\" y2=\"444\" stroke-linecap=\"round\" style=\"stroke:black;stroke-width:2\"/><line x1=\"244\" y1=\"44\" x2=\"256\" y2=\"56\" stroke-linecap=\"round\" style=\"stroke:black;stroke-width:2\"/><line x1=\"244\" y1=\"56\" x2=\"256\" y2=\"44\" stroke-linecap=\"round\" style=\"stroke:black;stroke-width:2\"/><line x1=\"244\" y1=\"144\" x2=\"256\" y2=\"156\" stroke-linecap=\"round\" style=\"stroke:black;stroke-width:2\"/><line x1=\"244\" y1=\"156\" x2=\"256\" y2=\"144\" stroke-linecap=\"round\" style=\"stroke:black;stroke-width:2\"/><line x1=\"244\" y1=\"244\" x2=\"256\" y2=\"256\" stroke-linecap=\"round\" style=\"stroke:black;stroke-width:2\"/><line x1=\"244\" y1=\"256\" x2=\"256\" y2=\"244\" stroke-linecap=\"round\" style=\"stroke:black;stroke-width:2\"/><line x1=\"244\" y1=\"344\" x2=\"256\" y2=\"356\" stroke-linecap=\"round\" style=\"stroke:black;stroke-width:2\"/><line x1=\"244\" y1=\"356\" x2=\"256\" y2=\"344\" stroke-linecap=\"round\" style=\"stroke:black;stroke-width:2\"/><line x1=\"244\" y1=\"444\" x2=\"256\" y2=\"456\" stroke-linecap=\"round\" style=\"stroke:black;stroke-width:2\"/><line x1=\"244\" y1=\"456\" x2=\"256\" y2=\"444\" stroke-linecap=\"round\" style=\"stroke:black;stroke-width:2\"/><line x1=\"344\" y1=\"44\" x2=\"356\" y2=\"56\" stroke-linecap=\"round\" style=\"stroke:black;stroke-width:2\"/><line x1=\"344\" y1=\"56\" x2=\"356\" y2=\"44\" stroke-linecap=\"round\" style=\"stroke:black;stroke-width:2\"/><line x1=\"344\" y1=\"144\" x2=\"356\" y2=\"156\" stroke-linecap=\"round\" style=\"stroke:black;stroke-width:2\"/><line x1=\"344\" y1=\"156\" x2=\"356\" y2=\"144\" stroke-linecap=\"round\" style=\"stroke:black;stroke-width:2\"/><line x1=\"344\" y1=\"244\" x2=\"356\" y2=\"256\" stroke-linecap=\"round\" style=\"stroke:black;stroke-width:2\"/><line x1=\"344\" y1=\"256\" x2=\"356\" y2=\"244\" stroke-linecap=\"round\" style=\"stroke:black;stroke-width:2\"/><line x1=\"344\" y1=\"344\" x2=\"356\" y2=\"356\" stroke-linecap=\"round\" style=\"stroke:black;stroke-width:2\"/><line x1=\"344\" y1=\"356\" x2=\"356\" y2=\"344\" stroke-linecap=\"round\" style=\"stroke:black;stroke-width:2\"/><line x1=\"344\" y1=\"444\" x2=\"356\" y2=\"456\" stroke-linecap=\"round\" style=\"stroke:black;stroke-width:2\"/><line x1=\"344\" y1=\"456\" x2=\"356\" y2=\"444\" stroke-linecap=\"round\" style=\"stroke:black;stroke-width:2\"/><line x1=\"444\" y1=\"44\" x2=\"456\" y2=\"56\" stroke-linecap=\"round\" style=\"stroke:black;stroke-width:2\"/><line x1=\"444\" y1=\"56\" x2=\"456\" y2=\"44\" stroke-linecap=\"round\" style=\"stroke:black;stroke-width:2\"/><line x1=\"444\" y1=\"144\" x2=\"456\" y2=\"156\" stroke-linecap=\"round\" style=\"stroke:black;stroke-width:2\"/><line x1=\"444\" y1=\"156\" x2=\"456\" y2=\"144\" stroke-linecap=\"round\" style=\"stroke:black;stroke-width:2\"/><line x1=\"444\" y1=\"244\" x2=\"456\" y2=\"256\" stroke-linecap=\"round\" style=\"stroke:black;stroke-width:2\"/><line x1=\"444\" y1=\"256\" x2=\"456\" y2=\"244\" stroke-linecap=\"round\" style=\"stroke:black;stroke-width:2\"/><line x1=\"444\" y1=\"344\" x2=\"456\" y2=\"356\" stroke-linecap=\"round\" style=\"stroke:black;stroke-width:2\"/><line x1=\"444\" y1=\"356\" x2=\"456\" y2=\"344\" stroke-linecap=\"round\" style=\"stroke:black;stroke-width:2\"/><line x1=\"444\" y1=\"444\" x2=\"456\" y2=\"456\" stroke-linecap=\"round\" style=\"stroke:black;stroke-width:2\"/><line x1=\"444\" y1=\"456\" x2=\"456\" y2=\"444\" stroke-linecap=\"round\" style=\"stroke:black;stroke-width:2\"/>\n",
              "        \n",
              "        <g visibility=visible transform=\"rotate(90,450.0,50.0) translate(419.4, 19.400000000000002)\">\n",
              "<path style=\" stroke:none;fill-rule:evenodd;fill:green;fill-opacity:1;\" d=\"M 30.965234799999998 1.0757804 C 27.3859375 3.0613276999999997 25.519922299999998 6.9261723 25.626172299999997 12.1257804 L 25.6460946 13.0089848 L 25.1347652 12.7433598 C 22.910155399999997 11.6011723 20.3269527 11.3421875 17.690625 12.0128902 C 14.396875 12.8363277 11.0765625 15.565624999999999 7.4707026999999995 20.3867196 C 5.20625 23.421484799999998 4.5554696 24.882422299999998 5.1730472999999995 25.546484799999998 L 5.365625 25.758984799999997 L 5.9832027000000005 25.758984799999997 C 7.2050776999999995 25.758984799999997 8.2078125 25.3074223 13.91875 22.1664054 C 15.9574223 21.0441402 17.6308598 20.1277348 17.6441402 20.1277348 C 17.657422299999997 20.1277348 17.6042973 20.2804696 17.5179696 20.4597652 C 16.7144527 22.259375 15.738280399999999 25.194530399999998 15.246875 27.3328125 C 13.4539054 35.108984799999995 14.6492196 41.703125 18.819530399999998 47.0222652 C 19.2976554 47.6265625 19.3175777 47.453905400000004 18.6535152 48.250780400000004 C 15.1738277 52.434374999999996 13.5070304 56.578125 14.005077700000001 59.81875 C 14.0914054 60.396484799999996 14.078125 60.389844599999996 15.1605473 60.389844599999996 C 18.6003902 60.389844599999996 22.226172299999998 58.1519527 25.7324223 53.86875 C 26.1109375 53.4105473 26.0578125 53.4238277 26.45625 53.6761723 C 27.6980473 54.4730473 30.639844599999996 56.0402348 30.898827700000002 56.0402348 C 31.171094599999996 56.0402348 33.9003902 54.758594599999995 35.4078125 53.921875 C 35.693359799999996 53.762499999999996 35.9324223 53.642969599999994 35.9324223 53.6496098 C 36.0453125 53.828905400000004 37.227344599999995 55.1039054 37.7785152 55.6417973 C 40.5210946 58.3113277 43.45625 59.7257804 46.8894527 60.0113277 C 47.440625 60.0578125 47.49375 60.0246098 47.6132804 59.473437499999996 C 48.250780400000004 56.5117196 46.9625 52.5738277 43.9675777 48.3238277 L 43.4230473 47.546875 L 43.6886723 47.2347652 C 49.2070304 40.733594599999996 49.5257804 31.788672299999998 44.6382804 20.346875 L 44.5519527 20.134375 L 47.5070304 21.5953125 C 53.603125 24.6101554 54.9378902 25.1613277 56.153124999999996 25.1613277 C 57.7601554 25.1613277 57.428125 23.693749999999998 55.2035152 20.898047299999998 C 48.4832027 12.5042973 43.1707027 10.073827699999999 37.2671875 12.7035152 L 36.6496098 12.9824223 L 36.6828125 12.8230473 C 36.888672299999996 11.8867196 36.9949223 9.7617196 36.888672299999996 8.778905400000001 C 36.5433598 5.6046875 35.1289054 3.3402348 32.3066402 1.4542973000000001 C 31.4167973 0.8566402 31.3769527 0.85 30.965234799999998 1.0757804\"/>\n",
              "</g>\n",
              "      </svg>\n",
              "    "
            ]
          },
          "metadata": {}
        }
      ]
    },
    {
      "cell_type": "markdown",
      "metadata": {
        "id": "6L3oSzZ46DTk"
      },
      "source": [
        "#**🍊 Section 4: Conditionals**\n",
        "\n",
        "Up until now, we've known exactly what our world looks like, so we can hard code in values and movements. However, we might want to specify some alternative ways in which a program could run so that our code can work even if the world is variable. In plain English, this means something like:\n",
        "\n",
        "**\"if something is the case, execute the program in one particular way; otherwise do it another way\"**\n",
        "\n",
        "We can achieve this in Python by using Boolean variables. A Boolean is another type of variable that can take on just two values: `True` and `False`.\n",
        "\n",
        "In the last problem we knew that there was going to be one pearl on every step, but what if we don't know if a step will have a pearl or not? Is there some way we can check?\n",
        "\n",
        "\n",
        "**Spoiler alert**, there is! We have one more turtle function that we haven't told you about, which is `is_pearl`. Using the `is_pearl` function will tell you if the spot you're on has a turtle or not. If there is a pearl on that spot, the is_pearl function will return the value `True`, otherwise, it will return the value `False`.\n",
        "\n"
      ]
    },
    {
      "cell_type": "code",
      "metadata": {
        "id": "WWdoLETq8ZLs",
        "colab": {
          "base_uri": "https://localhost:8080/",
          "height": 239
        },
        "outputId": "3a89ddbf-62d8-48eb-fb24-201a61a2c551"
      },
      "source": [
        "# there's no pearl in this spot\n",
        "initializeTurtle(map=\"tiny\")\n",
        "go_forward()\n",
        "print(is_pearl()) # the print function just shows us if is_pearl() returns True or False"
      ],
      "execution_count": null,
      "outputs": [
        {
          "output_type": "display_data",
          "data": {
            "text/plain": [
              "<IPython.core.display.HTML object>"
            ],
            "text/html": [
              "\n",
              "      <svg width=\"200\" height=\"200\">\n",
              "        <rect width=\"100%\" height=\"100%\" fill=\"LightBlue\"/>\n",
              "        <line x1=\"3\" y1=\"3\" x2=\"3\" y2=\"197\" stroke-linecap=\"round\" style=\"stroke:blue;stroke-width:5\"/><line x1=\"3\" y1=\"197\" x2=\"197\" y2=\"197\" stroke-linecap=\"round\" style=\"stroke:blue;stroke-width:5\"/><line x1=\"197\" y1=\"197\" x2=\"197\" y2=\"3\" stroke-linecap=\"round\" style=\"stroke:blue;stroke-width:5\"/><line x1=\"197\" y1=\"3\" x2=\"3\" y2=\"3\" stroke-linecap=\"round\" style=\"stroke:blue;stroke-width:5\"/><line x1=\"44\" y1=\"44\" x2=\"56\" y2=\"56\" stroke-linecap=\"round\" style=\"stroke:black;stroke-width:2\"/><line x1=\"44\" y1=\"56\" x2=\"56\" y2=\"44\" stroke-linecap=\"round\" style=\"stroke:black;stroke-width:2\"/><line x1=\"44\" y1=\"144\" x2=\"56\" y2=\"156\" stroke-linecap=\"round\" style=\"stroke:black;stroke-width:2\"/><line x1=\"44\" y1=\"156\" x2=\"56\" y2=\"144\" stroke-linecap=\"round\" style=\"stroke:black;stroke-width:2\"/><line x1=\"144\" y1=\"44\" x2=\"156\" y2=\"56\" stroke-linecap=\"round\" style=\"stroke:black;stroke-width:2\"/><line x1=\"144\" y1=\"56\" x2=\"156\" y2=\"44\" stroke-linecap=\"round\" style=\"stroke:black;stroke-width:2\"/><line x1=\"144\" y1=\"144\" x2=\"156\" y2=\"156\" stroke-linecap=\"round\" style=\"stroke:black;stroke-width:2\"/><line x1=\"144\" y1=\"156\" x2=\"156\" y2=\"144\" stroke-linecap=\"round\" style=\"stroke:black;stroke-width:2\"/>\n",
              "        \n",
              "        <g visibility=visible transform=\"rotate(90,150.0,150.0) translate(119.4, 119.4)\">\n",
              "<path style=\" stroke:none;fill-rule:evenodd;fill:green;fill-opacity:1;\" d=\"M 30.965234799999998 1.0757804 C 27.3859375 3.0613276999999997 25.519922299999998 6.9261723 25.626172299999997 12.1257804 L 25.6460946 13.0089848 L 25.1347652 12.7433598 C 22.910155399999997 11.6011723 20.3269527 11.3421875 17.690625 12.0128902 C 14.396875 12.8363277 11.0765625 15.565624999999999 7.4707026999999995 20.3867196 C 5.20625 23.421484799999998 4.5554696 24.882422299999998 5.1730472999999995 25.546484799999998 L 5.365625 25.758984799999997 L 5.9832027000000005 25.758984799999997 C 7.2050776999999995 25.758984799999997 8.2078125 25.3074223 13.91875 22.1664054 C 15.9574223 21.0441402 17.6308598 20.1277348 17.6441402 20.1277348 C 17.657422299999997 20.1277348 17.6042973 20.2804696 17.5179696 20.4597652 C 16.7144527 22.259375 15.738280399999999 25.194530399999998 15.246875 27.3328125 C 13.4539054 35.108984799999995 14.6492196 41.703125 18.819530399999998 47.0222652 C 19.2976554 47.6265625 19.3175777 47.453905400000004 18.6535152 48.250780400000004 C 15.1738277 52.434374999999996 13.5070304 56.578125 14.005077700000001 59.81875 C 14.0914054 60.396484799999996 14.078125 60.389844599999996 15.1605473 60.389844599999996 C 18.6003902 60.389844599999996 22.226172299999998 58.1519527 25.7324223 53.86875 C 26.1109375 53.4105473 26.0578125 53.4238277 26.45625 53.6761723 C 27.6980473 54.4730473 30.639844599999996 56.0402348 30.898827700000002 56.0402348 C 31.171094599999996 56.0402348 33.9003902 54.758594599999995 35.4078125 53.921875 C 35.693359799999996 53.762499999999996 35.9324223 53.642969599999994 35.9324223 53.6496098 C 36.0453125 53.828905400000004 37.227344599999995 55.1039054 37.7785152 55.6417973 C 40.5210946 58.3113277 43.45625 59.7257804 46.8894527 60.0113277 C 47.440625 60.0578125 47.49375 60.0246098 47.6132804 59.473437499999996 C 48.250780400000004 56.5117196 46.9625 52.5738277 43.9675777 48.3238277 L 43.4230473 47.546875 L 43.6886723 47.2347652 C 49.2070304 40.733594599999996 49.5257804 31.788672299999998 44.6382804 20.346875 L 44.5519527 20.134375 L 47.5070304 21.5953125 C 53.603125 24.6101554 54.9378902 25.1613277 56.153124999999996 25.1613277 C 57.7601554 25.1613277 57.428125 23.693749999999998 55.2035152 20.898047299999998 C 48.4832027 12.5042973 43.1707027 10.073827699999999 37.2671875 12.7035152 L 36.6496098 12.9824223 L 36.6828125 12.8230473 C 36.888672299999996 11.8867196 36.9949223 9.7617196 36.888672299999996 8.778905400000001 C 36.5433598 5.6046875 35.1289054 3.3402348 32.3066402 1.4542973000000001 C 31.4167973 0.8566402 31.3769527 0.85 30.965234799999998 1.0757804\"/>\n",
              "</g>\n",
              "      </svg>\n",
              "    "
            ]
          },
          "metadata": {}
        },
        {
          "output_type": "stream",
          "name": "stdout",
          "text": [
            "False\n"
          ]
        }
      ]
    },
    {
      "cell_type": "code",
      "metadata": {
        "id": "ufU338s88jgP",
        "colab": {
          "base_uri": "https://localhost:8080/",
          "height": 539
        },
        "outputId": "639c4ac8-33fb-4d50-f936-0361e061e71d"
      },
      "source": [
        "# there is a pearl in this spot\n",
        "initializeTurtle(map=\"one pearl stairs\")\n",
        "climb_stair()\n",
        "print(is_pearl())"
      ],
      "execution_count": null,
      "outputs": [
        {
          "output_type": "display_data",
          "data": {
            "text/plain": [
              "<IPython.core.display.HTML object>"
            ],
            "text/html": [
              "\n",
              "      <svg width=\"500\" height=\"500\">\n",
              "        <rect width=\"100%\" height=\"100%\" fill=\"LightBlue\"/>\n",
              "        <line x1=\"3\" y1=\"3\" x2=\"3\" y2=\"497\" stroke-linecap=\"round\" style=\"stroke:blue;stroke-width:5\"/><line x1=\"3\" y1=\"497\" x2=\"497\" y2=\"497\" stroke-linecap=\"round\" style=\"stroke:blue;stroke-width:5\"/><line x1=\"497\" y1=\"497\" x2=\"497\" y2=\"3\" stroke-linecap=\"round\" style=\"stroke:blue;stroke-width:5\"/><line x1=\"497\" y1=\"3\" x2=\"3\" y2=\"3\" stroke-linecap=\"round\" style=\"stroke:blue;stroke-width:5\"/><line x1=\"100\" y1=\"500\" x2=\"100\" y2=\"400\" stroke-linecap=\"round\" style=\"stroke:blue;stroke-width:5\"/><line x1=\"100\" y1=\"400\" x2=\"200\" y2=\"400\" stroke-linecap=\"round\" style=\"stroke:blue;stroke-width:5\"/><line x1=\"200\" y1=\"400\" x2=\"200\" y2=\"300\" stroke-linecap=\"round\" style=\"stroke:blue;stroke-width:5\"/><line x1=\"200\" y1=\"300\" x2=\"300\" y2=\"300\" stroke-linecap=\"round\" style=\"stroke:blue;stroke-width:5\"/><line x1=\"300\" y1=\"300\" x2=\"300\" y2=\"200\" stroke-linecap=\"round\" style=\"stroke:blue;stroke-width:5\"/><line x1=\"300\" y1=\"200\" x2=\"400\" y2=\"200\" stroke-linecap=\"round\" style=\"stroke:blue;stroke-width:5\"/><line x1=\"400\" y1=\"200\" x2=\"400\" y2=\"100\" stroke-linecap=\"round\" style=\"stroke:blue;stroke-width:5\"/><line x1=\"400\" y1=\"100\" x2=\"500\" y2=\"100\" stroke-linecap=\"round\" style=\"stroke:blue;stroke-width:5\"/><line x1=\"44\" y1=\"44\" x2=\"56\" y2=\"56\" stroke-linecap=\"round\" style=\"stroke:black;stroke-width:2\"/><line x1=\"44\" y1=\"56\" x2=\"56\" y2=\"44\" stroke-linecap=\"round\" style=\"stroke:black;stroke-width:2\"/><line x1=\"44\" y1=\"144\" x2=\"56\" y2=\"156\" stroke-linecap=\"round\" style=\"stroke:black;stroke-width:2\"/><line x1=\"44\" y1=\"156\" x2=\"56\" y2=\"144\" stroke-linecap=\"round\" style=\"stroke:black;stroke-width:2\"/><line x1=\"44\" y1=\"244\" x2=\"56\" y2=\"256\" stroke-linecap=\"round\" style=\"stroke:black;stroke-width:2\"/><line x1=\"44\" y1=\"256\" x2=\"56\" y2=\"244\" stroke-linecap=\"round\" style=\"stroke:black;stroke-width:2\"/><line x1=\"44\" y1=\"344\" x2=\"56\" y2=\"356\" stroke-linecap=\"round\" style=\"stroke:black;stroke-width:2\"/><line x1=\"44\" y1=\"356\" x2=\"56\" y2=\"344\" stroke-linecap=\"round\" style=\"stroke:black;stroke-width:2\"/><line x1=\"44\" y1=\"444\" x2=\"56\" y2=\"456\" stroke-linecap=\"round\" style=\"stroke:black;stroke-width:2\"/><line x1=\"44\" y1=\"456\" x2=\"56\" y2=\"444\" stroke-linecap=\"round\" style=\"stroke:black;stroke-width:2\"/><line x1=\"144\" y1=\"44\" x2=\"156\" y2=\"56\" stroke-linecap=\"round\" style=\"stroke:black;stroke-width:2\"/><line x1=\"144\" y1=\"56\" x2=\"156\" y2=\"44\" stroke-linecap=\"round\" style=\"stroke:black;stroke-width:2\"/><line x1=\"144\" y1=\"144\" x2=\"156\" y2=\"156\" stroke-linecap=\"round\" style=\"stroke:black;stroke-width:2\"/><line x1=\"144\" y1=\"156\" x2=\"156\" y2=\"144\" stroke-linecap=\"round\" style=\"stroke:black;stroke-width:2\"/><line x1=\"144\" y1=\"244\" x2=\"156\" y2=\"256\" stroke-linecap=\"round\" style=\"stroke:black;stroke-width:2\"/><line x1=\"144\" y1=\"256\" x2=\"156\" y2=\"244\" stroke-linecap=\"round\" style=\"stroke:black;stroke-width:2\"/><line x1=\"144\" y1=\"344\" x2=\"156\" y2=\"356\" stroke-linecap=\"round\" style=\"stroke:black;stroke-width:2\"/><line x1=\"144\" y1=\"356\" x2=\"156\" y2=\"344\" stroke-linecap=\"round\" style=\"stroke:black;stroke-width:2\"/><line x1=\"144\" y1=\"444\" x2=\"156\" y2=\"456\" stroke-linecap=\"round\" style=\"stroke:black;stroke-width:2\"/><line x1=\"144\" y1=\"456\" x2=\"156\" y2=\"444\" stroke-linecap=\"round\" style=\"stroke:black;stroke-width:2\"/><line x1=\"244\" y1=\"44\" x2=\"256\" y2=\"56\" stroke-linecap=\"round\" style=\"stroke:black;stroke-width:2\"/><line x1=\"244\" y1=\"56\" x2=\"256\" y2=\"44\" stroke-linecap=\"round\" style=\"stroke:black;stroke-width:2\"/><line x1=\"244\" y1=\"144\" x2=\"256\" y2=\"156\" stroke-linecap=\"round\" style=\"stroke:black;stroke-width:2\"/><line x1=\"244\" y1=\"156\" x2=\"256\" y2=\"144\" stroke-linecap=\"round\" style=\"stroke:black;stroke-width:2\"/><line x1=\"244\" y1=\"244\" x2=\"256\" y2=\"256\" stroke-linecap=\"round\" style=\"stroke:black;stroke-width:2\"/><line x1=\"244\" y1=\"256\" x2=\"256\" y2=\"244\" stroke-linecap=\"round\" style=\"stroke:black;stroke-width:2\"/><line x1=\"244\" y1=\"344\" x2=\"256\" y2=\"356\" stroke-linecap=\"round\" style=\"stroke:black;stroke-width:2\"/><line x1=\"244\" y1=\"356\" x2=\"256\" y2=\"344\" stroke-linecap=\"round\" style=\"stroke:black;stroke-width:2\"/><line x1=\"244\" y1=\"444\" x2=\"256\" y2=\"456\" stroke-linecap=\"round\" style=\"stroke:black;stroke-width:2\"/><line x1=\"244\" y1=\"456\" x2=\"256\" y2=\"444\" stroke-linecap=\"round\" style=\"stroke:black;stroke-width:2\"/><line x1=\"344\" y1=\"44\" x2=\"356\" y2=\"56\" stroke-linecap=\"round\" style=\"stroke:black;stroke-width:2\"/><line x1=\"344\" y1=\"56\" x2=\"356\" y2=\"44\" stroke-linecap=\"round\" style=\"stroke:black;stroke-width:2\"/><line x1=\"344\" y1=\"144\" x2=\"356\" y2=\"156\" stroke-linecap=\"round\" style=\"stroke:black;stroke-width:2\"/><line x1=\"344\" y1=\"156\" x2=\"356\" y2=\"144\" stroke-linecap=\"round\" style=\"stroke:black;stroke-width:2\"/><line x1=\"344\" y1=\"244\" x2=\"356\" y2=\"256\" stroke-linecap=\"round\" style=\"stroke:black;stroke-width:2\"/><line x1=\"344\" y1=\"256\" x2=\"356\" y2=\"244\" stroke-linecap=\"round\" style=\"stroke:black;stroke-width:2\"/><line x1=\"344\" y1=\"344\" x2=\"356\" y2=\"356\" stroke-linecap=\"round\" style=\"stroke:black;stroke-width:2\"/><line x1=\"344\" y1=\"356\" x2=\"356\" y2=\"344\" stroke-linecap=\"round\" style=\"stroke:black;stroke-width:2\"/><line x1=\"344\" y1=\"444\" x2=\"356\" y2=\"456\" stroke-linecap=\"round\" style=\"stroke:black;stroke-width:2\"/><line x1=\"344\" y1=\"456\" x2=\"356\" y2=\"444\" stroke-linecap=\"round\" style=\"stroke:black;stroke-width:2\"/><line x1=\"444\" y1=\"44\" x2=\"456\" y2=\"56\" stroke-linecap=\"round\" style=\"stroke:black;stroke-width:2\"/><line x1=\"444\" y1=\"56\" x2=\"456\" y2=\"44\" stroke-linecap=\"round\" style=\"stroke:black;stroke-width:2\"/><line x1=\"444\" y1=\"144\" x2=\"456\" y2=\"156\" stroke-linecap=\"round\" style=\"stroke:black;stroke-width:2\"/><line x1=\"444\" y1=\"156\" x2=\"456\" y2=\"144\" stroke-linecap=\"round\" style=\"stroke:black;stroke-width:2\"/><line x1=\"444\" y1=\"244\" x2=\"456\" y2=\"256\" stroke-linecap=\"round\" style=\"stroke:black;stroke-width:2\"/><line x1=\"444\" y1=\"256\" x2=\"456\" y2=\"244\" stroke-linecap=\"round\" style=\"stroke:black;stroke-width:2\"/><line x1=\"444\" y1=\"344\" x2=\"456\" y2=\"356\" stroke-linecap=\"round\" style=\"stroke:black;stroke-width:2\"/><line x1=\"444\" y1=\"356\" x2=\"456\" y2=\"344\" stroke-linecap=\"round\" style=\"stroke:black;stroke-width:2\"/><line x1=\"444\" y1=\"444\" x2=\"456\" y2=\"456\" stroke-linecap=\"round\" style=\"stroke:black;stroke-width:2\"/><line x1=\"444\" y1=\"456\" x2=\"456\" y2=\"444\" stroke-linecap=\"round\" style=\"stroke:black;stroke-width:2\"/>\n",
              "        <g visibility=True transform=\"rotate(0,150,350) translate(150, 350)\">\n",
              "        <circle stroke=\"white\" stroke-width=\"3\" fill=\"white\" r=\"20\" cx=\"0\" cy=\"0\"/>\n",
              "        <text fill=\"black\" dominant-baseline=\"middle\" text-anchor=\"middle\">1</text>\n",
              "        </g><g visibility=True transform=\"rotate(0,250,250) translate(250, 250)\">\n",
              "        <circle stroke=\"white\" stroke-width=\"3\" fill=\"white\" r=\"20\" cx=\"0\" cy=\"0\"/>\n",
              "        <text fill=\"black\" dominant-baseline=\"middle\" text-anchor=\"middle\">1</text>\n",
              "        </g><g visibility=True transform=\"rotate(0,350,150) translate(350, 150)\">\n",
              "        <circle stroke=\"white\" stroke-width=\"3\" fill=\"white\" r=\"20\" cx=\"0\" cy=\"0\"/>\n",
              "        <text fill=\"black\" dominant-baseline=\"middle\" text-anchor=\"middle\">1</text>\n",
              "        </g>\n",
              "        <g visibility=visible transform=\"rotate(90,150.0,350.0) translate(119.4, 319.4)\">\n",
              "<path style=\" stroke:none;fill-rule:evenodd;fill:green;fill-opacity:1;\" d=\"M 30.965234799999998 1.0757804 C 27.3859375 3.0613276999999997 25.519922299999998 6.9261723 25.626172299999997 12.1257804 L 25.6460946 13.0089848 L 25.1347652 12.7433598 C 22.910155399999997 11.6011723 20.3269527 11.3421875 17.690625 12.0128902 C 14.396875 12.8363277 11.0765625 15.565624999999999 7.4707026999999995 20.3867196 C 5.20625 23.421484799999998 4.5554696 24.882422299999998 5.1730472999999995 25.546484799999998 L 5.365625 25.758984799999997 L 5.9832027000000005 25.758984799999997 C 7.2050776999999995 25.758984799999997 8.2078125 25.3074223 13.91875 22.1664054 C 15.9574223 21.0441402 17.6308598 20.1277348 17.6441402 20.1277348 C 17.657422299999997 20.1277348 17.6042973 20.2804696 17.5179696 20.4597652 C 16.7144527 22.259375 15.738280399999999 25.194530399999998 15.246875 27.3328125 C 13.4539054 35.108984799999995 14.6492196 41.703125 18.819530399999998 47.0222652 C 19.2976554 47.6265625 19.3175777 47.453905400000004 18.6535152 48.250780400000004 C 15.1738277 52.434374999999996 13.5070304 56.578125 14.005077700000001 59.81875 C 14.0914054 60.396484799999996 14.078125 60.389844599999996 15.1605473 60.389844599999996 C 18.6003902 60.389844599999996 22.226172299999998 58.1519527 25.7324223 53.86875 C 26.1109375 53.4105473 26.0578125 53.4238277 26.45625 53.6761723 C 27.6980473 54.4730473 30.639844599999996 56.0402348 30.898827700000002 56.0402348 C 31.171094599999996 56.0402348 33.9003902 54.758594599999995 35.4078125 53.921875 C 35.693359799999996 53.762499999999996 35.9324223 53.642969599999994 35.9324223 53.6496098 C 36.0453125 53.828905400000004 37.227344599999995 55.1039054 37.7785152 55.6417973 C 40.5210946 58.3113277 43.45625 59.7257804 46.8894527 60.0113277 C 47.440625 60.0578125 47.49375 60.0246098 47.6132804 59.473437499999996 C 48.250780400000004 56.5117196 46.9625 52.5738277 43.9675777 48.3238277 L 43.4230473 47.546875 L 43.6886723 47.2347652 C 49.2070304 40.733594599999996 49.5257804 31.788672299999998 44.6382804 20.346875 L 44.5519527 20.134375 L 47.5070304 21.5953125 C 53.603125 24.6101554 54.9378902 25.1613277 56.153124999999996 25.1613277 C 57.7601554 25.1613277 57.428125 23.693749999999998 55.2035152 20.898047299999998 C 48.4832027 12.5042973 43.1707027 10.073827699999999 37.2671875 12.7035152 L 36.6496098 12.9824223 L 36.6828125 12.8230473 C 36.888672299999996 11.8867196 36.9949223 9.7617196 36.888672299999996 8.778905400000001 C 36.5433598 5.6046875 35.1289054 3.3402348 32.3066402 1.4542973000000001 C 31.4167973 0.8566402 31.3769527 0.85 30.965234799999998 1.0757804\"/>\n",
              "</g>\n",
              "      </svg>\n",
              "    "
            ]
          },
          "metadata": {}
        },
        {
          "output_type": "stream",
          "name": "stdout",
          "text": [
            "True\n"
          ]
        }
      ]
    },
    {
      "cell_type": "markdown",
      "metadata": {
        "id": "zszT6Pej82Pe"
      },
      "source": [
        "Let's imagine a scenario where we have a world that's just a straight line. Our goal is to get from one side to the other, with the condition that if we land on a pearl, the turtle has to turn 360 degrees. Here's how we could code that below:"
      ]
    },
    {
      "cell_type": "code",
      "metadata": {
        "id": "xk5nsJlP9Kon",
        "colab": {
          "base_uri": "https://localhost:8080/",
          "height": 121
        },
        "outputId": "114bf5ee-2378-4dbd-f8d2-a372d584997d"
      },
      "source": [
        "initializeTurtle(map=\"strip\")\n",
        "for i in range(4):\n",
        "  go_forward()\n",
        "  if is_pearl():\n",
        "    turn_left()\n",
        "    turn_left()\n",
        "    turn_left()\n",
        "    turn_left()"
      ],
      "execution_count": null,
      "outputs": [
        {
          "output_type": "display_data",
          "data": {
            "text/plain": [
              "<IPython.core.display.HTML object>"
            ],
            "text/html": [
              "\n",
              "      <svg width=\"500\" height=\"100\">\n",
              "        <rect width=\"100%\" height=\"100%\" fill=\"LightBlue\"/>\n",
              "        <line x1=\"3\" y1=\"3\" x2=\"3\" y2=\"97\" stroke-linecap=\"round\" style=\"stroke:blue;stroke-width:5\"/><line x1=\"3\" y1=\"97\" x2=\"497\" y2=\"97\" stroke-linecap=\"round\" style=\"stroke:blue;stroke-width:5\"/><line x1=\"497\" y1=\"97\" x2=\"497\" y2=\"3\" stroke-linecap=\"round\" style=\"stroke:blue;stroke-width:5\"/><line x1=\"497\" y1=\"3\" x2=\"3\" y2=\"3\" stroke-linecap=\"round\" style=\"stroke:blue;stroke-width:5\"/><line x1=\"44\" y1=\"44\" x2=\"56\" y2=\"56\" stroke-linecap=\"round\" style=\"stroke:black;stroke-width:2\"/><line x1=\"44\" y1=\"56\" x2=\"56\" y2=\"44\" stroke-linecap=\"round\" style=\"stroke:black;stroke-width:2\"/><line x1=\"144\" y1=\"44\" x2=\"156\" y2=\"56\" stroke-linecap=\"round\" style=\"stroke:black;stroke-width:2\"/><line x1=\"144\" y1=\"56\" x2=\"156\" y2=\"44\" stroke-linecap=\"round\" style=\"stroke:black;stroke-width:2\"/><line x1=\"244\" y1=\"44\" x2=\"256\" y2=\"56\" stroke-linecap=\"round\" style=\"stroke:black;stroke-width:2\"/><line x1=\"244\" y1=\"56\" x2=\"256\" y2=\"44\" stroke-linecap=\"round\" style=\"stroke:black;stroke-width:2\"/><line x1=\"344\" y1=\"44\" x2=\"356\" y2=\"56\" stroke-linecap=\"round\" style=\"stroke:black;stroke-width:2\"/><line x1=\"344\" y1=\"56\" x2=\"356\" y2=\"44\" stroke-linecap=\"round\" style=\"stroke:black;stroke-width:2\"/><line x1=\"444\" y1=\"44\" x2=\"456\" y2=\"56\" stroke-linecap=\"round\" style=\"stroke:black;stroke-width:2\"/><line x1=\"444\" y1=\"56\" x2=\"456\" y2=\"44\" stroke-linecap=\"round\" style=\"stroke:black;stroke-width:2\"/>\n",
              "        <g visibility=True transform=\"rotate(0,250,50) translate(250, 50)\">\n",
              "        <circle stroke=\"white\" stroke-width=\"3\" fill=\"white\" r=\"20\" cx=\"0\" cy=\"0\"/>\n",
              "        <text fill=\"black\" dominant-baseline=\"middle\" text-anchor=\"middle\">1</text>\n",
              "        </g>\n",
              "        <g visibility=visible transform=\"rotate(90,450.0,50.0) translate(419.4, 19.400000000000002)\">\n",
              "<path style=\" stroke:none;fill-rule:evenodd;fill:green;fill-opacity:1;\" d=\"M 30.965234799999998 1.0757804 C 27.3859375 3.0613276999999997 25.519922299999998 6.9261723 25.626172299999997 12.1257804 L 25.6460946 13.0089848 L 25.1347652 12.7433598 C 22.910155399999997 11.6011723 20.3269527 11.3421875 17.690625 12.0128902 C 14.396875 12.8363277 11.0765625 15.565624999999999 7.4707026999999995 20.3867196 C 5.20625 23.421484799999998 4.5554696 24.882422299999998 5.1730472999999995 25.546484799999998 L 5.365625 25.758984799999997 L 5.9832027000000005 25.758984799999997 C 7.2050776999999995 25.758984799999997 8.2078125 25.3074223 13.91875 22.1664054 C 15.9574223 21.0441402 17.6308598 20.1277348 17.6441402 20.1277348 C 17.657422299999997 20.1277348 17.6042973 20.2804696 17.5179696 20.4597652 C 16.7144527 22.259375 15.738280399999999 25.194530399999998 15.246875 27.3328125 C 13.4539054 35.108984799999995 14.6492196 41.703125 18.819530399999998 47.0222652 C 19.2976554 47.6265625 19.3175777 47.453905400000004 18.6535152 48.250780400000004 C 15.1738277 52.434374999999996 13.5070304 56.578125 14.005077700000001 59.81875 C 14.0914054 60.396484799999996 14.078125 60.389844599999996 15.1605473 60.389844599999996 C 18.6003902 60.389844599999996 22.226172299999998 58.1519527 25.7324223 53.86875 C 26.1109375 53.4105473 26.0578125 53.4238277 26.45625 53.6761723 C 27.6980473 54.4730473 30.639844599999996 56.0402348 30.898827700000002 56.0402348 C 31.171094599999996 56.0402348 33.9003902 54.758594599999995 35.4078125 53.921875 C 35.693359799999996 53.762499999999996 35.9324223 53.642969599999994 35.9324223 53.6496098 C 36.0453125 53.828905400000004 37.227344599999995 55.1039054 37.7785152 55.6417973 C 40.5210946 58.3113277 43.45625 59.7257804 46.8894527 60.0113277 C 47.440625 60.0578125 47.49375 60.0246098 47.6132804 59.473437499999996 C 48.250780400000004 56.5117196 46.9625 52.5738277 43.9675777 48.3238277 L 43.4230473 47.546875 L 43.6886723 47.2347652 C 49.2070304 40.733594599999996 49.5257804 31.788672299999998 44.6382804 20.346875 L 44.5519527 20.134375 L 47.5070304 21.5953125 C 53.603125 24.6101554 54.9378902 25.1613277 56.153124999999996 25.1613277 C 57.7601554 25.1613277 57.428125 23.693749999999998 55.2035152 20.898047299999998 C 48.4832027 12.5042973 43.1707027 10.073827699999999 37.2671875 12.7035152 L 36.6496098 12.9824223 L 36.6828125 12.8230473 C 36.888672299999996 11.8867196 36.9949223 9.7617196 36.888672299999996 8.778905400000001 C 36.5433598 5.6046875 35.1289054 3.3402348 32.3066402 1.4542973000000001 C 31.4167973 0.8566402 31.3769527 0.85 30.965234799999998 1.0757804\"/>\n",
              "</g>\n",
              "      </svg>\n",
              "    "
            ]
          },
          "metadata": {}
        }
      ]
    },
    {
      "cell_type": "markdown",
      "metadata": {
        "id": "Aojg16t--IJn"
      },
      "source": [
        "**When you write `if`**, Python checks to see whether the variable or expression after it evaluates to `True`. If it does, then the indented code after it will execute. If it evaluates to `False`, then the indented code after the if statement is skipped."
      ]
    },
    {
      "cell_type": "markdown",
      "metadata": {
        "id": "0d3lMpVs-ctS"
      },
      "source": [
        "### 📙 **Coding Exercise:** clean the (variable) stairs!\n",
        "In this new map that we're loading in, our stairs are covered in pearls, but we don't necessarily know where those pearls are! It's your job to clean up the stairs so there aren't any pearls left at the end using if statements. Here are the functions you have to work with:\n",
        "\n",
        "```\n",
        "go_forward() # turtle moves forward\n",
        "turn_left() # turtle turns left\n",
        "turn_right() # YOU MADE THIS: turtle turns right\n",
        "climb_stair() # YOU MADE THIS: turtle climbs one stair\n",
        "pick_pearl() # picks up one pearl\n",
        "put_pearl() # puts down one pearl\n",
        "is_pearl() # returns True if there is a pearl at the turtle's position, False if not\n",
        "```\n",
        "\n",
        "Your goal is still to get to this same ending configuration as before.\n",
        "\n",
        "*Two Notes:*\n",
        "* if you try to use `pick_pearl` in a spot where there isn't a pearl, your code will throw an error. Don't freak out, just try to fix your code and run it again!\n",
        "* the `random pearl stairs` map will randomly place pearls every time it's created, so each time you run the code cell you'll probably get a different map. There's a small chance you'll get a map with no pearls- re-run the cell if so. Regardless, if you've done the code right, it should work on any configuration!\n",
        "\n"
      ]
    },
    {
      "cell_type": "code",
      "metadata": {
        "id": "-mTPdcTn-ctT",
        "colab": {
          "base_uri": "https://localhost:8080/",
          "height": 521
        },
        "outputId": "33f20a1e-c436-4468-e67e-5799e259e50e"
      },
      "source": [
        "initializeTurtle(map=\"random pearl stairs\")\n",
        "# YOUR CODE HERE: put your code to clean the stairs below\n",
        "for stair_no in range(4):\n",
        "  climb_stair()\n",
        "  if is_pearl():\n",
        "    pick_pearl()\n",
        "    #climb_stair()\n",
        "  #else: \n",
        "  #climb_stair()"
      ],
      "execution_count": null,
      "outputs": [
        {
          "output_type": "display_data",
          "data": {
            "text/plain": [
              "<IPython.core.display.HTML object>"
            ],
            "text/html": [
              "\n",
              "      <svg width=\"500\" height=\"500\">\n",
              "        <rect width=\"100%\" height=\"100%\" fill=\"LightBlue\"/>\n",
              "        <line x1=\"3\" y1=\"3\" x2=\"3\" y2=\"497\" stroke-linecap=\"round\" style=\"stroke:blue;stroke-width:5\"/><line x1=\"3\" y1=\"497\" x2=\"497\" y2=\"497\" stroke-linecap=\"round\" style=\"stroke:blue;stroke-width:5\"/><line x1=\"497\" y1=\"497\" x2=\"497\" y2=\"3\" stroke-linecap=\"round\" style=\"stroke:blue;stroke-width:5\"/><line x1=\"497\" y1=\"3\" x2=\"3\" y2=\"3\" stroke-linecap=\"round\" style=\"stroke:blue;stroke-width:5\"/><line x1=\"100\" y1=\"500\" x2=\"100\" y2=\"400\" stroke-linecap=\"round\" style=\"stroke:blue;stroke-width:5\"/><line x1=\"100\" y1=\"400\" x2=\"200\" y2=\"400\" stroke-linecap=\"round\" style=\"stroke:blue;stroke-width:5\"/><line x1=\"200\" y1=\"400\" x2=\"200\" y2=\"300\" stroke-linecap=\"round\" style=\"stroke:blue;stroke-width:5\"/><line x1=\"200\" y1=\"300\" x2=\"300\" y2=\"300\" stroke-linecap=\"round\" style=\"stroke:blue;stroke-width:5\"/><line x1=\"300\" y1=\"300\" x2=\"300\" y2=\"200\" stroke-linecap=\"round\" style=\"stroke:blue;stroke-width:5\"/><line x1=\"300\" y1=\"200\" x2=\"400\" y2=\"200\" stroke-linecap=\"round\" style=\"stroke:blue;stroke-width:5\"/><line x1=\"400\" y1=\"200\" x2=\"400\" y2=\"100\" stroke-linecap=\"round\" style=\"stroke:blue;stroke-width:5\"/><line x1=\"400\" y1=\"100\" x2=\"500\" y2=\"100\" stroke-linecap=\"round\" style=\"stroke:blue;stroke-width:5\"/><line x1=\"44\" y1=\"44\" x2=\"56\" y2=\"56\" stroke-linecap=\"round\" style=\"stroke:black;stroke-width:2\"/><line x1=\"44\" y1=\"56\" x2=\"56\" y2=\"44\" stroke-linecap=\"round\" style=\"stroke:black;stroke-width:2\"/><line x1=\"44\" y1=\"144\" x2=\"56\" y2=\"156\" stroke-linecap=\"round\" style=\"stroke:black;stroke-width:2\"/><line x1=\"44\" y1=\"156\" x2=\"56\" y2=\"144\" stroke-linecap=\"round\" style=\"stroke:black;stroke-width:2\"/><line x1=\"44\" y1=\"244\" x2=\"56\" y2=\"256\" stroke-linecap=\"round\" style=\"stroke:black;stroke-width:2\"/><line x1=\"44\" y1=\"256\" x2=\"56\" y2=\"244\" stroke-linecap=\"round\" style=\"stroke:black;stroke-width:2\"/><line x1=\"44\" y1=\"344\" x2=\"56\" y2=\"356\" stroke-linecap=\"round\" style=\"stroke:black;stroke-width:2\"/><line x1=\"44\" y1=\"356\" x2=\"56\" y2=\"344\" stroke-linecap=\"round\" style=\"stroke:black;stroke-width:2\"/><line x1=\"44\" y1=\"444\" x2=\"56\" y2=\"456\" stroke-linecap=\"round\" style=\"stroke:black;stroke-width:2\"/><line x1=\"44\" y1=\"456\" x2=\"56\" y2=\"444\" stroke-linecap=\"round\" style=\"stroke:black;stroke-width:2\"/><line x1=\"144\" y1=\"44\" x2=\"156\" y2=\"56\" stroke-linecap=\"round\" style=\"stroke:black;stroke-width:2\"/><line x1=\"144\" y1=\"56\" x2=\"156\" y2=\"44\" stroke-linecap=\"round\" style=\"stroke:black;stroke-width:2\"/><line x1=\"144\" y1=\"144\" x2=\"156\" y2=\"156\" stroke-linecap=\"round\" style=\"stroke:black;stroke-width:2\"/><line x1=\"144\" y1=\"156\" x2=\"156\" y2=\"144\" stroke-linecap=\"round\" style=\"stroke:black;stroke-width:2\"/><line x1=\"144\" y1=\"244\" x2=\"156\" y2=\"256\" stroke-linecap=\"round\" style=\"stroke:black;stroke-width:2\"/><line x1=\"144\" y1=\"256\" x2=\"156\" y2=\"244\" stroke-linecap=\"round\" style=\"stroke:black;stroke-width:2\"/><line x1=\"144\" y1=\"344\" x2=\"156\" y2=\"356\" stroke-linecap=\"round\" style=\"stroke:black;stroke-width:2\"/><line x1=\"144\" y1=\"356\" x2=\"156\" y2=\"344\" stroke-linecap=\"round\" style=\"stroke:black;stroke-width:2\"/><line x1=\"144\" y1=\"444\" x2=\"156\" y2=\"456\" stroke-linecap=\"round\" style=\"stroke:black;stroke-width:2\"/><line x1=\"144\" y1=\"456\" x2=\"156\" y2=\"444\" stroke-linecap=\"round\" style=\"stroke:black;stroke-width:2\"/><line x1=\"244\" y1=\"44\" x2=\"256\" y2=\"56\" stroke-linecap=\"round\" style=\"stroke:black;stroke-width:2\"/><line x1=\"244\" y1=\"56\" x2=\"256\" y2=\"44\" stroke-linecap=\"round\" style=\"stroke:black;stroke-width:2\"/><line x1=\"244\" y1=\"144\" x2=\"256\" y2=\"156\" stroke-linecap=\"round\" style=\"stroke:black;stroke-width:2\"/><line x1=\"244\" y1=\"156\" x2=\"256\" y2=\"144\" stroke-linecap=\"round\" style=\"stroke:black;stroke-width:2\"/><line x1=\"244\" y1=\"244\" x2=\"256\" y2=\"256\" stroke-linecap=\"round\" style=\"stroke:black;stroke-width:2\"/><line x1=\"244\" y1=\"256\" x2=\"256\" y2=\"244\" stroke-linecap=\"round\" style=\"stroke:black;stroke-width:2\"/><line x1=\"244\" y1=\"344\" x2=\"256\" y2=\"356\" stroke-linecap=\"round\" style=\"stroke:black;stroke-width:2\"/><line x1=\"244\" y1=\"356\" x2=\"256\" y2=\"344\" stroke-linecap=\"round\" style=\"stroke:black;stroke-width:2\"/><line x1=\"244\" y1=\"444\" x2=\"256\" y2=\"456\" stroke-linecap=\"round\" style=\"stroke:black;stroke-width:2\"/><line x1=\"244\" y1=\"456\" x2=\"256\" y2=\"444\" stroke-linecap=\"round\" style=\"stroke:black;stroke-width:2\"/><line x1=\"344\" y1=\"44\" x2=\"356\" y2=\"56\" stroke-linecap=\"round\" style=\"stroke:black;stroke-width:2\"/><line x1=\"344\" y1=\"56\" x2=\"356\" y2=\"44\" stroke-linecap=\"round\" style=\"stroke:black;stroke-width:2\"/><line x1=\"344\" y1=\"144\" x2=\"356\" y2=\"156\" stroke-linecap=\"round\" style=\"stroke:black;stroke-width:2\"/><line x1=\"344\" y1=\"156\" x2=\"356\" y2=\"144\" stroke-linecap=\"round\" style=\"stroke:black;stroke-width:2\"/><line x1=\"344\" y1=\"244\" x2=\"356\" y2=\"256\" stroke-linecap=\"round\" style=\"stroke:black;stroke-width:2\"/><line x1=\"344\" y1=\"256\" x2=\"356\" y2=\"244\" stroke-linecap=\"round\" style=\"stroke:black;stroke-width:2\"/><line x1=\"344\" y1=\"344\" x2=\"356\" y2=\"356\" stroke-linecap=\"round\" style=\"stroke:black;stroke-width:2\"/><line x1=\"344\" y1=\"356\" x2=\"356\" y2=\"344\" stroke-linecap=\"round\" style=\"stroke:black;stroke-width:2\"/><line x1=\"344\" y1=\"444\" x2=\"356\" y2=\"456\" stroke-linecap=\"round\" style=\"stroke:black;stroke-width:2\"/><line x1=\"344\" y1=\"456\" x2=\"356\" y2=\"444\" stroke-linecap=\"round\" style=\"stroke:black;stroke-width:2\"/><line x1=\"444\" y1=\"44\" x2=\"456\" y2=\"56\" stroke-linecap=\"round\" style=\"stroke:black;stroke-width:2\"/><line x1=\"444\" y1=\"56\" x2=\"456\" y2=\"44\" stroke-linecap=\"round\" style=\"stroke:black;stroke-width:2\"/><line x1=\"444\" y1=\"144\" x2=\"456\" y2=\"156\" stroke-linecap=\"round\" style=\"stroke:black;stroke-width:2\"/><line x1=\"444\" y1=\"156\" x2=\"456\" y2=\"144\" stroke-linecap=\"round\" style=\"stroke:black;stroke-width:2\"/><line x1=\"444\" y1=\"244\" x2=\"456\" y2=\"256\" stroke-linecap=\"round\" style=\"stroke:black;stroke-width:2\"/><line x1=\"444\" y1=\"256\" x2=\"456\" y2=\"244\" stroke-linecap=\"round\" style=\"stroke:black;stroke-width:2\"/><line x1=\"444\" y1=\"344\" x2=\"456\" y2=\"356\" stroke-linecap=\"round\" style=\"stroke:black;stroke-width:2\"/><line x1=\"444\" y1=\"356\" x2=\"456\" y2=\"344\" stroke-linecap=\"round\" style=\"stroke:black;stroke-width:2\"/><line x1=\"444\" y1=\"444\" x2=\"456\" y2=\"456\" stroke-linecap=\"round\" style=\"stroke:black;stroke-width:2\"/><line x1=\"444\" y1=\"456\" x2=\"456\" y2=\"444\" stroke-linecap=\"round\" style=\"stroke:black;stroke-width:2\"/>\n",
              "        \n",
              "        <g visibility=visible transform=\"rotate(90,450.0,50.0) translate(419.4, 19.400000000000002)\">\n",
              "<path style=\" stroke:none;fill-rule:evenodd;fill:green;fill-opacity:1;\" d=\"M 30.965234799999998 1.0757804 C 27.3859375 3.0613276999999997 25.519922299999998 6.9261723 25.626172299999997 12.1257804 L 25.6460946 13.0089848 L 25.1347652 12.7433598 C 22.910155399999997 11.6011723 20.3269527 11.3421875 17.690625 12.0128902 C 14.396875 12.8363277 11.0765625 15.565624999999999 7.4707026999999995 20.3867196 C 5.20625 23.421484799999998 4.5554696 24.882422299999998 5.1730472999999995 25.546484799999998 L 5.365625 25.758984799999997 L 5.9832027000000005 25.758984799999997 C 7.2050776999999995 25.758984799999997 8.2078125 25.3074223 13.91875 22.1664054 C 15.9574223 21.0441402 17.6308598 20.1277348 17.6441402 20.1277348 C 17.657422299999997 20.1277348 17.6042973 20.2804696 17.5179696 20.4597652 C 16.7144527 22.259375 15.738280399999999 25.194530399999998 15.246875 27.3328125 C 13.4539054 35.108984799999995 14.6492196 41.703125 18.819530399999998 47.0222652 C 19.2976554 47.6265625 19.3175777 47.453905400000004 18.6535152 48.250780400000004 C 15.1738277 52.434374999999996 13.5070304 56.578125 14.005077700000001 59.81875 C 14.0914054 60.396484799999996 14.078125 60.389844599999996 15.1605473 60.389844599999996 C 18.6003902 60.389844599999996 22.226172299999998 58.1519527 25.7324223 53.86875 C 26.1109375 53.4105473 26.0578125 53.4238277 26.45625 53.6761723 C 27.6980473 54.4730473 30.639844599999996 56.0402348 30.898827700000002 56.0402348 C 31.171094599999996 56.0402348 33.9003902 54.758594599999995 35.4078125 53.921875 C 35.693359799999996 53.762499999999996 35.9324223 53.642969599999994 35.9324223 53.6496098 C 36.0453125 53.828905400000004 37.227344599999995 55.1039054 37.7785152 55.6417973 C 40.5210946 58.3113277 43.45625 59.7257804 46.8894527 60.0113277 C 47.440625 60.0578125 47.49375 60.0246098 47.6132804 59.473437499999996 C 48.250780400000004 56.5117196 46.9625 52.5738277 43.9675777 48.3238277 L 43.4230473 47.546875 L 43.6886723 47.2347652 C 49.2070304 40.733594599999996 49.5257804 31.788672299999998 44.6382804 20.346875 L 44.5519527 20.134375 L 47.5070304 21.5953125 C 53.603125 24.6101554 54.9378902 25.1613277 56.153124999999996 25.1613277 C 57.7601554 25.1613277 57.428125 23.693749999999998 55.2035152 20.898047299999998 C 48.4832027 12.5042973 43.1707027 10.073827699999999 37.2671875 12.7035152 L 36.6496098 12.9824223 L 36.6828125 12.8230473 C 36.888672299999996 11.8867196 36.9949223 9.7617196 36.888672299999996 8.778905400000001 C 36.5433598 5.6046875 35.1289054 3.3402348 32.3066402 1.4542973000000001 C 31.4167973 0.8566402 31.3769527 0.85 30.965234799999998 1.0757804\"/>\n",
              "</g>\n",
              "      </svg>\n",
              "    "
            ]
          },
          "metadata": {}
        }
      ]
    },
    {
      "cell_type": "markdown",
      "metadata": {
        "id": "-aCVcY6dHPgH"
      },
      "source": [
        "### 🔥🔥 **(Big Challenge) Coding Exercise:** navigate the maze!\n",
        "In this new map that we're loading in, the turtle is stuck in a maze and needs to get to the exit! Navigate out of the maze using the functions below (and loops!). You can also make and define your own function to help out!\n",
        "\n",
        "```\n",
        "go_forward() # turtle moves forward\n",
        "turn_left() # turtle turns left\n",
        "turn_right() # YOU MADE THIS: turtle turns right\n",
        "```\n",
        "\n",
        "Your goal is to get to this ending configuration:\n",
        "\n",
        "<img src=\"https://drive.google.com/uc?export=view&id=1JLMQMP3vHdBWhmHYBvtZ8yMmNMPVO1YK\" \n",
        "     width=\"500\" \n",
        "     height=\"auto\" />\n",
        "\n",
        "*Hint:* you can use an **if statement** to check if you're supposed to be turning left or right. To check if something is equal to another thing, you can check:\n",
        "```\n",
        "if turn_direction == \"left\":\n",
        "  ... do something\n",
        "```\n",
        "You can also do this problem without using if statements, but it gets long and ugly!"
      ]
    },
    {
      "cell_type": "code",
      "metadata": {
        "id": "ONHc6jn3HPgI",
        "colab": {
          "base_uri": "https://localhost:8080/",
          "height": 521
        },
        "outputId": "82475625-d686-4d6f-8e3e-e4d56344d81a"
      },
      "source": [
        "def maze_path_and_turn(turn_direction):\n",
        "  if turn_direction=='left':\n",
        "    turn_left()\n",
        "  else:\n",
        "    turn_right()\n",
        "\n",
        "initializeTurtle(map=\"maze\")\n",
        "turn_right() \n",
        "while front_is_clear():\n",
        "    go_forward()\n",
        "maze_path_and_turn('left') \n"
      ],
      "execution_count": null,
      "outputs": [
        {
          "output_type": "display_data",
          "data": {
            "text/plain": [
              "<IPython.core.display.HTML object>"
            ],
            "text/html": [
              "\n",
              "      <svg width=\"700\" height=\"500\">\n",
              "        <rect width=\"100%\" height=\"100%\" fill=\"LightBlue\"/>\n",
              "        <line x1=\"3\" y1=\"3\" x2=\"3\" y2=\"497\" stroke-linecap=\"round\" style=\"stroke:blue;stroke-width:5\"/><line x1=\"3\" y1=\"497\" x2=\"697\" y2=\"497\" stroke-linecap=\"round\" style=\"stroke:blue;stroke-width:5\"/><line x1=\"697\" y1=\"497\" x2=\"697\" y2=\"3\" stroke-linecap=\"round\" style=\"stroke:blue;stroke-width:5\"/><line x1=\"697\" y1=\"3\" x2=\"3\" y2=\"3\" stroke-linecap=\"round\" style=\"stroke:blue;stroke-width:5\"/><line x1=\"100\" y1=\"0\" x2=\"100\" y2=\"400\" stroke-linecap=\"round\" style=\"stroke:blue;stroke-width:5\"/><line x1=\"200\" y1=\"100\" x2=\"200\" y2=\"500\" stroke-linecap=\"round\" style=\"stroke:blue;stroke-width:5\"/><line x1=\"300\" y1=\"0\" x2=\"300\" y2=\"400\" stroke-linecap=\"round\" style=\"stroke:blue;stroke-width:5\"/><line x1=\"400\" y1=\"100\" x2=\"400\" y2=\"500\" stroke-linecap=\"round\" style=\"stroke:blue;stroke-width:5\"/><line x1=\"500\" y1=\"0\" x2=\"500\" y2=\"400\" stroke-linecap=\"round\" style=\"stroke:blue;stroke-width:5\"/><line x1=\"600\" y1=\"100\" x2=\"600\" y2=\"500\" stroke-linecap=\"round\" style=\"stroke:blue;stroke-width:5\"/><line x1=\"44\" y1=\"44\" x2=\"56\" y2=\"56\" stroke-linecap=\"round\" style=\"stroke:black;stroke-width:2\"/><line x1=\"44\" y1=\"56\" x2=\"56\" y2=\"44\" stroke-linecap=\"round\" style=\"stroke:black;stroke-width:2\"/><line x1=\"44\" y1=\"144\" x2=\"56\" y2=\"156\" stroke-linecap=\"round\" style=\"stroke:black;stroke-width:2\"/><line x1=\"44\" y1=\"156\" x2=\"56\" y2=\"144\" stroke-linecap=\"round\" style=\"stroke:black;stroke-width:2\"/><line x1=\"44\" y1=\"244\" x2=\"56\" y2=\"256\" stroke-linecap=\"round\" style=\"stroke:black;stroke-width:2\"/><line x1=\"44\" y1=\"256\" x2=\"56\" y2=\"244\" stroke-linecap=\"round\" style=\"stroke:black;stroke-width:2\"/><line x1=\"44\" y1=\"344\" x2=\"56\" y2=\"356\" stroke-linecap=\"round\" style=\"stroke:black;stroke-width:2\"/><line x1=\"44\" y1=\"356\" x2=\"56\" y2=\"344\" stroke-linecap=\"round\" style=\"stroke:black;stroke-width:2\"/><line x1=\"44\" y1=\"444\" x2=\"56\" y2=\"456\" stroke-linecap=\"round\" style=\"stroke:black;stroke-width:2\"/><line x1=\"44\" y1=\"456\" x2=\"56\" y2=\"444\" stroke-linecap=\"round\" style=\"stroke:black;stroke-width:2\"/><line x1=\"144\" y1=\"44\" x2=\"156\" y2=\"56\" stroke-linecap=\"round\" style=\"stroke:black;stroke-width:2\"/><line x1=\"144\" y1=\"56\" x2=\"156\" y2=\"44\" stroke-linecap=\"round\" style=\"stroke:black;stroke-width:2\"/><line x1=\"144\" y1=\"144\" x2=\"156\" y2=\"156\" stroke-linecap=\"round\" style=\"stroke:black;stroke-width:2\"/><line x1=\"144\" y1=\"156\" x2=\"156\" y2=\"144\" stroke-linecap=\"round\" style=\"stroke:black;stroke-width:2\"/><line x1=\"144\" y1=\"244\" x2=\"156\" y2=\"256\" stroke-linecap=\"round\" style=\"stroke:black;stroke-width:2\"/><line x1=\"144\" y1=\"256\" x2=\"156\" y2=\"244\" stroke-linecap=\"round\" style=\"stroke:black;stroke-width:2\"/><line x1=\"144\" y1=\"344\" x2=\"156\" y2=\"356\" stroke-linecap=\"round\" style=\"stroke:black;stroke-width:2\"/><line x1=\"144\" y1=\"356\" x2=\"156\" y2=\"344\" stroke-linecap=\"round\" style=\"stroke:black;stroke-width:2\"/><line x1=\"144\" y1=\"444\" x2=\"156\" y2=\"456\" stroke-linecap=\"round\" style=\"stroke:black;stroke-width:2\"/><line x1=\"144\" y1=\"456\" x2=\"156\" y2=\"444\" stroke-linecap=\"round\" style=\"stroke:black;stroke-width:2\"/><line x1=\"244\" y1=\"44\" x2=\"256\" y2=\"56\" stroke-linecap=\"round\" style=\"stroke:black;stroke-width:2\"/><line x1=\"244\" y1=\"56\" x2=\"256\" y2=\"44\" stroke-linecap=\"round\" style=\"stroke:black;stroke-width:2\"/><line x1=\"244\" y1=\"144\" x2=\"256\" y2=\"156\" stroke-linecap=\"round\" style=\"stroke:black;stroke-width:2\"/><line x1=\"244\" y1=\"156\" x2=\"256\" y2=\"144\" stroke-linecap=\"round\" style=\"stroke:black;stroke-width:2\"/><line x1=\"244\" y1=\"244\" x2=\"256\" y2=\"256\" stroke-linecap=\"round\" style=\"stroke:black;stroke-width:2\"/><line x1=\"244\" y1=\"256\" x2=\"256\" y2=\"244\" stroke-linecap=\"round\" style=\"stroke:black;stroke-width:2\"/><line x1=\"244\" y1=\"344\" x2=\"256\" y2=\"356\" stroke-linecap=\"round\" style=\"stroke:black;stroke-width:2\"/><line x1=\"244\" y1=\"356\" x2=\"256\" y2=\"344\" stroke-linecap=\"round\" style=\"stroke:black;stroke-width:2\"/><line x1=\"244\" y1=\"444\" x2=\"256\" y2=\"456\" stroke-linecap=\"round\" style=\"stroke:black;stroke-width:2\"/><line x1=\"244\" y1=\"456\" x2=\"256\" y2=\"444\" stroke-linecap=\"round\" style=\"stroke:black;stroke-width:2\"/><line x1=\"344\" y1=\"44\" x2=\"356\" y2=\"56\" stroke-linecap=\"round\" style=\"stroke:black;stroke-width:2\"/><line x1=\"344\" y1=\"56\" x2=\"356\" y2=\"44\" stroke-linecap=\"round\" style=\"stroke:black;stroke-width:2\"/><line x1=\"344\" y1=\"144\" x2=\"356\" y2=\"156\" stroke-linecap=\"round\" style=\"stroke:black;stroke-width:2\"/><line x1=\"344\" y1=\"156\" x2=\"356\" y2=\"144\" stroke-linecap=\"round\" style=\"stroke:black;stroke-width:2\"/><line x1=\"344\" y1=\"244\" x2=\"356\" y2=\"256\" stroke-linecap=\"round\" style=\"stroke:black;stroke-width:2\"/><line x1=\"344\" y1=\"256\" x2=\"356\" y2=\"244\" stroke-linecap=\"round\" style=\"stroke:black;stroke-width:2\"/><line x1=\"344\" y1=\"344\" x2=\"356\" y2=\"356\" stroke-linecap=\"round\" style=\"stroke:black;stroke-width:2\"/><line x1=\"344\" y1=\"356\" x2=\"356\" y2=\"344\" stroke-linecap=\"round\" style=\"stroke:black;stroke-width:2\"/><line x1=\"344\" y1=\"444\" x2=\"356\" y2=\"456\" stroke-linecap=\"round\" style=\"stroke:black;stroke-width:2\"/><line x1=\"344\" y1=\"456\" x2=\"356\" y2=\"444\" stroke-linecap=\"round\" style=\"stroke:black;stroke-width:2\"/><line x1=\"444\" y1=\"44\" x2=\"456\" y2=\"56\" stroke-linecap=\"round\" style=\"stroke:black;stroke-width:2\"/><line x1=\"444\" y1=\"56\" x2=\"456\" y2=\"44\" stroke-linecap=\"round\" style=\"stroke:black;stroke-width:2\"/><line x1=\"444\" y1=\"144\" x2=\"456\" y2=\"156\" stroke-linecap=\"round\" style=\"stroke:black;stroke-width:2\"/><line x1=\"444\" y1=\"156\" x2=\"456\" y2=\"144\" stroke-linecap=\"round\" style=\"stroke:black;stroke-width:2\"/><line x1=\"444\" y1=\"244\" x2=\"456\" y2=\"256\" stroke-linecap=\"round\" style=\"stroke:black;stroke-width:2\"/><line x1=\"444\" y1=\"256\" x2=\"456\" y2=\"244\" stroke-linecap=\"round\" style=\"stroke:black;stroke-width:2\"/><line x1=\"444\" y1=\"344\" x2=\"456\" y2=\"356\" stroke-linecap=\"round\" style=\"stroke:black;stroke-width:2\"/><line x1=\"444\" y1=\"356\" x2=\"456\" y2=\"344\" stroke-linecap=\"round\" style=\"stroke:black;stroke-width:2\"/><line x1=\"444\" y1=\"444\" x2=\"456\" y2=\"456\" stroke-linecap=\"round\" style=\"stroke:black;stroke-width:2\"/><line x1=\"444\" y1=\"456\" x2=\"456\" y2=\"444\" stroke-linecap=\"round\" style=\"stroke:black;stroke-width:2\"/><line x1=\"544\" y1=\"44\" x2=\"556\" y2=\"56\" stroke-linecap=\"round\" style=\"stroke:black;stroke-width:2\"/><line x1=\"544\" y1=\"56\" x2=\"556\" y2=\"44\" stroke-linecap=\"round\" style=\"stroke:black;stroke-width:2\"/><line x1=\"544\" y1=\"144\" x2=\"556\" y2=\"156\" stroke-linecap=\"round\" style=\"stroke:black;stroke-width:2\"/><line x1=\"544\" y1=\"156\" x2=\"556\" y2=\"144\" stroke-linecap=\"round\" style=\"stroke:black;stroke-width:2\"/><line x1=\"544\" y1=\"244\" x2=\"556\" y2=\"256\" stroke-linecap=\"round\" style=\"stroke:black;stroke-width:2\"/><line x1=\"544\" y1=\"256\" x2=\"556\" y2=\"244\" stroke-linecap=\"round\" style=\"stroke:black;stroke-width:2\"/><line x1=\"544\" y1=\"344\" x2=\"556\" y2=\"356\" stroke-linecap=\"round\" style=\"stroke:black;stroke-width:2\"/><line x1=\"544\" y1=\"356\" x2=\"556\" y2=\"344\" stroke-linecap=\"round\" style=\"stroke:black;stroke-width:2\"/><line x1=\"544\" y1=\"444\" x2=\"556\" y2=\"456\" stroke-linecap=\"round\" style=\"stroke:black;stroke-width:2\"/><line x1=\"544\" y1=\"456\" x2=\"556\" y2=\"444\" stroke-linecap=\"round\" style=\"stroke:black;stroke-width:2\"/><line x1=\"644\" y1=\"44\" x2=\"656\" y2=\"56\" stroke-linecap=\"round\" style=\"stroke:black;stroke-width:2\"/><line x1=\"644\" y1=\"56\" x2=\"656\" y2=\"44\" stroke-linecap=\"round\" style=\"stroke:black;stroke-width:2\"/><line x1=\"644\" y1=\"144\" x2=\"656\" y2=\"156\" stroke-linecap=\"round\" style=\"stroke:black;stroke-width:2\"/><line x1=\"644\" y1=\"156\" x2=\"656\" y2=\"144\" stroke-linecap=\"round\" style=\"stroke:black;stroke-width:2\"/><line x1=\"644\" y1=\"244\" x2=\"656\" y2=\"256\" stroke-linecap=\"round\" style=\"stroke:black;stroke-width:2\"/><line x1=\"644\" y1=\"256\" x2=\"656\" y2=\"244\" stroke-linecap=\"round\" style=\"stroke:black;stroke-width:2\"/><line x1=\"644\" y1=\"344\" x2=\"656\" y2=\"356\" stroke-linecap=\"round\" style=\"stroke:black;stroke-width:2\"/><line x1=\"644\" y1=\"356\" x2=\"656\" y2=\"344\" stroke-linecap=\"round\" style=\"stroke:black;stroke-width:2\"/><line x1=\"644\" y1=\"444\" x2=\"656\" y2=\"456\" stroke-linecap=\"round\" style=\"stroke:black;stroke-width:2\"/><line x1=\"644\" y1=\"456\" x2=\"656\" y2=\"444\" stroke-linecap=\"round\" style=\"stroke:black;stroke-width:2\"/>\n",
              "        \n",
              "        <g visibility=visible transform=\"rotate(90,50,50) translate(19.400000000000002, 19.400000000000002)\">\n",
              "<path style=\" stroke:none;fill-rule:evenodd;fill:green;fill-opacity:1;\" d=\"M 30.965234799999998 1.0757804 C 27.3859375 3.0613276999999997 25.519922299999998 6.9261723 25.626172299999997 12.1257804 L 25.6460946 13.0089848 L 25.1347652 12.7433598 C 22.910155399999997 11.6011723 20.3269527 11.3421875 17.690625 12.0128902 C 14.396875 12.8363277 11.0765625 15.565624999999999 7.4707026999999995 20.3867196 C 5.20625 23.421484799999998 4.5554696 24.882422299999998 5.1730472999999995 25.546484799999998 L 5.365625 25.758984799999997 L 5.9832027000000005 25.758984799999997 C 7.2050776999999995 25.758984799999997 8.2078125 25.3074223 13.91875 22.1664054 C 15.9574223 21.0441402 17.6308598 20.1277348 17.6441402 20.1277348 C 17.657422299999997 20.1277348 17.6042973 20.2804696 17.5179696 20.4597652 C 16.7144527 22.259375 15.738280399999999 25.194530399999998 15.246875 27.3328125 C 13.4539054 35.108984799999995 14.6492196 41.703125 18.819530399999998 47.0222652 C 19.2976554 47.6265625 19.3175777 47.453905400000004 18.6535152 48.250780400000004 C 15.1738277 52.434374999999996 13.5070304 56.578125 14.005077700000001 59.81875 C 14.0914054 60.396484799999996 14.078125 60.389844599999996 15.1605473 60.389844599999996 C 18.6003902 60.389844599999996 22.226172299999998 58.1519527 25.7324223 53.86875 C 26.1109375 53.4105473 26.0578125 53.4238277 26.45625 53.6761723 C 27.6980473 54.4730473 30.639844599999996 56.0402348 30.898827700000002 56.0402348 C 31.171094599999996 56.0402348 33.9003902 54.758594599999995 35.4078125 53.921875 C 35.693359799999996 53.762499999999996 35.9324223 53.642969599999994 35.9324223 53.6496098 C 36.0453125 53.828905400000004 37.227344599999995 55.1039054 37.7785152 55.6417973 C 40.5210946 58.3113277 43.45625 59.7257804 46.8894527 60.0113277 C 47.440625 60.0578125 47.49375 60.0246098 47.6132804 59.473437499999996 C 48.250780400000004 56.5117196 46.9625 52.5738277 43.9675777 48.3238277 L 43.4230473 47.546875 L 43.6886723 47.2347652 C 49.2070304 40.733594599999996 49.5257804 31.788672299999998 44.6382804 20.346875 L 44.5519527 20.134375 L 47.5070304 21.5953125 C 53.603125 24.6101554 54.9378902 25.1613277 56.153124999999996 25.1613277 C 57.7601554 25.1613277 57.428125 23.693749999999998 55.2035152 20.898047299999998 C 48.4832027 12.5042973 43.1707027 10.073827699999999 37.2671875 12.7035152 L 36.6496098 12.9824223 L 36.6828125 12.8230473 C 36.888672299999996 11.8867196 36.9949223 9.7617196 36.888672299999996 8.778905400000001 C 36.5433598 5.6046875 35.1289054 3.3402348 32.3066402 1.4542973000000001 C 31.4167973 0.8566402 31.3769527 0.85 30.965234799999998 1.0757804\"/>\n",
              "</g>\n",
              "      </svg>\n",
              "    "
            ]
          },
          "metadata": {}
        }
      ]
    },
    {
      "cell_type": "markdown",
      "metadata": {
        "id": "i5pOsCpR_XvL"
      },
      "source": [
        "#**🍊 Section 5: While Loops**\n",
        "\n",
        "Now we have the capabilities to check if there are pearls where the turtle is, but what if there's more than one pearl in that spot (and we don't know the exact number of pearls)? Is there some way we can loop without knowing the number of pearls?\n",
        "\n",
        "\n",
        "**Spoiler alert**, there is! In python, there is another type of loop called a *while loop*.\n",
        "\n",
        "A *while loop* is used to execute a particular task repeatedly until some condition no longer holds `True`. \n",
        "\n",
        "Here's what a `while` loop looks like: \n",
        "```\n",
        "while condition\n",
        "  ... do something ... \n",
        " ```\n",
        "It looks a lot like an `if` statement. The only difference is the word \"while\" in place of the word \"if\". The condition still has to be something that evaluates to a boolean. The code under the `while` loop is the body. If the condition is `True`, it executes. \n",
        "\n",
        "EVERY TIME it executes, the condition is checked again. Unless the condition has become `False`, the body runs again.\n",
        "\n",
        "\n",
        "\n"
      ]
    },
    {
      "cell_type": "markdown",
      "metadata": {
        "id": "J95r7dgMBdMQ"
      },
      "source": [
        "Let's go back to our scenario from before where we have a world that's just a straight line. Our goal is to get from one side to the other, with the condition that while we are standing on pearls, the turtle has to turn 360 degrees then pick up a pearl. Here's how we could code that below:"
      ]
    },
    {
      "cell_type": "code",
      "metadata": {
        "id": "szJuGtg1BdMR",
        "colab": {
          "base_uri": "https://localhost:8080/",
          "height": 121
        },
        "outputId": "359c4bb6-ba6e-4082-9633-44b4a1904c5c"
      },
      "source": [
        "initializeTurtle(map=\"strip random\")\n",
        "for i in range(4):\n",
        "  go_forward()\n",
        "  while is_pearl():\n",
        "    turn_left()\n",
        "    turn_left()\n",
        "    turn_left()\n",
        "    turn_left()\n",
        "    pick_pearl()"
      ],
      "execution_count": null,
      "outputs": [
        {
          "output_type": "display_data",
          "data": {
            "text/plain": [
              "<IPython.core.display.HTML object>"
            ],
            "text/html": [
              "\n",
              "      <svg width=\"500\" height=\"100\">\n",
              "        <rect width=\"100%\" height=\"100%\" fill=\"LightBlue\"/>\n",
              "        <line x1=\"3\" y1=\"3\" x2=\"3\" y2=\"97\" stroke-linecap=\"round\" style=\"stroke:blue;stroke-width:5\"/><line x1=\"3\" y1=\"97\" x2=\"497\" y2=\"97\" stroke-linecap=\"round\" style=\"stroke:blue;stroke-width:5\"/><line x1=\"497\" y1=\"97\" x2=\"497\" y2=\"3\" stroke-linecap=\"round\" style=\"stroke:blue;stroke-width:5\"/><line x1=\"497\" y1=\"3\" x2=\"3\" y2=\"3\" stroke-linecap=\"round\" style=\"stroke:blue;stroke-width:5\"/><line x1=\"44\" y1=\"44\" x2=\"56\" y2=\"56\" stroke-linecap=\"round\" style=\"stroke:black;stroke-width:2\"/><line x1=\"44\" y1=\"56\" x2=\"56\" y2=\"44\" stroke-linecap=\"round\" style=\"stroke:black;stroke-width:2\"/><line x1=\"144\" y1=\"44\" x2=\"156\" y2=\"56\" stroke-linecap=\"round\" style=\"stroke:black;stroke-width:2\"/><line x1=\"144\" y1=\"56\" x2=\"156\" y2=\"44\" stroke-linecap=\"round\" style=\"stroke:black;stroke-width:2\"/><line x1=\"244\" y1=\"44\" x2=\"256\" y2=\"56\" stroke-linecap=\"round\" style=\"stroke:black;stroke-width:2\"/><line x1=\"244\" y1=\"56\" x2=\"256\" y2=\"44\" stroke-linecap=\"round\" style=\"stroke:black;stroke-width:2\"/><line x1=\"344\" y1=\"44\" x2=\"356\" y2=\"56\" stroke-linecap=\"round\" style=\"stroke:black;stroke-width:2\"/><line x1=\"344\" y1=\"56\" x2=\"356\" y2=\"44\" stroke-linecap=\"round\" style=\"stroke:black;stroke-width:2\"/><line x1=\"444\" y1=\"44\" x2=\"456\" y2=\"56\" stroke-linecap=\"round\" style=\"stroke:black;stroke-width:2\"/><line x1=\"444\" y1=\"56\" x2=\"456\" y2=\"44\" stroke-linecap=\"round\" style=\"stroke:black;stroke-width:2\"/>\n",
              "        \n",
              "        <g visibility=visible transform=\"rotate(90,450.0,50.0) translate(419.4, 19.400000000000002)\">\n",
              "<path style=\" stroke:none;fill-rule:evenodd;fill:green;fill-opacity:1;\" d=\"M 30.965234799999998 1.0757804 C 27.3859375 3.0613276999999997 25.519922299999998 6.9261723 25.626172299999997 12.1257804 L 25.6460946 13.0089848 L 25.1347652 12.7433598 C 22.910155399999997 11.6011723 20.3269527 11.3421875 17.690625 12.0128902 C 14.396875 12.8363277 11.0765625 15.565624999999999 7.4707026999999995 20.3867196 C 5.20625 23.421484799999998 4.5554696 24.882422299999998 5.1730472999999995 25.546484799999998 L 5.365625 25.758984799999997 L 5.9832027000000005 25.758984799999997 C 7.2050776999999995 25.758984799999997 8.2078125 25.3074223 13.91875 22.1664054 C 15.9574223 21.0441402 17.6308598 20.1277348 17.6441402 20.1277348 C 17.657422299999997 20.1277348 17.6042973 20.2804696 17.5179696 20.4597652 C 16.7144527 22.259375 15.738280399999999 25.194530399999998 15.246875 27.3328125 C 13.4539054 35.108984799999995 14.6492196 41.703125 18.819530399999998 47.0222652 C 19.2976554 47.6265625 19.3175777 47.453905400000004 18.6535152 48.250780400000004 C 15.1738277 52.434374999999996 13.5070304 56.578125 14.005077700000001 59.81875 C 14.0914054 60.396484799999996 14.078125 60.389844599999996 15.1605473 60.389844599999996 C 18.6003902 60.389844599999996 22.226172299999998 58.1519527 25.7324223 53.86875 C 26.1109375 53.4105473 26.0578125 53.4238277 26.45625 53.6761723 C 27.6980473 54.4730473 30.639844599999996 56.0402348 30.898827700000002 56.0402348 C 31.171094599999996 56.0402348 33.9003902 54.758594599999995 35.4078125 53.921875 C 35.693359799999996 53.762499999999996 35.9324223 53.642969599999994 35.9324223 53.6496098 C 36.0453125 53.828905400000004 37.227344599999995 55.1039054 37.7785152 55.6417973 C 40.5210946 58.3113277 43.45625 59.7257804 46.8894527 60.0113277 C 47.440625 60.0578125 47.49375 60.0246098 47.6132804 59.473437499999996 C 48.250780400000004 56.5117196 46.9625 52.5738277 43.9675777 48.3238277 L 43.4230473 47.546875 L 43.6886723 47.2347652 C 49.2070304 40.733594599999996 49.5257804 31.788672299999998 44.6382804 20.346875 L 44.5519527 20.134375 L 47.5070304 21.5953125 C 53.603125 24.6101554 54.9378902 25.1613277 56.153124999999996 25.1613277 C 57.7601554 25.1613277 57.428125 23.693749999999998 55.2035152 20.898047299999998 C 48.4832027 12.5042973 43.1707027 10.073827699999999 37.2671875 12.7035152 L 36.6496098 12.9824223 L 36.6828125 12.8230473 C 36.888672299999996 11.8867196 36.9949223 9.7617196 36.888672299999996 8.778905400000001 C 36.5433598 5.6046875 35.1289054 3.3402348 32.3066402 1.4542973000000001 C 31.4167973 0.8566402 31.3769527 0.85 30.965234799999998 1.0757804\"/>\n",
              "</g>\n",
              "      </svg>\n",
              "    "
            ]
          },
          "metadata": {}
        }
      ]
    },
    {
      "cell_type": "markdown",
      "metadata": {
        "id": "XrW8npDfCRm6"
      },
      "source": [
        "What do you think would happen if we deleted the `pick_pearl` line?"
      ]
    },
    {
      "cell_type": "markdown",
      "metadata": {
        "id": "nmMP2UjhCdR5"
      },
      "source": [
        "### 📙 **Coding Exercise:** clean the (variable, many pearl) stairs!\n",
        "In this new map that we're loading in, our stairs are covered in pearls, but we don't necessarily know where those pearls are or how many pearls are in each spot! It's your job to clean up the stairs so there aren't any pearls left at the end, using while loops. Here are the functions you have to work with:\n",
        "\n",
        "```python\n",
        "go_forward() # turtle moves forward\n",
        "turn_left() # turtle turns left\n",
        "turn_right() # YOU MADE THIS: turtle turns right\n",
        "climb_stair() # YOU MADE THIS: turtle climbs one stair\n",
        "pick_pearl() # picks up one pearl\n",
        "put_pearl() # puts down one pearl\n",
        "is_pearl() # returns True if there is a pearl at the turtle's position, False if not\n",
        "```\n",
        "\n",
        "Your goal is still to get to this same ending configuration as before.\n",
        "\n",
        "*Note:*\n",
        "* the `many random pearl stairs` map will randomly place pearls (including the amount of pearls) every time it's created, so each time you run the code cell you'll probably get a different map. If you've done the code right, it should work on any configuration!\n",
        "\n"
      ]
    },
    {
      "cell_type": "code",
      "metadata": {
        "id": "Xpr1cTJD3aLZ",
        "colab": {
          "base_uri": "https://localhost:8080/",
          "height": 521
        },
        "outputId": "25fc3d2d-58e4-4b91-e9f4-5bdff7c8302b"
      },
      "source": [
        "initializeTurtle(map=\"many random pearl stairs\")\n",
        "# YOUR CODE HERE: put your code to climb the stairs below\n",
        "for stair_no in range(4):\n",
        "  climb_stair()\n",
        "  while is_pearl():\n",
        "    pick_pearl()\n",
        "   \n"
      ],
      "execution_count": null,
      "outputs": [
        {
          "output_type": "display_data",
          "data": {
            "text/plain": [
              "<IPython.core.display.HTML object>"
            ],
            "text/html": [
              "\n",
              "      <svg width=\"500\" height=\"500\">\n",
              "        <rect width=\"100%\" height=\"100%\" fill=\"LightBlue\"/>\n",
              "        <line x1=\"3\" y1=\"3\" x2=\"3\" y2=\"497\" stroke-linecap=\"round\" style=\"stroke:blue;stroke-width:5\"/><line x1=\"3\" y1=\"497\" x2=\"497\" y2=\"497\" stroke-linecap=\"round\" style=\"stroke:blue;stroke-width:5\"/><line x1=\"497\" y1=\"497\" x2=\"497\" y2=\"3\" stroke-linecap=\"round\" style=\"stroke:blue;stroke-width:5\"/><line x1=\"497\" y1=\"3\" x2=\"3\" y2=\"3\" stroke-linecap=\"round\" style=\"stroke:blue;stroke-width:5\"/><line x1=\"100\" y1=\"500\" x2=\"100\" y2=\"400\" stroke-linecap=\"round\" style=\"stroke:blue;stroke-width:5\"/><line x1=\"100\" y1=\"400\" x2=\"200\" y2=\"400\" stroke-linecap=\"round\" style=\"stroke:blue;stroke-width:5\"/><line x1=\"200\" y1=\"400\" x2=\"200\" y2=\"300\" stroke-linecap=\"round\" style=\"stroke:blue;stroke-width:5\"/><line x1=\"200\" y1=\"300\" x2=\"300\" y2=\"300\" stroke-linecap=\"round\" style=\"stroke:blue;stroke-width:5\"/><line x1=\"300\" y1=\"300\" x2=\"300\" y2=\"200\" stroke-linecap=\"round\" style=\"stroke:blue;stroke-width:5\"/><line x1=\"300\" y1=\"200\" x2=\"400\" y2=\"200\" stroke-linecap=\"round\" style=\"stroke:blue;stroke-width:5\"/><line x1=\"400\" y1=\"200\" x2=\"400\" y2=\"100\" stroke-linecap=\"round\" style=\"stroke:blue;stroke-width:5\"/><line x1=\"400\" y1=\"100\" x2=\"500\" y2=\"100\" stroke-linecap=\"round\" style=\"stroke:blue;stroke-width:5\"/><line x1=\"44\" y1=\"44\" x2=\"56\" y2=\"56\" stroke-linecap=\"round\" style=\"stroke:black;stroke-width:2\"/><line x1=\"44\" y1=\"56\" x2=\"56\" y2=\"44\" stroke-linecap=\"round\" style=\"stroke:black;stroke-width:2\"/><line x1=\"44\" y1=\"144\" x2=\"56\" y2=\"156\" stroke-linecap=\"round\" style=\"stroke:black;stroke-width:2\"/><line x1=\"44\" y1=\"156\" x2=\"56\" y2=\"144\" stroke-linecap=\"round\" style=\"stroke:black;stroke-width:2\"/><line x1=\"44\" y1=\"244\" x2=\"56\" y2=\"256\" stroke-linecap=\"round\" style=\"stroke:black;stroke-width:2\"/><line x1=\"44\" y1=\"256\" x2=\"56\" y2=\"244\" stroke-linecap=\"round\" style=\"stroke:black;stroke-width:2\"/><line x1=\"44\" y1=\"344\" x2=\"56\" y2=\"356\" stroke-linecap=\"round\" style=\"stroke:black;stroke-width:2\"/><line x1=\"44\" y1=\"356\" x2=\"56\" y2=\"344\" stroke-linecap=\"round\" style=\"stroke:black;stroke-width:2\"/><line x1=\"44\" y1=\"444\" x2=\"56\" y2=\"456\" stroke-linecap=\"round\" style=\"stroke:black;stroke-width:2\"/><line x1=\"44\" y1=\"456\" x2=\"56\" y2=\"444\" stroke-linecap=\"round\" style=\"stroke:black;stroke-width:2\"/><line x1=\"144\" y1=\"44\" x2=\"156\" y2=\"56\" stroke-linecap=\"round\" style=\"stroke:black;stroke-width:2\"/><line x1=\"144\" y1=\"56\" x2=\"156\" y2=\"44\" stroke-linecap=\"round\" style=\"stroke:black;stroke-width:2\"/><line x1=\"144\" y1=\"144\" x2=\"156\" y2=\"156\" stroke-linecap=\"round\" style=\"stroke:black;stroke-width:2\"/><line x1=\"144\" y1=\"156\" x2=\"156\" y2=\"144\" stroke-linecap=\"round\" style=\"stroke:black;stroke-width:2\"/><line x1=\"144\" y1=\"244\" x2=\"156\" y2=\"256\" stroke-linecap=\"round\" style=\"stroke:black;stroke-width:2\"/><line x1=\"144\" y1=\"256\" x2=\"156\" y2=\"244\" stroke-linecap=\"round\" style=\"stroke:black;stroke-width:2\"/><line x1=\"144\" y1=\"344\" x2=\"156\" y2=\"356\" stroke-linecap=\"round\" style=\"stroke:black;stroke-width:2\"/><line x1=\"144\" y1=\"356\" x2=\"156\" y2=\"344\" stroke-linecap=\"round\" style=\"stroke:black;stroke-width:2\"/><line x1=\"144\" y1=\"444\" x2=\"156\" y2=\"456\" stroke-linecap=\"round\" style=\"stroke:black;stroke-width:2\"/><line x1=\"144\" y1=\"456\" x2=\"156\" y2=\"444\" stroke-linecap=\"round\" style=\"stroke:black;stroke-width:2\"/><line x1=\"244\" y1=\"44\" x2=\"256\" y2=\"56\" stroke-linecap=\"round\" style=\"stroke:black;stroke-width:2\"/><line x1=\"244\" y1=\"56\" x2=\"256\" y2=\"44\" stroke-linecap=\"round\" style=\"stroke:black;stroke-width:2\"/><line x1=\"244\" y1=\"144\" x2=\"256\" y2=\"156\" stroke-linecap=\"round\" style=\"stroke:black;stroke-width:2\"/><line x1=\"244\" y1=\"156\" x2=\"256\" y2=\"144\" stroke-linecap=\"round\" style=\"stroke:black;stroke-width:2\"/><line x1=\"244\" y1=\"244\" x2=\"256\" y2=\"256\" stroke-linecap=\"round\" style=\"stroke:black;stroke-width:2\"/><line x1=\"244\" y1=\"256\" x2=\"256\" y2=\"244\" stroke-linecap=\"round\" style=\"stroke:black;stroke-width:2\"/><line x1=\"244\" y1=\"344\" x2=\"256\" y2=\"356\" stroke-linecap=\"round\" style=\"stroke:black;stroke-width:2\"/><line x1=\"244\" y1=\"356\" x2=\"256\" y2=\"344\" stroke-linecap=\"round\" style=\"stroke:black;stroke-width:2\"/><line x1=\"244\" y1=\"444\" x2=\"256\" y2=\"456\" stroke-linecap=\"round\" style=\"stroke:black;stroke-width:2\"/><line x1=\"244\" y1=\"456\" x2=\"256\" y2=\"444\" stroke-linecap=\"round\" style=\"stroke:black;stroke-width:2\"/><line x1=\"344\" y1=\"44\" x2=\"356\" y2=\"56\" stroke-linecap=\"round\" style=\"stroke:black;stroke-width:2\"/><line x1=\"344\" y1=\"56\" x2=\"356\" y2=\"44\" stroke-linecap=\"round\" style=\"stroke:black;stroke-width:2\"/><line x1=\"344\" y1=\"144\" x2=\"356\" y2=\"156\" stroke-linecap=\"round\" style=\"stroke:black;stroke-width:2\"/><line x1=\"344\" y1=\"156\" x2=\"356\" y2=\"144\" stroke-linecap=\"round\" style=\"stroke:black;stroke-width:2\"/><line x1=\"344\" y1=\"244\" x2=\"356\" y2=\"256\" stroke-linecap=\"round\" style=\"stroke:black;stroke-width:2\"/><line x1=\"344\" y1=\"256\" x2=\"356\" y2=\"244\" stroke-linecap=\"round\" style=\"stroke:black;stroke-width:2\"/><line x1=\"344\" y1=\"344\" x2=\"356\" y2=\"356\" stroke-linecap=\"round\" style=\"stroke:black;stroke-width:2\"/><line x1=\"344\" y1=\"356\" x2=\"356\" y2=\"344\" stroke-linecap=\"round\" style=\"stroke:black;stroke-width:2\"/><line x1=\"344\" y1=\"444\" x2=\"356\" y2=\"456\" stroke-linecap=\"round\" style=\"stroke:black;stroke-width:2\"/><line x1=\"344\" y1=\"456\" x2=\"356\" y2=\"444\" stroke-linecap=\"round\" style=\"stroke:black;stroke-width:2\"/><line x1=\"444\" y1=\"44\" x2=\"456\" y2=\"56\" stroke-linecap=\"round\" style=\"stroke:black;stroke-width:2\"/><line x1=\"444\" y1=\"56\" x2=\"456\" y2=\"44\" stroke-linecap=\"round\" style=\"stroke:black;stroke-width:2\"/><line x1=\"444\" y1=\"144\" x2=\"456\" y2=\"156\" stroke-linecap=\"round\" style=\"stroke:black;stroke-width:2\"/><line x1=\"444\" y1=\"156\" x2=\"456\" y2=\"144\" stroke-linecap=\"round\" style=\"stroke:black;stroke-width:2\"/><line x1=\"444\" y1=\"244\" x2=\"456\" y2=\"256\" stroke-linecap=\"round\" style=\"stroke:black;stroke-width:2\"/><line x1=\"444\" y1=\"256\" x2=\"456\" y2=\"244\" stroke-linecap=\"round\" style=\"stroke:black;stroke-width:2\"/><line x1=\"444\" y1=\"344\" x2=\"456\" y2=\"356\" stroke-linecap=\"round\" style=\"stroke:black;stroke-width:2\"/><line x1=\"444\" y1=\"356\" x2=\"456\" y2=\"344\" stroke-linecap=\"round\" style=\"stroke:black;stroke-width:2\"/><line x1=\"444\" y1=\"444\" x2=\"456\" y2=\"456\" stroke-linecap=\"round\" style=\"stroke:black;stroke-width:2\"/><line x1=\"444\" y1=\"456\" x2=\"456\" y2=\"444\" stroke-linecap=\"round\" style=\"stroke:black;stroke-width:2\"/>\n",
              "        \n",
              "        <g visibility=visible transform=\"rotate(90,450.0,50.0) translate(419.4, 19.400000000000002)\">\n",
              "<path style=\" stroke:none;fill-rule:evenodd;fill:green;fill-opacity:1;\" d=\"M 30.965234799999998 1.0757804 C 27.3859375 3.0613276999999997 25.519922299999998 6.9261723 25.626172299999997 12.1257804 L 25.6460946 13.0089848 L 25.1347652 12.7433598 C 22.910155399999997 11.6011723 20.3269527 11.3421875 17.690625 12.0128902 C 14.396875 12.8363277 11.0765625 15.565624999999999 7.4707026999999995 20.3867196 C 5.20625 23.421484799999998 4.5554696 24.882422299999998 5.1730472999999995 25.546484799999998 L 5.365625 25.758984799999997 L 5.9832027000000005 25.758984799999997 C 7.2050776999999995 25.758984799999997 8.2078125 25.3074223 13.91875 22.1664054 C 15.9574223 21.0441402 17.6308598 20.1277348 17.6441402 20.1277348 C 17.657422299999997 20.1277348 17.6042973 20.2804696 17.5179696 20.4597652 C 16.7144527 22.259375 15.738280399999999 25.194530399999998 15.246875 27.3328125 C 13.4539054 35.108984799999995 14.6492196 41.703125 18.819530399999998 47.0222652 C 19.2976554 47.6265625 19.3175777 47.453905400000004 18.6535152 48.250780400000004 C 15.1738277 52.434374999999996 13.5070304 56.578125 14.005077700000001 59.81875 C 14.0914054 60.396484799999996 14.078125 60.389844599999996 15.1605473 60.389844599999996 C 18.6003902 60.389844599999996 22.226172299999998 58.1519527 25.7324223 53.86875 C 26.1109375 53.4105473 26.0578125 53.4238277 26.45625 53.6761723 C 27.6980473 54.4730473 30.639844599999996 56.0402348 30.898827700000002 56.0402348 C 31.171094599999996 56.0402348 33.9003902 54.758594599999995 35.4078125 53.921875 C 35.693359799999996 53.762499999999996 35.9324223 53.642969599999994 35.9324223 53.6496098 C 36.0453125 53.828905400000004 37.227344599999995 55.1039054 37.7785152 55.6417973 C 40.5210946 58.3113277 43.45625 59.7257804 46.8894527 60.0113277 C 47.440625 60.0578125 47.49375 60.0246098 47.6132804 59.473437499999996 C 48.250780400000004 56.5117196 46.9625 52.5738277 43.9675777 48.3238277 L 43.4230473 47.546875 L 43.6886723 47.2347652 C 49.2070304 40.733594599999996 49.5257804 31.788672299999998 44.6382804 20.346875 L 44.5519527 20.134375 L 47.5070304 21.5953125 C 53.603125 24.6101554 54.9378902 25.1613277 56.153124999999996 25.1613277 C 57.7601554 25.1613277 57.428125 23.693749999999998 55.2035152 20.898047299999998 C 48.4832027 12.5042973 43.1707027 10.073827699999999 37.2671875 12.7035152 L 36.6496098 12.9824223 L 36.6828125 12.8230473 C 36.888672299999996 11.8867196 36.9949223 9.7617196 36.888672299999996 8.778905400000001 C 36.5433598 5.6046875 35.1289054 3.3402348 32.3066402 1.4542973000000001 C 31.4167973 0.8566402 31.3769527 0.85 30.965234799999998 1.0757804\"/>\n",
              "</g>\n",
              "      </svg>\n",
              "    "
            ]
          },
          "metadata": {}
        }
      ]
    },
    {
      "cell_type": "markdown",
      "metadata": {
        "id": "dRnMf7XsKz-y"
      },
      "source": [
        "## 🔶 **New Function**: `front_is_clear`!\n",
        "We have one more function to add to our arsenal: `front_is_clear()`. `front_is_clear()` will return `True` if the front of the turtle isn't blocked by a wall, and `False` if there is a wall in front of the turtle.\n",
        "\n",
        "We can use `front_is_clear` in the same way we used `is_pearl` with an **if statement** or a **while loop**.\n",
        "\n"
      ]
    },
    {
      "cell_type": "markdown",
      "metadata": {
        "id": "-kZoUNkbr8cd"
      },
      "source": [
        "### 📙 **Coding Exercise:** move to the nearest wall in front of you\n",
        "In this coding exercise, your goal is to write a function that moves the turtle to the nearest wall directly in front of it. Your code should be able to work with any of the maps available to you (`tiny`, `small`, `default`, etc). You may find while loops helpful for this exercise.\n",
        "\n",
        "Here are some example ending configurations:\n",
        "\n",
        "<img src=\"https://drive.google.com/uc?export=view&id=1MAQKr30h8Yh1XpLH4IWQ0wTZenGJyYEV\" \n",
        "     width=\"200\" \n",
        "     height=\"auto\" />\n",
        "\n",
        "<img src=\"https://drive.google.com/uc?export=view&id=1rZfBNFzn3DEMYVvpBTf1bNhvgreCxWDR\" \n",
        "     width=\"100\" \n",
        "     height=\"auto\" />\n",
        "\n"
      ]
    },
    {
      "cell_type": "code",
      "metadata": {
        "id": "VH6OgRct8hfO"
      },
      "source": [
        "def move_to_wall():\n",
        "  while front_is_clear():\n",
        "    go_forward()"
      ],
      "execution_count": null,
      "outputs": []
    },
    {
      "cell_type": "markdown",
      "metadata": {
        "id": "FP5aqr1H8rfI"
      },
      "source": [
        "Once you finish the function, run the code below to check and make sure that it works! Try changing the map to verify that it works on any map you input."
      ]
    },
    {
      "cell_type": "code",
      "metadata": {
        "id": "Si8Z0jd1r8cm",
        "colab": {
          "base_uri": "https://localhost:8080/",
          "height": 221
        },
        "outputId": "cf249d6e-12df-44d7-bb5c-c0af61adf2a1"
      },
      "source": [
        "initializeTurtle(map=\"tiny\")\n",
        "move_to_wall()"
      ],
      "execution_count": null,
      "outputs": [
        {
          "output_type": "display_data",
          "data": {
            "text/plain": [
              "<IPython.core.display.HTML object>"
            ],
            "text/html": [
              "\n",
              "      <svg width=\"200\" height=\"200\">\n",
              "        <rect width=\"100%\" height=\"100%\" fill=\"LightBlue\"/>\n",
              "        <line x1=\"3\" y1=\"3\" x2=\"3\" y2=\"197\" stroke-linecap=\"round\" style=\"stroke:blue;stroke-width:5\"/><line x1=\"3\" y1=\"197\" x2=\"197\" y2=\"197\" stroke-linecap=\"round\" style=\"stroke:blue;stroke-width:5\"/><line x1=\"197\" y1=\"197\" x2=\"197\" y2=\"3\" stroke-linecap=\"round\" style=\"stroke:blue;stroke-width:5\"/><line x1=\"197\" y1=\"3\" x2=\"3\" y2=\"3\" stroke-linecap=\"round\" style=\"stroke:blue;stroke-width:5\"/><line x1=\"44\" y1=\"44\" x2=\"56\" y2=\"56\" stroke-linecap=\"round\" style=\"stroke:black;stroke-width:2\"/><line x1=\"44\" y1=\"56\" x2=\"56\" y2=\"44\" stroke-linecap=\"round\" style=\"stroke:black;stroke-width:2\"/><line x1=\"44\" y1=\"144\" x2=\"56\" y2=\"156\" stroke-linecap=\"round\" style=\"stroke:black;stroke-width:2\"/><line x1=\"44\" y1=\"156\" x2=\"56\" y2=\"144\" stroke-linecap=\"round\" style=\"stroke:black;stroke-width:2\"/><line x1=\"144\" y1=\"44\" x2=\"156\" y2=\"56\" stroke-linecap=\"round\" style=\"stroke:black;stroke-width:2\"/><line x1=\"144\" y1=\"56\" x2=\"156\" y2=\"44\" stroke-linecap=\"round\" style=\"stroke:black;stroke-width:2\"/><line x1=\"144\" y1=\"144\" x2=\"156\" y2=\"156\" stroke-linecap=\"round\" style=\"stroke:black;stroke-width:2\"/><line x1=\"144\" y1=\"156\" x2=\"156\" y2=\"144\" stroke-linecap=\"round\" style=\"stroke:black;stroke-width:2\"/>\n",
              "        \n",
              "        <g visibility=visible transform=\"rotate(90,150.0,150.0) translate(119.4, 119.4)\">\n",
              "<path style=\" stroke:none;fill-rule:evenodd;fill:green;fill-opacity:1;\" d=\"M 30.965234799999998 1.0757804 C 27.3859375 3.0613276999999997 25.519922299999998 6.9261723 25.626172299999997 12.1257804 L 25.6460946 13.0089848 L 25.1347652 12.7433598 C 22.910155399999997 11.6011723 20.3269527 11.3421875 17.690625 12.0128902 C 14.396875 12.8363277 11.0765625 15.565624999999999 7.4707026999999995 20.3867196 C 5.20625 23.421484799999998 4.5554696 24.882422299999998 5.1730472999999995 25.546484799999998 L 5.365625 25.758984799999997 L 5.9832027000000005 25.758984799999997 C 7.2050776999999995 25.758984799999997 8.2078125 25.3074223 13.91875 22.1664054 C 15.9574223 21.0441402 17.6308598 20.1277348 17.6441402 20.1277348 C 17.657422299999997 20.1277348 17.6042973 20.2804696 17.5179696 20.4597652 C 16.7144527 22.259375 15.738280399999999 25.194530399999998 15.246875 27.3328125 C 13.4539054 35.108984799999995 14.6492196 41.703125 18.819530399999998 47.0222652 C 19.2976554 47.6265625 19.3175777 47.453905400000004 18.6535152 48.250780400000004 C 15.1738277 52.434374999999996 13.5070304 56.578125 14.005077700000001 59.81875 C 14.0914054 60.396484799999996 14.078125 60.389844599999996 15.1605473 60.389844599999996 C 18.6003902 60.389844599999996 22.226172299999998 58.1519527 25.7324223 53.86875 C 26.1109375 53.4105473 26.0578125 53.4238277 26.45625 53.6761723 C 27.6980473 54.4730473 30.639844599999996 56.0402348 30.898827700000002 56.0402348 C 31.171094599999996 56.0402348 33.9003902 54.758594599999995 35.4078125 53.921875 C 35.693359799999996 53.762499999999996 35.9324223 53.642969599999994 35.9324223 53.6496098 C 36.0453125 53.828905400000004 37.227344599999995 55.1039054 37.7785152 55.6417973 C 40.5210946 58.3113277 43.45625 59.7257804 46.8894527 60.0113277 C 47.440625 60.0578125 47.49375 60.0246098 47.6132804 59.473437499999996 C 48.250780400000004 56.5117196 46.9625 52.5738277 43.9675777 48.3238277 L 43.4230473 47.546875 L 43.6886723 47.2347652 C 49.2070304 40.733594599999996 49.5257804 31.788672299999998 44.6382804 20.346875 L 44.5519527 20.134375 L 47.5070304 21.5953125 C 53.603125 24.6101554 54.9378902 25.1613277 56.153124999999996 25.1613277 C 57.7601554 25.1613277 57.428125 23.693749999999998 55.2035152 20.898047299999998 C 48.4832027 12.5042973 43.1707027 10.073827699999999 37.2671875 12.7035152 L 36.6496098 12.9824223 L 36.6828125 12.8230473 C 36.888672299999996 11.8867196 36.9949223 9.7617196 36.888672299999996 8.778905400000001 C 36.5433598 5.6046875 35.1289054 3.3402348 32.3066402 1.4542973000000001 C 31.4167973 0.8566402 31.3769527 0.85 30.965234799999998 1.0757804\"/>\n",
              "</g>\n",
              "      </svg>\n",
              "    "
            ]
          },
          "metadata": {}
        }
      ]
    },
    {
      "cell_type": "markdown",
      "metadata": {
        "id": "lelSucAQHMEg"
      },
      "source": [
        "## 🔶 **New Concept**: `else`!\n",
        "We now have a good understanding of how if statements work and we've learned the new `front_is_clear` function, but there's another part that we haven't used yet: `else`!\n",
        "\n",
        "An if/else statement executes an \"if\" code-block if and only if the provided condition is true for the state of the world at the time the program reaches the statement. Otherwise the program executes the \"else\" code-block if there is one.\n",
        "\n",
        "```python\n",
        "if test:\n",
        "  # do the if code-block\n",
        "else:\n",
        "  # do the else code-block\n",
        "```\n",
        "\n",
        "Let's see how this works in practice. Run the cell below to see the turtle put down and pick up a pearl. Let's say we want to `go_forward` if `front_is_clear` is `True`, otherwise, we want to `put_pearl`. We could write this code like:"
      ]
    },
    {
      "cell_type": "code",
      "metadata": {
        "id": "NRDvXgHjIXuv",
        "colab": {
          "base_uri": "https://localhost:8080/",
          "height": 221
        },
        "outputId": "481b7c70-ff14-4850-a18b-4b9f295c6fdf"
      },
      "source": [
        "initializeTurtle(map=\"tiny\")\n",
        "if front_is_clear():\n",
        "  go_forward()\n",
        "else:\n",
        "  put_pearl()"
      ],
      "execution_count": null,
      "outputs": [
        {
          "output_type": "display_data",
          "data": {
            "text/plain": [
              "<IPython.core.display.HTML object>"
            ],
            "text/html": [
              "\n",
              "      <svg width=\"200\" height=\"200\">\n",
              "        <rect width=\"100%\" height=\"100%\" fill=\"LightBlue\"/>\n",
              "        <line x1=\"3\" y1=\"3\" x2=\"3\" y2=\"197\" stroke-linecap=\"round\" style=\"stroke:blue;stroke-width:5\"/><line x1=\"3\" y1=\"197\" x2=\"197\" y2=\"197\" stroke-linecap=\"round\" style=\"stroke:blue;stroke-width:5\"/><line x1=\"197\" y1=\"197\" x2=\"197\" y2=\"3\" stroke-linecap=\"round\" style=\"stroke:blue;stroke-width:5\"/><line x1=\"197\" y1=\"3\" x2=\"3\" y2=\"3\" stroke-linecap=\"round\" style=\"stroke:blue;stroke-width:5\"/><line x1=\"44\" y1=\"44\" x2=\"56\" y2=\"56\" stroke-linecap=\"round\" style=\"stroke:black;stroke-width:2\"/><line x1=\"44\" y1=\"56\" x2=\"56\" y2=\"44\" stroke-linecap=\"round\" style=\"stroke:black;stroke-width:2\"/><line x1=\"44\" y1=\"144\" x2=\"56\" y2=\"156\" stroke-linecap=\"round\" style=\"stroke:black;stroke-width:2\"/><line x1=\"44\" y1=\"156\" x2=\"56\" y2=\"144\" stroke-linecap=\"round\" style=\"stroke:black;stroke-width:2\"/><line x1=\"144\" y1=\"44\" x2=\"156\" y2=\"56\" stroke-linecap=\"round\" style=\"stroke:black;stroke-width:2\"/><line x1=\"144\" y1=\"56\" x2=\"156\" y2=\"44\" stroke-linecap=\"round\" style=\"stroke:black;stroke-width:2\"/><line x1=\"144\" y1=\"144\" x2=\"156\" y2=\"156\" stroke-linecap=\"round\" style=\"stroke:black;stroke-width:2\"/><line x1=\"144\" y1=\"156\" x2=\"156\" y2=\"144\" stroke-linecap=\"round\" style=\"stroke:black;stroke-width:2\"/>\n",
              "        \n",
              "        <g visibility=visible transform=\"rotate(90,150.0,150.0) translate(119.4, 119.4)\">\n",
              "<path style=\" stroke:none;fill-rule:evenodd;fill:green;fill-opacity:1;\" d=\"M 30.965234799999998 1.0757804 C 27.3859375 3.0613276999999997 25.519922299999998 6.9261723 25.626172299999997 12.1257804 L 25.6460946 13.0089848 L 25.1347652 12.7433598 C 22.910155399999997 11.6011723 20.3269527 11.3421875 17.690625 12.0128902 C 14.396875 12.8363277 11.0765625 15.565624999999999 7.4707026999999995 20.3867196 C 5.20625 23.421484799999998 4.5554696 24.882422299999998 5.1730472999999995 25.546484799999998 L 5.365625 25.758984799999997 L 5.9832027000000005 25.758984799999997 C 7.2050776999999995 25.758984799999997 8.2078125 25.3074223 13.91875 22.1664054 C 15.9574223 21.0441402 17.6308598 20.1277348 17.6441402 20.1277348 C 17.657422299999997 20.1277348 17.6042973 20.2804696 17.5179696 20.4597652 C 16.7144527 22.259375 15.738280399999999 25.194530399999998 15.246875 27.3328125 C 13.4539054 35.108984799999995 14.6492196 41.703125 18.819530399999998 47.0222652 C 19.2976554 47.6265625 19.3175777 47.453905400000004 18.6535152 48.250780400000004 C 15.1738277 52.434374999999996 13.5070304 56.578125 14.005077700000001 59.81875 C 14.0914054 60.396484799999996 14.078125 60.389844599999996 15.1605473 60.389844599999996 C 18.6003902 60.389844599999996 22.226172299999998 58.1519527 25.7324223 53.86875 C 26.1109375 53.4105473 26.0578125 53.4238277 26.45625 53.6761723 C 27.6980473 54.4730473 30.639844599999996 56.0402348 30.898827700000002 56.0402348 C 31.171094599999996 56.0402348 33.9003902 54.758594599999995 35.4078125 53.921875 C 35.693359799999996 53.762499999999996 35.9324223 53.642969599999994 35.9324223 53.6496098 C 36.0453125 53.828905400000004 37.227344599999995 55.1039054 37.7785152 55.6417973 C 40.5210946 58.3113277 43.45625 59.7257804 46.8894527 60.0113277 C 47.440625 60.0578125 47.49375 60.0246098 47.6132804 59.473437499999996 C 48.250780400000004 56.5117196 46.9625 52.5738277 43.9675777 48.3238277 L 43.4230473 47.546875 L 43.6886723 47.2347652 C 49.2070304 40.733594599999996 49.5257804 31.788672299999998 44.6382804 20.346875 L 44.5519527 20.134375 L 47.5070304 21.5953125 C 53.603125 24.6101554 54.9378902 25.1613277 56.153124999999996 25.1613277 C 57.7601554 25.1613277 57.428125 23.693749999999998 55.2035152 20.898047299999998 C 48.4832027 12.5042973 43.1707027 10.073827699999999 37.2671875 12.7035152 L 36.6496098 12.9824223 L 36.6828125 12.8230473 C 36.888672299999996 11.8867196 36.9949223 9.7617196 36.888672299999996 8.778905400000001 C 36.5433598 5.6046875 35.1289054 3.3402348 32.3066402 1.4542973000000001 C 31.4167973 0.8566402 31.3769527 0.85 30.965234799999998 1.0757804\"/>\n",
              "</g>\n",
              "      </svg>\n",
              "    "
            ]
          },
          "metadata": {}
        }
      ]
    },
    {
      "cell_type": "markdown",
      "metadata": {
        "id": "DAZxVYWFI0Dz"
      },
      "source": [
        "Let's take a look at a similar example to see the else code block happen."
      ]
    },
    {
      "cell_type": "code",
      "metadata": {
        "id": "AhGPih9RIpeI",
        "colab": {
          "base_uri": "https://localhost:8080/",
          "height": 221
        },
        "outputId": "87bc9e3c-4d28-4256-93c9-78cfcdabcf5c"
      },
      "source": [
        "initializeTurtle(map=\"tiny\")\n",
        "go_forward()\n",
        "if front_is_clear():\n",
        "  go_forward()\n",
        "else:\n",
        "  put_pearl()"
      ],
      "execution_count": null,
      "outputs": [
        {
          "output_type": "display_data",
          "data": {
            "text/plain": [
              "<IPython.core.display.HTML object>"
            ],
            "text/html": [
              "\n",
              "      <svg width=\"200\" height=\"200\">\n",
              "        <rect width=\"100%\" height=\"100%\" fill=\"LightBlue\"/>\n",
              "        <line x1=\"3\" y1=\"3\" x2=\"3\" y2=\"197\" stroke-linecap=\"round\" style=\"stroke:blue;stroke-width:5\"/><line x1=\"3\" y1=\"197\" x2=\"197\" y2=\"197\" stroke-linecap=\"round\" style=\"stroke:blue;stroke-width:5\"/><line x1=\"197\" y1=\"197\" x2=\"197\" y2=\"3\" stroke-linecap=\"round\" style=\"stroke:blue;stroke-width:5\"/><line x1=\"197\" y1=\"3\" x2=\"3\" y2=\"3\" stroke-linecap=\"round\" style=\"stroke:blue;stroke-width:5\"/><line x1=\"44\" y1=\"44\" x2=\"56\" y2=\"56\" stroke-linecap=\"round\" style=\"stroke:black;stroke-width:2\"/><line x1=\"44\" y1=\"56\" x2=\"56\" y2=\"44\" stroke-linecap=\"round\" style=\"stroke:black;stroke-width:2\"/><line x1=\"44\" y1=\"144\" x2=\"56\" y2=\"156\" stroke-linecap=\"round\" style=\"stroke:black;stroke-width:2\"/><line x1=\"44\" y1=\"156\" x2=\"56\" y2=\"144\" stroke-linecap=\"round\" style=\"stroke:black;stroke-width:2\"/><line x1=\"144\" y1=\"44\" x2=\"156\" y2=\"56\" stroke-linecap=\"round\" style=\"stroke:black;stroke-width:2\"/><line x1=\"144\" y1=\"56\" x2=\"156\" y2=\"44\" stroke-linecap=\"round\" style=\"stroke:black;stroke-width:2\"/><line x1=\"144\" y1=\"144\" x2=\"156\" y2=\"156\" stroke-linecap=\"round\" style=\"stroke:black;stroke-width:2\"/><line x1=\"144\" y1=\"156\" x2=\"156\" y2=\"144\" stroke-linecap=\"round\" style=\"stroke:black;stroke-width:2\"/>\n",
              "        <g visibility=True transform=\"rotate(0,150,150) translate(150, 150)\">\n",
              "        <circle stroke=\"white\" stroke-width=\"3\" fill=\"white\" r=\"20\" cx=\"0\" cy=\"0\"/>\n",
              "        <text fill=\"black\" dominant-baseline=\"middle\" text-anchor=\"middle\">1</text>\n",
              "        </g>\n",
              "        <g visibility=visible transform=\"rotate(90,150.0,150.0) translate(119.4, 119.4)\">\n",
              "<path style=\" stroke:none;fill-rule:evenodd;fill:green;fill-opacity:1;\" d=\"M 30.965234799999998 1.0757804 C 27.3859375 3.0613276999999997 25.519922299999998 6.9261723 25.626172299999997 12.1257804 L 25.6460946 13.0089848 L 25.1347652 12.7433598 C 22.910155399999997 11.6011723 20.3269527 11.3421875 17.690625 12.0128902 C 14.396875 12.8363277 11.0765625 15.565624999999999 7.4707026999999995 20.3867196 C 5.20625 23.421484799999998 4.5554696 24.882422299999998 5.1730472999999995 25.546484799999998 L 5.365625 25.758984799999997 L 5.9832027000000005 25.758984799999997 C 7.2050776999999995 25.758984799999997 8.2078125 25.3074223 13.91875 22.1664054 C 15.9574223 21.0441402 17.6308598 20.1277348 17.6441402 20.1277348 C 17.657422299999997 20.1277348 17.6042973 20.2804696 17.5179696 20.4597652 C 16.7144527 22.259375 15.738280399999999 25.194530399999998 15.246875 27.3328125 C 13.4539054 35.108984799999995 14.6492196 41.703125 18.819530399999998 47.0222652 C 19.2976554 47.6265625 19.3175777 47.453905400000004 18.6535152 48.250780400000004 C 15.1738277 52.434374999999996 13.5070304 56.578125 14.005077700000001 59.81875 C 14.0914054 60.396484799999996 14.078125 60.389844599999996 15.1605473 60.389844599999996 C 18.6003902 60.389844599999996 22.226172299999998 58.1519527 25.7324223 53.86875 C 26.1109375 53.4105473 26.0578125 53.4238277 26.45625 53.6761723 C 27.6980473 54.4730473 30.639844599999996 56.0402348 30.898827700000002 56.0402348 C 31.171094599999996 56.0402348 33.9003902 54.758594599999995 35.4078125 53.921875 C 35.693359799999996 53.762499999999996 35.9324223 53.642969599999994 35.9324223 53.6496098 C 36.0453125 53.828905400000004 37.227344599999995 55.1039054 37.7785152 55.6417973 C 40.5210946 58.3113277 43.45625 59.7257804 46.8894527 60.0113277 C 47.440625 60.0578125 47.49375 60.0246098 47.6132804 59.473437499999996 C 48.250780400000004 56.5117196 46.9625 52.5738277 43.9675777 48.3238277 L 43.4230473 47.546875 L 43.6886723 47.2347652 C 49.2070304 40.733594599999996 49.5257804 31.788672299999998 44.6382804 20.346875 L 44.5519527 20.134375 L 47.5070304 21.5953125 C 53.603125 24.6101554 54.9378902 25.1613277 56.153124999999996 25.1613277 C 57.7601554 25.1613277 57.428125 23.693749999999998 55.2035152 20.898047299999998 C 48.4832027 12.5042973 43.1707027 10.073827699999999 37.2671875 12.7035152 L 36.6496098 12.9824223 L 36.6828125 12.8230473 C 36.888672299999996 11.8867196 36.9949223 9.7617196 36.888672299999996 8.778905400000001 C 36.5433598 5.6046875 35.1289054 3.3402348 32.3066402 1.4542973000000001 C 31.4167973 0.8566402 31.3769527 0.85 30.965234799999998 1.0757804\"/>\n",
              "</g>\n",
              "      </svg>\n",
              "    "
            ]
          },
          "metadata": {}
        }
      ]
    },
    {
      "cell_type": "markdown",
      "metadata": {
        "id": "xyT5-DbxI7wD"
      },
      "source": [
        "### 📙 **Coding Exercise:** Invert the pearls\n",
        "In this coding exercise, your goal is to write code that inverts all of the pearls on the bottom row of the world (there will never me more than one pearl in any given spot). For example, if you have a starting configuration like this:\n",
        "\n",
        "<img src=\"https://drive.google.com/uc?export=view&id=11AUJa0KsnmJxFFfALeW-cWt1hZ4316wY\" \n",
        "     width=\"500\" \n",
        "     height=\"auto\" />\n",
        "\n",
        "your ending configuration should be like this:\n",
        "\n",
        "<img src=\"https://drive.google.com/uc?export=view&id=1yukGuRgVmKbVol8kTyA2oPH_o_rWP5Jv\" \n",
        "     width=\"500\" \n",
        "     height=\"auto\" />\n",
        "\n"
      ]
    },
    {
      "cell_type": "code",
      "metadata": {
        "id": "StbEt3h5KQtj",
        "colab": {
          "base_uri": "https://localhost:8080/",
          "height": 521
        },
        "outputId": "68e617c8-14e3-4f5d-9ee5-dd2e5d8c0589"
      },
      "source": [
        "initializeTurtle(map=\"invert\")\n",
        "# Your inversion code goes below!\n",
        "if is_pearl():\n",
        "    pick_pearl()\n",
        "else:\n",
        "    put_pearl()\n",
        "while front_is_clear():\n",
        "  go_forward()\n",
        "  if is_pearl():\n",
        "    pick_pearl()\n",
        "   # go_forward()\n",
        "  else:\n",
        "    put_pearl()\n",
        "   # go_forward()\n",
        "\n",
        "if is_pearl():\n",
        "    pick_pearl()\n",
        "else:\n",
        "    put_pearl()\n",
        "    "
      ],
      "execution_count": null,
      "outputs": [
        {
          "output_type": "display_data",
          "data": {
            "text/plain": [
              "<IPython.core.display.HTML object>"
            ],
            "text/html": [
              "\n",
              "      <svg width=\"800\" height=\"500\">\n",
              "        <rect width=\"100%\" height=\"100%\" fill=\"LightBlue\"/>\n",
              "        <line x1=\"3\" y1=\"3\" x2=\"3\" y2=\"497\" stroke-linecap=\"round\" style=\"stroke:blue;stroke-width:5\"/><line x1=\"3\" y1=\"497\" x2=\"797\" y2=\"497\" stroke-linecap=\"round\" style=\"stroke:blue;stroke-width:5\"/><line x1=\"797\" y1=\"497\" x2=\"797\" y2=\"3\" stroke-linecap=\"round\" style=\"stroke:blue;stroke-width:5\"/><line x1=\"797\" y1=\"3\" x2=\"3\" y2=\"3\" stroke-linecap=\"round\" style=\"stroke:blue;stroke-width:5\"/><line x1=\"44\" y1=\"44\" x2=\"56\" y2=\"56\" stroke-linecap=\"round\" style=\"stroke:black;stroke-width:2\"/><line x1=\"44\" y1=\"56\" x2=\"56\" y2=\"44\" stroke-linecap=\"round\" style=\"stroke:black;stroke-width:2\"/><line x1=\"44\" y1=\"144\" x2=\"56\" y2=\"156\" stroke-linecap=\"round\" style=\"stroke:black;stroke-width:2\"/><line x1=\"44\" y1=\"156\" x2=\"56\" y2=\"144\" stroke-linecap=\"round\" style=\"stroke:black;stroke-width:2\"/><line x1=\"44\" y1=\"244\" x2=\"56\" y2=\"256\" stroke-linecap=\"round\" style=\"stroke:black;stroke-width:2\"/><line x1=\"44\" y1=\"256\" x2=\"56\" y2=\"244\" stroke-linecap=\"round\" style=\"stroke:black;stroke-width:2\"/><line x1=\"44\" y1=\"344\" x2=\"56\" y2=\"356\" stroke-linecap=\"round\" style=\"stroke:black;stroke-width:2\"/><line x1=\"44\" y1=\"356\" x2=\"56\" y2=\"344\" stroke-linecap=\"round\" style=\"stroke:black;stroke-width:2\"/><line x1=\"44\" y1=\"444\" x2=\"56\" y2=\"456\" stroke-linecap=\"round\" style=\"stroke:black;stroke-width:2\"/><line x1=\"44\" y1=\"456\" x2=\"56\" y2=\"444\" stroke-linecap=\"round\" style=\"stroke:black;stroke-width:2\"/><line x1=\"144\" y1=\"44\" x2=\"156\" y2=\"56\" stroke-linecap=\"round\" style=\"stroke:black;stroke-width:2\"/><line x1=\"144\" y1=\"56\" x2=\"156\" y2=\"44\" stroke-linecap=\"round\" style=\"stroke:black;stroke-width:2\"/><line x1=\"144\" y1=\"144\" x2=\"156\" y2=\"156\" stroke-linecap=\"round\" style=\"stroke:black;stroke-width:2\"/><line x1=\"144\" y1=\"156\" x2=\"156\" y2=\"144\" stroke-linecap=\"round\" style=\"stroke:black;stroke-width:2\"/><line x1=\"144\" y1=\"244\" x2=\"156\" y2=\"256\" stroke-linecap=\"round\" style=\"stroke:black;stroke-width:2\"/><line x1=\"144\" y1=\"256\" x2=\"156\" y2=\"244\" stroke-linecap=\"round\" style=\"stroke:black;stroke-width:2\"/><line x1=\"144\" y1=\"344\" x2=\"156\" y2=\"356\" stroke-linecap=\"round\" style=\"stroke:black;stroke-width:2\"/><line x1=\"144\" y1=\"356\" x2=\"156\" y2=\"344\" stroke-linecap=\"round\" style=\"stroke:black;stroke-width:2\"/><line x1=\"144\" y1=\"444\" x2=\"156\" y2=\"456\" stroke-linecap=\"round\" style=\"stroke:black;stroke-width:2\"/><line x1=\"144\" y1=\"456\" x2=\"156\" y2=\"444\" stroke-linecap=\"round\" style=\"stroke:black;stroke-width:2\"/><line x1=\"244\" y1=\"44\" x2=\"256\" y2=\"56\" stroke-linecap=\"round\" style=\"stroke:black;stroke-width:2\"/><line x1=\"244\" y1=\"56\" x2=\"256\" y2=\"44\" stroke-linecap=\"round\" style=\"stroke:black;stroke-width:2\"/><line x1=\"244\" y1=\"144\" x2=\"256\" y2=\"156\" stroke-linecap=\"round\" style=\"stroke:black;stroke-width:2\"/><line x1=\"244\" y1=\"156\" x2=\"256\" y2=\"144\" stroke-linecap=\"round\" style=\"stroke:black;stroke-width:2\"/><line x1=\"244\" y1=\"244\" x2=\"256\" y2=\"256\" stroke-linecap=\"round\" style=\"stroke:black;stroke-width:2\"/><line x1=\"244\" y1=\"256\" x2=\"256\" y2=\"244\" stroke-linecap=\"round\" style=\"stroke:black;stroke-width:2\"/><line x1=\"244\" y1=\"344\" x2=\"256\" y2=\"356\" stroke-linecap=\"round\" style=\"stroke:black;stroke-width:2\"/><line x1=\"244\" y1=\"356\" x2=\"256\" y2=\"344\" stroke-linecap=\"round\" style=\"stroke:black;stroke-width:2\"/><line x1=\"244\" y1=\"444\" x2=\"256\" y2=\"456\" stroke-linecap=\"round\" style=\"stroke:black;stroke-width:2\"/><line x1=\"244\" y1=\"456\" x2=\"256\" y2=\"444\" stroke-linecap=\"round\" style=\"stroke:black;stroke-width:2\"/><line x1=\"344\" y1=\"44\" x2=\"356\" y2=\"56\" stroke-linecap=\"round\" style=\"stroke:black;stroke-width:2\"/><line x1=\"344\" y1=\"56\" x2=\"356\" y2=\"44\" stroke-linecap=\"round\" style=\"stroke:black;stroke-width:2\"/><line x1=\"344\" y1=\"144\" x2=\"356\" y2=\"156\" stroke-linecap=\"round\" style=\"stroke:black;stroke-width:2\"/><line x1=\"344\" y1=\"156\" x2=\"356\" y2=\"144\" stroke-linecap=\"round\" style=\"stroke:black;stroke-width:2\"/><line x1=\"344\" y1=\"244\" x2=\"356\" y2=\"256\" stroke-linecap=\"round\" style=\"stroke:black;stroke-width:2\"/><line x1=\"344\" y1=\"256\" x2=\"356\" y2=\"244\" stroke-linecap=\"round\" style=\"stroke:black;stroke-width:2\"/><line x1=\"344\" y1=\"344\" x2=\"356\" y2=\"356\" stroke-linecap=\"round\" style=\"stroke:black;stroke-width:2\"/><line x1=\"344\" y1=\"356\" x2=\"356\" y2=\"344\" stroke-linecap=\"round\" style=\"stroke:black;stroke-width:2\"/><line x1=\"344\" y1=\"444\" x2=\"356\" y2=\"456\" stroke-linecap=\"round\" style=\"stroke:black;stroke-width:2\"/><line x1=\"344\" y1=\"456\" x2=\"356\" y2=\"444\" stroke-linecap=\"round\" style=\"stroke:black;stroke-width:2\"/><line x1=\"444\" y1=\"44\" x2=\"456\" y2=\"56\" stroke-linecap=\"round\" style=\"stroke:black;stroke-width:2\"/><line x1=\"444\" y1=\"56\" x2=\"456\" y2=\"44\" stroke-linecap=\"round\" style=\"stroke:black;stroke-width:2\"/><line x1=\"444\" y1=\"144\" x2=\"456\" y2=\"156\" stroke-linecap=\"round\" style=\"stroke:black;stroke-width:2\"/><line x1=\"444\" y1=\"156\" x2=\"456\" y2=\"144\" stroke-linecap=\"round\" style=\"stroke:black;stroke-width:2\"/><line x1=\"444\" y1=\"244\" x2=\"456\" y2=\"256\" stroke-linecap=\"round\" style=\"stroke:black;stroke-width:2\"/><line x1=\"444\" y1=\"256\" x2=\"456\" y2=\"244\" stroke-linecap=\"round\" style=\"stroke:black;stroke-width:2\"/><line x1=\"444\" y1=\"344\" x2=\"456\" y2=\"356\" stroke-linecap=\"round\" style=\"stroke:black;stroke-width:2\"/><line x1=\"444\" y1=\"356\" x2=\"456\" y2=\"344\" stroke-linecap=\"round\" style=\"stroke:black;stroke-width:2\"/><line x1=\"444\" y1=\"444\" x2=\"456\" y2=\"456\" stroke-linecap=\"round\" style=\"stroke:black;stroke-width:2\"/><line x1=\"444\" y1=\"456\" x2=\"456\" y2=\"444\" stroke-linecap=\"round\" style=\"stroke:black;stroke-width:2\"/><line x1=\"544\" y1=\"44\" x2=\"556\" y2=\"56\" stroke-linecap=\"round\" style=\"stroke:black;stroke-width:2\"/><line x1=\"544\" y1=\"56\" x2=\"556\" y2=\"44\" stroke-linecap=\"round\" style=\"stroke:black;stroke-width:2\"/><line x1=\"544\" y1=\"144\" x2=\"556\" y2=\"156\" stroke-linecap=\"round\" style=\"stroke:black;stroke-width:2\"/><line x1=\"544\" y1=\"156\" x2=\"556\" y2=\"144\" stroke-linecap=\"round\" style=\"stroke:black;stroke-width:2\"/><line x1=\"544\" y1=\"244\" x2=\"556\" y2=\"256\" stroke-linecap=\"round\" style=\"stroke:black;stroke-width:2\"/><line x1=\"544\" y1=\"256\" x2=\"556\" y2=\"244\" stroke-linecap=\"round\" style=\"stroke:black;stroke-width:2\"/><line x1=\"544\" y1=\"344\" x2=\"556\" y2=\"356\" stroke-linecap=\"round\" style=\"stroke:black;stroke-width:2\"/><line x1=\"544\" y1=\"356\" x2=\"556\" y2=\"344\" stroke-linecap=\"round\" style=\"stroke:black;stroke-width:2\"/><line x1=\"544\" y1=\"444\" x2=\"556\" y2=\"456\" stroke-linecap=\"round\" style=\"stroke:black;stroke-width:2\"/><line x1=\"544\" y1=\"456\" x2=\"556\" y2=\"444\" stroke-linecap=\"round\" style=\"stroke:black;stroke-width:2\"/><line x1=\"644\" y1=\"44\" x2=\"656\" y2=\"56\" stroke-linecap=\"round\" style=\"stroke:black;stroke-width:2\"/><line x1=\"644\" y1=\"56\" x2=\"656\" y2=\"44\" stroke-linecap=\"round\" style=\"stroke:black;stroke-width:2\"/><line x1=\"644\" y1=\"144\" x2=\"656\" y2=\"156\" stroke-linecap=\"round\" style=\"stroke:black;stroke-width:2\"/><line x1=\"644\" y1=\"156\" x2=\"656\" y2=\"144\" stroke-linecap=\"round\" style=\"stroke:black;stroke-width:2\"/><line x1=\"644\" y1=\"244\" x2=\"656\" y2=\"256\" stroke-linecap=\"round\" style=\"stroke:black;stroke-width:2\"/><line x1=\"644\" y1=\"256\" x2=\"656\" y2=\"244\" stroke-linecap=\"round\" style=\"stroke:black;stroke-width:2\"/><line x1=\"644\" y1=\"344\" x2=\"656\" y2=\"356\" stroke-linecap=\"round\" style=\"stroke:black;stroke-width:2\"/><line x1=\"644\" y1=\"356\" x2=\"656\" y2=\"344\" stroke-linecap=\"round\" style=\"stroke:black;stroke-width:2\"/><line x1=\"644\" y1=\"444\" x2=\"656\" y2=\"456\" stroke-linecap=\"round\" style=\"stroke:black;stroke-width:2\"/><line x1=\"644\" y1=\"456\" x2=\"656\" y2=\"444\" stroke-linecap=\"round\" style=\"stroke:black;stroke-width:2\"/><line x1=\"744\" y1=\"44\" x2=\"756\" y2=\"56\" stroke-linecap=\"round\" style=\"stroke:black;stroke-width:2\"/><line x1=\"744\" y1=\"56\" x2=\"756\" y2=\"44\" stroke-linecap=\"round\" style=\"stroke:black;stroke-width:2\"/><line x1=\"744\" y1=\"144\" x2=\"756\" y2=\"156\" stroke-linecap=\"round\" style=\"stroke:black;stroke-width:2\"/><line x1=\"744\" y1=\"156\" x2=\"756\" y2=\"144\" stroke-linecap=\"round\" style=\"stroke:black;stroke-width:2\"/><line x1=\"744\" y1=\"244\" x2=\"756\" y2=\"256\" stroke-linecap=\"round\" style=\"stroke:black;stroke-width:2\"/><line x1=\"744\" y1=\"256\" x2=\"756\" y2=\"244\" stroke-linecap=\"round\" style=\"stroke:black;stroke-width:2\"/><line x1=\"744\" y1=\"344\" x2=\"756\" y2=\"356\" stroke-linecap=\"round\" style=\"stroke:black;stroke-width:2\"/><line x1=\"744\" y1=\"356\" x2=\"756\" y2=\"344\" stroke-linecap=\"round\" style=\"stroke:black;stroke-width:2\"/><line x1=\"744\" y1=\"444\" x2=\"756\" y2=\"456\" stroke-linecap=\"round\" style=\"stroke:black;stroke-width:2\"/><line x1=\"744\" y1=\"456\" x2=\"756\" y2=\"444\" stroke-linecap=\"round\" style=\"stroke:black;stroke-width:2\"/>\n",
              "        <g visibility=True transform=\"rotate(0,250,450) translate(250, 450)\">\n",
              "        <circle stroke=\"white\" stroke-width=\"3\" fill=\"white\" r=\"20\" cx=\"0\" cy=\"0\"/>\n",
              "        <text fill=\"black\" dominant-baseline=\"middle\" text-anchor=\"middle\">1</text>\n",
              "        </g><g visibility=True transform=\"rotate(0,550,450) translate(550, 450)\">\n",
              "        <circle stroke=\"white\" stroke-width=\"3\" fill=\"white\" r=\"20\" cx=\"0\" cy=\"0\"/>\n",
              "        <text fill=\"black\" dominant-baseline=\"middle\" text-anchor=\"middle\">1</text>\n",
              "        </g><g visibility=True transform=\"rotate(0,650,450) translate(650, 450)\">\n",
              "        <circle stroke=\"white\" stroke-width=\"3\" fill=\"white\" r=\"20\" cx=\"0\" cy=\"0\"/>\n",
              "        <text fill=\"black\" dominant-baseline=\"middle\" text-anchor=\"middle\">1</text>\n",
              "        </g><g visibility=True transform=\"rotate(0,750,450) translate(750, 450)\">\n",
              "        <circle stroke=\"white\" stroke-width=\"3\" fill=\"white\" r=\"20\" cx=\"0\" cy=\"0\"/>\n",
              "        <text fill=\"black\" dominant-baseline=\"middle\" text-anchor=\"middle\">1</text>\n",
              "        </g>\n",
              "        <g visibility=visible transform=\"rotate(90,750.0,450.0) translate(719.4, 419.4)\">\n",
              "<path style=\" stroke:none;fill-rule:evenodd;fill:green;fill-opacity:1;\" d=\"M 30.965234799999998 1.0757804 C 27.3859375 3.0613276999999997 25.519922299999998 6.9261723 25.626172299999997 12.1257804 L 25.6460946 13.0089848 L 25.1347652 12.7433598 C 22.910155399999997 11.6011723 20.3269527 11.3421875 17.690625 12.0128902 C 14.396875 12.8363277 11.0765625 15.565624999999999 7.4707026999999995 20.3867196 C 5.20625 23.421484799999998 4.5554696 24.882422299999998 5.1730472999999995 25.546484799999998 L 5.365625 25.758984799999997 L 5.9832027000000005 25.758984799999997 C 7.2050776999999995 25.758984799999997 8.2078125 25.3074223 13.91875 22.1664054 C 15.9574223 21.0441402 17.6308598 20.1277348 17.6441402 20.1277348 C 17.657422299999997 20.1277348 17.6042973 20.2804696 17.5179696 20.4597652 C 16.7144527 22.259375 15.738280399999999 25.194530399999998 15.246875 27.3328125 C 13.4539054 35.108984799999995 14.6492196 41.703125 18.819530399999998 47.0222652 C 19.2976554 47.6265625 19.3175777 47.453905400000004 18.6535152 48.250780400000004 C 15.1738277 52.434374999999996 13.5070304 56.578125 14.005077700000001 59.81875 C 14.0914054 60.396484799999996 14.078125 60.389844599999996 15.1605473 60.389844599999996 C 18.6003902 60.389844599999996 22.226172299999998 58.1519527 25.7324223 53.86875 C 26.1109375 53.4105473 26.0578125 53.4238277 26.45625 53.6761723 C 27.6980473 54.4730473 30.639844599999996 56.0402348 30.898827700000002 56.0402348 C 31.171094599999996 56.0402348 33.9003902 54.758594599999995 35.4078125 53.921875 C 35.693359799999996 53.762499999999996 35.9324223 53.642969599999994 35.9324223 53.6496098 C 36.0453125 53.828905400000004 37.227344599999995 55.1039054 37.7785152 55.6417973 C 40.5210946 58.3113277 43.45625 59.7257804 46.8894527 60.0113277 C 47.440625 60.0578125 47.49375 60.0246098 47.6132804 59.473437499999996 C 48.250780400000004 56.5117196 46.9625 52.5738277 43.9675777 48.3238277 L 43.4230473 47.546875 L 43.6886723 47.2347652 C 49.2070304 40.733594599999996 49.5257804 31.788672299999998 44.6382804 20.346875 L 44.5519527 20.134375 L 47.5070304 21.5953125 C 53.603125 24.6101554 54.9378902 25.1613277 56.153124999999996 25.1613277 C 57.7601554 25.1613277 57.428125 23.693749999999998 55.2035152 20.898047299999998 C 48.4832027 12.5042973 43.1707027 10.073827699999999 37.2671875 12.7035152 L 36.6496098 12.9824223 L 36.6828125 12.8230473 C 36.888672299999996 11.8867196 36.9949223 9.7617196 36.888672299999996 8.778905400000001 C 36.5433598 5.6046875 35.1289054 3.3402348 32.3066402 1.4542973000000001 C 31.4167973 0.8566402 31.3769527 0.85 30.965234799999998 1.0757804\"/>\n",
              "</g>\n",
              "      </svg>\n",
              "    "
            ]
          },
          "metadata": {}
        }
      ]
    },
    {
      "cell_type": "markdown",
      "metadata": {
        "id": "bkPDUVkm2vwN"
      },
      "source": [
        "#**🍊 Section 6: Final Challenge -- Top-Down Design**\n",
        "\n",
        "For our final challenge in this notebook, we'll be building upon everything we have learned so far to complete a fun task! To do this, we're going to use something called **top-down design**, which consists of solving problems by starting with the problem as a whole, then breaking the whole problem down into pieces and solving each piece or breaking those down further if necessary.\n",
        "\n",
        "\n",
        "\n"
      ]
    },
    {
      "cell_type": "markdown",
      "metadata": {
        "id": "9JjIzhB93Z1Y"
      },
      "source": [
        "Imagine that the turtle is now living in a world that looks something like this:\n",
        "\n",
        "<img src=\"https://drive.google.com/uc?export=view&id=1WdhhXzZ6ZCMWpfGuD9QLJlPaNp_2YL2p\" \n",
        "     width=\"700\" \n",
        "     height=\"auto\" />\n",
        "\n",
        "On each of the columns, there is a tower of pearls of an unknown height (between 1 and 4, so the top row will never have pearls). The job of the turtle is to collect all the pearls in each of these towers, put them back down on the bottom right corner, and then return to its starting position. Thus, when the turtle finishes its work in the example above, all 17 pearls currently in the towers should be stacked at the bottom of 8th column, as follows:\n",
        "\n",
        "<img src=\"https://drive.google.com/uc?export=view&id=1GTFuM2J0E2n3da5BekxJzIBDrj4Usy8a\" \n",
        "     width=\"700\" \n",
        "     height=\"auto\" />"
      ]
    },
    {
      "cell_type": "markdown",
      "metadata": {
        "id": "lDmxCnvV6-Zs"
      },
      "source": [
        "The main idea in top down design is that we can break this task down into smaller, more bite sized tasks. The overall problem can become\n",
        "```      \n",
        "collect_all_pearls()\n",
        "drop_all_pearls()\n",
        "return_home()\n",
        "```\n",
        "These functions can be decomposed into smaller and smaller functions."
      ]
    },
    {
      "cell_type": "markdown",
      "metadata": {
        "id": "Uta9nLDw9GZm"
      },
      "source": [
        "### 📙 **Coding Exercise:** `collect_all_pearls`\n",
        "Let's first start by decomposing `collect_all_pearls` first. We can split it up into:\n",
        "\n",
        "\n"
      ]
    },
    {
      "cell_type": "code",
      "metadata": {
        "id": "C9Q1I7Ru-R97"
      },
      "source": [
        "def collect_all_pearls():\n",
        "  while front_is_clear():\n",
        "    collect_one_tower()\n",
        "    go_to_next_tower()"
      ],
      "execution_count": null,
      "outputs": []
    },
    {
      "cell_type": "markdown",
      "metadata": {
        "id": "i0WmV1Wu-VPT"
      },
      "source": [
        "\n",
        "Your job here is to write the `collect_one_tower` function and the `go_to_next_tower` function. Once you've finished those, we're a third of the way there!\n",
        "\n",
        "Reminder of what you have to work with:\n",
        "```python\n",
        "go_forward() # turtle moves forward\n",
        "turn_left() # turtle turns left\n",
        "turn_right() # YOU MADE THIS: turtle turns right\n",
        "climb_stair() # YOU MADE THIS: turtle climbs one stair\n",
        "pick_pearl() # picks up one pearl\n",
        "put_pearl() # puts down one pearl\n",
        "is_pearl() # returns True if there is a pearl at the turtle's position, False if not\n",
        "move_to_wall() # YOU MADE THIS: goes to the nearest wall in front of the turtle\n",
        "```"
      ]
    },
    {
      "cell_type": "code",
      "metadata": {
        "id": "zvl4lzYR-Ndr"
      },
      "source": [
        "def collect_one_tower():\n",
        "  turn_left()\n",
        "  while is_pearl():\n",
        "    pick_pearl()  \n",
        "    go_forward()\n",
        "  \n",
        " # while front_is_clear():\n",
        "#if front_is_clear() and is_pearl():\n",
        " #     pick_pearl()\n",
        "  #    go_forward()\n",
        "#elif front_is_clear() and not is_pearl():\n",
        "    #  go_forward()\n",
        "#else:\n",
        " # pick_pearl()"
      ],
      "execution_count": null,
      "outputs": []
    },
    {
      "cell_type": "code",
      "metadata": {
        "id": "em0yaauE-3Nd"
      },
      "source": [
        "def go_to_next_tower():\n",
        "  turn_left()\n",
        "  turn_left()\n",
        "  move_to_wall()\n",
        "  turn_left()\n",
        "  go_forward()"
      ],
      "execution_count": null,
      "outputs": []
    },
    {
      "cell_type": "markdown",
      "metadata": {
        "id": "184QNZh2_goS"
      },
      "source": [
        "Use the cell below to check if your solution worked! If you've done it right, you should have an ending configuration like this:\n",
        "<img src=\"https://drive.google.com/uc?export=view&id=1tX0xUO5Uz16hXPlPn7PTuW21fNLViGcS\" \n",
        "     width=\"500\" \n",
        "     height=\"auto\" />"
      ]
    },
    {
      "cell_type": "code",
      "metadata": {
        "id": "z-_IvZda9GZu",
        "colab": {
          "base_uri": "https://localhost:8080/",
          "height": 521
        },
        "outputId": "dcd9eeca-e600-4c1f-aa93-1adfdecd6cd5"
      },
      "source": [
        "initializeTurtle(map=\"rand pearls\")\n",
        "collect_all_pearls()"
      ],
      "execution_count": null,
      "outputs": [
        {
          "output_type": "display_data",
          "data": {
            "text/plain": [
              "<IPython.core.display.HTML object>"
            ],
            "text/html": [
              "\n",
              "      <svg width=\"800\" height=\"500\">\n",
              "        <rect width=\"100%\" height=\"100%\" fill=\"LightBlue\"/>\n",
              "        <line x1=\"3\" y1=\"3\" x2=\"3\" y2=\"497\" stroke-linecap=\"round\" style=\"stroke:blue;stroke-width:5\"/><line x1=\"3\" y1=\"497\" x2=\"797\" y2=\"497\" stroke-linecap=\"round\" style=\"stroke:blue;stroke-width:5\"/><line x1=\"797\" y1=\"497\" x2=\"797\" y2=\"3\" stroke-linecap=\"round\" style=\"stroke:blue;stroke-width:5\"/><line x1=\"797\" y1=\"3\" x2=\"3\" y2=\"3\" stroke-linecap=\"round\" style=\"stroke:blue;stroke-width:5\"/><line x1=\"44\" y1=\"44\" x2=\"56\" y2=\"56\" stroke-linecap=\"round\" style=\"stroke:black;stroke-width:2\"/><line x1=\"44\" y1=\"56\" x2=\"56\" y2=\"44\" stroke-linecap=\"round\" style=\"stroke:black;stroke-width:2\"/><line x1=\"44\" y1=\"144\" x2=\"56\" y2=\"156\" stroke-linecap=\"round\" style=\"stroke:black;stroke-width:2\"/><line x1=\"44\" y1=\"156\" x2=\"56\" y2=\"144\" stroke-linecap=\"round\" style=\"stroke:black;stroke-width:2\"/><line x1=\"44\" y1=\"244\" x2=\"56\" y2=\"256\" stroke-linecap=\"round\" style=\"stroke:black;stroke-width:2\"/><line x1=\"44\" y1=\"256\" x2=\"56\" y2=\"244\" stroke-linecap=\"round\" style=\"stroke:black;stroke-width:2\"/><line x1=\"44\" y1=\"344\" x2=\"56\" y2=\"356\" stroke-linecap=\"round\" style=\"stroke:black;stroke-width:2\"/><line x1=\"44\" y1=\"356\" x2=\"56\" y2=\"344\" stroke-linecap=\"round\" style=\"stroke:black;stroke-width:2\"/><line x1=\"44\" y1=\"444\" x2=\"56\" y2=\"456\" stroke-linecap=\"round\" style=\"stroke:black;stroke-width:2\"/><line x1=\"44\" y1=\"456\" x2=\"56\" y2=\"444\" stroke-linecap=\"round\" style=\"stroke:black;stroke-width:2\"/><line x1=\"144\" y1=\"44\" x2=\"156\" y2=\"56\" stroke-linecap=\"round\" style=\"stroke:black;stroke-width:2\"/><line x1=\"144\" y1=\"56\" x2=\"156\" y2=\"44\" stroke-linecap=\"round\" style=\"stroke:black;stroke-width:2\"/><line x1=\"144\" y1=\"144\" x2=\"156\" y2=\"156\" stroke-linecap=\"round\" style=\"stroke:black;stroke-width:2\"/><line x1=\"144\" y1=\"156\" x2=\"156\" y2=\"144\" stroke-linecap=\"round\" style=\"stroke:black;stroke-width:2\"/><line x1=\"144\" y1=\"244\" x2=\"156\" y2=\"256\" stroke-linecap=\"round\" style=\"stroke:black;stroke-width:2\"/><line x1=\"144\" y1=\"256\" x2=\"156\" y2=\"244\" stroke-linecap=\"round\" style=\"stroke:black;stroke-width:2\"/><line x1=\"144\" y1=\"344\" x2=\"156\" y2=\"356\" stroke-linecap=\"round\" style=\"stroke:black;stroke-width:2\"/><line x1=\"144\" y1=\"356\" x2=\"156\" y2=\"344\" stroke-linecap=\"round\" style=\"stroke:black;stroke-width:2\"/><line x1=\"144\" y1=\"444\" x2=\"156\" y2=\"456\" stroke-linecap=\"round\" style=\"stroke:black;stroke-width:2\"/><line x1=\"144\" y1=\"456\" x2=\"156\" y2=\"444\" stroke-linecap=\"round\" style=\"stroke:black;stroke-width:2\"/><line x1=\"244\" y1=\"44\" x2=\"256\" y2=\"56\" stroke-linecap=\"round\" style=\"stroke:black;stroke-width:2\"/><line x1=\"244\" y1=\"56\" x2=\"256\" y2=\"44\" stroke-linecap=\"round\" style=\"stroke:black;stroke-width:2\"/><line x1=\"244\" y1=\"144\" x2=\"256\" y2=\"156\" stroke-linecap=\"round\" style=\"stroke:black;stroke-width:2\"/><line x1=\"244\" y1=\"156\" x2=\"256\" y2=\"144\" stroke-linecap=\"round\" style=\"stroke:black;stroke-width:2\"/><line x1=\"244\" y1=\"244\" x2=\"256\" y2=\"256\" stroke-linecap=\"round\" style=\"stroke:black;stroke-width:2\"/><line x1=\"244\" y1=\"256\" x2=\"256\" y2=\"244\" stroke-linecap=\"round\" style=\"stroke:black;stroke-width:2\"/><line x1=\"244\" y1=\"344\" x2=\"256\" y2=\"356\" stroke-linecap=\"round\" style=\"stroke:black;stroke-width:2\"/><line x1=\"244\" y1=\"356\" x2=\"256\" y2=\"344\" stroke-linecap=\"round\" style=\"stroke:black;stroke-width:2\"/><line x1=\"244\" y1=\"444\" x2=\"256\" y2=\"456\" stroke-linecap=\"round\" style=\"stroke:black;stroke-width:2\"/><line x1=\"244\" y1=\"456\" x2=\"256\" y2=\"444\" stroke-linecap=\"round\" style=\"stroke:black;stroke-width:2\"/><line x1=\"344\" y1=\"44\" x2=\"356\" y2=\"56\" stroke-linecap=\"round\" style=\"stroke:black;stroke-width:2\"/><line x1=\"344\" y1=\"56\" x2=\"356\" y2=\"44\" stroke-linecap=\"round\" style=\"stroke:black;stroke-width:2\"/><line x1=\"344\" y1=\"144\" x2=\"356\" y2=\"156\" stroke-linecap=\"round\" style=\"stroke:black;stroke-width:2\"/><line x1=\"344\" y1=\"156\" x2=\"356\" y2=\"144\" stroke-linecap=\"round\" style=\"stroke:black;stroke-width:2\"/><line x1=\"344\" y1=\"244\" x2=\"356\" y2=\"256\" stroke-linecap=\"round\" style=\"stroke:black;stroke-width:2\"/><line x1=\"344\" y1=\"256\" x2=\"356\" y2=\"244\" stroke-linecap=\"round\" style=\"stroke:black;stroke-width:2\"/><line x1=\"344\" y1=\"344\" x2=\"356\" y2=\"356\" stroke-linecap=\"round\" style=\"stroke:black;stroke-width:2\"/><line x1=\"344\" y1=\"356\" x2=\"356\" y2=\"344\" stroke-linecap=\"round\" style=\"stroke:black;stroke-width:2\"/><line x1=\"344\" y1=\"444\" x2=\"356\" y2=\"456\" stroke-linecap=\"round\" style=\"stroke:black;stroke-width:2\"/><line x1=\"344\" y1=\"456\" x2=\"356\" y2=\"444\" stroke-linecap=\"round\" style=\"stroke:black;stroke-width:2\"/><line x1=\"444\" y1=\"44\" x2=\"456\" y2=\"56\" stroke-linecap=\"round\" style=\"stroke:black;stroke-width:2\"/><line x1=\"444\" y1=\"56\" x2=\"456\" y2=\"44\" stroke-linecap=\"round\" style=\"stroke:black;stroke-width:2\"/><line x1=\"444\" y1=\"144\" x2=\"456\" y2=\"156\" stroke-linecap=\"round\" style=\"stroke:black;stroke-width:2\"/><line x1=\"444\" y1=\"156\" x2=\"456\" y2=\"144\" stroke-linecap=\"round\" style=\"stroke:black;stroke-width:2\"/><line x1=\"444\" y1=\"244\" x2=\"456\" y2=\"256\" stroke-linecap=\"round\" style=\"stroke:black;stroke-width:2\"/><line x1=\"444\" y1=\"256\" x2=\"456\" y2=\"244\" stroke-linecap=\"round\" style=\"stroke:black;stroke-width:2\"/><line x1=\"444\" y1=\"344\" x2=\"456\" y2=\"356\" stroke-linecap=\"round\" style=\"stroke:black;stroke-width:2\"/><line x1=\"444\" y1=\"356\" x2=\"456\" y2=\"344\" stroke-linecap=\"round\" style=\"stroke:black;stroke-width:2\"/><line x1=\"444\" y1=\"444\" x2=\"456\" y2=\"456\" stroke-linecap=\"round\" style=\"stroke:black;stroke-width:2\"/><line x1=\"444\" y1=\"456\" x2=\"456\" y2=\"444\" stroke-linecap=\"round\" style=\"stroke:black;stroke-width:2\"/><line x1=\"544\" y1=\"44\" x2=\"556\" y2=\"56\" stroke-linecap=\"round\" style=\"stroke:black;stroke-width:2\"/><line x1=\"544\" y1=\"56\" x2=\"556\" y2=\"44\" stroke-linecap=\"round\" style=\"stroke:black;stroke-width:2\"/><line x1=\"544\" y1=\"144\" x2=\"556\" y2=\"156\" stroke-linecap=\"round\" style=\"stroke:black;stroke-width:2\"/><line x1=\"544\" y1=\"156\" x2=\"556\" y2=\"144\" stroke-linecap=\"round\" style=\"stroke:black;stroke-width:2\"/><line x1=\"544\" y1=\"244\" x2=\"556\" y2=\"256\" stroke-linecap=\"round\" style=\"stroke:black;stroke-width:2\"/><line x1=\"544\" y1=\"256\" x2=\"556\" y2=\"244\" stroke-linecap=\"round\" style=\"stroke:black;stroke-width:2\"/><line x1=\"544\" y1=\"344\" x2=\"556\" y2=\"356\" stroke-linecap=\"round\" style=\"stroke:black;stroke-width:2\"/><line x1=\"544\" y1=\"356\" x2=\"556\" y2=\"344\" stroke-linecap=\"round\" style=\"stroke:black;stroke-width:2\"/><line x1=\"544\" y1=\"444\" x2=\"556\" y2=\"456\" stroke-linecap=\"round\" style=\"stroke:black;stroke-width:2\"/><line x1=\"544\" y1=\"456\" x2=\"556\" y2=\"444\" stroke-linecap=\"round\" style=\"stroke:black;stroke-width:2\"/><line x1=\"644\" y1=\"44\" x2=\"656\" y2=\"56\" stroke-linecap=\"round\" style=\"stroke:black;stroke-width:2\"/><line x1=\"644\" y1=\"56\" x2=\"656\" y2=\"44\" stroke-linecap=\"round\" style=\"stroke:black;stroke-width:2\"/><line x1=\"644\" y1=\"144\" x2=\"656\" y2=\"156\" stroke-linecap=\"round\" style=\"stroke:black;stroke-width:2\"/><line x1=\"644\" y1=\"156\" x2=\"656\" y2=\"144\" stroke-linecap=\"round\" style=\"stroke:black;stroke-width:2\"/><line x1=\"644\" y1=\"244\" x2=\"656\" y2=\"256\" stroke-linecap=\"round\" style=\"stroke:black;stroke-width:2\"/><line x1=\"644\" y1=\"256\" x2=\"656\" y2=\"244\" stroke-linecap=\"round\" style=\"stroke:black;stroke-width:2\"/><line x1=\"644\" y1=\"344\" x2=\"656\" y2=\"356\" stroke-linecap=\"round\" style=\"stroke:black;stroke-width:2\"/><line x1=\"644\" y1=\"356\" x2=\"656\" y2=\"344\" stroke-linecap=\"round\" style=\"stroke:black;stroke-width:2\"/><line x1=\"644\" y1=\"444\" x2=\"656\" y2=\"456\" stroke-linecap=\"round\" style=\"stroke:black;stroke-width:2\"/><line x1=\"644\" y1=\"456\" x2=\"656\" y2=\"444\" stroke-linecap=\"round\" style=\"stroke:black;stroke-width:2\"/><line x1=\"744\" y1=\"44\" x2=\"756\" y2=\"56\" stroke-linecap=\"round\" style=\"stroke:black;stroke-width:2\"/><line x1=\"744\" y1=\"56\" x2=\"756\" y2=\"44\" stroke-linecap=\"round\" style=\"stroke:black;stroke-width:2\"/><line x1=\"744\" y1=\"144\" x2=\"756\" y2=\"156\" stroke-linecap=\"round\" style=\"stroke:black;stroke-width:2\"/><line x1=\"744\" y1=\"156\" x2=\"756\" y2=\"144\" stroke-linecap=\"round\" style=\"stroke:black;stroke-width:2\"/><line x1=\"744\" y1=\"244\" x2=\"756\" y2=\"256\" stroke-linecap=\"round\" style=\"stroke:black;stroke-width:2\"/><line x1=\"744\" y1=\"256\" x2=\"756\" y2=\"244\" stroke-linecap=\"round\" style=\"stroke:black;stroke-width:2\"/><line x1=\"744\" y1=\"344\" x2=\"756\" y2=\"356\" stroke-linecap=\"round\" style=\"stroke:black;stroke-width:2\"/><line x1=\"744\" y1=\"356\" x2=\"756\" y2=\"344\" stroke-linecap=\"round\" style=\"stroke:black;stroke-width:2\"/><line x1=\"744\" y1=\"444\" x2=\"756\" y2=\"456\" stroke-linecap=\"round\" style=\"stroke:black;stroke-width:2\"/><line x1=\"744\" y1=\"456\" x2=\"756\" y2=\"444\" stroke-linecap=\"round\" style=\"stroke:black;stroke-width:2\"/>\n",
              "        \n",
              "        <g visibility=visible transform=\"rotate(90,750.0,450.0) translate(719.4, 419.4)\">\n",
              "<path style=\" stroke:none;fill-rule:evenodd;fill:green;fill-opacity:1;\" d=\"M 30.965234799999998 1.0757804 C 27.3859375 3.0613276999999997 25.519922299999998 6.9261723 25.626172299999997 12.1257804 L 25.6460946 13.0089848 L 25.1347652 12.7433598 C 22.910155399999997 11.6011723 20.3269527 11.3421875 17.690625 12.0128902 C 14.396875 12.8363277 11.0765625 15.565624999999999 7.4707026999999995 20.3867196 C 5.20625 23.421484799999998 4.5554696 24.882422299999998 5.1730472999999995 25.546484799999998 L 5.365625 25.758984799999997 L 5.9832027000000005 25.758984799999997 C 7.2050776999999995 25.758984799999997 8.2078125 25.3074223 13.91875 22.1664054 C 15.9574223 21.0441402 17.6308598 20.1277348 17.6441402 20.1277348 C 17.657422299999997 20.1277348 17.6042973 20.2804696 17.5179696 20.4597652 C 16.7144527 22.259375 15.738280399999999 25.194530399999998 15.246875 27.3328125 C 13.4539054 35.108984799999995 14.6492196 41.703125 18.819530399999998 47.0222652 C 19.2976554 47.6265625 19.3175777 47.453905400000004 18.6535152 48.250780400000004 C 15.1738277 52.434374999999996 13.5070304 56.578125 14.005077700000001 59.81875 C 14.0914054 60.396484799999996 14.078125 60.389844599999996 15.1605473 60.389844599999996 C 18.6003902 60.389844599999996 22.226172299999998 58.1519527 25.7324223 53.86875 C 26.1109375 53.4105473 26.0578125 53.4238277 26.45625 53.6761723 C 27.6980473 54.4730473 30.639844599999996 56.0402348 30.898827700000002 56.0402348 C 31.171094599999996 56.0402348 33.9003902 54.758594599999995 35.4078125 53.921875 C 35.693359799999996 53.762499999999996 35.9324223 53.642969599999994 35.9324223 53.6496098 C 36.0453125 53.828905400000004 37.227344599999995 55.1039054 37.7785152 55.6417973 C 40.5210946 58.3113277 43.45625 59.7257804 46.8894527 60.0113277 C 47.440625 60.0578125 47.49375 60.0246098 47.6132804 59.473437499999996 C 48.250780400000004 56.5117196 46.9625 52.5738277 43.9675777 48.3238277 L 43.4230473 47.546875 L 43.6886723 47.2347652 C 49.2070304 40.733594599999996 49.5257804 31.788672299999998 44.6382804 20.346875 L 44.5519527 20.134375 L 47.5070304 21.5953125 C 53.603125 24.6101554 54.9378902 25.1613277 56.153124999999996 25.1613277 C 57.7601554 25.1613277 57.428125 23.693749999999998 55.2035152 20.898047299999998 C 48.4832027 12.5042973 43.1707027 10.073827699999999 37.2671875 12.7035152 L 36.6496098 12.9824223 L 36.6828125 12.8230473 C 36.888672299999996 11.8867196 36.9949223 9.7617196 36.888672299999996 8.778905400000001 C 36.5433598 5.6046875 35.1289054 3.3402348 32.3066402 1.4542973000000001 C 31.4167973 0.8566402 31.3769527 0.85 30.965234799999998 1.0757804\"/>\n",
              "</g>\n",
              "      </svg>\n",
              "    "
            ]
          },
          "metadata": {}
        }
      ]
    },
    {
      "cell_type": "markdown",
      "metadata": {
        "id": "KsKCQakuA8f-"
      },
      "source": [
        "### 📙 **Coding Exercise:** `drop_all_pearls`\n",
        "Next, we'll move on to `drop_all_pearls`. For this, we can use a new function (the last one) that's been defined for you! This function is `pearls_in_bag`, and it keeps track of how many pearls the turtle has picked up. `pearls_in_bag` will return `True` if the turtle still has pearls to place, and `False` otherwise.\n",
        "\n",
        "\n"
      ]
    },
    {
      "cell_type": "code",
      "metadata": {
        "id": "O98_k9rEBlvm"
      },
      "source": [
        "def drop_all_pearls():\n",
        "  while pearls_in_bag():\n",
        "    put_pearl()"
      ],
      "execution_count": null,
      "outputs": []
    },
    {
      "cell_type": "markdown",
      "metadata": {
        "id": "GPSiSTlzERCz"
      },
      "source": [
        "Once you've finished that code, you can run the cell below to test out if it works! Your ending configuration for this one will look something like this (your turtle might be in a different position or orientation):\n",
        "\n",
        "<img src=\"https://drive.google.com/uc?export=view&id=10ubDc7PgOC37V5pZC5VnRWglYaEYBPmq\" \n",
        "     width=\"700\" \n",
        "     height=\"auto\" />"
      ]
    },
    {
      "cell_type": "code",
      "metadata": {
        "id": "30_2rFdKEWJP",
        "colab": {
          "base_uri": "https://localhost:8080/",
          "height": 521
        },
        "outputId": "7fa2ffa5-eaaf-45c1-e185-d28fe7ca499d"
      },
      "source": [
        "initializeTurtle(map=\"rand pearls\")\n",
        "collect_all_pearls()\n",
        "drop_all_pearls()\n",
        "while not front_is_clear():\n",
        "  turn_left()\n",
        "go_forward()"
      ],
      "execution_count": null,
      "outputs": [
        {
          "output_type": "display_data",
          "data": {
            "text/plain": [
              "<IPython.core.display.HTML object>"
            ],
            "text/html": [
              "\n",
              "      <svg width=\"800\" height=\"500\">\n",
              "        <rect width=\"100%\" height=\"100%\" fill=\"LightBlue\"/>\n",
              "        <line x1=\"3\" y1=\"3\" x2=\"3\" y2=\"497\" stroke-linecap=\"round\" style=\"stroke:blue;stroke-width:5\"/><line x1=\"3\" y1=\"497\" x2=\"797\" y2=\"497\" stroke-linecap=\"round\" style=\"stroke:blue;stroke-width:5\"/><line x1=\"797\" y1=\"497\" x2=\"797\" y2=\"3\" stroke-linecap=\"round\" style=\"stroke:blue;stroke-width:5\"/><line x1=\"797\" y1=\"3\" x2=\"3\" y2=\"3\" stroke-linecap=\"round\" style=\"stroke:blue;stroke-width:5\"/><line x1=\"44\" y1=\"44\" x2=\"56\" y2=\"56\" stroke-linecap=\"round\" style=\"stroke:black;stroke-width:2\"/><line x1=\"44\" y1=\"56\" x2=\"56\" y2=\"44\" stroke-linecap=\"round\" style=\"stroke:black;stroke-width:2\"/><line x1=\"44\" y1=\"144\" x2=\"56\" y2=\"156\" stroke-linecap=\"round\" style=\"stroke:black;stroke-width:2\"/><line x1=\"44\" y1=\"156\" x2=\"56\" y2=\"144\" stroke-linecap=\"round\" style=\"stroke:black;stroke-width:2\"/><line x1=\"44\" y1=\"244\" x2=\"56\" y2=\"256\" stroke-linecap=\"round\" style=\"stroke:black;stroke-width:2\"/><line x1=\"44\" y1=\"256\" x2=\"56\" y2=\"244\" stroke-linecap=\"round\" style=\"stroke:black;stroke-width:2\"/><line x1=\"44\" y1=\"344\" x2=\"56\" y2=\"356\" stroke-linecap=\"round\" style=\"stroke:black;stroke-width:2\"/><line x1=\"44\" y1=\"356\" x2=\"56\" y2=\"344\" stroke-linecap=\"round\" style=\"stroke:black;stroke-width:2\"/><line x1=\"44\" y1=\"444\" x2=\"56\" y2=\"456\" stroke-linecap=\"round\" style=\"stroke:black;stroke-width:2\"/><line x1=\"44\" y1=\"456\" x2=\"56\" y2=\"444\" stroke-linecap=\"round\" style=\"stroke:black;stroke-width:2\"/><line x1=\"144\" y1=\"44\" x2=\"156\" y2=\"56\" stroke-linecap=\"round\" style=\"stroke:black;stroke-width:2\"/><line x1=\"144\" y1=\"56\" x2=\"156\" y2=\"44\" stroke-linecap=\"round\" style=\"stroke:black;stroke-width:2\"/><line x1=\"144\" y1=\"144\" x2=\"156\" y2=\"156\" stroke-linecap=\"round\" style=\"stroke:black;stroke-width:2\"/><line x1=\"144\" y1=\"156\" x2=\"156\" y2=\"144\" stroke-linecap=\"round\" style=\"stroke:black;stroke-width:2\"/><line x1=\"144\" y1=\"244\" x2=\"156\" y2=\"256\" stroke-linecap=\"round\" style=\"stroke:black;stroke-width:2\"/><line x1=\"144\" y1=\"256\" x2=\"156\" y2=\"244\" stroke-linecap=\"round\" style=\"stroke:black;stroke-width:2\"/><line x1=\"144\" y1=\"344\" x2=\"156\" y2=\"356\" stroke-linecap=\"round\" style=\"stroke:black;stroke-width:2\"/><line x1=\"144\" y1=\"356\" x2=\"156\" y2=\"344\" stroke-linecap=\"round\" style=\"stroke:black;stroke-width:2\"/><line x1=\"144\" y1=\"444\" x2=\"156\" y2=\"456\" stroke-linecap=\"round\" style=\"stroke:black;stroke-width:2\"/><line x1=\"144\" y1=\"456\" x2=\"156\" y2=\"444\" stroke-linecap=\"round\" style=\"stroke:black;stroke-width:2\"/><line x1=\"244\" y1=\"44\" x2=\"256\" y2=\"56\" stroke-linecap=\"round\" style=\"stroke:black;stroke-width:2\"/><line x1=\"244\" y1=\"56\" x2=\"256\" y2=\"44\" stroke-linecap=\"round\" style=\"stroke:black;stroke-width:2\"/><line x1=\"244\" y1=\"144\" x2=\"256\" y2=\"156\" stroke-linecap=\"round\" style=\"stroke:black;stroke-width:2\"/><line x1=\"244\" y1=\"156\" x2=\"256\" y2=\"144\" stroke-linecap=\"round\" style=\"stroke:black;stroke-width:2\"/><line x1=\"244\" y1=\"244\" x2=\"256\" y2=\"256\" stroke-linecap=\"round\" style=\"stroke:black;stroke-width:2\"/><line x1=\"244\" y1=\"256\" x2=\"256\" y2=\"244\" stroke-linecap=\"round\" style=\"stroke:black;stroke-width:2\"/><line x1=\"244\" y1=\"344\" x2=\"256\" y2=\"356\" stroke-linecap=\"round\" style=\"stroke:black;stroke-width:2\"/><line x1=\"244\" y1=\"356\" x2=\"256\" y2=\"344\" stroke-linecap=\"round\" style=\"stroke:black;stroke-width:2\"/><line x1=\"244\" y1=\"444\" x2=\"256\" y2=\"456\" stroke-linecap=\"round\" style=\"stroke:black;stroke-width:2\"/><line x1=\"244\" y1=\"456\" x2=\"256\" y2=\"444\" stroke-linecap=\"round\" style=\"stroke:black;stroke-width:2\"/><line x1=\"344\" y1=\"44\" x2=\"356\" y2=\"56\" stroke-linecap=\"round\" style=\"stroke:black;stroke-width:2\"/><line x1=\"344\" y1=\"56\" x2=\"356\" y2=\"44\" stroke-linecap=\"round\" style=\"stroke:black;stroke-width:2\"/><line x1=\"344\" y1=\"144\" x2=\"356\" y2=\"156\" stroke-linecap=\"round\" style=\"stroke:black;stroke-width:2\"/><line x1=\"344\" y1=\"156\" x2=\"356\" y2=\"144\" stroke-linecap=\"round\" style=\"stroke:black;stroke-width:2\"/><line x1=\"344\" y1=\"244\" x2=\"356\" y2=\"256\" stroke-linecap=\"round\" style=\"stroke:black;stroke-width:2\"/><line x1=\"344\" y1=\"256\" x2=\"356\" y2=\"244\" stroke-linecap=\"round\" style=\"stroke:black;stroke-width:2\"/><line x1=\"344\" y1=\"344\" x2=\"356\" y2=\"356\" stroke-linecap=\"round\" style=\"stroke:black;stroke-width:2\"/><line x1=\"344\" y1=\"356\" x2=\"356\" y2=\"344\" stroke-linecap=\"round\" style=\"stroke:black;stroke-width:2\"/><line x1=\"344\" y1=\"444\" x2=\"356\" y2=\"456\" stroke-linecap=\"round\" style=\"stroke:black;stroke-width:2\"/><line x1=\"344\" y1=\"456\" x2=\"356\" y2=\"444\" stroke-linecap=\"round\" style=\"stroke:black;stroke-width:2\"/><line x1=\"444\" y1=\"44\" x2=\"456\" y2=\"56\" stroke-linecap=\"round\" style=\"stroke:black;stroke-width:2\"/><line x1=\"444\" y1=\"56\" x2=\"456\" y2=\"44\" stroke-linecap=\"round\" style=\"stroke:black;stroke-width:2\"/><line x1=\"444\" y1=\"144\" x2=\"456\" y2=\"156\" stroke-linecap=\"round\" style=\"stroke:black;stroke-width:2\"/><line x1=\"444\" y1=\"156\" x2=\"456\" y2=\"144\" stroke-linecap=\"round\" style=\"stroke:black;stroke-width:2\"/><line x1=\"444\" y1=\"244\" x2=\"456\" y2=\"256\" stroke-linecap=\"round\" style=\"stroke:black;stroke-width:2\"/><line x1=\"444\" y1=\"256\" x2=\"456\" y2=\"244\" stroke-linecap=\"round\" style=\"stroke:black;stroke-width:2\"/><line x1=\"444\" y1=\"344\" x2=\"456\" y2=\"356\" stroke-linecap=\"round\" style=\"stroke:black;stroke-width:2\"/><line x1=\"444\" y1=\"356\" x2=\"456\" y2=\"344\" stroke-linecap=\"round\" style=\"stroke:black;stroke-width:2\"/><line x1=\"444\" y1=\"444\" x2=\"456\" y2=\"456\" stroke-linecap=\"round\" style=\"stroke:black;stroke-width:2\"/><line x1=\"444\" y1=\"456\" x2=\"456\" y2=\"444\" stroke-linecap=\"round\" style=\"stroke:black;stroke-width:2\"/><line x1=\"544\" y1=\"44\" x2=\"556\" y2=\"56\" stroke-linecap=\"round\" style=\"stroke:black;stroke-width:2\"/><line x1=\"544\" y1=\"56\" x2=\"556\" y2=\"44\" stroke-linecap=\"round\" style=\"stroke:black;stroke-width:2\"/><line x1=\"544\" y1=\"144\" x2=\"556\" y2=\"156\" stroke-linecap=\"round\" style=\"stroke:black;stroke-width:2\"/><line x1=\"544\" y1=\"156\" x2=\"556\" y2=\"144\" stroke-linecap=\"round\" style=\"stroke:black;stroke-width:2\"/><line x1=\"544\" y1=\"244\" x2=\"556\" y2=\"256\" stroke-linecap=\"round\" style=\"stroke:black;stroke-width:2\"/><line x1=\"544\" y1=\"256\" x2=\"556\" y2=\"244\" stroke-linecap=\"round\" style=\"stroke:black;stroke-width:2\"/><line x1=\"544\" y1=\"344\" x2=\"556\" y2=\"356\" stroke-linecap=\"round\" style=\"stroke:black;stroke-width:2\"/><line x1=\"544\" y1=\"356\" x2=\"556\" y2=\"344\" stroke-linecap=\"round\" style=\"stroke:black;stroke-width:2\"/><line x1=\"544\" y1=\"444\" x2=\"556\" y2=\"456\" stroke-linecap=\"round\" style=\"stroke:black;stroke-width:2\"/><line x1=\"544\" y1=\"456\" x2=\"556\" y2=\"444\" stroke-linecap=\"round\" style=\"stroke:black;stroke-width:2\"/><line x1=\"644\" y1=\"44\" x2=\"656\" y2=\"56\" stroke-linecap=\"round\" style=\"stroke:black;stroke-width:2\"/><line x1=\"644\" y1=\"56\" x2=\"656\" y2=\"44\" stroke-linecap=\"round\" style=\"stroke:black;stroke-width:2\"/><line x1=\"644\" y1=\"144\" x2=\"656\" y2=\"156\" stroke-linecap=\"round\" style=\"stroke:black;stroke-width:2\"/><line x1=\"644\" y1=\"156\" x2=\"656\" y2=\"144\" stroke-linecap=\"round\" style=\"stroke:black;stroke-width:2\"/><line x1=\"644\" y1=\"244\" x2=\"656\" y2=\"256\" stroke-linecap=\"round\" style=\"stroke:black;stroke-width:2\"/><line x1=\"644\" y1=\"256\" x2=\"656\" y2=\"244\" stroke-linecap=\"round\" style=\"stroke:black;stroke-width:2\"/><line x1=\"644\" y1=\"344\" x2=\"656\" y2=\"356\" stroke-linecap=\"round\" style=\"stroke:black;stroke-width:2\"/><line x1=\"644\" y1=\"356\" x2=\"656\" y2=\"344\" stroke-linecap=\"round\" style=\"stroke:black;stroke-width:2\"/><line x1=\"644\" y1=\"444\" x2=\"656\" y2=\"456\" stroke-linecap=\"round\" style=\"stroke:black;stroke-width:2\"/><line x1=\"644\" y1=\"456\" x2=\"656\" y2=\"444\" stroke-linecap=\"round\" style=\"stroke:black;stroke-width:2\"/><line x1=\"744\" y1=\"44\" x2=\"756\" y2=\"56\" stroke-linecap=\"round\" style=\"stroke:black;stroke-width:2\"/><line x1=\"744\" y1=\"56\" x2=\"756\" y2=\"44\" stroke-linecap=\"round\" style=\"stroke:black;stroke-width:2\"/><line x1=\"744\" y1=\"144\" x2=\"756\" y2=\"156\" stroke-linecap=\"round\" style=\"stroke:black;stroke-width:2\"/><line x1=\"744\" y1=\"156\" x2=\"756\" y2=\"144\" stroke-linecap=\"round\" style=\"stroke:black;stroke-width:2\"/><line x1=\"744\" y1=\"244\" x2=\"756\" y2=\"256\" stroke-linecap=\"round\" style=\"stroke:black;stroke-width:2\"/><line x1=\"744\" y1=\"256\" x2=\"756\" y2=\"244\" stroke-linecap=\"round\" style=\"stroke:black;stroke-width:2\"/><line x1=\"744\" y1=\"344\" x2=\"756\" y2=\"356\" stroke-linecap=\"round\" style=\"stroke:black;stroke-width:2\"/><line x1=\"744\" y1=\"356\" x2=\"756\" y2=\"344\" stroke-linecap=\"round\" style=\"stroke:black;stroke-width:2\"/><line x1=\"744\" y1=\"444\" x2=\"756\" y2=\"456\" stroke-linecap=\"round\" style=\"stroke:black;stroke-width:2\"/><line x1=\"744\" y1=\"456\" x2=\"756\" y2=\"444\" stroke-linecap=\"round\" style=\"stroke:black;stroke-width:2\"/>\n",
              "        <g visibility=True transform=\"rotate(0,750,450) translate(750, 450)\">\n",
              "        <circle stroke=\"white\" stroke-width=\"3\" fill=\"white\" r=\"20\" cx=\"0\" cy=\"0\"/>\n",
              "        <text fill=\"black\" dominant-baseline=\"middle\" text-anchor=\"middle\">17</text>\n",
              "        </g>\n",
              "        <g visibility=visible transform=\"rotate(360,750.0,350.0) translate(719.4, 319.4)\">\n",
              "<path style=\" stroke:none;fill-rule:evenodd;fill:green;fill-opacity:1;\" d=\"M 30.965234799999998 1.0757804 C 27.3859375 3.0613276999999997 25.519922299999998 6.9261723 25.626172299999997 12.1257804 L 25.6460946 13.0089848 L 25.1347652 12.7433598 C 22.910155399999997 11.6011723 20.3269527 11.3421875 17.690625 12.0128902 C 14.396875 12.8363277 11.0765625 15.565624999999999 7.4707026999999995 20.3867196 C 5.20625 23.421484799999998 4.5554696 24.882422299999998 5.1730472999999995 25.546484799999998 L 5.365625 25.758984799999997 L 5.9832027000000005 25.758984799999997 C 7.2050776999999995 25.758984799999997 8.2078125 25.3074223 13.91875 22.1664054 C 15.9574223 21.0441402 17.6308598 20.1277348 17.6441402 20.1277348 C 17.657422299999997 20.1277348 17.6042973 20.2804696 17.5179696 20.4597652 C 16.7144527 22.259375 15.738280399999999 25.194530399999998 15.246875 27.3328125 C 13.4539054 35.108984799999995 14.6492196 41.703125 18.819530399999998 47.0222652 C 19.2976554 47.6265625 19.3175777 47.453905400000004 18.6535152 48.250780400000004 C 15.1738277 52.434374999999996 13.5070304 56.578125 14.005077700000001 59.81875 C 14.0914054 60.396484799999996 14.078125 60.389844599999996 15.1605473 60.389844599999996 C 18.6003902 60.389844599999996 22.226172299999998 58.1519527 25.7324223 53.86875 C 26.1109375 53.4105473 26.0578125 53.4238277 26.45625 53.6761723 C 27.6980473 54.4730473 30.639844599999996 56.0402348 30.898827700000002 56.0402348 C 31.171094599999996 56.0402348 33.9003902 54.758594599999995 35.4078125 53.921875 C 35.693359799999996 53.762499999999996 35.9324223 53.642969599999994 35.9324223 53.6496098 C 36.0453125 53.828905400000004 37.227344599999995 55.1039054 37.7785152 55.6417973 C 40.5210946 58.3113277 43.45625 59.7257804 46.8894527 60.0113277 C 47.440625 60.0578125 47.49375 60.0246098 47.6132804 59.473437499999996 C 48.250780400000004 56.5117196 46.9625 52.5738277 43.9675777 48.3238277 L 43.4230473 47.546875 L 43.6886723 47.2347652 C 49.2070304 40.733594599999996 49.5257804 31.788672299999998 44.6382804 20.346875 L 44.5519527 20.134375 L 47.5070304 21.5953125 C 53.603125 24.6101554 54.9378902 25.1613277 56.153124999999996 25.1613277 C 57.7601554 25.1613277 57.428125 23.693749999999998 55.2035152 20.898047299999998 C 48.4832027 12.5042973 43.1707027 10.073827699999999 37.2671875 12.7035152 L 36.6496098 12.9824223 L 36.6828125 12.8230473 C 36.888672299999996 11.8867196 36.9949223 9.7617196 36.888672299999996 8.778905400000001 C 36.5433598 5.6046875 35.1289054 3.3402348 32.3066402 1.4542973000000001 C 31.4167973 0.8566402 31.3769527 0.85 30.965234799999998 1.0757804\"/>\n",
              "</g>\n",
              "      </svg>\n",
              "    "
            ]
          },
          "metadata": {}
        }
      ]
    },
    {
      "cell_type": "markdown",
      "metadata": {
        "id": "6c9iCbxdDUjY"
      },
      "source": [
        "### 📙 **Coding Exercise:** `return_home`\n",
        "Finally, we'll move on to `return_home`. This function should move the turtle back to the starting position (the turtle can be facing any direction as long as it's in the right spot).\n",
        "\n",
        "\n"
      ]
    },
    {
      "cell_type": "code",
      "metadata": {
        "id": "JFO0jYNyDUjY"
      },
      "source": [
        "def return_home():\n",
        "  turn_left()\n",
        "  turn_left()\n",
        "  move_to_wall()"
      ],
      "execution_count": null,
      "outputs": []
    },
    {
      "cell_type": "markdown",
      "metadata": {
        "id": "wwSuQkrVDx6q"
      },
      "source": [
        "### 📙 **Coding Exercise:** Putting it all together!\n",
        "Let's put it all together! Run the cell below to see if your code works. Remember, your ending configuration should look like this (your turtle may be facing a different direction):\n",
        "\n",
        "<img src=\"https://drive.google.com/uc?export=view&id=1GTFuM2J0E2n3da5BekxJzIBDrj4Usy8a\" \n",
        "     width=\"700\" \n",
        "     height=\"auto\" />\n",
        "\n",
        "\n"
      ]
    },
    {
      "cell_type": "code",
      "metadata": {
        "id": "KNET89hvD7Rd",
        "colab": {
          "base_uri": "https://localhost:8080/",
          "height": 521
        },
        "outputId": "2628120d-6645-4aaf-f8b3-2763c2e635ba"
      },
      "source": [
        "initializeTurtle(map=\"rand pearls\")\n",
        "collect_all_pearls()\n",
        "drop_all_pearls()\n",
        "return_home()"
      ],
      "execution_count": null,
      "outputs": [
        {
          "output_type": "display_data",
          "data": {
            "text/plain": [
              "<IPython.core.display.HTML object>"
            ],
            "text/html": [
              "\n",
              "      <svg width=\"800\" height=\"500\">\n",
              "        <rect width=\"100%\" height=\"100%\" fill=\"LightBlue\"/>\n",
              "        <line x1=\"3\" y1=\"3\" x2=\"3\" y2=\"497\" stroke-linecap=\"round\" style=\"stroke:blue;stroke-width:5\"/><line x1=\"3\" y1=\"497\" x2=\"797\" y2=\"497\" stroke-linecap=\"round\" style=\"stroke:blue;stroke-width:5\"/><line x1=\"797\" y1=\"497\" x2=\"797\" y2=\"3\" stroke-linecap=\"round\" style=\"stroke:blue;stroke-width:5\"/><line x1=\"797\" y1=\"3\" x2=\"3\" y2=\"3\" stroke-linecap=\"round\" style=\"stroke:blue;stroke-width:5\"/><line x1=\"44\" y1=\"44\" x2=\"56\" y2=\"56\" stroke-linecap=\"round\" style=\"stroke:black;stroke-width:2\"/><line x1=\"44\" y1=\"56\" x2=\"56\" y2=\"44\" stroke-linecap=\"round\" style=\"stroke:black;stroke-width:2\"/><line x1=\"44\" y1=\"144\" x2=\"56\" y2=\"156\" stroke-linecap=\"round\" style=\"stroke:black;stroke-width:2\"/><line x1=\"44\" y1=\"156\" x2=\"56\" y2=\"144\" stroke-linecap=\"round\" style=\"stroke:black;stroke-width:2\"/><line x1=\"44\" y1=\"244\" x2=\"56\" y2=\"256\" stroke-linecap=\"round\" style=\"stroke:black;stroke-width:2\"/><line x1=\"44\" y1=\"256\" x2=\"56\" y2=\"244\" stroke-linecap=\"round\" style=\"stroke:black;stroke-width:2\"/><line x1=\"44\" y1=\"344\" x2=\"56\" y2=\"356\" stroke-linecap=\"round\" style=\"stroke:black;stroke-width:2\"/><line x1=\"44\" y1=\"356\" x2=\"56\" y2=\"344\" stroke-linecap=\"round\" style=\"stroke:black;stroke-width:2\"/><line x1=\"44\" y1=\"444\" x2=\"56\" y2=\"456\" stroke-linecap=\"round\" style=\"stroke:black;stroke-width:2\"/><line x1=\"44\" y1=\"456\" x2=\"56\" y2=\"444\" stroke-linecap=\"round\" style=\"stroke:black;stroke-width:2\"/><line x1=\"144\" y1=\"44\" x2=\"156\" y2=\"56\" stroke-linecap=\"round\" style=\"stroke:black;stroke-width:2\"/><line x1=\"144\" y1=\"56\" x2=\"156\" y2=\"44\" stroke-linecap=\"round\" style=\"stroke:black;stroke-width:2\"/><line x1=\"144\" y1=\"144\" x2=\"156\" y2=\"156\" stroke-linecap=\"round\" style=\"stroke:black;stroke-width:2\"/><line x1=\"144\" y1=\"156\" x2=\"156\" y2=\"144\" stroke-linecap=\"round\" style=\"stroke:black;stroke-width:2\"/><line x1=\"144\" y1=\"244\" x2=\"156\" y2=\"256\" stroke-linecap=\"round\" style=\"stroke:black;stroke-width:2\"/><line x1=\"144\" y1=\"256\" x2=\"156\" y2=\"244\" stroke-linecap=\"round\" style=\"stroke:black;stroke-width:2\"/><line x1=\"144\" y1=\"344\" x2=\"156\" y2=\"356\" stroke-linecap=\"round\" style=\"stroke:black;stroke-width:2\"/><line x1=\"144\" y1=\"356\" x2=\"156\" y2=\"344\" stroke-linecap=\"round\" style=\"stroke:black;stroke-width:2\"/><line x1=\"144\" y1=\"444\" x2=\"156\" y2=\"456\" stroke-linecap=\"round\" style=\"stroke:black;stroke-width:2\"/><line x1=\"144\" y1=\"456\" x2=\"156\" y2=\"444\" stroke-linecap=\"round\" style=\"stroke:black;stroke-width:2\"/><line x1=\"244\" y1=\"44\" x2=\"256\" y2=\"56\" stroke-linecap=\"round\" style=\"stroke:black;stroke-width:2\"/><line x1=\"244\" y1=\"56\" x2=\"256\" y2=\"44\" stroke-linecap=\"round\" style=\"stroke:black;stroke-width:2\"/><line x1=\"244\" y1=\"144\" x2=\"256\" y2=\"156\" stroke-linecap=\"round\" style=\"stroke:black;stroke-width:2\"/><line x1=\"244\" y1=\"156\" x2=\"256\" y2=\"144\" stroke-linecap=\"round\" style=\"stroke:black;stroke-width:2\"/><line x1=\"244\" y1=\"244\" x2=\"256\" y2=\"256\" stroke-linecap=\"round\" style=\"stroke:black;stroke-width:2\"/><line x1=\"244\" y1=\"256\" x2=\"256\" y2=\"244\" stroke-linecap=\"round\" style=\"stroke:black;stroke-width:2\"/><line x1=\"244\" y1=\"344\" x2=\"256\" y2=\"356\" stroke-linecap=\"round\" style=\"stroke:black;stroke-width:2\"/><line x1=\"244\" y1=\"356\" x2=\"256\" y2=\"344\" stroke-linecap=\"round\" style=\"stroke:black;stroke-width:2\"/><line x1=\"244\" y1=\"444\" x2=\"256\" y2=\"456\" stroke-linecap=\"round\" style=\"stroke:black;stroke-width:2\"/><line x1=\"244\" y1=\"456\" x2=\"256\" y2=\"444\" stroke-linecap=\"round\" style=\"stroke:black;stroke-width:2\"/><line x1=\"344\" y1=\"44\" x2=\"356\" y2=\"56\" stroke-linecap=\"round\" style=\"stroke:black;stroke-width:2\"/><line x1=\"344\" y1=\"56\" x2=\"356\" y2=\"44\" stroke-linecap=\"round\" style=\"stroke:black;stroke-width:2\"/><line x1=\"344\" y1=\"144\" x2=\"356\" y2=\"156\" stroke-linecap=\"round\" style=\"stroke:black;stroke-width:2\"/><line x1=\"344\" y1=\"156\" x2=\"356\" y2=\"144\" stroke-linecap=\"round\" style=\"stroke:black;stroke-width:2\"/><line x1=\"344\" y1=\"244\" x2=\"356\" y2=\"256\" stroke-linecap=\"round\" style=\"stroke:black;stroke-width:2\"/><line x1=\"344\" y1=\"256\" x2=\"356\" y2=\"244\" stroke-linecap=\"round\" style=\"stroke:black;stroke-width:2\"/><line x1=\"344\" y1=\"344\" x2=\"356\" y2=\"356\" stroke-linecap=\"round\" style=\"stroke:black;stroke-width:2\"/><line x1=\"344\" y1=\"356\" x2=\"356\" y2=\"344\" stroke-linecap=\"round\" style=\"stroke:black;stroke-width:2\"/><line x1=\"344\" y1=\"444\" x2=\"356\" y2=\"456\" stroke-linecap=\"round\" style=\"stroke:black;stroke-width:2\"/><line x1=\"344\" y1=\"456\" x2=\"356\" y2=\"444\" stroke-linecap=\"round\" style=\"stroke:black;stroke-width:2\"/><line x1=\"444\" y1=\"44\" x2=\"456\" y2=\"56\" stroke-linecap=\"round\" style=\"stroke:black;stroke-width:2\"/><line x1=\"444\" y1=\"56\" x2=\"456\" y2=\"44\" stroke-linecap=\"round\" style=\"stroke:black;stroke-width:2\"/><line x1=\"444\" y1=\"144\" x2=\"456\" y2=\"156\" stroke-linecap=\"round\" style=\"stroke:black;stroke-width:2\"/><line x1=\"444\" y1=\"156\" x2=\"456\" y2=\"144\" stroke-linecap=\"round\" style=\"stroke:black;stroke-width:2\"/><line x1=\"444\" y1=\"244\" x2=\"456\" y2=\"256\" stroke-linecap=\"round\" style=\"stroke:black;stroke-width:2\"/><line x1=\"444\" y1=\"256\" x2=\"456\" y2=\"244\" stroke-linecap=\"round\" style=\"stroke:black;stroke-width:2\"/><line x1=\"444\" y1=\"344\" x2=\"456\" y2=\"356\" stroke-linecap=\"round\" style=\"stroke:black;stroke-width:2\"/><line x1=\"444\" y1=\"356\" x2=\"456\" y2=\"344\" stroke-linecap=\"round\" style=\"stroke:black;stroke-width:2\"/><line x1=\"444\" y1=\"444\" x2=\"456\" y2=\"456\" stroke-linecap=\"round\" style=\"stroke:black;stroke-width:2\"/><line x1=\"444\" y1=\"456\" x2=\"456\" y2=\"444\" stroke-linecap=\"round\" style=\"stroke:black;stroke-width:2\"/><line x1=\"544\" y1=\"44\" x2=\"556\" y2=\"56\" stroke-linecap=\"round\" style=\"stroke:black;stroke-width:2\"/><line x1=\"544\" y1=\"56\" x2=\"556\" y2=\"44\" stroke-linecap=\"round\" style=\"stroke:black;stroke-width:2\"/><line x1=\"544\" y1=\"144\" x2=\"556\" y2=\"156\" stroke-linecap=\"round\" style=\"stroke:black;stroke-width:2\"/><line x1=\"544\" y1=\"156\" x2=\"556\" y2=\"144\" stroke-linecap=\"round\" style=\"stroke:black;stroke-width:2\"/><line x1=\"544\" y1=\"244\" x2=\"556\" y2=\"256\" stroke-linecap=\"round\" style=\"stroke:black;stroke-width:2\"/><line x1=\"544\" y1=\"256\" x2=\"556\" y2=\"244\" stroke-linecap=\"round\" style=\"stroke:black;stroke-width:2\"/><line x1=\"544\" y1=\"344\" x2=\"556\" y2=\"356\" stroke-linecap=\"round\" style=\"stroke:black;stroke-width:2\"/><line x1=\"544\" y1=\"356\" x2=\"556\" y2=\"344\" stroke-linecap=\"round\" style=\"stroke:black;stroke-width:2\"/><line x1=\"544\" y1=\"444\" x2=\"556\" y2=\"456\" stroke-linecap=\"round\" style=\"stroke:black;stroke-width:2\"/><line x1=\"544\" y1=\"456\" x2=\"556\" y2=\"444\" stroke-linecap=\"round\" style=\"stroke:black;stroke-width:2\"/><line x1=\"644\" y1=\"44\" x2=\"656\" y2=\"56\" stroke-linecap=\"round\" style=\"stroke:black;stroke-width:2\"/><line x1=\"644\" y1=\"56\" x2=\"656\" y2=\"44\" stroke-linecap=\"round\" style=\"stroke:black;stroke-width:2\"/><line x1=\"644\" y1=\"144\" x2=\"656\" y2=\"156\" stroke-linecap=\"round\" style=\"stroke:black;stroke-width:2\"/><line x1=\"644\" y1=\"156\" x2=\"656\" y2=\"144\" stroke-linecap=\"round\" style=\"stroke:black;stroke-width:2\"/><line x1=\"644\" y1=\"244\" x2=\"656\" y2=\"256\" stroke-linecap=\"round\" style=\"stroke:black;stroke-width:2\"/><line x1=\"644\" y1=\"256\" x2=\"656\" y2=\"244\" stroke-linecap=\"round\" style=\"stroke:black;stroke-width:2\"/><line x1=\"644\" y1=\"344\" x2=\"656\" y2=\"356\" stroke-linecap=\"round\" style=\"stroke:black;stroke-width:2\"/><line x1=\"644\" y1=\"356\" x2=\"656\" y2=\"344\" stroke-linecap=\"round\" style=\"stroke:black;stroke-width:2\"/><line x1=\"644\" y1=\"444\" x2=\"656\" y2=\"456\" stroke-linecap=\"round\" style=\"stroke:black;stroke-width:2\"/><line x1=\"644\" y1=\"456\" x2=\"656\" y2=\"444\" stroke-linecap=\"round\" style=\"stroke:black;stroke-width:2\"/><line x1=\"744\" y1=\"44\" x2=\"756\" y2=\"56\" stroke-linecap=\"round\" style=\"stroke:black;stroke-width:2\"/><line x1=\"744\" y1=\"56\" x2=\"756\" y2=\"44\" stroke-linecap=\"round\" style=\"stroke:black;stroke-width:2\"/><line x1=\"744\" y1=\"144\" x2=\"756\" y2=\"156\" stroke-linecap=\"round\" style=\"stroke:black;stroke-width:2\"/><line x1=\"744\" y1=\"156\" x2=\"756\" y2=\"144\" stroke-linecap=\"round\" style=\"stroke:black;stroke-width:2\"/><line x1=\"744\" y1=\"244\" x2=\"756\" y2=\"256\" stroke-linecap=\"round\" style=\"stroke:black;stroke-width:2\"/><line x1=\"744\" y1=\"256\" x2=\"756\" y2=\"244\" stroke-linecap=\"round\" style=\"stroke:black;stroke-width:2\"/><line x1=\"744\" y1=\"344\" x2=\"756\" y2=\"356\" stroke-linecap=\"round\" style=\"stroke:black;stroke-width:2\"/><line x1=\"744\" y1=\"356\" x2=\"756\" y2=\"344\" stroke-linecap=\"round\" style=\"stroke:black;stroke-width:2\"/><line x1=\"744\" y1=\"444\" x2=\"756\" y2=\"456\" stroke-linecap=\"round\" style=\"stroke:black;stroke-width:2\"/><line x1=\"744\" y1=\"456\" x2=\"756\" y2=\"444\" stroke-linecap=\"round\" style=\"stroke:black;stroke-width:2\"/>\n",
              "        <g visibility=True transform=\"rotate(0,750,450) translate(750, 450)\">\n",
              "        <circle stroke=\"white\" stroke-width=\"3\" fill=\"white\" r=\"20\" cx=\"0\" cy=\"0\"/>\n",
              "        <text fill=\"black\" dominant-baseline=\"middle\" text-anchor=\"middle\">17</text>\n",
              "        </g>\n",
              "        <g visibility=visible transform=\"rotate(270,50.0,450.0) translate(19.400000000000002, 419.4)\">\n",
              "<path style=\" stroke:none;fill-rule:evenodd;fill:green;fill-opacity:1;\" d=\"M 30.965234799999998 1.0757804 C 27.3859375 3.0613276999999997 25.519922299999998 6.9261723 25.626172299999997 12.1257804 L 25.6460946 13.0089848 L 25.1347652 12.7433598 C 22.910155399999997 11.6011723 20.3269527 11.3421875 17.690625 12.0128902 C 14.396875 12.8363277 11.0765625 15.565624999999999 7.4707026999999995 20.3867196 C 5.20625 23.421484799999998 4.5554696 24.882422299999998 5.1730472999999995 25.546484799999998 L 5.365625 25.758984799999997 L 5.9832027000000005 25.758984799999997 C 7.2050776999999995 25.758984799999997 8.2078125 25.3074223 13.91875 22.1664054 C 15.9574223 21.0441402 17.6308598 20.1277348 17.6441402 20.1277348 C 17.657422299999997 20.1277348 17.6042973 20.2804696 17.5179696 20.4597652 C 16.7144527 22.259375 15.738280399999999 25.194530399999998 15.246875 27.3328125 C 13.4539054 35.108984799999995 14.6492196 41.703125 18.819530399999998 47.0222652 C 19.2976554 47.6265625 19.3175777 47.453905400000004 18.6535152 48.250780400000004 C 15.1738277 52.434374999999996 13.5070304 56.578125 14.005077700000001 59.81875 C 14.0914054 60.396484799999996 14.078125 60.389844599999996 15.1605473 60.389844599999996 C 18.6003902 60.389844599999996 22.226172299999998 58.1519527 25.7324223 53.86875 C 26.1109375 53.4105473 26.0578125 53.4238277 26.45625 53.6761723 C 27.6980473 54.4730473 30.639844599999996 56.0402348 30.898827700000002 56.0402348 C 31.171094599999996 56.0402348 33.9003902 54.758594599999995 35.4078125 53.921875 C 35.693359799999996 53.762499999999996 35.9324223 53.642969599999994 35.9324223 53.6496098 C 36.0453125 53.828905400000004 37.227344599999995 55.1039054 37.7785152 55.6417973 C 40.5210946 58.3113277 43.45625 59.7257804 46.8894527 60.0113277 C 47.440625 60.0578125 47.49375 60.0246098 47.6132804 59.473437499999996 C 48.250780400000004 56.5117196 46.9625 52.5738277 43.9675777 48.3238277 L 43.4230473 47.546875 L 43.6886723 47.2347652 C 49.2070304 40.733594599999996 49.5257804 31.788672299999998 44.6382804 20.346875 L 44.5519527 20.134375 L 47.5070304 21.5953125 C 53.603125 24.6101554 54.9378902 25.1613277 56.153124999999996 25.1613277 C 57.7601554 25.1613277 57.428125 23.693749999999998 55.2035152 20.898047299999998 C 48.4832027 12.5042973 43.1707027 10.073827699999999 37.2671875 12.7035152 L 36.6496098 12.9824223 L 36.6828125 12.8230473 C 36.888672299999996 11.8867196 36.9949223 9.7617196 36.888672299999996 8.778905400000001 C 36.5433598 5.6046875 35.1289054 3.3402348 32.3066402 1.4542973000000001 C 31.4167973 0.8566402 31.3769527 0.85 30.965234799999998 1.0757804\"/>\n",
              "</g>\n",
              "      </svg>\n",
              "    "
            ]
          },
          "metadata": {}
        }
      ]
    }
  ]
}